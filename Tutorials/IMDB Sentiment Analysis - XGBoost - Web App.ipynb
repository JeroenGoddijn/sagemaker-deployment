{
 "cells": [
  {
   "cell_type": "markdown",
   "metadata": {},
   "source": [
    "# Sentiment Analysis Web App\n",
    "\n",
    "_Deep Learning Nanodegree Program | Deployment_\n",
    "\n",
    "---\n",
    "\n",
    "In this notebook we will use Amazon's SageMaker service to construct a random tree model to predict the sentiment of a movie review. In addition, we will deploy this model to an endpoint and construct a very simple web app which will interact with our model's deployed endpoint.\n",
    "\n",
    "## General Outline\n",
    "\n",
    "Typically, when using a notebook instance with SageMaker, you will proceed through the following steps. Of course, not every step will need to be done with each project. Also, there is quite a lot of room for variation in many of the steps, as you will see throughout these lessons.\n",
    "\n",
    "1. Download or otherwise retrieve the data.\n",
    "2. Process / Prepare the data.\n",
    "3. Upload the processed data to S3.\n",
    "4. Train a chosen model.\n",
    "5. Test the trained model (typically using a batch transform job).\n",
    "6. Deploy the trained model.\n",
    "7. Use the deployed model.\n",
    "\n",
    "In this notebook we will progress through each of the steps above. We will also see that the final step, using the deployed model, can be quite challenging."
   ]
  },
  {
   "cell_type": "markdown",
   "metadata": {},
   "source": [
    "## Step 1: Downloading the data\n",
    "\n",
    "The dataset we are going to use is very popular among researchers in Natural Language Processing, usually referred to as the [IMDb dataset](http://ai.stanford.edu/~amaas/data/sentiment/). It consists of movie reviews from the website [imdb.com](http://www.imdb.com/), each labeled as either '**pos**itive', if the reviewer enjoyed the film, or '**neg**ative' otherwise.\n",
    "\n",
    "> Maas, Andrew L., et al. [Learning Word Vectors for Sentiment Analysis](http://ai.stanford.edu/~amaas/data/sentiment/). In _Proceedings of the 49th Annual Meeting of the Association for Computational Linguistics: Human Language Technologies_. Association for Computational Linguistics, 2011.\n",
    "\n",
    "We begin by using some Jupyter Notebook magic to download and extract the dataset."
   ]
  },
  {
   "cell_type": "code",
   "execution_count": 1,
   "metadata": {},
   "outputs": [
    {
     "name": "stdout",
     "output_type": "stream",
     "text": [
      "mkdir: cannot create directory ‘../data’: File exists\n",
      "--2020-10-13 20:05:50--  http://ai.stanford.edu/~amaas/data/sentiment/aclImdb_v1.tar.gz\n",
      "Resolving ai.stanford.edu (ai.stanford.edu)... 171.64.68.10\n",
      "Connecting to ai.stanford.edu (ai.stanford.edu)|171.64.68.10|:80... connected.\n",
      "HTTP request sent, awaiting response... 200 OK\n",
      "Length: 84125825 (80M) [application/x-gzip]\n",
      "Saving to: ‘../data/aclImdb_v1.tar.gz’\n",
      "\n",
      "../data/aclImdb_v1. 100%[===================>]  80.23M  24.7MB/s    in 4.1s    \n",
      "\n",
      "2020-10-13 20:05:55 (19.4 MB/s) - ‘../data/aclImdb_v1.tar.gz’ saved [84125825/84125825]\n",
      "\n"
     ]
    }
   ],
   "source": [
    "%mkdir ../data\n",
    "!wget -O ../data/aclImdb_v1.tar.gz http://ai.stanford.edu/~amaas/data/sentiment/aclImdb_v1.tar.gz\n",
    "!tar -zxf ../data/aclImdb_v1.tar.gz -C ../data"
   ]
  },
  {
   "cell_type": "markdown",
   "metadata": {},
   "source": [
    "## Step 2: Preparing and Processing the data\n",
    "\n",
    "The data we have downloaded is split into various files, each of which contains a single review. It will be much easier going forward if we combine these individual files into two large files, one for training and one for testing."
   ]
  },
  {
   "cell_type": "code",
   "execution_count": 2,
   "metadata": {},
   "outputs": [],
   "source": [
    "import os\n",
    "import glob\n",
    "\n",
    "def read_imdb_data(data_dir='../data/aclImdb'):\n",
    "    data = {}\n",
    "    labels = {}\n",
    "    \n",
    "    for data_type in ['train', 'test']:\n",
    "        data[data_type] = {}\n",
    "        labels[data_type] = {}\n",
    "        \n",
    "        for sentiment in ['pos', 'neg']:\n",
    "            data[data_type][sentiment] = []\n",
    "            labels[data_type][sentiment] = []\n",
    "            \n",
    "            path = os.path.join(data_dir, data_type, sentiment, '*.txt')\n",
    "            files = glob.glob(path)\n",
    "            \n",
    "            for f in files:\n",
    "                with open(f) as review:\n",
    "                    data[data_type][sentiment].append(review.read())\n",
    "                    # Here we represent a positive review by '1' and a negative review by '0'\n",
    "                    labels[data_type][sentiment].append(1 if sentiment == 'pos' else 0)\n",
    "                    \n",
    "            assert len(data[data_type][sentiment]) == len(labels[data_type][sentiment]), \\\n",
    "                    \"{}/{} data size does not match labels size\".format(data_type, sentiment)\n",
    "                \n",
    "    return data, labels"
   ]
  },
  {
   "cell_type": "code",
   "execution_count": 3,
   "metadata": {},
   "outputs": [
    {
     "name": "stdout",
     "output_type": "stream",
     "text": [
      "IMDB reviews: train = 12500 pos / 12500 neg, test = 12500 pos / 12500 neg\n"
     ]
    }
   ],
   "source": [
    "data, labels = read_imdb_data()\n",
    "print(\"IMDB reviews: train = {} pos / {} neg, test = {} pos / {} neg\".format(\n",
    "            len(data['train']['pos']), len(data['train']['neg']),\n",
    "            len(data['test']['pos']), len(data['test']['neg'])))"
   ]
  },
  {
   "cell_type": "code",
   "execution_count": 4,
   "metadata": {},
   "outputs": [],
   "source": [
    "from sklearn.utils import shuffle\n",
    "\n",
    "def prepare_imdb_data(data, labels):\n",
    "    \"\"\"Prepare training and test sets from IMDb movie reviews.\"\"\"\n",
    "    \n",
    "    #Combine positive and negative reviews and labels\n",
    "    data_train = data['train']['pos'] + data['train']['neg']\n",
    "    data_test = data['test']['pos'] + data['test']['neg']\n",
    "    labels_train = labels['train']['pos'] + labels['train']['neg']\n",
    "    labels_test = labels['test']['pos'] + labels['test']['neg']\n",
    "    \n",
    "    #Shuffle reviews and corresponding labels within training and test sets\n",
    "    data_train, labels_train = shuffle(data_train, labels_train)\n",
    "    data_test, labels_test = shuffle(data_test, labels_test)\n",
    "    \n",
    "    # Return a unified training data, test data, training labels, test labels\n",
    "    return data_train, data_test, labels_train, labels_test"
   ]
  },
  {
   "cell_type": "code",
   "execution_count": 5,
   "metadata": {},
   "outputs": [
    {
     "name": "stdout",
     "output_type": "stream",
     "text": [
      "IMDb reviews (combined): train = 25000, test = 25000\n"
     ]
    }
   ],
   "source": [
    "train_X, test_X, train_y, test_y = prepare_imdb_data(data, labels)\n",
    "print(\"IMDb reviews (combined): train = {}, test = {}\".format(len(train_X), len(test_X)))"
   ]
  },
  {
   "cell_type": "code",
   "execution_count": 6,
   "metadata": {},
   "outputs": [
    {
     "data": {
      "text/plain": [
       "\"There are two things that I like about Elvira, and they're both bigger than she is and she keeps them covered up: her wit and her talent. A movie is the best thing to show off how funny she can be or how she commands attention. Looking like a combined clone of Morticia Adams and Anna Nicole Smith, she inherits a distant relative's estate only to discover that she is really the heiress of the occult. The comedy in this movie is the best thing about it, but it could have been a lot more scary and chilling. It's mostly a campy fare with as many bad horror movie references in it such as the rioting mob or the fleeing heroine who trips and stumbles on her heels. My favorite part is when she uses her marvelous endowments to break the chains keeping her locked in the cemetary. The ending is sappingly sweet as if it were written by the Bradys, but the Las Vegas act at the end seems too grandiose for this type of movie.\""
      ]
     },
     "execution_count": 6,
     "metadata": {},
     "output_type": "execute_result"
    }
   ],
   "source": [
    "train_X[100]"
   ]
  },
  {
   "cell_type": "markdown",
   "metadata": {},
   "source": [
    "## Processing the data\n",
    "\n",
    "Now that we have our training and testing datasets merged and ready to use, we need to start processing the raw data into something that will be useable by our machine learning algorithm. To begin with, we remove any html formatting and any non-alpha numeric characters that may appear in the reviews. We will do this in a very simplistic way using Python's regular expression module. We will discuss the reason for this rather simplistic pre-processing later on."
   ]
  },
  {
   "cell_type": "code",
   "execution_count": 7,
   "metadata": {},
   "outputs": [],
   "source": [
    "import re\n",
    "\n",
    "REPLACE_NO_SPACE = re.compile(\"(\\.)|(\\;)|(\\:)|(\\!)|(\\')|(\\?)|(\\,)|(\\\")|(\\()|(\\))|(\\[)|(\\])\")\n",
    "REPLACE_WITH_SPACE = re.compile(\"(<br\\s*/><br\\s*/>)|(\\-)|(\\/)\")\n",
    "\n",
    "def review_to_words(review):\n",
    "    words = REPLACE_NO_SPACE.sub(\"\", review.lower())\n",
    "    words = REPLACE_WITH_SPACE.sub(\" \", words)\n",
    "    return words"
   ]
  },
  {
   "cell_type": "code",
   "execution_count": 8,
   "metadata": {},
   "outputs": [
    {
     "data": {
      "text/plain": [
       "'there are two things that i like about elvira and theyre both bigger than she is and she keeps them covered up her wit and her talent a movie is the best thing to show off how funny she can be or how she commands attention looking like a combined clone of morticia adams and anna nicole smith she inherits a distant relatives estate only to discover that she is really the heiress of the occult the comedy in this movie is the best thing about it but it could have been a lot more scary and chilling its mostly a campy fare with as many bad horror movie references in it such as the rioting mob or the fleeing heroine who trips and stumbles on her heels my favorite part is when she uses her marvelous endowments to break the chains keeping her locked in the cemetary the ending is sappingly sweet as if it were written by the bradys but the las vegas act at the end seems too grandiose for this type of movie'"
      ]
     },
     "execution_count": 8,
     "metadata": {},
     "output_type": "execute_result"
    }
   ],
   "source": [
    "review_to_words(train_X[100])"
   ]
  },
  {
   "cell_type": "code",
   "execution_count": 9,
   "metadata": {},
   "outputs": [],
   "source": [
    "import pickle\n",
    "\n",
    "cache_dir = os.path.join(\"../cache\", \"sentiment_web_app\")  # where to store cache files\n",
    "os.makedirs(cache_dir, exist_ok=True)  # ensure cache directory exists\n",
    "\n",
    "def preprocess_data(data_train, data_test, labels_train, labels_test,\n",
    "                    cache_dir=cache_dir, cache_file=\"preprocessed_data.pkl\"):\n",
    "    \"\"\"Convert each review to words; read from cache if available.\"\"\"\n",
    "\n",
    "    # If cache_file is not None, try to read from it first\n",
    "    cache_data = None\n",
    "    if cache_file is not None:\n",
    "        try:\n",
    "            with open(os.path.join(cache_dir, cache_file), \"rb\") as f:\n",
    "                cache_data = pickle.load(f)\n",
    "            print(\"Read preprocessed data from cache file:\", cache_file)\n",
    "        except:\n",
    "            pass  # unable to read from cache, but that's okay\n",
    "    \n",
    "    # If cache is missing, then do the heavy lifting\n",
    "    if cache_data is None:\n",
    "        # Preprocess training and test data to obtain words for each review\n",
    "        #words_train = list(map(review_to_words, data_train))\n",
    "        #words_test = list(map(review_to_words, data_test))\n",
    "        words_train = [review_to_words(review) for review in data_train]\n",
    "        words_test = [review_to_words(review) for review in data_test]\n",
    "        \n",
    "        # Write to cache file for future runs\n",
    "        if cache_file is not None:\n",
    "            cache_data = dict(words_train=words_train, words_test=words_test,\n",
    "                              labels_train=labels_train, labels_test=labels_test)\n",
    "            with open(os.path.join(cache_dir, cache_file), \"wb\") as f:\n",
    "                pickle.dump(cache_data, f)\n",
    "            print(\"Wrote preprocessed data to cache file:\", cache_file)\n",
    "    else:\n",
    "        # Unpack data loaded from cache file\n",
    "        words_train, words_test, labels_train, labels_test = (cache_data['words_train'],\n",
    "                cache_data['words_test'], cache_data['labels_train'], cache_data['labels_test'])\n",
    "    \n",
    "    return words_train, words_test, labels_train, labels_test"
   ]
  },
  {
   "cell_type": "code",
   "execution_count": 10,
   "metadata": {},
   "outputs": [
    {
     "name": "stdout",
     "output_type": "stream",
     "text": [
      "Read preprocessed data from cache file: preprocessed_data.pkl\n"
     ]
    }
   ],
   "source": [
    "# Preprocess data\n",
    "train_X, test_X, train_y, test_y = preprocess_data(train_X, test_X, train_y, test_y)"
   ]
  },
  {
   "cell_type": "markdown",
   "metadata": {},
   "source": [
    "### Extract Bag-of-Words features\n",
    "\n",
    "For the model we will be implementing, rather than using the reviews directly, we are going to transform each review into a Bag-of-Words feature representation. Keep in mind that 'in the wild' we will only have access to the training set so our transformer can only use the training set to construct a representation."
   ]
  },
  {
   "cell_type": "code",
   "execution_count": 11,
   "metadata": {},
   "outputs": [
    {
     "name": "stderr",
     "output_type": "stream",
     "text": [
      "/home/ec2-user/anaconda3/envs/python3/lib/python3.6/site-packages/sklearn/externals/joblib/__init__.py:15: FutureWarning: sklearn.externals.joblib is deprecated in 0.21 and will be removed in 0.23. Please import this functionality directly from joblib, which can be installed with: pip install joblib. If this warning is raised when loading pickled models, you may need to re-serialize those models with scikit-learn 0.21+.\n",
      "  warnings.warn(msg, category=FutureWarning)\n"
     ]
    }
   ],
   "source": [
    "import numpy as np\n",
    "from sklearn.feature_extraction.text import CountVectorizer\n",
    "from sklearn.externals import joblib\n",
    "# joblib is an enhanced version of pickle that is more efficient for storing NumPy arrays\n",
    "\n",
    "def extract_BoW_features(words_train, words_test, vocabulary_size=5000,\n",
    "                         cache_dir=cache_dir, cache_file=\"bow_features.pkl\"):\n",
    "    \"\"\"Extract Bag-of-Words for a given set of documents, already preprocessed into words.\"\"\"\n",
    "    \n",
    "    # If cache_file is not None, try to read from it first\n",
    "    cache_data = None\n",
    "    if cache_file is not None:\n",
    "        try:\n",
    "            with open(os.path.join(cache_dir, cache_file), \"rb\") as f:\n",
    "                cache_data = joblib.load(f)\n",
    "            print(\"Read features from cache file:\", cache_file)\n",
    "        except:\n",
    "            pass  # unable to read from cache, but that's okay\n",
    "    \n",
    "    # If cache is missing, then do the heavy lifting\n",
    "    if cache_data is None:\n",
    "        # Fit a vectorizer to training documents and use it to transform them\n",
    "        # NOTE: Training documents have already been preprocessed and tokenized into words;\n",
    "        #       pass in dummy functions to skip those steps, e.g. preprocessor=lambda x: x\n",
    "        vectorizer = CountVectorizer(max_features=vocabulary_size)\n",
    "        features_train = vectorizer.fit_transform(words_train).toarray()\n",
    "\n",
    "        # Apply the same vectorizer to transform the test documents (ignore unknown words)\n",
    "        features_test = vectorizer.transform(words_test).toarray()\n",
    "        \n",
    "        # NOTE: Remember to convert the features using .toarray() for a compact representation\n",
    "        \n",
    "        # Write to cache file for future runs (store vocabulary as well)\n",
    "        if cache_file is not None:\n",
    "            vocabulary = vectorizer.vocabulary_\n",
    "            cache_data = dict(features_train=features_train, features_test=features_test,\n",
    "                             vocabulary=vocabulary)\n",
    "            with open(os.path.join(cache_dir, cache_file), \"wb\") as f:\n",
    "                joblib.dump(cache_data, f)\n",
    "            print(\"Wrote features to cache file:\", cache_file)\n",
    "    else:\n",
    "        # Unpack data loaded from cache file\n",
    "        features_train, features_test, vocabulary = (cache_data['features_train'],\n",
    "                cache_data['features_test'], cache_data['vocabulary'])\n",
    "    \n",
    "    # Return both the extracted features as well as the vocabulary\n",
    "    return features_train, features_test, vocabulary"
   ]
  },
  {
   "cell_type": "code",
   "execution_count": 12,
   "metadata": {},
   "outputs": [
    {
     "name": "stdout",
     "output_type": "stream",
     "text": [
      "Read features from cache file: bow_features.pkl\n"
     ]
    }
   ],
   "source": [
    "# Extract Bag of Words features for both training and test datasets\n",
    "train_X, test_X, vocabulary = extract_BoW_features(train_X, test_X)"
   ]
  },
  {
   "cell_type": "code",
   "execution_count": 13,
   "metadata": {},
   "outputs": [
    {
     "data": {
      "text/plain": [
       "5000"
      ]
     },
     "execution_count": 13,
     "metadata": {},
     "output_type": "execute_result"
    }
   ],
   "source": [
    "len(train_X[100])"
   ]
  },
  {
   "cell_type": "markdown",
   "metadata": {},
   "source": [
    "## Step 3: Upload data to S3\n",
    "\n",
    "Now that we have created the feature representation of our training (and testing) data, it is time to start setting up and using the XGBoost classifier provided by SageMaker.\n",
    "\n",
    "### Writing the datasets\n",
    "\n",
    "The XGBoost classifier that we will be using requires the dataset to be written to a file and stored using Amazon S3. To do this, we will start by splitting the training dataset into two parts, the data we will train the model with and a validation set. Then, we will write those datasets to a file locally and then upload the files to S3. In addition, we will write the test set to a file and upload that file to S3. This is so that we can use SageMakers Batch Transform functionality to test our model once we've fit it."
   ]
  },
  {
   "cell_type": "code",
   "execution_count": 14,
   "metadata": {},
   "outputs": [],
   "source": [
    "import pandas as pd\n",
    "\n",
    "# Earlier we shuffled the training dataset so to make things simple we can just assign\n",
    "# the first 10 000 reviews to the validation set and use the remaining reviews for training.\n",
    "val_X = pd.DataFrame(train_X[:10000])\n",
    "train_X = pd.DataFrame(train_X[10000:])\n",
    "\n",
    "val_y = pd.DataFrame(train_y[:10000])\n",
    "train_y = pd.DataFrame(train_y[10000:])"
   ]
  },
  {
   "cell_type": "markdown",
   "metadata": {},
   "source": [
    "The documentation for the XGBoost algorithm in SageMaker requires that the training and validation datasets should contain no headers or index and that the label should occur first for each sample.\n",
    "\n",
    "For more information about this and other algorithms, the SageMaker developer documentation can be found on __[Amazon's website.](https://docs.aws.amazon.com/sagemaker/latest/dg/)__"
   ]
  },
  {
   "cell_type": "code",
   "execution_count": 15,
   "metadata": {},
   "outputs": [],
   "source": [
    "# First we make sure that the local directory in which we'd like to store the training and validation csv files exists.\n",
    "data_dir = '../data/sentiment_web_app'\n",
    "if not os.path.exists(data_dir):\n",
    "    os.makedirs(data_dir)"
   ]
  },
  {
   "cell_type": "code",
   "execution_count": 16,
   "metadata": {},
   "outputs": [],
   "source": [
    "pd.DataFrame(test_X).to_csv(os.path.join(data_dir, 'test.csv'), header=False, index=False)\n",
    "\n",
    "pd.concat([val_y, val_X], axis=1).to_csv(os.path.join(data_dir, 'validation.csv'), header=False, index=False)\n",
    "pd.concat([train_y, train_X], axis=1).to_csv(os.path.join(data_dir, 'train.csv'), header=False, index=False)"
   ]
  },
  {
   "cell_type": "code",
   "execution_count": 17,
   "metadata": {},
   "outputs": [],
   "source": [
    "# To save a bit of memory we can set text_X, train_X, val_X, train_y and val_y to None.\n",
    "\n",
    "test_X = train_X = val_X = train_y = val_y = None"
   ]
  },
  {
   "cell_type": "markdown",
   "metadata": {},
   "source": [
    "### Uploading Training / Validation files to S3\n",
    "\n",
    "Amazon's S3 service allows us to store files that can be accessed by both the built-in training models such as the XGBoost model we will be using as well as custom models such as the one we will see a little later.\n",
    "\n",
    "For this and most other tasks we will be doing using SageMaker, there are two methods we could use. The first is to use the low level functionality of SageMaker which requires knowing each of the objects involved in the SageMaker environment. The second is to use the high level functionality in which certain choices have been made on the user's behalf. The low level approach benefits from allowing the user a great deal of flexibility while the high level approach makes development much quicker. For our purposes we will opt to use the high level approach although using the low-level approach is certainly an option.\n",
    "\n",
    "Recall the method `upload_data()` which is a member of the object representing our current SageMaker session. What this method does is upload the data to the default bucket (which is created if it does not exist) into the path described by the key_prefix variable. To see this for yourself, once you have uploaded the data files, go to the S3 console and look to see where the files have been uploaded.\n",
    "\n",
    "For additional resources, see the __[SageMaker API documentation](http://sagemaker.readthedocs.io/en/latest/)__ and in addition the __[SageMaker Developer Guide.](https://docs.aws.amazon.com/sagemaker/latest/dg/)__"
   ]
  },
  {
   "cell_type": "code",
   "execution_count": 18,
   "metadata": {},
   "outputs": [],
   "source": [
    "import sagemaker\n",
    "\n",
    "session = sagemaker.Session() # Store the current SageMaker session\n",
    "\n",
    "# S3 prefix (which folder will we use)\n",
    "prefix = 'sentiment-web-app'\n",
    "\n",
    "test_location = session.upload_data(os.path.join(data_dir, 'test.csv'), key_prefix=prefix)\n",
    "val_location = session.upload_data(os.path.join(data_dir, 'validation.csv'), key_prefix=prefix)\n",
    "train_location = session.upload_data(os.path.join(data_dir, 'train.csv'), key_prefix=prefix)"
   ]
  },
  {
   "cell_type": "markdown",
   "metadata": {},
   "source": [
    "## Step 4: Creating the XGBoost model\n",
    "\n",
    "Now that the data has been uploaded it is time to create the XGBoost model. To begin with, we need to do some setup. At this point it is worth discussing what a model is in SageMaker. It is easiest to think of a model of comprising three different objects in the SageMaker ecosystem, which interact with one another.\n",
    "\n",
    "- Model Artifacts\n",
    "- Training Code (Container)\n",
    "- Inference Code (Container)\n",
    "\n",
    "The Model Artifacts are what you might think of as the actual model itself. For example, if you were building a neural network, the model artifacts would be the weights of the various layers. In our case, for an XGBoost model, the artifacts are the actual trees that are created during training.\n",
    "\n",
    "The other two objects, the training code and the inference code are then used to manipulate the training artifacts. More precisely, the training code uses the training data that is provided and creates the model artifacts, while the inference code uses the model artifacts to make predictions on new data.\n",
    "\n",
    "The way that SageMaker runs the training and inference code is by making use of Docker containers. For now, think of a container as being a way of packaging code up so that dependencies aren't an issue."
   ]
  },
  {
   "cell_type": "code",
   "execution_count": 19,
   "metadata": {},
   "outputs": [],
   "source": [
    "from sagemaker import get_execution_role\n",
    "\n",
    "# Our current execution role is required when creating the model as the training\n",
    "# and inference code will need to access the model artifacts.\n",
    "role = get_execution_role()"
   ]
  },
  {
   "cell_type": "code",
   "execution_count": 20,
   "metadata": {},
   "outputs": [
    {
     "name": "stderr",
     "output_type": "stream",
     "text": [
      "'get_image_uri' method will be deprecated in favor of 'ImageURIProvider' class in SageMaker Python SDK v2.\n",
      "There is a more up to date SageMaker XGBoost image. To use the newer image, please set 'repo_version'='1.0-1'. For example:\n",
      "\tget_image_uri(region, 'xgboost', '1.0-1').\n"
     ]
    }
   ],
   "source": [
    "# We need to retrieve the location of the container which is provided by Amazon for using XGBoost.\n",
    "# As a matter of convenience, the training and inference code both use the same container.\n",
    "from sagemaker.amazon.amazon_estimator import get_image_uri\n",
    "\n",
    "container = get_image_uri(session.boto_region_name, 'xgboost')"
   ]
  },
  {
   "cell_type": "code",
   "execution_count": 21,
   "metadata": {},
   "outputs": [
    {
     "name": "stderr",
     "output_type": "stream",
     "text": [
      "Parameter image_name will be renamed to image_uri in SageMaker Python SDK v2.\n"
     ]
    }
   ],
   "source": [
    "# First we create a SageMaker estimator object for our model.\n",
    "xgb = sagemaker.estimator.Estimator(container, # The location of the container we wish to use\n",
    "                                    role,                                    # What is our current IAM Role\n",
    "                                    train_instance_count=1,                  # How many compute instances\n",
    "                                    train_instance_type='ml.m4.xlarge',      # What kind of compute instances\n",
    "                                    output_path='s3://{}/{}/output'.format(session.default_bucket(), prefix),\n",
    "                                    sagemaker_session=session)\n",
    "\n",
    "# And then set the algorithm specific parameters.\n",
    "xgb.set_hyperparameters(max_depth=5,\n",
    "                        eta=0.2,\n",
    "                        gamma=4,\n",
    "                        min_child_weight=6,\n",
    "                        subsample=0.8,\n",
    "                        silent=0,\n",
    "                        objective='binary:logistic',\n",
    "                        early_stopping_rounds=10,\n",
    "                        num_round=500)"
   ]
  },
  {
   "cell_type": "markdown",
   "metadata": {},
   "source": [
    "### Fit the XGBoost model\n",
    "\n",
    "Now that our model has been set up we simply need to attach the training and validation datasets and then ask SageMaker to set up the computation."
   ]
  },
  {
   "cell_type": "code",
   "execution_count": 22,
   "metadata": {},
   "outputs": [
    {
     "name": "stderr",
     "output_type": "stream",
     "text": [
      "'s3_input' class will be renamed to 'TrainingInput' in SageMaker Python SDK v2.\n",
      "'s3_input' class will be renamed to 'TrainingInput' in SageMaker Python SDK v2.\n"
     ]
    }
   ],
   "source": [
    "s3_input_train = sagemaker.s3_input(s3_data=train_location, content_type='csv')\n",
    "s3_input_validation = sagemaker.s3_input(s3_data=val_location, content_type='csv')"
   ]
  },
  {
   "cell_type": "code",
   "execution_count": 23,
   "metadata": {},
   "outputs": [
    {
     "name": "stdout",
     "output_type": "stream",
     "text": [
      "2020-10-13 20:15:00 Starting - Starting the training job...\n",
      "2020-10-13 20:15:02 Starting - Launching requested ML instances......\n",
      "2020-10-13 20:16:18 Starting - Preparing the instances for training......\n",
      "2020-10-13 20:17:13 Downloading - Downloading input data...\n",
      "2020-10-13 20:17:43 Training - Downloading the training image.\u001b[34mArguments: train\u001b[0m\n",
      "\u001b[34m[2020-10-13:20:18:04:INFO] Running standalone xgboost training.\u001b[0m\n",
      "\u001b[34m[2020-10-13:20:18:04:INFO] File size need to be processed in the node: 238.5mb. Available memory size in the node: 8472.53mb\u001b[0m\n",
      "\u001b[34m[2020-10-13:20:18:04:INFO] Determined delimiter of CSV input is ','\u001b[0m\n",
      "\u001b[34m[20:18:04] S3DistributionType set as FullyReplicated\u001b[0m\n",
      "\u001b[34m[20:18:06] 15000x5000 matrix with 75000000 entries loaded from /opt/ml/input/data/train?format=csv&label_column=0&delimiter=,\u001b[0m\n",
      "\u001b[34m[2020-10-13:20:18:06:INFO] Determined delimiter of CSV input is ','\u001b[0m\n",
      "\u001b[34m[20:18:06] S3DistributionType set as FullyReplicated\u001b[0m\n",
      "\u001b[34m[20:18:07] 10000x5000 matrix with 50000000 entries loaded from /opt/ml/input/data/validation?format=csv&label_column=0&delimiter=,\u001b[0m\n",
      "\u001b[34m[20:18:10] src/tree/updater_prune.cc:74: tree pruning end, 1 roots, 38 extra nodes, 8 pruned nodes, max_depth=5\u001b[0m\n",
      "\u001b[34m[0]#011train-error:0.306533#011validation-error:0.3119\u001b[0m\n",
      "\u001b[34mMultiple eval metrics have been passed: 'validation-error' will be used for early stopping.\n",
      "\u001b[0m\n",
      "\u001b[34mWill train until validation-error hasn't improved in 10 rounds.\u001b[0m\n",
      "\u001b[34m[20:18:12] src/tree/updater_prune.cc:74: tree pruning end, 1 roots, 38 extra nodes, 10 pruned nodes, max_depth=5\u001b[0m\n",
      "\u001b[34m[1]#011train-error:0.290133#011validation-error:0.2979\u001b[0m\n",
      "\u001b[34m[20:18:13] src/tree/updater_prune.cc:74: tree pruning end, 1 roots, 46 extra nodes, 4 pruned nodes, max_depth=5\u001b[0m\n",
      "\u001b[34m[2]#011train-error:0.276467#011validation-error:0.2829\u001b[0m\n",
      "\u001b[34m[20:18:15] src/tree/updater_prune.cc:74: tree pruning end, 1 roots, 34 extra nodes, 4 pruned nodes, max_depth=5\u001b[0m\n",
      "\u001b[34m[3]#011train-error:0.273333#011validation-error:0.2816\u001b[0m\n",
      "\u001b[34m[20:18:16] src/tree/updater_prune.cc:74: tree pruning end, 1 roots, 40 extra nodes, 4 pruned nodes, max_depth=5\u001b[0m\n",
      "\u001b[34m[4]#011train-error:0.265533#011validation-error:0.2765\u001b[0m\n",
      "\u001b[34m[20:18:17] src/tree/updater_prune.cc:74: tree pruning end, 1 roots, 32 extra nodes, 2 pruned nodes, max_depth=5\u001b[0m\n",
      "\u001b[34m[5]#011train-error:0.254867#011validation-error:0.269\u001b[0m\n",
      "\u001b[34m[20:18:18] src/tree/updater_prune.cc:74: tree pruning end, 1 roots, 28 extra nodes, 8 pruned nodes, max_depth=5\u001b[0m\n",
      "\u001b[34m[6]#011train-error:0.255#011validation-error:0.269\u001b[0m\n",
      "\n",
      "2020-10-13 20:18:03 Training - Training image download completed. Training in progress.\u001b[34m[20:18:20] src/tree/updater_prune.cc:74: tree pruning end, 1 roots, 38 extra nodes, 2 pruned nodes, max_depth=5\u001b[0m\n",
      "\u001b[34m[7]#011train-error:0.245933#011validation-error:0.2578\u001b[0m\n",
      "\u001b[34m[20:18:21] src/tree/updater_prune.cc:74: tree pruning end, 1 roots, 24 extra nodes, 8 pruned nodes, max_depth=5\u001b[0m\n",
      "\u001b[34m[8]#011train-error:0.241867#011validation-error:0.253\u001b[0m\n",
      "\u001b[34m[20:18:22] src/tree/updater_prune.cc:74: tree pruning end, 1 roots, 42 extra nodes, 6 pruned nodes, max_depth=5\u001b[0m\n",
      "\u001b[34m[9]#011train-error:0.231333#011validation-error:0.2488\u001b[0m\n",
      "\u001b[34m[20:18:23] src/tree/updater_prune.cc:74: tree pruning end, 1 roots, 28 extra nodes, 10 pruned nodes, max_depth=5\u001b[0m\n",
      "\u001b[34m[10]#011train-error:0.2256#011validation-error:0.2447\u001b[0m\n",
      "\u001b[34m[20:18:25] src/tree/updater_prune.cc:74: tree pruning end, 1 roots, 38 extra nodes, 2 pruned nodes, max_depth=5\u001b[0m\n",
      "\u001b[34m[11]#011train-error:0.220933#011validation-error:0.2417\u001b[0m\n",
      "\u001b[34m[20:18:26] src/tree/updater_prune.cc:74: tree pruning end, 1 roots, 30 extra nodes, 8 pruned nodes, max_depth=5\u001b[0m\n",
      "\u001b[34m[12]#011train-error:0.215933#011validation-error:0.2361\u001b[0m\n",
      "\u001b[34m[20:18:27] src/tree/updater_prune.cc:74: tree pruning end, 1 roots, 24 extra nodes, 10 pruned nodes, max_depth=5\u001b[0m\n",
      "\u001b[34m[13]#011train-error:0.2124#011validation-error:0.2347\u001b[0m\n",
      "\u001b[34m[20:18:28] src/tree/updater_prune.cc:74: tree pruning end, 1 roots, 34 extra nodes, 10 pruned nodes, max_depth=5\u001b[0m\n",
      "\u001b[34m[14]#011train-error:0.2098#011validation-error:0.2322\u001b[0m\n",
      "\u001b[34m[20:18:30] src/tree/updater_prune.cc:74: tree pruning end, 1 roots, 34 extra nodes, 2 pruned nodes, max_depth=5\u001b[0m\n",
      "\u001b[34m[15]#011train-error:0.205867#011validation-error:0.2306\u001b[0m\n",
      "\u001b[34m[20:18:31] src/tree/updater_prune.cc:74: tree pruning end, 1 roots, 30 extra nodes, 12 pruned nodes, max_depth=5\u001b[0m\n",
      "\u001b[34m[16]#011train-error:0.201733#011validation-error:0.225\u001b[0m\n",
      "\u001b[34m[20:18:32] src/tree/updater_prune.cc:74: tree pruning end, 1 roots, 28 extra nodes, 6 pruned nodes, max_depth=5\u001b[0m\n",
      "\u001b[34m[17]#011train-error:0.197733#011validation-error:0.224\u001b[0m\n",
      "\u001b[34m[20:18:33] src/tree/updater_prune.cc:74: tree pruning end, 1 roots, 28 extra nodes, 6 pruned nodes, max_depth=5\u001b[0m\n",
      "\u001b[34m[18]#011train-error:0.194867#011validation-error:0.2216\u001b[0m\n",
      "\u001b[34m[20:18:35] src/tree/updater_prune.cc:74: tree pruning end, 1 roots, 36 extra nodes, 12 pruned nodes, max_depth=5\u001b[0m\n",
      "\u001b[34m[19]#011train-error:0.1926#011validation-error:0.2205\u001b[0m\n",
      "\u001b[34m[20:18:36] src/tree/updater_prune.cc:74: tree pruning end, 1 roots, 32 extra nodes, 8 pruned nodes, max_depth=5\u001b[0m\n",
      "\u001b[34m[20]#011train-error:0.189#011validation-error:0.2171\u001b[0m\n",
      "\u001b[34m[20:18:37] src/tree/updater_prune.cc:74: tree pruning end, 1 roots, 20 extra nodes, 8 pruned nodes, max_depth=5\u001b[0m\n",
      "\u001b[34m[21]#011train-error:0.187#011validation-error:0.2142\u001b[0m\n",
      "\u001b[34m[20:18:39] src/tree/updater_prune.cc:74: tree pruning end, 1 roots, 36 extra nodes, 4 pruned nodes, max_depth=5\u001b[0m\n",
      "\u001b[34m[22]#011train-error:0.183067#011validation-error:0.2108\u001b[0m\n",
      "\u001b[34m[20:18:40] src/tree/updater_prune.cc:74: tree pruning end, 1 roots, 20 extra nodes, 8 pruned nodes, max_depth=5\u001b[0m\n",
      "\u001b[34m[23]#011train-error:0.180933#011validation-error:0.209\u001b[0m\n",
      "\u001b[34m[20:18:41] src/tree/updater_prune.cc:74: tree pruning end, 1 roots, 26 extra nodes, 14 pruned nodes, max_depth=5\u001b[0m\n",
      "\u001b[34m[24]#011train-error:0.178733#011validation-error:0.2056\u001b[0m\n",
      "\u001b[34m[20:18:42] src/tree/updater_prune.cc:74: tree pruning end, 1 roots, 26 extra nodes, 8 pruned nodes, max_depth=5\u001b[0m\n",
      "\u001b[34m[25]#011train-error:0.178467#011validation-error:0.2054\u001b[0m\n",
      "\u001b[34m[20:18:44] src/tree/updater_prune.cc:74: tree pruning end, 1 roots, 30 extra nodes, 4 pruned nodes, max_depth=5\u001b[0m\n",
      "\u001b[34m[26]#011train-error:0.175933#011validation-error:0.2052\u001b[0m\n",
      "\u001b[34m[20:18:45] src/tree/updater_prune.cc:74: tree pruning end, 1 roots, 18 extra nodes, 2 pruned nodes, max_depth=5\u001b[0m\n",
      "\u001b[34m[27]#011train-error:0.173533#011validation-error:0.2043\u001b[0m\n",
      "\u001b[34m[20:18:46] src/tree/updater_prune.cc:74: tree pruning end, 1 roots, 28 extra nodes, 8 pruned nodes, max_depth=5\u001b[0m\n",
      "\u001b[34m[28]#011train-error:0.171933#011validation-error:0.2008\u001b[0m\n",
      "\u001b[34m[20:18:48] src/tree/updater_prune.cc:74: tree pruning end, 1 roots, 26 extra nodes, 6 pruned nodes, max_depth=5\u001b[0m\n",
      "\u001b[34m[29]#011train-error:0.170133#011validation-error:0.2011\u001b[0m\n",
      "\u001b[34m[20:18:49] src/tree/updater_prune.cc:74: tree pruning end, 1 roots, 24 extra nodes, 6 pruned nodes, max_depth=5\u001b[0m\n",
      "\u001b[34m[30]#011train-error:0.167867#011validation-error:0.2001\u001b[0m\n",
      "\u001b[34m[20:18:50] src/tree/updater_prune.cc:74: tree pruning end, 1 roots, 30 extra nodes, 10 pruned nodes, max_depth=5\u001b[0m\n",
      "\u001b[34m[31]#011train-error:0.165533#011validation-error:0.1984\u001b[0m\n",
      "\u001b[34m[20:18:51] src/tree/updater_prune.cc:74: tree pruning end, 1 roots, 14 extra nodes, 14 pruned nodes, max_depth=5\u001b[0m\n",
      "\u001b[34m[32]#011train-error:0.165333#011validation-error:0.1983\u001b[0m\n",
      "\u001b[34m[20:18:53] src/tree/updater_prune.cc:74: tree pruning end, 1 roots, 24 extra nodes, 10 pruned nodes, max_depth=5\u001b[0m\n",
      "\u001b[34m[33]#011train-error:0.1622#011validation-error:0.1986\u001b[0m\n",
      "\u001b[34m[20:18:54] src/tree/updater_prune.cc:74: tree pruning end, 1 roots, 16 extra nodes, 2 pruned nodes, max_depth=5\u001b[0m\n",
      "\u001b[34m[34]#011train-error:0.160533#011validation-error:0.1984\u001b[0m\n",
      "\u001b[34m[20:18:55] src/tree/updater_prune.cc:74: tree pruning end, 1 roots, 34 extra nodes, 10 pruned nodes, max_depth=5\u001b[0m\n",
      "\u001b[34m[35]#011train-error:0.158067#011validation-error:0.1954\u001b[0m\n",
      "\u001b[34m[20:18:56] src/tree/updater_prune.cc:74: tree pruning end, 1 roots, 12 extra nodes, 6 pruned nodes, max_depth=5\u001b[0m\n",
      "\u001b[34m[36]#011train-error:0.157133#011validation-error:0.1938\u001b[0m\n",
      "\u001b[34m[20:18:58] src/tree/updater_prune.cc:74: tree pruning end, 1 roots, 14 extra nodes, 10 pruned nodes, max_depth=5\u001b[0m\n",
      "\u001b[34m[37]#011train-error:0.155667#011validation-error:0.1934\u001b[0m\n",
      "\u001b[34m[20:18:59] src/tree/updater_prune.cc:74: tree pruning end, 1 roots, 34 extra nodes, 2 pruned nodes, max_depth=5\u001b[0m\n",
      "\u001b[34m[38]#011train-error:0.1532#011validation-error:0.192\u001b[0m\n"
     ]
    },
    {
     "name": "stdout",
     "output_type": "stream",
     "text": [
      "\u001b[34m[20:19:00] src/tree/updater_prune.cc:74: tree pruning end, 1 roots, 26 extra nodes, 4 pruned nodes, max_depth=5\u001b[0m\n",
      "\u001b[34m[39]#011train-error:0.152667#011validation-error:0.1913\u001b[0m\n",
      "\u001b[34m[20:19:01] src/tree/updater_prune.cc:74: tree pruning end, 1 roots, 32 extra nodes, 6 pruned nodes, max_depth=5\u001b[0m\n",
      "\u001b[34m[40]#011train-error:0.150467#011validation-error:0.1892\u001b[0m\n",
      "\u001b[34m[20:19:03] src/tree/updater_prune.cc:74: tree pruning end, 1 roots, 28 extra nodes, 6 pruned nodes, max_depth=5\u001b[0m\n",
      "\u001b[34m[41]#011train-error:0.149#011validation-error:0.1882\u001b[0m\n",
      "\u001b[34m[20:19:04] src/tree/updater_prune.cc:74: tree pruning end, 1 roots, 44 extra nodes, 10 pruned nodes, max_depth=5\u001b[0m\n",
      "\u001b[34m[42]#011train-error:0.146733#011validation-error:0.187\u001b[0m\n",
      "\u001b[34m[20:19:05] src/tree/updater_prune.cc:74: tree pruning end, 1 roots, 20 extra nodes, 14 pruned nodes, max_depth=5\u001b[0m\n",
      "\u001b[34m[43]#011train-error:0.145267#011validation-error:0.1855\u001b[0m\n",
      "\u001b[34m[20:19:07] src/tree/updater_prune.cc:74: tree pruning end, 1 roots, 30 extra nodes, 6 pruned nodes, max_depth=5\u001b[0m\n",
      "\u001b[34m[44]#011train-error:0.1444#011validation-error:0.1867\u001b[0m\n",
      "\u001b[34m[20:19:08] src/tree/updater_prune.cc:74: tree pruning end, 1 roots, 22 extra nodes, 16 pruned nodes, max_depth=5\u001b[0m\n",
      "\u001b[34m[45]#011train-error:0.143133#011validation-error:0.1856\u001b[0m\n",
      "\u001b[34m[20:19:09] src/tree/updater_prune.cc:74: tree pruning end, 1 roots, 24 extra nodes, 4 pruned nodes, max_depth=5\u001b[0m\n",
      "\u001b[34m[46]#011train-error:0.1424#011validation-error:0.1849\u001b[0m\n",
      "\u001b[34m[20:19:10] src/tree/updater_prune.cc:74: tree pruning end, 1 roots, 20 extra nodes, 6 pruned nodes, max_depth=5\u001b[0m\n",
      "\u001b[34m[47]#011train-error:0.141733#011validation-error:0.1832\u001b[0m\n",
      "\u001b[34m[20:19:12] src/tree/updater_prune.cc:74: tree pruning end, 1 roots, 28 extra nodes, 4 pruned nodes, max_depth=5\u001b[0m\n",
      "\u001b[34m[48]#011train-error:0.140133#011validation-error:0.1821\u001b[0m\n",
      "\u001b[34m[20:19:13] src/tree/updater_prune.cc:74: tree pruning end, 1 roots, 18 extra nodes, 10 pruned nodes, max_depth=5\u001b[0m\n",
      "\u001b[34m[49]#011train-error:0.138933#011validation-error:0.1807\u001b[0m\n",
      "\u001b[34m[20:19:14] src/tree/updater_prune.cc:74: tree pruning end, 1 roots, 22 extra nodes, 8 pruned nodes, max_depth=5\u001b[0m\n",
      "\u001b[34m[50]#011train-error:0.138467#011validation-error:0.1796\u001b[0m\n",
      "\u001b[34m[20:19:15] src/tree/updater_prune.cc:74: tree pruning end, 1 roots, 18 extra nodes, 14 pruned nodes, max_depth=5\u001b[0m\n",
      "\u001b[34m[51]#011train-error:0.137667#011validation-error:0.1788\u001b[0m\n",
      "\u001b[34m[20:19:17] src/tree/updater_prune.cc:74: tree pruning end, 1 roots, 12 extra nodes, 12 pruned nodes, max_depth=5\u001b[0m\n",
      "\u001b[34m[52]#011train-error:0.136867#011validation-error:0.1784\u001b[0m\n",
      "\u001b[34m[20:19:18] src/tree/updater_prune.cc:74: tree pruning end, 1 roots, 28 extra nodes, 16 pruned nodes, max_depth=5\u001b[0m\n",
      "\u001b[34m[53]#011train-error:0.135733#011validation-error:0.1768\u001b[0m\n",
      "\u001b[34m[20:19:19] src/tree/updater_prune.cc:74: tree pruning end, 1 roots, 14 extra nodes, 6 pruned nodes, max_depth=5\u001b[0m\n",
      "\u001b[34m[54]#011train-error:0.1342#011validation-error:0.1768\u001b[0m\n",
      "\u001b[34m[20:19:21] src/tree/updater_prune.cc:74: tree pruning end, 1 roots, 28 extra nodes, 14 pruned nodes, max_depth=5\u001b[0m\n",
      "\u001b[34m[55]#011train-error:0.132867#011validation-error:0.1767\u001b[0m\n",
      "\u001b[34m[20:19:22] src/tree/updater_prune.cc:74: tree pruning end, 1 roots, 20 extra nodes, 14 pruned nodes, max_depth=5\u001b[0m\n",
      "\u001b[34m[56]#011train-error:0.132733#011validation-error:0.1754\u001b[0m\n",
      "\u001b[34m[20:19:23] src/tree/updater_prune.cc:74: tree pruning end, 1 roots, 26 extra nodes, 12 pruned nodes, max_depth=5\u001b[0m\n",
      "\u001b[34m[57]#011train-error:0.1322#011validation-error:0.175\u001b[0m\n",
      "\u001b[34m[20:19:24] src/tree/updater_prune.cc:74: tree pruning end, 1 roots, 26 extra nodes, 10 pruned nodes, max_depth=5\u001b[0m\n",
      "\u001b[34m[58]#011train-error:0.1314#011validation-error:0.1751\u001b[0m\n",
      "\u001b[34m[20:19:26] src/tree/updater_prune.cc:74: tree pruning end, 1 roots, 10 extra nodes, 20 pruned nodes, max_depth=5\u001b[0m\n",
      "\u001b[34m[59]#011train-error:0.1306#011validation-error:0.1735\u001b[0m\n",
      "\u001b[34m[20:19:27] src/tree/updater_prune.cc:74: tree pruning end, 1 roots, 18 extra nodes, 4 pruned nodes, max_depth=5\u001b[0m\n",
      "\u001b[34m[60]#011train-error:0.129733#011validation-error:0.1717\u001b[0m\n",
      "\u001b[34m[20:19:28] src/tree/updater_prune.cc:74: tree pruning end, 1 roots, 12 extra nodes, 8 pruned nodes, max_depth=5\u001b[0m\n",
      "\u001b[34m[61]#011train-error:0.128733#011validation-error:0.1713\u001b[0m\n",
      "\u001b[34m[20:19:29] src/tree/updater_prune.cc:74: tree pruning end, 1 roots, 14 extra nodes, 12 pruned nodes, max_depth=5\u001b[0m\n",
      "\u001b[34m[62]#011train-error:0.128467#011validation-error:0.1712\u001b[0m\n",
      "\u001b[34m[20:19:31] src/tree/updater_prune.cc:74: tree pruning end, 1 roots, 26 extra nodes, 6 pruned nodes, max_depth=5\u001b[0m\n",
      "\u001b[34m[63]#011train-error:0.126933#011validation-error:0.1708\u001b[0m\n",
      "\u001b[34m[20:19:32] src/tree/updater_prune.cc:74: tree pruning end, 1 roots, 26 extra nodes, 6 pruned nodes, max_depth=5\u001b[0m\n",
      "\u001b[34m[64]#011train-error:0.126#011validation-error:0.1695\u001b[0m\n",
      "\u001b[34m[20:19:33] src/tree/updater_prune.cc:74: tree pruning end, 1 roots, 22 extra nodes, 6 pruned nodes, max_depth=5\u001b[0m\n",
      "\u001b[34m[65]#011train-error:0.125733#011validation-error:0.1692\u001b[0m\n",
      "\u001b[34m[20:19:34] src/tree/updater_prune.cc:74: tree pruning end, 1 roots, 18 extra nodes, 12 pruned nodes, max_depth=5\u001b[0m\n",
      "\u001b[34m[66]#011train-error:0.124467#011validation-error:0.1682\u001b[0m\n",
      "\u001b[34m[20:19:36] src/tree/updater_prune.cc:74: tree pruning end, 1 roots, 14 extra nodes, 8 pruned nodes, max_depth=5\u001b[0m\n",
      "\u001b[34m[67]#011train-error:0.123933#011validation-error:0.1676\u001b[0m\n",
      "\u001b[34m[20:19:37] src/tree/updater_prune.cc:74: tree pruning end, 1 roots, 20 extra nodes, 6 pruned nodes, max_depth=5\u001b[0m\n",
      "\u001b[34m[68]#011train-error:0.123267#011validation-error:0.1676\u001b[0m\n",
      "\u001b[34m[20:19:38] src/tree/updater_prune.cc:74: tree pruning end, 1 roots, 22 extra nodes, 20 pruned nodes, max_depth=5\u001b[0m\n",
      "\u001b[34m[69]#011train-error:0.122067#011validation-error:0.1677\u001b[0m\n",
      "\u001b[34m[20:19:40] src/tree/updater_prune.cc:74: tree pruning end, 1 roots, 22 extra nodes, 4 pruned nodes, max_depth=5\u001b[0m\n",
      "\u001b[34m[70]#011train-error:0.120933#011validation-error:0.1675\u001b[0m\n",
      "\u001b[34m[20:19:41] src/tree/updater_prune.cc:74: tree pruning end, 1 roots, 24 extra nodes, 14 pruned nodes, max_depth=5\u001b[0m\n",
      "\u001b[34m[71]#011train-error:0.120067#011validation-error:0.1654\u001b[0m\n",
      "\u001b[34m[20:19:42] src/tree/updater_prune.cc:74: tree pruning end, 1 roots, 14 extra nodes, 12 pruned nodes, max_depth=5\u001b[0m\n",
      "\u001b[34m[72]#011train-error:0.119267#011validation-error:0.1646\u001b[0m\n",
      "\u001b[34m[20:19:43] src/tree/updater_prune.cc:74: tree pruning end, 1 roots, 16 extra nodes, 8 pruned nodes, max_depth=5\u001b[0m\n",
      "\u001b[34m[73]#011train-error:0.1192#011validation-error:0.1648\u001b[0m\n",
      "\u001b[34m[20:19:45] src/tree/updater_prune.cc:74: tree pruning end, 1 roots, 20 extra nodes, 10 pruned nodes, max_depth=5\u001b[0m\n",
      "\u001b[34m[74]#011train-error:0.1186#011validation-error:0.1638\u001b[0m\n",
      "\u001b[34m[20:19:46] src/tree/updater_prune.cc:74: tree pruning end, 1 roots, 16 extra nodes, 8 pruned nodes, max_depth=5\u001b[0m\n",
      "\u001b[34m[75]#011train-error:0.118933#011validation-error:0.163\u001b[0m\n",
      "\u001b[34m[20:19:47] src/tree/updater_prune.cc:74: tree pruning end, 1 roots, 24 extra nodes, 10 pruned nodes, max_depth=5\u001b[0m\n",
      "\u001b[34m[76]#011train-error:0.117067#011validation-error:0.1619\u001b[0m\n",
      "\u001b[34m[20:19:48] src/tree/updater_prune.cc:74: tree pruning end, 1 roots, 16 extra nodes, 2 pruned nodes, max_depth=5\u001b[0m\n",
      "\u001b[34m[77]#011train-error:0.117067#011validation-error:0.1617\u001b[0m\n",
      "\u001b[34m[20:19:50] src/tree/updater_prune.cc:74: tree pruning end, 1 roots, 20 extra nodes, 14 pruned nodes, max_depth=5\u001b[0m\n",
      "\u001b[34m[78]#011train-error:0.116733#011validation-error:0.1615\u001b[0m\n",
      "\u001b[34m[20:19:51] src/tree/updater_prune.cc:74: tree pruning end, 1 roots, 18 extra nodes, 8 pruned nodes, max_depth=5\u001b[0m\n",
      "\u001b[34m[79]#011train-error:0.115533#011validation-error:0.1614\u001b[0m\n",
      "\u001b[34m[20:19:52] src/tree/updater_prune.cc:74: tree pruning end, 1 roots, 24 extra nodes, 18 pruned nodes, max_depth=5\u001b[0m\n",
      "\u001b[34m[80]#011train-error:0.113467#011validation-error:0.1621\u001b[0m\n",
      "\u001b[34m[20:19:54] src/tree/updater_prune.cc:74: tree pruning end, 1 roots, 16 extra nodes, 12 pruned nodes, max_depth=5\u001b[0m\n",
      "\u001b[34m[81]#011train-error:0.1132#011validation-error:0.1619\u001b[0m\n",
      "\u001b[34m[20:19:55] src/tree/updater_prune.cc:74: tree pruning end, 1 roots, 28 extra nodes, 4 pruned nodes, max_depth=5\u001b[0m\n",
      "\u001b[34m[82]#011train-error:0.112267#011validation-error:0.1625\u001b[0m\n",
      "\u001b[34m[20:19:56] src/tree/updater_prune.cc:74: tree pruning end, 1 roots, 18 extra nodes, 10 pruned nodes, max_depth=5\u001b[0m\n",
      "\u001b[34m[83]#011train-error:0.111133#011validation-error:0.1619\u001b[0m\n",
      "\u001b[34m[20:19:57] src/tree/updater_prune.cc:74: tree pruning end, 1 roots, 20 extra nodes, 14 pruned nodes, max_depth=5\u001b[0m\n",
      "\u001b[34m[84]#011train-error:0.1116#011validation-error:0.1617\u001b[0m\n",
      "\u001b[34m[20:19:59] src/tree/updater_prune.cc:74: tree pruning end, 1 roots, 20 extra nodes, 2 pruned nodes, max_depth=5\u001b[0m\n",
      "\u001b[34m[85]#011train-error:0.1108#011validation-error:0.1599\u001b[0m\n",
      "\u001b[34m[20:20:00] src/tree/updater_prune.cc:74: tree pruning end, 1 roots, 18 extra nodes, 4 pruned nodes, max_depth=5\u001b[0m\n",
      "\u001b[34m[86]#011train-error:0.111133#011validation-error:0.1597\u001b[0m\n"
     ]
    },
    {
     "name": "stdout",
     "output_type": "stream",
     "text": [
      "\u001b[34m[20:20:01] src/tree/updater_prune.cc:74: tree pruning end, 1 roots, 14 extra nodes, 10 pruned nodes, max_depth=5\u001b[0m\n",
      "\u001b[34m[87]#011train-error:0.111133#011validation-error:0.1602\u001b[0m\n",
      "\u001b[34m[20:20:02] src/tree/updater_prune.cc:74: tree pruning end, 1 roots, 22 extra nodes, 18 pruned nodes, max_depth=5\u001b[0m\n",
      "\u001b[34m[88]#011train-error:0.111333#011validation-error:0.1596\u001b[0m\n",
      "\u001b[34m[20:20:04] src/tree/updater_prune.cc:74: tree pruning end, 1 roots, 22 extra nodes, 8 pruned nodes, max_depth=5\u001b[0m\n",
      "\u001b[34m[89]#011train-error:0.1102#011validation-error:0.1586\u001b[0m\n",
      "\u001b[34m[20:20:05] src/tree/updater_prune.cc:74: tree pruning end, 1 roots, 18 extra nodes, 12 pruned nodes, max_depth=5\u001b[0m\n",
      "\u001b[34m[90]#011train-error:0.1104#011validation-error:0.1585\u001b[0m\n",
      "\u001b[34m[20:20:06] src/tree/updater_prune.cc:74: tree pruning end, 1 roots, 24 extra nodes, 6 pruned nodes, max_depth=5\u001b[0m\n",
      "\u001b[34m[91]#011train-error:0.109467#011validation-error:0.1575\u001b[0m\n",
      "\u001b[34m[20:20:07] src/tree/updater_prune.cc:74: tree pruning end, 1 roots, 14 extra nodes, 6 pruned nodes, max_depth=5\u001b[0m\n",
      "\u001b[34m[92]#011train-error:0.108867#011validation-error:0.1577\u001b[0m\n",
      "\u001b[34m[20:20:09] src/tree/updater_prune.cc:74: tree pruning end, 1 roots, 12 extra nodes, 10 pruned nodes, max_depth=5\u001b[0m\n",
      "\u001b[34m[93]#011train-error:0.1088#011validation-error:0.1575\u001b[0m\n",
      "\u001b[34m[20:20:10] src/tree/updater_prune.cc:74: tree pruning end, 1 roots, 22 extra nodes, 8 pruned nodes, max_depth=5\u001b[0m\n",
      "\u001b[34m[94]#011train-error:0.108#011validation-error:0.1573\u001b[0m\n",
      "\u001b[34m[20:20:11] src/tree/updater_prune.cc:74: tree pruning end, 1 roots, 12 extra nodes, 6 pruned nodes, max_depth=5\u001b[0m\n",
      "\u001b[34m[95]#011train-error:0.107667#011validation-error:0.157\u001b[0m\n",
      "\u001b[34m[20:20:13] src/tree/updater_prune.cc:74: tree pruning end, 1 roots, 14 extra nodes, 8 pruned nodes, max_depth=5\u001b[0m\n",
      "\u001b[34m[96]#011train-error:0.107467#011validation-error:0.1565\u001b[0m\n",
      "\u001b[34m[20:20:14] src/tree/updater_prune.cc:74: tree pruning end, 1 roots, 14 extra nodes, 2 pruned nodes, max_depth=5\u001b[0m\n",
      "\u001b[34m[97]#011train-error:0.107667#011validation-error:0.1553\u001b[0m\n",
      "\u001b[34m[20:20:15] src/tree/updater_prune.cc:74: tree pruning end, 1 roots, 22 extra nodes, 14 pruned nodes, max_depth=5\u001b[0m\n",
      "\u001b[34m[98]#011train-error:0.1068#011validation-error:0.1544\u001b[0m\n",
      "\u001b[34m[20:20:16] src/tree/updater_prune.cc:74: tree pruning end, 1 roots, 14 extra nodes, 6 pruned nodes, max_depth=5\u001b[0m\n",
      "\u001b[34m[99]#011train-error:0.1068#011validation-error:0.1543\u001b[0m\n",
      "\u001b[34m[20:20:18] src/tree/updater_prune.cc:74: tree pruning end, 1 roots, 14 extra nodes, 12 pruned nodes, max_depth=5\u001b[0m\n",
      "\u001b[34m[100]#011train-error:0.106#011validation-error:0.1543\u001b[0m\n",
      "\u001b[34m[20:20:19] src/tree/updater_prune.cc:74: tree pruning end, 1 roots, 32 extra nodes, 2 pruned nodes, max_depth=5\u001b[0m\n",
      "\u001b[34m[101]#011train-error:0.106267#011validation-error:0.1545\u001b[0m\n",
      "\u001b[34m[20:20:20] src/tree/updater_prune.cc:74: tree pruning end, 1 roots, 20 extra nodes, 8 pruned nodes, max_depth=5\u001b[0m\n",
      "\u001b[34m[102]#011train-error:0.104733#011validation-error:0.1536\u001b[0m\n",
      "\u001b[34m[20:20:21] src/tree/updater_prune.cc:74: tree pruning end, 1 roots, 36 extra nodes, 6 pruned nodes, max_depth=5\u001b[0m\n",
      "\u001b[34m[103]#011train-error:0.103067#011validation-error:0.1536\u001b[0m\n",
      "\u001b[34m[20:20:23] src/tree/updater_prune.cc:74: tree pruning end, 1 roots, 18 extra nodes, 6 pruned nodes, max_depth=5\u001b[0m\n",
      "\u001b[34m[104]#011train-error:0.1024#011validation-error:0.1531\u001b[0m\n",
      "\u001b[34m[20:20:24] src/tree/updater_prune.cc:74: tree pruning end, 1 roots, 12 extra nodes, 12 pruned nodes, max_depth=5\u001b[0m\n",
      "\u001b[34m[105]#011train-error:0.1022#011validation-error:0.1535\u001b[0m\n",
      "\u001b[34m[20:20:25] src/tree/updater_prune.cc:74: tree pruning end, 1 roots, 18 extra nodes, 10 pruned nodes, max_depth=5\u001b[0m\n",
      "\u001b[34m[106]#011train-error:0.101467#011validation-error:0.1534\u001b[0m\n",
      "\u001b[34m[20:20:26] src/tree/updater_prune.cc:74: tree pruning end, 1 roots, 20 extra nodes, 8 pruned nodes, max_depth=5\u001b[0m\n",
      "\u001b[34m[107]#011train-error:0.100933#011validation-error:0.1531\u001b[0m\n",
      "\u001b[34m[20:20:28] src/tree/updater_prune.cc:74: tree pruning end, 1 roots, 12 extra nodes, 6 pruned nodes, max_depth=5\u001b[0m\n",
      "\u001b[34m[108]#011train-error:0.100733#011validation-error:0.1527\u001b[0m\n",
      "\u001b[34m[20:20:29] src/tree/updater_prune.cc:74: tree pruning end, 1 roots, 12 extra nodes, 8 pruned nodes, max_depth=5\u001b[0m\n",
      "\u001b[34m[109]#011train-error:0.100333#011validation-error:0.1515\u001b[0m\n",
      "\u001b[34m[20:20:30] src/tree/updater_prune.cc:74: tree pruning end, 1 roots, 10 extra nodes, 10 pruned nodes, max_depth=5\u001b[0m\n",
      "\u001b[34m[110]#011train-error:0.099867#011validation-error:0.1512\u001b[0m\n",
      "\u001b[34m[20:20:31] src/tree/updater_prune.cc:74: tree pruning end, 1 roots, 24 extra nodes, 8 pruned nodes, max_depth=5\u001b[0m\n",
      "\u001b[34m[111]#011train-error:0.099533#011validation-error:0.1502\u001b[0m\n",
      "\u001b[34m[20:20:33] src/tree/updater_prune.cc:74: tree pruning end, 1 roots, 20 extra nodes, 10 pruned nodes, max_depth=5\u001b[0m\n",
      "\u001b[34m[112]#011train-error:0.099533#011validation-error:0.1505\u001b[0m\n",
      "\u001b[34m[20:20:34] src/tree/updater_prune.cc:74: tree pruning end, 1 roots, 22 extra nodes, 8 pruned nodes, max_depth=5\u001b[0m\n",
      "\u001b[34m[113]#011train-error:0.099267#011validation-error:0.1501\u001b[0m\n",
      "\u001b[34m[20:20:35] src/tree/updater_prune.cc:74: tree pruning end, 1 roots, 18 extra nodes, 10 pruned nodes, max_depth=5\u001b[0m\n",
      "\u001b[34m[114]#011train-error:0.098267#011validation-error:0.1505\u001b[0m\n",
      "\u001b[34m[20:20:37] src/tree/updater_prune.cc:74: tree pruning end, 1 roots, 24 extra nodes, 2 pruned nodes, max_depth=5\u001b[0m\n",
      "\u001b[34m[115]#011train-error:0.098#011validation-error:0.1511\u001b[0m\n",
      "\u001b[34m[20:20:38] src/tree/updater_prune.cc:74: tree pruning end, 1 roots, 34 extra nodes, 4 pruned nodes, max_depth=5\u001b[0m\n",
      "\u001b[34m[116]#011train-error:0.0966#011validation-error:0.1501\u001b[0m\n",
      "\u001b[34m[20:20:39] src/tree/updater_prune.cc:74: tree pruning end, 1 roots, 14 extra nodes, 8 pruned nodes, max_depth=5\u001b[0m\n",
      "\u001b[34m[117]#011train-error:0.096333#011validation-error:0.1495\u001b[0m\n",
      "\u001b[34m[20:20:40] src/tree/updater_prune.cc:74: tree pruning end, 1 roots, 12 extra nodes, 14 pruned nodes, max_depth=5\u001b[0m\n",
      "\u001b[34m[118]#011train-error:0.095533#011validation-error:0.15\u001b[0m\n",
      "\u001b[34m[20:20:42] src/tree/updater_prune.cc:74: tree pruning end, 1 roots, 12 extra nodes, 8 pruned nodes, max_depth=5\u001b[0m\n",
      "\u001b[34m[119]#011train-error:0.095467#011validation-error:0.15\u001b[0m\n",
      "\u001b[34m[20:20:43] src/tree/updater_prune.cc:74: tree pruning end, 1 roots, 12 extra nodes, 6 pruned nodes, max_depth=5\u001b[0m\n",
      "\u001b[34m[120]#011train-error:0.095#011validation-error:0.1501\u001b[0m\n",
      "\u001b[34m[20:20:44] src/tree/updater_prune.cc:74: tree pruning end, 1 roots, 20 extra nodes, 4 pruned nodes, max_depth=5\u001b[0m\n",
      "\u001b[34m[121]#011train-error:0.094533#011validation-error:0.1492\u001b[0m\n",
      "\u001b[34m[20:20:46] src/tree/updater_prune.cc:74: tree pruning end, 1 roots, 28 extra nodes, 8 pruned nodes, max_depth=5\u001b[0m\n",
      "\u001b[34m[122]#011train-error:0.0936#011validation-error:0.1495\u001b[0m\n",
      "\u001b[34m[20:20:47] src/tree/updater_prune.cc:74: tree pruning end, 1 roots, 20 extra nodes, 4 pruned nodes, max_depth=5\u001b[0m\n",
      "\u001b[34m[123]#011train-error:0.093267#011validation-error:0.1496\u001b[0m\n",
      "\u001b[34m[20:20:48] src/tree/updater_prune.cc:74: tree pruning end, 1 roots, 20 extra nodes, 4 pruned nodes, max_depth=5\u001b[0m\n",
      "\u001b[34m[124]#011train-error:0.092867#011validation-error:0.149\u001b[0m\n",
      "\u001b[34m[20:20:49] src/tree/updater_prune.cc:74: tree pruning end, 1 roots, 12 extra nodes, 8 pruned nodes, max_depth=5\u001b[0m\n",
      "\u001b[34m[125]#011train-error:0.092467#011validation-error:0.149\u001b[0m\n",
      "\u001b[34m[20:20:51] src/tree/updater_prune.cc:74: tree pruning end, 1 roots, 14 extra nodes, 6 pruned nodes, max_depth=5\u001b[0m\n",
      "\u001b[34m[126]#011train-error:0.091933#011validation-error:0.1479\u001b[0m\n",
      "\u001b[34m[20:20:52] src/tree/updater_prune.cc:74: tree pruning end, 1 roots, 12 extra nodes, 2 pruned nodes, max_depth=5\u001b[0m\n",
      "\u001b[34m[127]#011train-error:0.0922#011validation-error:0.1484\u001b[0m\n",
      "\u001b[34m[20:20:53] src/tree/updater_prune.cc:74: tree pruning end, 1 roots, 12 extra nodes, 10 pruned nodes, max_depth=5\u001b[0m\n",
      "\u001b[34m[128]#011train-error:0.092133#011validation-error:0.1487\u001b[0m\n",
      "\u001b[34m[20:20:54] src/tree/updater_prune.cc:74: tree pruning end, 1 roots, 22 extra nodes, 4 pruned nodes, max_depth=5\u001b[0m\n",
      "\u001b[34m[129]#011train-error:0.091067#011validation-error:0.1479\u001b[0m\n",
      "\u001b[34m[20:20:56] src/tree/updater_prune.cc:74: tree pruning end, 1 roots, 12 extra nodes, 8 pruned nodes, max_depth=5\u001b[0m\n",
      "\u001b[34m[130]#011train-error:0.091133#011validation-error:0.1474\u001b[0m\n",
      "\u001b[34m[20:20:57] src/tree/updater_prune.cc:74: tree pruning end, 1 roots, 18 extra nodes, 8 pruned nodes, max_depth=5\u001b[0m\n",
      "\u001b[34m[131]#011train-error:0.090933#011validation-error:0.1466\u001b[0m\n",
      "\u001b[34m[20:20:58] src/tree/updater_prune.cc:74: tree pruning end, 1 roots, 16 extra nodes, 6 pruned nodes, max_depth=5\u001b[0m\n",
      "\u001b[34m[132]#011train-error:0.090933#011validation-error:0.1475\u001b[0m\n",
      "\u001b[34m[20:21:00] src/tree/updater_prune.cc:74: tree pruning end, 1 roots, 30 extra nodes, 18 pruned nodes, max_depth=5\u001b[0m\n",
      "\u001b[34m[133]#011train-error:0.090533#011validation-error:0.148\u001b[0m\n",
      "\u001b[34m[20:21:01] src/tree/updater_prune.cc:74: tree pruning end, 1 roots, 26 extra nodes, 10 pruned nodes, max_depth=5\u001b[0m\n",
      "\u001b[34m[134]#011train-error:0.0894#011validation-error:0.1476\u001b[0m\n",
      "\u001b[34m[20:21:02] src/tree/updater_prune.cc:74: tree pruning end, 1 roots, 14 extra nodes, 8 pruned nodes, max_depth=5\u001b[0m\n",
      "\u001b[34m[135]#011train-error:0.088933#011validation-error:0.1473\u001b[0m\n",
      "\u001b[34m[20:21:03] src/tree/updater_prune.cc:74: tree pruning end, 1 roots, 12 extra nodes, 16 pruned nodes, max_depth=5\u001b[0m\n",
      "\u001b[34m[136]#011train-error:0.089067#011validation-error:0.1474\u001b[0m\n",
      "\u001b[34m[20:21:05] src/tree/updater_prune.cc:74: tree pruning end, 1 roots, 10 extra nodes, 2 pruned nodes, max_depth=5\u001b[0m\n",
      "\u001b[34m[137]#011train-error:0.0884#011validation-error:0.1472\u001b[0m\n",
      "\u001b[34m[20:21:06] src/tree/updater_prune.cc:74: tree pruning end, 1 roots, 12 extra nodes, 6 pruned nodes, max_depth=5\u001b[0m\n",
      "\u001b[34m[138]#011train-error:0.087667#011validation-error:0.1473\u001b[0m\n"
     ]
    },
    {
     "name": "stdout",
     "output_type": "stream",
     "text": [
      "\u001b[34m[20:21:07] src/tree/updater_prune.cc:74: tree pruning end, 1 roots, 14 extra nodes, 14 pruned nodes, max_depth=5\u001b[0m\n",
      "\u001b[34m[139]#011train-error:0.087333#011validation-error:0.1468\u001b[0m\n",
      "\u001b[34m[20:21:08] src/tree/updater_prune.cc:74: tree pruning end, 1 roots, 10 extra nodes, 4 pruned nodes, max_depth=5\u001b[0m\n",
      "\u001b[34m[140]#011train-error:0.0872#011validation-error:0.1468\u001b[0m\n",
      "\u001b[34m[20:21:10] src/tree/updater_prune.cc:74: tree pruning end, 1 roots, 12 extra nodes, 6 pruned nodes, max_depth=5\u001b[0m\n",
      "\u001b[34m[141]#011train-error:0.087267#011validation-error:0.1459\u001b[0m\n",
      "\u001b[34m[20:21:11] src/tree/updater_prune.cc:74: tree pruning end, 1 roots, 20 extra nodes, 16 pruned nodes, max_depth=5\u001b[0m\n",
      "\u001b[34m[142]#011train-error:0.086867#011validation-error:0.146\u001b[0m\n",
      "\u001b[34m[20:21:12] src/tree/updater_prune.cc:74: tree pruning end, 1 roots, 12 extra nodes, 6 pruned nodes, max_depth=5\u001b[0m\n",
      "\u001b[34m[143]#011train-error:0.0862#011validation-error:0.146\u001b[0m\n",
      "\u001b[34m[20:21:14] src/tree/updater_prune.cc:74: tree pruning end, 1 roots, 22 extra nodes, 2 pruned nodes, max_depth=5\u001b[0m\n",
      "\u001b[34m[144]#011train-error:0.0862#011validation-error:0.1454\u001b[0m\n",
      "\u001b[34m[20:21:15] src/tree/updater_prune.cc:74: tree pruning end, 1 roots, 22 extra nodes, 12 pruned nodes, max_depth=5\u001b[0m\n",
      "\u001b[34m[145]#011train-error:0.086067#011validation-error:0.145\u001b[0m\n",
      "\u001b[34m[20:21:16] src/tree/updater_prune.cc:74: tree pruning end, 1 roots, 12 extra nodes, 4 pruned nodes, max_depth=5\u001b[0m\n",
      "\u001b[34m[146]#011train-error:0.085867#011validation-error:0.1444\u001b[0m\n",
      "\u001b[34m[20:21:17] src/tree/updater_prune.cc:74: tree pruning end, 1 roots, 14 extra nodes, 2 pruned nodes, max_depth=5\u001b[0m\n",
      "\u001b[34m[147]#011train-error:0.086#011validation-error:0.1445\u001b[0m\n",
      "\u001b[34m[20:21:19] src/tree/updater_prune.cc:74: tree pruning end, 1 roots, 10 extra nodes, 16 pruned nodes, max_depth=5\u001b[0m\n",
      "\u001b[34m[148]#011train-error:0.085667#011validation-error:0.1444\u001b[0m\n",
      "\u001b[34m[20:21:20] src/tree/updater_prune.cc:74: tree pruning end, 1 roots, 16 extra nodes, 8 pruned nodes, max_depth=5\u001b[0m\n",
      "\u001b[34m[149]#011train-error:0.0856#011validation-error:0.144\u001b[0m\n",
      "\u001b[34m[20:21:21] src/tree/updater_prune.cc:74: tree pruning end, 1 roots, 12 extra nodes, 6 pruned nodes, max_depth=5\u001b[0m\n",
      "\u001b[34m[150]#011train-error:0.084933#011validation-error:0.1438\u001b[0m\n",
      "\u001b[34m[20:21:22] src/tree/updater_prune.cc:74: tree pruning end, 1 roots, 18 extra nodes, 8 pruned nodes, max_depth=5\u001b[0m\n",
      "\u001b[34m[151]#011train-error:0.0846#011validation-error:0.1436\u001b[0m\n",
      "\u001b[34m[20:21:24] src/tree/updater_prune.cc:74: tree pruning end, 1 roots, 26 extra nodes, 10 pruned nodes, max_depth=5\u001b[0m\n",
      "\u001b[34m[152]#011train-error:0.083867#011validation-error:0.1442\u001b[0m\n",
      "\u001b[34m[20:21:25] src/tree/updater_prune.cc:74: tree pruning end, 1 roots, 14 extra nodes, 4 pruned nodes, max_depth=5\u001b[0m\n",
      "\u001b[34m[153]#011train-error:0.083867#011validation-error:0.1439\u001b[0m\n",
      "\u001b[34m[20:21:26] src/tree/updater_prune.cc:74: tree pruning end, 1 roots, 18 extra nodes, 12 pruned nodes, max_depth=5\u001b[0m\n",
      "\u001b[34m[154]#011train-error:0.0836#011validation-error:0.1438\u001b[0m\n",
      "\u001b[34m[20:21:28] src/tree/updater_prune.cc:74: tree pruning end, 1 roots, 18 extra nodes, 4 pruned nodes, max_depth=5\u001b[0m\n",
      "\u001b[34m[155]#011train-error:0.083133#011validation-error:0.1439\u001b[0m\n",
      "\u001b[34m[20:21:29] src/tree/updater_prune.cc:74: tree pruning end, 1 roots, 20 extra nodes, 10 pruned nodes, max_depth=5\u001b[0m\n",
      "\u001b[34m[156]#011train-error:0.0832#011validation-error:0.1443\u001b[0m\n",
      "\u001b[34m[20:21:30] src/tree/updater_prune.cc:74: tree pruning end, 1 roots, 20 extra nodes, 8 pruned nodes, max_depth=5\u001b[0m\n",
      "\u001b[34m[157]#011train-error:0.0836#011validation-error:0.1445\u001b[0m\n",
      "\u001b[34m[20:21:31] src/tree/updater_prune.cc:74: tree pruning end, 1 roots, 20 extra nodes, 16 pruned nodes, max_depth=5\u001b[0m\n",
      "\u001b[34m[158]#011train-error:0.082867#011validation-error:0.1446\u001b[0m\n",
      "\u001b[34m[20:21:33] src/tree/updater_prune.cc:74: tree pruning end, 1 roots, 30 extra nodes, 18 pruned nodes, max_depth=5\u001b[0m\n",
      "\u001b[34m[159]#011train-error:0.0824#011validation-error:0.1441\u001b[0m\n",
      "\u001b[34m[20:21:34] src/tree/updater_prune.cc:74: tree pruning end, 1 roots, 16 extra nodes, 10 pruned nodes, max_depth=5\u001b[0m\n",
      "\u001b[34m[160]#011train-error:0.082333#011validation-error:0.1438\u001b[0m\n",
      "\u001b[34m[20:21:35] src/tree/updater_prune.cc:74: tree pruning end, 1 roots, 14 extra nodes, 0 pruned nodes, max_depth=5\u001b[0m\n",
      "\u001b[34m[161]#011train-error:0.082333#011validation-error:0.1438\u001b[0m\n",
      "\u001b[34mStopping. Best iteration:\u001b[0m\n",
      "\u001b[34m[151]#011train-error:0.0846#011validation-error:0.1436\n",
      "\u001b[0m\n",
      "\n",
      "2020-10-13 20:21:44 Uploading - Uploading generated training model\n",
      "2020-10-13 20:21:44 Completed - Training job completed\n",
      "Training seconds: 271\n",
      "Billable seconds: 271\n"
     ]
    }
   ],
   "source": [
    "xgb.fit({'train': s3_input_train, 'validation': s3_input_validation})"
   ]
  },
  {
   "cell_type": "markdown",
   "metadata": {},
   "source": [
    "## Step 5: Testing the model\n",
    "\n",
    "Now that we've fit our XGBoost model, it's time to see how well it performs. To do this we will use SageMakers Batch Transform functionality. Batch Transform is a convenient way to perform inference on a large dataset in a way that is not realtime. That is, we don't necessarily need to use our model's results immediately and instead we can perform inference on a large number of samples. An example of this in industry might be performing an end of month report. This method of inference can also be useful to us as it means that we can perform inference on our entire test set. \n",
    "\n",
    "To perform a Batch Transformation we need to first create a transformer objects from our trained estimator object."
   ]
  },
  {
   "cell_type": "code",
   "execution_count": 1,
   "metadata": {},
   "outputs": [
    {
     "ename": "NameError",
     "evalue": "name 'xgb' is not defined",
     "output_type": "error",
     "traceback": [
      "\u001b[0;31m---------------------------------------------------------------------------\u001b[0m",
      "\u001b[0;31mNameError\u001b[0m                                 Traceback (most recent call last)",
      "\u001b[0;32m<ipython-input-1-6b6b431e93bb>\u001b[0m in \u001b[0;36m<module>\u001b[0;34m\u001b[0m\n\u001b[0;32m----> 1\u001b[0;31m \u001b[0mxgb_transformer\u001b[0m \u001b[0;34m=\u001b[0m \u001b[0mxgb\u001b[0m\u001b[0;34m.\u001b[0m\u001b[0mtransformer\u001b[0m\u001b[0;34m(\u001b[0m\u001b[0minstance_count\u001b[0m \u001b[0;34m=\u001b[0m \u001b[0;36m1\u001b[0m\u001b[0;34m,\u001b[0m \u001b[0minstance_type\u001b[0m \u001b[0;34m=\u001b[0m \u001b[0;34m'ml.m4.xlarge'\u001b[0m\u001b[0;34m)\u001b[0m\u001b[0;34m\u001b[0m\u001b[0;34m\u001b[0m\u001b[0m\n\u001b[0m",
      "\u001b[0;31mNameError\u001b[0m: name 'xgb' is not defined"
     ]
    }
   ],
   "source": [
    "xgb_transformer = xgb.transformer(instance_count = 1, instance_type = 'ml.m4.xlarge')"
   ]
  },
  {
   "cell_type": "markdown",
   "metadata": {},
   "source": [
    "Next we actually perform the transform job. When doing so we need to make sure to specify the type of data we are sending so that it is serialized correctly in the background. In our case we are providing our model with csv data so we specify `text/csv`. Also, if the test data that we have provided is too large to process all at once then we need to specify how the data file should be split up. Since each line is a single entry in our data set we tell SageMaker that it can split the input on each line."
   ]
  },
  {
   "cell_type": "code",
   "execution_count": 25,
   "metadata": {},
   "outputs": [],
   "source": [
    "xgb_transformer.transform(test_location, content_type='text/csv', split_type='Line')"
   ]
  },
  {
   "cell_type": "markdown",
   "metadata": {},
   "source": [
    "Currently the transform job is running but it is doing so in the background. Since we wish to wait until the transform job is done and we would like a bit of feedback we can run the `wait()` method."
   ]
  },
  {
   "cell_type": "code",
   "execution_count": 26,
   "metadata": {},
   "outputs": [
    {
     "name": "stdout",
     "output_type": "stream",
     "text": [
      "...............................\u001b[32m2020-10-13T20:27:11.204:[sagemaker logs]: MaxConcurrentTransforms=4, MaxPayloadInMB=6, BatchStrategy=MULTI_RECORD\u001b[0m\n",
      "\u001b[34mArguments: serve\u001b[0m\n",
      "\u001b[34m[2020-10-13 20:27:11 +0000] [1] [INFO] Starting gunicorn 19.7.1\u001b[0m\n",
      "\u001b[34m[2020-10-13 20:27:11 +0000] [1] [INFO] Listening at: http://0.0.0.0:8080 (1)\u001b[0m\n",
      "\u001b[34m[2020-10-13 20:27:11 +0000] [1] [INFO] Using worker: gevent\u001b[0m\n",
      "\u001b[35mArguments: serve\u001b[0m\n",
      "\u001b[35m[2020-10-13 20:27:11 +0000] [1] [INFO] Starting gunicorn 19.7.1\u001b[0m\n",
      "\u001b[35m[2020-10-13 20:27:11 +0000] [1] [INFO] Listening at: http://0.0.0.0:8080 (1)\u001b[0m\n",
      "\u001b[35m[2020-10-13 20:27:11 +0000] [1] [INFO] Using worker: gevent\u001b[0m\n",
      "\u001b[34m[2020-10-13 20:27:11 +0000] [36] [INFO] Booting worker with pid: 36\u001b[0m\n",
      "\u001b[34m[2020-10-13 20:27:11 +0000] [37] [INFO] Booting worker with pid: 37\u001b[0m\n",
      "\u001b[34m[2020-10-13 20:27:11 +0000] [38] [INFO] Booting worker with pid: 38\u001b[0m\n",
      "\u001b[34m[2020-10-13:20:27:11:INFO] Model loaded successfully for worker : 38\u001b[0m\n",
      "\u001b[34m[2020-10-13:20:27:11:INFO] Model loaded successfully for worker : 36\u001b[0m\n",
      "\u001b[34m[2020-10-13:20:27:11:INFO] Model loaded successfully for worker : 37\u001b[0m\n",
      "\u001b[34m[2020-10-13 20:27:11 +0000] [39] [INFO] Booting worker with pid: 39\u001b[0m\n",
      "\u001b[34m[2020-10-13:20:27:11:INFO] Model loaded successfully for worker : 39\u001b[0m\n",
      "\u001b[35m[2020-10-13 20:27:11 +0000] [36] [INFO] Booting worker with pid: 36\u001b[0m\n",
      "\u001b[35m[2020-10-13 20:27:11 +0000] [37] [INFO] Booting worker with pid: 37\u001b[0m\n",
      "\u001b[35m[2020-10-13 20:27:11 +0000] [38] [INFO] Booting worker with pid: 38\u001b[0m\n",
      "\u001b[35m[2020-10-13:20:27:11:INFO] Model loaded successfully for worker : 38\u001b[0m\n",
      "\u001b[35m[2020-10-13:20:27:11:INFO] Model loaded successfully for worker : 36\u001b[0m\n",
      "\u001b[35m[2020-10-13:20:27:11:INFO] Model loaded successfully for worker : 37\u001b[0m\n",
      "\u001b[35m[2020-10-13 20:27:11 +0000] [39] [INFO] Booting worker with pid: 39\u001b[0m\n",
      "\u001b[35m[2020-10-13:20:27:11:INFO] Model loaded successfully for worker : 39\u001b[0m\n",
      "\u001b[34m[2020-10-13:20:27:11:INFO] Sniff delimiter as ','\u001b[0m\n",
      "\u001b[34m[2020-10-13:20:27:11:INFO] Determined delimiter of CSV input is ','\u001b[0m\n",
      "\u001b[34m[2020-10-13:20:27:11:INFO] Sniff delimiter as ','\u001b[0m\n",
      "\u001b[34m[2020-10-13:20:27:11:INFO] Determined delimiter of CSV input is ','\u001b[0m\n",
      "\u001b[34m[2020-10-13:20:27:11:INFO] Sniff delimiter as ','\u001b[0m\n",
      "\u001b[34m[2020-10-13:20:27:11:INFO] Determined delimiter of CSV input is ','\u001b[0m\n",
      "\u001b[35m[2020-10-13:20:27:11:INFO] Sniff delimiter as ','\u001b[0m\n",
      "\u001b[35m[2020-10-13:20:27:11:INFO] Determined delimiter of CSV input is ','\u001b[0m\n",
      "\u001b[35m[2020-10-13:20:27:11:INFO] Sniff delimiter as ','\u001b[0m\n",
      "\u001b[35m[2020-10-13:20:27:11:INFO] Determined delimiter of CSV input is ','\u001b[0m\n",
      "\u001b[35m[2020-10-13:20:27:11:INFO] Sniff delimiter as ','\u001b[0m\n",
      "\u001b[35m[2020-10-13:20:27:11:INFO] Determined delimiter of CSV input is ','\u001b[0m\n",
      "\u001b[34m[2020-10-13:20:27:13:INFO] Sniff delimiter as ','\u001b[0m\n",
      "\u001b[34m[2020-10-13:20:27:13:INFO] Determined delimiter of CSV input is ','\u001b[0m\n",
      "\u001b[34m[2020-10-13:20:27:13:INFO] Sniff delimiter as ','\u001b[0m\n",
      "\u001b[34m[2020-10-13:20:27:13:INFO] Determined delimiter of CSV input is ','\u001b[0m\n",
      "\u001b[34m[2020-10-13:20:27:13:INFO] Sniff delimiter as ','\u001b[0m\n",
      "\u001b[34m[2020-10-13:20:27:13:INFO] Determined delimiter of CSV input is ','\u001b[0m\n",
      "\u001b[35m[2020-10-13:20:27:13:INFO] Sniff delimiter as ','\u001b[0m\n",
      "\u001b[35m[2020-10-13:20:27:13:INFO] Determined delimiter of CSV input is ','\u001b[0m\n",
      "\u001b[35m[2020-10-13:20:27:13:INFO] Sniff delimiter as ','\u001b[0m\n",
      "\u001b[35m[2020-10-13:20:27:13:INFO] Determined delimiter of CSV input is ','\u001b[0m\n",
      "\u001b[35m[2020-10-13:20:27:13:INFO] Sniff delimiter as ','\u001b[0m\n",
      "\u001b[35m[2020-10-13:20:27:13:INFO] Determined delimiter of CSV input is ','\u001b[0m\n",
      "\u001b[34m[2020-10-13:20:27:14:INFO] Sniff delimiter as ','\u001b[0m\n",
      "\u001b[34m[2020-10-13:20:27:14:INFO] Determined delimiter of CSV input is ','\u001b[0m\n",
      "\u001b[34m[2020-10-13:20:27:14:INFO] Sniff delimiter as ','\u001b[0m\n",
      "\u001b[34m[2020-10-13:20:27:14:INFO] Determined delimiter of CSV input is ','\u001b[0m\n",
      "\u001b[35m[2020-10-13:20:27:14:INFO] Sniff delimiter as ','\u001b[0m\n",
      "\u001b[35m[2020-10-13:20:27:14:INFO] Determined delimiter of CSV input is ','\u001b[0m\n",
      "\u001b[35m[2020-10-13:20:27:14:INFO] Sniff delimiter as ','\u001b[0m\n",
      "\u001b[35m[2020-10-13:20:27:14:INFO] Determined delimiter of CSV input is ','\u001b[0m\n",
      "\u001b[34m[2020-10-13:20:27:15:INFO] Sniff delimiter as ','\u001b[0m\n",
      "\u001b[34m[2020-10-13:20:27:15:INFO] Determined delimiter of CSV input is ','\u001b[0m\n",
      "\u001b[34m[2020-10-13:20:27:16:INFO] Sniff delimiter as ','\u001b[0m\n",
      "\u001b[34m[2020-10-13:20:27:16:INFO] Determined delimiter of CSV input is ','\u001b[0m\n",
      "\u001b[35m[2020-10-13:20:27:15:INFO] Sniff delimiter as ','\u001b[0m\n",
      "\u001b[35m[2020-10-13:20:27:15:INFO] Determined delimiter of CSV input is ','\u001b[0m\n",
      "\u001b[35m[2020-10-13:20:27:16:INFO] Sniff delimiter as ','\u001b[0m\n",
      "\u001b[35m[2020-10-13:20:27:16:INFO] Determined delimiter of CSV input is ','\u001b[0m\n",
      "\u001b[34m[2020-10-13:20:27:17:INFO] Sniff delimiter as ','\u001b[0m\n",
      "\u001b[34m[2020-10-13:20:27:17:INFO] Determined delimiter of CSV input is ','\u001b[0m\n",
      "\u001b[35m[2020-10-13:20:27:17:INFO] Sniff delimiter as ','\u001b[0m\n",
      "\u001b[35m[2020-10-13:20:27:17:INFO] Determined delimiter of CSV input is ','\u001b[0m\n",
      "\u001b[34m[2020-10-13:20:27:17:INFO] Sniff delimiter as ','\u001b[0m\n",
      "\u001b[34m[2020-10-13:20:27:17:INFO] Determined delimiter of CSV input is ','\u001b[0m\n",
      "\u001b[34m[2020-10-13:20:27:18:INFO] Sniff delimiter as ','\u001b[0m\n",
      "\u001b[34m[2020-10-13:20:27:18:INFO] Determined delimiter of CSV input is ','\u001b[0m\n",
      "\u001b[35m[2020-10-13:20:27:17:INFO] Sniff delimiter as ','\u001b[0m\n",
      "\u001b[35m[2020-10-13:20:27:17:INFO] Determined delimiter of CSV input is ','\u001b[0m\n",
      "\u001b[35m[2020-10-13:20:27:18:INFO] Sniff delimiter as ','\u001b[0m\n",
      "\u001b[35m[2020-10-13:20:27:18:INFO] Determined delimiter of CSV input is ','\u001b[0m\n",
      "\u001b[34m[2020-10-13:20:27:18:INFO] Sniff delimiter as ','\u001b[0m\n",
      "\u001b[34m[2020-10-13:20:27:18:INFO] Determined delimiter of CSV input is ','\u001b[0m\n",
      "\u001b[35m[2020-10-13:20:27:18:INFO] Sniff delimiter as ','\u001b[0m\n",
      "\u001b[35m[2020-10-13:20:27:18:INFO] Determined delimiter of CSV input is ','\u001b[0m\n",
      "\u001b[34m[2020-10-13:20:27:19:INFO] Sniff delimiter as ','\u001b[0m\n",
      "\u001b[34m[2020-10-13:20:27:19:INFO] Determined delimiter of CSV input is ','\u001b[0m\n",
      "\u001b[34m[2020-10-13:20:27:19:INFO] Sniff delimiter as ','\u001b[0m\n",
      "\u001b[34m[2020-10-13:20:27:19:INFO] Determined delimiter of CSV input is ','\u001b[0m\n",
      "\u001b[35m[2020-10-13:20:27:19:INFO] Sniff delimiter as ','\u001b[0m\n",
      "\u001b[35m[2020-10-13:20:27:19:INFO] Determined delimiter of CSV input is ','\u001b[0m\n",
      "\u001b[35m[2020-10-13:20:27:19:INFO] Sniff delimiter as ','\u001b[0m\n",
      "\u001b[35m[2020-10-13:20:27:19:INFO] Determined delimiter of CSV input is ','\u001b[0m\n",
      "\u001b[34m[2020-10-13:20:27:20:INFO] Sniff delimiter as ','\u001b[0m\n",
      "\u001b[34m[2020-10-13:20:27:20:INFO] Determined delimiter of CSV input is ','\u001b[0m\n",
      "\u001b[35m[2020-10-13:20:27:20:INFO] Sniff delimiter as ','\u001b[0m\n",
      "\u001b[35m[2020-10-13:20:27:20:INFO] Determined delimiter of CSV input is ','\u001b[0m\n",
      "\u001b[34m[2020-10-13:20:27:21:INFO] Sniff delimiter as ','\u001b[0m\n",
      "\u001b[34m[2020-10-13:20:27:21:INFO] Determined delimiter of CSV input is ','\u001b[0m\n",
      "\u001b[35m[2020-10-13:20:27:21:INFO] Sniff delimiter as ','\u001b[0m\n",
      "\u001b[35m[2020-10-13:20:27:21:INFO] Determined delimiter of CSV input is ','\u001b[0m\n",
      "\u001b[34m[2020-10-13:20:27:22:INFO] Sniff delimiter as ','\u001b[0m\n",
      "\u001b[34m[2020-10-13:20:27:22:INFO] Determined delimiter of CSV input is ','\u001b[0m\n",
      "\u001b[34m[2020-10-13:20:27:22:INFO] Sniff delimiter as ','\u001b[0m\n",
      "\u001b[34m[2020-10-13:20:27:22:INFO] Determined delimiter of CSV input is ','\u001b[0m\n",
      "\u001b[35m[2020-10-13:20:27:22:INFO] Sniff delimiter as ','\u001b[0m\n",
      "\u001b[35m[2020-10-13:20:27:22:INFO] Determined delimiter of CSV input is ','\u001b[0m\n",
      "\u001b[35m[2020-10-13:20:27:22:INFO] Sniff delimiter as ','\u001b[0m\n",
      "\u001b[35m[2020-10-13:20:27:22:INFO] Determined delimiter of CSV input is ','\u001b[0m\n",
      "\u001b[34m[2020-10-13:20:27:23:INFO] Sniff delimiter as ','\u001b[0m\n",
      "\u001b[34m[2020-10-13:20:27:23:INFO] Determined delimiter of CSV input is ','\u001b[0m\n",
      "\u001b[35m[2020-10-13:20:27:23:INFO] Sniff delimiter as ','\u001b[0m\n",
      "\u001b[35m[2020-10-13:20:27:23:INFO] Determined delimiter of CSV input is ','\u001b[0m\n",
      "\u001b[34m[2020-10-13:20:27:23:INFO] Sniff delimiter as ','\u001b[0m\n",
      "\u001b[34m[2020-10-13:20:27:23:INFO] Determined delimiter of CSV input is ','\u001b[0m\n",
      "\u001b[35m[2020-10-13:20:27:23:INFO] Sniff delimiter as ','\u001b[0m\n",
      "\u001b[35m[2020-10-13:20:27:23:INFO] Determined delimiter of CSV input is ','\u001b[0m\n",
      "\u001b[34m[2020-10-13:20:27:24:INFO] Sniff delimiter as ','\u001b[0m\n",
      "\u001b[34m[2020-10-13:20:27:24:INFO] Determined delimiter of CSV input is ','\u001b[0m\n",
      "\u001b[34m[2020-10-13:20:27:24:INFO] Sniff delimiter as ','\u001b[0m\n",
      "\u001b[34m[2020-10-13:20:27:24:INFO] Determined delimiter of CSV input is ','\u001b[0m\n",
      "\u001b[35m[2020-10-13:20:27:24:INFO] Sniff delimiter as ','\u001b[0m\n",
      "\u001b[35m[2020-10-13:20:27:24:INFO] Determined delimiter of CSV input is ','\u001b[0m\n",
      "\u001b[35m[2020-10-13:20:27:24:INFO] Sniff delimiter as ','\u001b[0m\n",
      "\u001b[35m[2020-10-13:20:27:24:INFO] Determined delimiter of CSV input is ','\u001b[0m\n"
     ]
    },
    {
     "name": "stdout",
     "output_type": "stream",
     "text": [
      "\u001b[34m[2020-10-13:20:27:26:INFO] Sniff delimiter as ','\u001b[0m\n",
      "\u001b[34m[2020-10-13:20:27:26:INFO] Determined delimiter of CSV input is ','\u001b[0m\n",
      "\u001b[34m[2020-10-13:20:27:27:INFO] Sniff delimiter as ','\u001b[0m\n",
      "\u001b[34m[2020-10-13:20:27:27:INFO] Determined delimiter of CSV input is ','\u001b[0m\n",
      "\u001b[35m[2020-10-13:20:27:26:INFO] Sniff delimiter as ','\u001b[0m\n",
      "\u001b[35m[2020-10-13:20:27:26:INFO] Determined delimiter of CSV input is ','\u001b[0m\n",
      "\u001b[35m[2020-10-13:20:27:27:INFO] Sniff delimiter as ','\u001b[0m\n",
      "\u001b[35m[2020-10-13:20:27:27:INFO] Determined delimiter of CSV input is ','\u001b[0m\n",
      "\u001b[34m[2020-10-13:20:27:27:INFO] Sniff delimiter as ','\u001b[0m\n",
      "\u001b[34m[2020-10-13:20:27:27:INFO] Determined delimiter of CSV input is ','\u001b[0m\n",
      "\u001b[35m[2020-10-13:20:27:27:INFO] Sniff delimiter as ','\u001b[0m\n",
      "\u001b[35m[2020-10-13:20:27:27:INFO] Determined delimiter of CSV input is ','\u001b[0m\n",
      "\u001b[34m[2020-10-13:20:27:28:INFO] Sniff delimiter as ','\u001b[0m\n",
      "\u001b[35m[2020-10-13:20:27:28:INFO] Sniff delimiter as ','\u001b[0m\n",
      "\u001b[34m[2020-10-13:20:27:28:INFO] Determined delimiter of CSV input is ','\u001b[0m\n",
      "\u001b[34m[2020-10-13:20:27:29:INFO] Sniff delimiter as ','\u001b[0m\n",
      "\u001b[34m[2020-10-13:20:27:29:INFO] Determined delimiter of CSV input is ','\u001b[0m\n",
      "\u001b[35m[2020-10-13:20:27:28:INFO] Determined delimiter of CSV input is ','\u001b[0m\n",
      "\u001b[35m[2020-10-13:20:27:29:INFO] Sniff delimiter as ','\u001b[0m\n",
      "\u001b[35m[2020-10-13:20:27:29:INFO] Determined delimiter of CSV input is ','\u001b[0m\n",
      "\u001b[34m[2020-10-13:20:27:29:INFO] Sniff delimiter as ','\u001b[0m\n",
      "\u001b[34m[2020-10-13:20:27:29:INFO] Determined delimiter of CSV input is ','\u001b[0m\n",
      "\u001b[34m[2020-10-13:20:27:30:INFO] Sniff delimiter as ','\u001b[0m\n",
      "\u001b[34m[2020-10-13:20:27:30:INFO] Determined delimiter of CSV input is ','\u001b[0m\n",
      "\u001b[35m[2020-10-13:20:27:29:INFO] Sniff delimiter as ','\u001b[0m\n",
      "\u001b[35m[2020-10-13:20:27:29:INFO] Determined delimiter of CSV input is ','\u001b[0m\n",
      "\u001b[35m[2020-10-13:20:27:30:INFO] Sniff delimiter as ','\u001b[0m\n",
      "\u001b[35m[2020-10-13:20:27:30:INFO] Determined delimiter of CSV input is ','\u001b[0m\n",
      "\u001b[34m[2020-10-13:20:27:30:INFO] Sniff delimiter as ','\u001b[0m\n",
      "\u001b[34m[2020-10-13:20:27:30:INFO] Determined delimiter of CSV input is ','\u001b[0m\n",
      "\u001b[35m[2020-10-13:20:27:30:INFO] Sniff delimiter as ','\u001b[0m\n",
      "\u001b[35m[2020-10-13:20:27:30:INFO] Determined delimiter of CSV input is ','\u001b[0m\n",
      "\u001b[34m[2020-10-13:20:27:31:INFO] Sniff delimiter as ','\u001b[0m\n",
      "\u001b[34m[2020-10-13:20:27:31:INFO] Determined delimiter of CSV input is ','\u001b[0m\n",
      "\u001b[34m[2020-10-13:20:27:32:INFO] Sniff delimiter as ','\u001b[0m\n",
      "\u001b[34m[2020-10-13:20:27:32:INFO] Determined delimiter of CSV input is ','\u001b[0m\n",
      "\u001b[35m[2020-10-13:20:27:31:INFO] Sniff delimiter as ','\u001b[0m\n",
      "\u001b[35m[2020-10-13:20:27:31:INFO] Determined delimiter of CSV input is ','\u001b[0m\n",
      "\u001b[35m[2020-10-13:20:27:32:INFO] Sniff delimiter as ','\u001b[0m\n",
      "\u001b[35m[2020-10-13:20:27:32:INFO] Determined delimiter of CSV input is ','\u001b[0m\n",
      "\u001b[34m[2020-10-13:20:27:32:INFO] Sniff delimiter as ','\u001b[0m\n",
      "\u001b[34m[2020-10-13:20:27:32:INFO] Determined delimiter of CSV input is ','\u001b[0m\n",
      "\u001b[34m[2020-10-13:20:27:33:INFO] Sniff delimiter as ','\u001b[0m\n",
      "\u001b[34m[2020-10-13:20:27:33:INFO] Determined delimiter of CSV input is ','\u001b[0m\n",
      "\u001b[35m[2020-10-13:20:27:32:INFO] Sniff delimiter as ','\u001b[0m\n",
      "\u001b[35m[2020-10-13:20:27:32:INFO] Determined delimiter of CSV input is ','\u001b[0m\n",
      "\u001b[35m[2020-10-13:20:27:33:INFO] Sniff delimiter as ','\u001b[0m\n",
      "\u001b[35m[2020-10-13:20:27:33:INFO] Determined delimiter of CSV input is ','\u001b[0m\n",
      "\u001b[34m[2020-10-13:20:27:34:INFO] Sniff delimiter as ','\u001b[0m\n",
      "\u001b[34m[2020-10-13:20:27:34:INFO] Determined delimiter of CSV input is ','\u001b[0m\n",
      "\u001b[35m[2020-10-13:20:27:34:INFO] Sniff delimiter as ','\u001b[0m\n",
      "\u001b[35m[2020-10-13:20:27:34:INFO] Determined delimiter of CSV input is ','\u001b[0m\n",
      "\u001b[34m[2020-10-13:20:27:34:INFO] Sniff delimiter as ','\u001b[0m\n",
      "\u001b[34m[2020-10-13:20:27:34:INFO] Determined delimiter of CSV input is ','\u001b[0m\n",
      "\u001b[35m[2020-10-13:20:27:34:INFO] Sniff delimiter as ','\u001b[0m\n",
      "\u001b[35m[2020-10-13:20:27:34:INFO] Determined delimiter of CSV input is ','\u001b[0m\n",
      "\n"
     ]
    }
   ],
   "source": [
    "xgb_transformer.wait()"
   ]
  },
  {
   "cell_type": "markdown",
   "metadata": {},
   "source": [
    "Now the transform job has executed and the result, the estimated sentiment of each review, has been saved on S3. Since we would rather work on this file locally we can perform a bit of notebook magic to copy the file to the `data_dir`."
   ]
  },
  {
   "cell_type": "code",
   "execution_count": 27,
   "metadata": {},
   "outputs": [
    {
     "name": "stdout",
     "output_type": "stream",
     "text": [
      "Completed 256.0 KiB/369.8 KiB (2.7 MiB/s) with 1 file(s) remaining\r",
      "Completed 369.8 KiB/369.8 KiB (3.8 MiB/s) with 1 file(s) remaining\r",
      "download: s3://sagemaker-us-east-2-501357048875/xgboost-2020-10-13-20-22-15-271/test.csv.out to ../data/sentiment_web_app/test.csv.out\r\n"
     ]
    }
   ],
   "source": [
    "!aws s3 cp --recursive $xgb_transformer.output_path $data_dir"
   ]
  },
  {
   "cell_type": "markdown",
   "metadata": {},
   "source": [
    "The last step is now to read in the output from our model, convert the output to something a little more usable, in this case we want the sentiment to be either `1` (positive) or `0` (negative), and then compare to the ground truth labels."
   ]
  },
  {
   "cell_type": "code",
   "execution_count": 28,
   "metadata": {},
   "outputs": [],
   "source": [
    "predictions = pd.read_csv(os.path.join(data_dir, 'test.csv.out'), header=None)\n",
    "predictions = [round(num) for num in predictions.squeeze().values]"
   ]
  },
  {
   "cell_type": "code",
   "execution_count": 29,
   "metadata": {},
   "outputs": [
    {
     "data": {
      "text/plain": [
       "0.85784"
      ]
     },
     "execution_count": 29,
     "metadata": {},
     "output_type": "execute_result"
    }
   ],
   "source": [
    "from sklearn.metrics import accuracy_score\n",
    "accuracy_score(test_y, predictions)"
   ]
  },
  {
   "cell_type": "markdown",
   "metadata": {},
   "source": [
    "## Step 6: Deploying the model\n",
    "\n",
    "Once we construct and fit our model, SageMaker stores the resulting model artifacts and we can use those to deploy an endpoint (inference code). To see this, look in the SageMaker console and you should see that a model has been created along with a link to the S3 location where the model artifacts have been stored.\n",
    "\n",
    "Deploying an endpoint is a lot like training the model with a few important differences. The first is that a deployed model doesn't change the model artifacts, so as you send it various testing instances the model won't change. Another difference is that since we aren't performing a fixed computation, as we were in the training step or while performing a batch transform, the compute instance that gets started stays running until we tell it to stop. This is important to note as if we forget and leave it running we will be charged the entire time.\n",
    "\n",
    "In other words **If you are no longer using a deployed endpoint, shut it down!**"
   ]
  },
  {
   "cell_type": "code",
   "execution_count": 31,
   "metadata": {},
   "outputs": [
    {
     "name": "stderr",
     "output_type": "stream",
     "text": [
      "Parameter image will be renamed to image_uri in SageMaker Python SDK v2.\n",
      "Using already existing model: xgboost-2020-10-13-20-15-00-222\n"
     ]
    },
    {
     "ename": "ClientError",
     "evalue": "An error occurred (ValidationException) when calling the CreateEndpoint operation: Cannot create already existing endpoint \"arn:aws:sagemaker:us-east-2:501357048875:endpoint/xgboost-2020-10-13-20-15-00-222\".",
     "output_type": "error",
     "traceback": [
      "\u001b[0;31m---------------------------------------------------------------------------\u001b[0m",
      "\u001b[0;31mClientError\u001b[0m                               Traceback (most recent call last)",
      "\u001b[0;32m<ipython-input-31-ccb632c8fb45>\u001b[0m in \u001b[0;36m<module>\u001b[0;34m\u001b[0m\n\u001b[0;32m----> 1\u001b[0;31m \u001b[0mxgb_predictor\u001b[0m \u001b[0;34m=\u001b[0m \u001b[0mxgb\u001b[0m\u001b[0;34m.\u001b[0m\u001b[0mdeploy\u001b[0m\u001b[0;34m(\u001b[0m\u001b[0minitial_instance_count\u001b[0m \u001b[0;34m=\u001b[0m \u001b[0;36m1\u001b[0m\u001b[0;34m,\u001b[0m \u001b[0minstance_type\u001b[0m \u001b[0;34m=\u001b[0m \u001b[0;34m'ml.m4.xlarge'\u001b[0m\u001b[0;34m)\u001b[0m\u001b[0;34m\u001b[0m\u001b[0;34m\u001b[0m\u001b[0m\n\u001b[0m",
      "\u001b[0;32m~/anaconda3/envs/python3/lib/python3.6/site-packages/sagemaker/estimator.py\u001b[0m in \u001b[0;36mdeploy\u001b[0;34m(self, initial_instance_count, instance_type, accelerator_type, endpoint_name, use_compiled_model, update_endpoint, wait, model_name, kms_key, data_capture_config, tags, **kwargs)\u001b[0m\n\u001b[1;32m    743\u001b[0m             \u001b[0mwait\u001b[0m\u001b[0;34m=\u001b[0m\u001b[0mwait\u001b[0m\u001b[0;34m,\u001b[0m\u001b[0;34m\u001b[0m\u001b[0;34m\u001b[0m\u001b[0m\n\u001b[1;32m    744\u001b[0m             \u001b[0mkms_key\u001b[0m\u001b[0;34m=\u001b[0m\u001b[0mkms_key\u001b[0m\u001b[0;34m,\u001b[0m\u001b[0;34m\u001b[0m\u001b[0;34m\u001b[0m\u001b[0m\n\u001b[0;32m--> 745\u001b[0;31m             \u001b[0mdata_capture_config\u001b[0m\u001b[0;34m=\u001b[0m\u001b[0mdata_capture_config\u001b[0m\u001b[0;34m,\u001b[0m\u001b[0;34m\u001b[0m\u001b[0;34m\u001b[0m\u001b[0m\n\u001b[0m\u001b[1;32m    746\u001b[0m         )\n\u001b[1;32m    747\u001b[0m \u001b[0;34m\u001b[0m\u001b[0m\n",
      "\u001b[0;32m~/anaconda3/envs/python3/lib/python3.6/site-packages/sagemaker/model.py\u001b[0m in \u001b[0;36mdeploy\u001b[0;34m(self, initial_instance_count, instance_type, accelerator_type, endpoint_name, update_endpoint, tags, kms_key, wait, data_capture_config)\u001b[0m\n\u001b[1;32m    579\u001b[0m                 \u001b[0mkms_key\u001b[0m\u001b[0;34m=\u001b[0m\u001b[0mkms_key\u001b[0m\u001b[0;34m,\u001b[0m\u001b[0;34m\u001b[0m\u001b[0;34m\u001b[0m\u001b[0m\n\u001b[1;32m    580\u001b[0m                 \u001b[0mwait\u001b[0m\u001b[0;34m=\u001b[0m\u001b[0mwait\u001b[0m\u001b[0;34m,\u001b[0m\u001b[0;34m\u001b[0m\u001b[0;34m\u001b[0m\u001b[0m\n\u001b[0;32m--> 581\u001b[0;31m                 \u001b[0mdata_capture_config_dict\u001b[0m\u001b[0;34m=\u001b[0m\u001b[0mdata_capture_config_dict\u001b[0m\u001b[0;34m,\u001b[0m\u001b[0;34m\u001b[0m\u001b[0;34m\u001b[0m\u001b[0m\n\u001b[0m\u001b[1;32m    582\u001b[0m             )\n\u001b[1;32m    583\u001b[0m \u001b[0;34m\u001b[0m\u001b[0m\n",
      "\u001b[0;32m~/anaconda3/envs/python3/lib/python3.6/site-packages/sagemaker/session.py\u001b[0m in \u001b[0;36mendpoint_from_production_variants\u001b[0;34m(self, name, production_variants, tags, kms_key, wait, data_capture_config_dict)\u001b[0m\n\u001b[1;32m   2903\u001b[0m \u001b[0;34m\u001b[0m\u001b[0m\n\u001b[1;32m   2904\u001b[0m             \u001b[0mself\u001b[0m\u001b[0;34m.\u001b[0m\u001b[0msagemaker_client\u001b[0m\u001b[0;34m.\u001b[0m\u001b[0mcreate_endpoint_config\u001b[0m\u001b[0;34m(\u001b[0m\u001b[0;34m**\u001b[0m\u001b[0mconfig_options\u001b[0m\u001b[0;34m)\u001b[0m\u001b[0;34m\u001b[0m\u001b[0;34m\u001b[0m\u001b[0m\n\u001b[0;32m-> 2905\u001b[0;31m         \u001b[0;32mreturn\u001b[0m \u001b[0mself\u001b[0m\u001b[0;34m.\u001b[0m\u001b[0mcreate_endpoint\u001b[0m\u001b[0;34m(\u001b[0m\u001b[0mendpoint_name\u001b[0m\u001b[0;34m=\u001b[0m\u001b[0mname\u001b[0m\u001b[0;34m,\u001b[0m \u001b[0mconfig_name\u001b[0m\u001b[0;34m=\u001b[0m\u001b[0mname\u001b[0m\u001b[0;34m,\u001b[0m \u001b[0mtags\u001b[0m\u001b[0;34m=\u001b[0m\u001b[0mtags\u001b[0m\u001b[0;34m,\u001b[0m \u001b[0mwait\u001b[0m\u001b[0;34m=\u001b[0m\u001b[0mwait\u001b[0m\u001b[0;34m)\u001b[0m\u001b[0;34m\u001b[0m\u001b[0;34m\u001b[0m\u001b[0m\n\u001b[0m\u001b[1;32m   2906\u001b[0m \u001b[0;34m\u001b[0m\u001b[0m\n\u001b[1;32m   2907\u001b[0m     \u001b[0;32mdef\u001b[0m \u001b[0mexpand_role\u001b[0m\u001b[0;34m(\u001b[0m\u001b[0mself\u001b[0m\u001b[0;34m,\u001b[0m \u001b[0mrole\u001b[0m\u001b[0;34m)\u001b[0m\u001b[0;34m:\u001b[0m\u001b[0;34m\u001b[0m\u001b[0;34m\u001b[0m\u001b[0m\n",
      "\u001b[0;32m~/anaconda3/envs/python3/lib/python3.6/site-packages/sagemaker/session.py\u001b[0m in \u001b[0;36mcreate_endpoint\u001b[0;34m(self, endpoint_name, config_name, tags, wait)\u001b[0m\n\u001b[1;32m   2420\u001b[0m \u001b[0;34m\u001b[0m\u001b[0m\n\u001b[1;32m   2421\u001b[0m         self.sagemaker_client.create_endpoint(\n\u001b[0;32m-> 2422\u001b[0;31m             \u001b[0mEndpointName\u001b[0m\u001b[0;34m=\u001b[0m\u001b[0mendpoint_name\u001b[0m\u001b[0;34m,\u001b[0m \u001b[0mEndpointConfigName\u001b[0m\u001b[0;34m=\u001b[0m\u001b[0mconfig_name\u001b[0m\u001b[0;34m,\u001b[0m \u001b[0mTags\u001b[0m\u001b[0;34m=\u001b[0m\u001b[0mtags\u001b[0m\u001b[0;34m\u001b[0m\u001b[0;34m\u001b[0m\u001b[0m\n\u001b[0m\u001b[1;32m   2423\u001b[0m         )\n\u001b[1;32m   2424\u001b[0m         \u001b[0;32mif\u001b[0m \u001b[0mwait\u001b[0m\u001b[0;34m:\u001b[0m\u001b[0;34m\u001b[0m\u001b[0;34m\u001b[0m\u001b[0m\n",
      "\u001b[0;32m~/anaconda3/envs/python3/lib/python3.6/site-packages/botocore/client.py\u001b[0m in \u001b[0;36m_api_call\u001b[0;34m(self, *args, **kwargs)\u001b[0m\n\u001b[1;32m    335\u001b[0m                     \"%s() only accepts keyword arguments.\" % py_operation_name)\n\u001b[1;32m    336\u001b[0m             \u001b[0;31m# The \"self\" in this scope is referring to the BaseClient.\u001b[0m\u001b[0;34m\u001b[0m\u001b[0;34m\u001b[0m\u001b[0;34m\u001b[0m\u001b[0m\n\u001b[0;32m--> 337\u001b[0;31m             \u001b[0;32mreturn\u001b[0m \u001b[0mself\u001b[0m\u001b[0;34m.\u001b[0m\u001b[0m_make_api_call\u001b[0m\u001b[0;34m(\u001b[0m\u001b[0moperation_name\u001b[0m\u001b[0;34m,\u001b[0m \u001b[0mkwargs\u001b[0m\u001b[0;34m)\u001b[0m\u001b[0;34m\u001b[0m\u001b[0;34m\u001b[0m\u001b[0m\n\u001b[0m\u001b[1;32m    338\u001b[0m \u001b[0;34m\u001b[0m\u001b[0m\n\u001b[1;32m    339\u001b[0m         \u001b[0m_api_call\u001b[0m\u001b[0;34m.\u001b[0m\u001b[0m__name__\u001b[0m \u001b[0;34m=\u001b[0m \u001b[0mstr\u001b[0m\u001b[0;34m(\u001b[0m\u001b[0mpy_operation_name\u001b[0m\u001b[0;34m)\u001b[0m\u001b[0;34m\u001b[0m\u001b[0;34m\u001b[0m\u001b[0m\n",
      "\u001b[0;32m~/anaconda3/envs/python3/lib/python3.6/site-packages/botocore/client.py\u001b[0m in \u001b[0;36m_make_api_call\u001b[0;34m(self, operation_name, api_params)\u001b[0m\n\u001b[1;32m    654\u001b[0m             \u001b[0merror_code\u001b[0m \u001b[0;34m=\u001b[0m \u001b[0mparsed_response\u001b[0m\u001b[0;34m.\u001b[0m\u001b[0mget\u001b[0m\u001b[0;34m(\u001b[0m\u001b[0;34m\"Error\"\u001b[0m\u001b[0;34m,\u001b[0m \u001b[0;34m{\u001b[0m\u001b[0;34m}\u001b[0m\u001b[0;34m)\u001b[0m\u001b[0;34m.\u001b[0m\u001b[0mget\u001b[0m\u001b[0;34m(\u001b[0m\u001b[0;34m\"Code\"\u001b[0m\u001b[0;34m)\u001b[0m\u001b[0;34m\u001b[0m\u001b[0;34m\u001b[0m\u001b[0m\n\u001b[1;32m    655\u001b[0m             \u001b[0merror_class\u001b[0m \u001b[0;34m=\u001b[0m \u001b[0mself\u001b[0m\u001b[0;34m.\u001b[0m\u001b[0mexceptions\u001b[0m\u001b[0;34m.\u001b[0m\u001b[0mfrom_code\u001b[0m\u001b[0;34m(\u001b[0m\u001b[0merror_code\u001b[0m\u001b[0;34m)\u001b[0m\u001b[0;34m\u001b[0m\u001b[0;34m\u001b[0m\u001b[0m\n\u001b[0;32m--> 656\u001b[0;31m             \u001b[0;32mraise\u001b[0m \u001b[0merror_class\u001b[0m\u001b[0;34m(\u001b[0m\u001b[0mparsed_response\u001b[0m\u001b[0;34m,\u001b[0m \u001b[0moperation_name\u001b[0m\u001b[0;34m)\u001b[0m\u001b[0;34m\u001b[0m\u001b[0;34m\u001b[0m\u001b[0m\n\u001b[0m\u001b[1;32m    657\u001b[0m         \u001b[0;32melse\u001b[0m\u001b[0;34m:\u001b[0m\u001b[0;34m\u001b[0m\u001b[0;34m\u001b[0m\u001b[0m\n\u001b[1;32m    658\u001b[0m             \u001b[0;32mreturn\u001b[0m \u001b[0mparsed_response\u001b[0m\u001b[0;34m\u001b[0m\u001b[0;34m\u001b[0m\u001b[0m\n",
      "\u001b[0;31mClientError\u001b[0m: An error occurred (ValidationException) when calling the CreateEndpoint operation: Cannot create already existing endpoint \"arn:aws:sagemaker:us-east-2:501357048875:endpoint/xgboost-2020-10-13-20-15-00-222\"."
     ]
    }
   ],
   "source": [
    "xgb_predictor = xgb.deploy(initial_instance_count = 1, instance_type = 'ml.m4.xlarge')"
   ]
  },
  {
   "cell_type": "markdown",
   "metadata": {},
   "source": [
    "### Testing the model (again)\n",
    "\n",
    "Now that we have deployed our endpoint, we can send the testing data to it and get back the inference results. We already did this earlier using the batch transform functionality of SageMaker, however, we will test our model again using the newly deployed endpoint so that we can make sure that it works properly and to get a bit of a feel for how the endpoint works.\n",
    "\n",
    "When using the created endpoint it is important to know that we are limited in the amount of information we can send in each call so we need to break the testing data up into chunks and then send each chunk. Also, we need to serialize our data before we send it to the endpoint to ensure that our data is transmitted properly. Fortunately, SageMaker can do the serialization part for us provided we tell it the format of our data."
   ]
  },
  {
   "cell_type": "code",
   "execution_count": 32,
   "metadata": {},
   "outputs": [],
   "source": [
    "from sagemaker.predictor import csv_serializer\n",
    "\n",
    "# We need to tell the endpoint what format the data we are sending is in so that SageMaker can perform the serialization.\n",
    "xgb_predictor.content_type = 'text/csv'\n",
    "xgb_predictor.serializer = csv_serializer"
   ]
  },
  {
   "cell_type": "code",
   "execution_count": 33,
   "metadata": {},
   "outputs": [],
   "source": [
    "# We split the data into chunks and send each chunk seperately, accumulating the results.\n",
    "\n",
    "def predict(data, rows=512):\n",
    "    split_array = np.array_split(data, int(data.shape[0] / float(rows) + 1))\n",
    "    predictions = ''\n",
    "    for array in split_array:\n",
    "        predictions = ','.join([predictions, xgb_predictor.predict(array).decode('utf-8')])\n",
    "    \n",
    "    return np.fromstring(predictions[1:], sep=',')"
   ]
  },
  {
   "cell_type": "code",
   "execution_count": 34,
   "metadata": {},
   "outputs": [],
   "source": [
    "test_X = pd.read_csv(os.path.join(data_dir, 'test.csv'), header=None).values\n",
    "\n",
    "predictions = predict(test_X)\n",
    "predictions = [round(num) for num in predictions]"
   ]
  },
  {
   "cell_type": "markdown",
   "metadata": {},
   "source": [
    "Lastly, we check to see what the accuracy of our model is."
   ]
  },
  {
   "cell_type": "code",
   "execution_count": 35,
   "metadata": {},
   "outputs": [
    {
     "data": {
      "text/plain": [
       "0.85784"
      ]
     },
     "execution_count": 35,
     "metadata": {},
     "output_type": "execute_result"
    }
   ],
   "source": [
    "from sklearn.metrics import accuracy_score\n",
    "accuracy_score(test_y, predictions)"
   ]
  },
  {
   "cell_type": "markdown",
   "metadata": {},
   "source": [
    "And the results here should agree with the model testing that we did earlier using the batch transform job.\n",
    "\n",
    "### Cleaning up\n",
    "\n",
    "Now that we've determined that deploying our model works as expected, we are going to shut it down. Remember that the longer the endpoint is left running, the greater the cost and since we have a bit more work to do before we are able to use our endpoint with our simple web app, we should shut everything down."
   ]
  },
  {
   "cell_type": "code",
   "execution_count": 36,
   "metadata": {},
   "outputs": [],
   "source": [
    "xgb_predictor.delete_endpoint()"
   ]
  },
  {
   "cell_type": "markdown",
   "metadata": {},
   "source": [
    "## Step 7: Putting our model to work\n",
    "\n",
    "As we've mentioned a few times now, our goal is to have our model deployed and then access it using a very simple web app. The intent is for this web app to take some user submitted data (a review), send it off to our endpoint (the model) and then display the result.\n",
    "\n",
    "However, there is a small catch. Currently the only way we can access the endpoint to send it data is using the SageMaker API. We can, if we wish, expose the actual URL that our model's endpoint is receiving data from, however, if we just send it data ourselves we will not get anything in return. This is because the endpoint created by SageMaker requires the entity accessing it have the correct permissions. So, we would need to somehow authenticate our web app with AWS.\n",
    "\n",
    "Having a website that authenticates to AWS seems a bit beyond the scope of this lesson so we will opt for an alternative approach. Namely, we will create a new endpoint which does not require authentication and which acts as a proxy for the SageMaker endpoint.\n",
    "\n",
    "As an additional constraint, we will try to avoid doing any data processing in the web app itself. Remember that when we constructed and tested our model we started with a movie review, then we simplified it by removing any html formatting and punctuation, then we constructed a bag of words embedding and the resulting vector is what we sent to our model. All of this needs to be done to our user input as well.\n",
    "\n",
    "Fortunately we can do all of this data processing in the backend, using Amazon's Lambda service.\n",
    "\n",
    "<img src=\"Web App Diagram.svg\">\n",
    "\n",
    "The diagram above gives an overview of how the various services will work together. On the far right is the model which we trained above and which will be deployed using SageMaker. On the far left is our web app that collects a user's movie review, sends it off and expects a positive or negative sentiment in return.\n",
    "\n",
    "In the middle is where some of the magic happens. We will construct a Lambda function, which you can think of as a straightforward Python function that can be executed whenever a specified event occurs. This Python function will do the data processing we need to perform on a user submitted review. In addition, we will give this function permission to send and recieve data from a SageMaker endpoint.\n",
    "\n",
    "Lastly, the method we will use to execute the Lambda function is a new endpoint that we will create using API Gateway. This endpoint will be a url that listens for data to be sent to it. Once it gets some data it will pass that data on to the Lambda function and then return whatever the Lambda function returns. Essentially it will act as an interface that lets our web app communicate with the Lambda function.\n",
    "\n",
    "### Processing a single review\n",
    "\n",
    "For now, suppose we are given a movie review by our user in the form of a string, like so:"
   ]
  },
  {
   "cell_type": "code",
   "execution_count": 37,
   "metadata": {},
   "outputs": [],
   "source": [
    "test_review = \"Nothing but a disgusting materialistic pageant of glistening abed remote control greed zombies, totally devoid of any heart or heat. A romantic comedy that has zero romantic chemestry and zero laughs!\""
   ]
  },
  {
   "cell_type": "markdown",
   "metadata": {},
   "source": [
    "How do we go from this string to the bag of words feature vector that is expected by our model?\n",
    "\n",
    "If we recall at the beginning of this notebook, the first step is to remove any unnecessary characters using the `review_to_words` method. Remember that we intentionally did this in a very simplistic way. This is because we are going to have to copy this method to our (eventual) Lambda function (we will go into more detail later) and this means it needs to be rather simplistic."
   ]
  },
  {
   "cell_type": "code",
   "execution_count": 38,
   "metadata": {},
   "outputs": [
    {
     "name": "stdout",
     "output_type": "stream",
     "text": [
      "nothing but a disgusting materialistic pageant of glistening abed remote control greed zombies totally devoid of any heart or heat a romantic comedy that has zero romantic chemestry and zero laughs\n"
     ]
    }
   ],
   "source": [
    "test_words = review_to_words(test_review)\n",
    "print(test_words)"
   ]
  },
  {
   "cell_type": "markdown",
   "metadata": {},
   "source": [
    "Next, we need to construct a bag of words embedding of the `test_words` string. To do this, remember that a bag of words embedding uses a `vocabulary` consisting of the most frequently appearing words in a set of documents. Then, for each word in the vocabulary we record the number of times that word appears in `test_words`. We constructed the `vocabulary` earlier using the training set for our problem so encoding `test_words` is relatively straightforward."
   ]
  },
  {
   "cell_type": "code",
   "execution_count": 39,
   "metadata": {},
   "outputs": [],
   "source": [
    "def bow_encoding(words, vocabulary):\n",
    "    bow = [0] * len(vocabulary) # Start by setting the count for each word in the vocabulary to zero.\n",
    "    for word in words.split():  # For each word in the string\n",
    "        if word in vocabulary:  # If the word is one that occurs in the vocabulary, increase its count.\n",
    "            bow[vocabulary[word]] += 1\n",
    "    return bow"
   ]
  },
  {
   "cell_type": "code",
   "execution_count": 41,
   "metadata": {},
   "outputs": [
    {
     "name": "stdout",
     "output_type": "stream",
     "text": [
      "[0, 0, 0, 0, 0, 0, 0, 0, 0, 0, 0, 0, 0, 0, 0, 0, 0, 0, 0, 0, 0, 0, 0, 0, 0, 0, 0, 0, 0, 0, 0, 0, 0, 0, 0, 0, 0, 0, 0, 0, 0, 0, 0, 0, 0, 0, 0, 0, 0, 0, 0, 0, 0, 0, 0, 0, 0, 0, 0, 0, 0, 0, 0, 0, 0, 0, 0, 0, 0, 0, 0, 0, 0, 0, 0, 0, 0, 0, 0, 0, 0, 0, 0, 0, 0, 0, 0, 0, 0, 0, 0, 0, 0, 0, 0, 0, 0, 0, 0, 0, 0, 0, 0, 0, 0, 0, 0, 0, 0, 0, 0, 0, 0, 0, 0, 0, 0, 0, 0, 0, 0, 0, 0, 0, 0, 0, 0, 0, 0, 0, 0, 0, 0, 0, 0, 0, 0, 0, 0, 0, 0, 0, 0, 0, 0, 0, 0, 0, 0, 0, 0, 0, 0, 0, 0, 0, 0, 0, 0, 0, 0, 0, 0, 0, 0, 0, 0, 0, 0, 0, 0, 0, 0, 0, 0, 0, 0, 0, 0, 0, 0, 0, 0, 0, 0, 0, 0, 0, 0, 0, 0, 0, 0, 0, 0, 0, 0, 0, 0, 0, 0, 0, 0, 0, 0, 0, 0, 0, 0, 0, 0, 0, 0, 0, 0, 0, 0, 0, 0, 0, 0, 0, 0, 0, 0, 0, 1, 0, 0, 0, 0, 0, 0, 0, 0, 0, 0, 0, 0, 0, 0, 0, 0, 0, 0, 0, 0, 0, 0, 0, 0, 0, 0, 0, 0, 0, 1, 0, 0, 0, 0, 0, 0, 0, 0, 0, 0, 0, 0, 0, 0, 0, 0, 0, 0, 0, 0, 0, 0, 0, 0, 0, 0, 0, 0, 0, 0, 0, 0, 0, 0, 0, 0, 0, 0, 0, 0, 0, 0, 0, 0, 0, 0, 0, 0, 0, 0, 0, 0, 0, 0, 0, 0, 0, 0, 0, 0, 0, 0, 0, 0, 0, 0, 0, 0, 0, 0, 0, 0, 0, 0, 0, 0, 0, 0, 0, 0, 0, 0, 0, 0, 0, 0, 0, 0, 0, 0, 0, 0, 0, 0, 0, 0, 0, 0, 0, 0, 0, 0, 0, 0, 0, 0, 0, 0, 0, 0, 0, 0, 0, 0, 0, 0, 0, 0, 0, 0, 0, 0, 0, 0, 0, 0, 0, 0, 0, 0, 0, 0, 0, 0, 0, 0, 0, 0, 0, 0, 0, 0, 0, 0, 0, 0, 0, 0, 0, 0, 0, 0, 0, 0, 0, 0, 0, 0, 0, 0, 0, 0, 0, 0, 0, 0, 0, 0, 0, 0, 0, 0, 0, 0, 0, 0, 0, 0, 0, 0, 0, 0, 0, 0, 0, 0, 0, 0, 0, 0, 0, 0, 0, 0, 0, 0, 0, 0, 0, 0, 0, 0, 0, 0, 0, 0, 0, 0, 0, 0, 0, 0, 0, 0, 0, 0, 0, 0, 0, 0, 0, 0, 0, 0, 0, 0, 0, 0, 0, 0, 0, 0, 0, 0, 0, 0, 0, 0, 0, 0, 0, 0, 0, 0, 0, 0, 0, 0, 0, 0, 0, 0, 0, 0, 0, 0, 0, 0, 0, 0, 0, 0, 0, 0, 0, 0, 0, 0, 0, 0, 0, 0, 0, 0, 0, 0, 0, 0, 0, 0, 0, 0, 0, 0, 0, 0, 0, 0, 0, 0, 0, 0, 0, 0, 0, 0, 0, 0, 0, 0, 0, 0, 0, 0, 0, 0, 0, 0, 0, 0, 0, 0, 0, 0, 0, 0, 0, 0, 0, 0, 0, 0, 0, 0, 0, 0, 0, 0, 0, 0, 0, 0, 0, 0, 0, 0, 0, 0, 0, 0, 0, 0, 0, 0, 0, 0, 0, 0, 0, 0, 0, 0, 0, 0, 0, 0, 0, 0, 0, 0, 0, 0, 0, 0, 0, 0, 0, 0, 0, 0, 0, 0, 0, 0, 0, 0, 0, 0, 0, 1, 0, 0, 0, 0, 0, 0, 0, 0, 0, 0, 0, 0, 0, 0, 0, 0, 0, 0, 0, 0, 0, 0, 0, 0, 0, 0, 0, 0, 0, 0, 0, 0, 0, 0, 0, 0, 0, 0, 0, 0, 0, 0, 0, 0, 0, 0, 0, 0, 0, 0, 0, 0, 0, 0, 0, 0, 0, 0, 0, 0, 0, 0, 0, 0, 0, 0, 0, 0, 0, 0, 0, 0, 0, 0, 0, 0, 0, 0, 0, 0, 0, 0, 0, 0, 0, 0, 0, 0, 0, 0, 0, 0, 0, 0, 0, 0, 0, 0, 0, 0, 0, 0, 0, 0, 0, 0, 0, 0, 0, 0, 0, 0, 0, 0, 0, 0, 0, 0, 0, 0, 0, 0, 0, 0, 0, 0, 0, 0, 0, 0, 0, 0, 0, 0, 0, 0, 0, 0, 0, 0, 0, 0, 0, 0, 0, 0, 0, 0, 0, 0, 0, 0, 0, 0, 0, 0, 0, 0, 0, 0, 0, 0, 0, 0, 0, 0, 0, 0, 0, 0, 0, 0, 0, 0, 0, 0, 0, 0, 0, 0, 0, 0, 0, 0, 0, 0, 0, 0, 0, 0, 0, 0, 0, 0, 0, 0, 0, 0, 0, 0, 0, 0, 0, 0, 0, 0, 0, 0, 0, 0, 0, 0, 0, 0, 0, 0, 0, 0, 0, 0, 0, 0, 0, 0, 0, 0, 0, 0, 0, 0, 0, 0, 0, 0, 0, 0, 0, 0, 0, 0, 0, 0, 0, 0, 0, 0, 0, 0, 0, 0, 0, 0, 0, 1, 0, 0, 0, 0, 0, 0, 0, 0, 0, 0, 0, 0, 0, 0, 0, 0, 0, 0, 0, 0, 0, 0, 0, 0, 0, 0, 0, 0, 0, 0, 0, 0, 0, 0, 0, 0, 0, 0, 0, 0, 0, 0, 0, 0, 0, 0, 0, 0, 0, 0, 0, 0, 0, 0, 0, 0, 0, 0, 0, 0, 0, 0, 0, 0, 0, 0, 0, 0, 0, 0, 0, 0, 0, 0, 0, 0, 0, 0, 0, 0, 0, 0, 0, 0, 0, 0, 1, 0, 0, 0, 0, 0, 0, 0, 0, 0, 0, 0, 0, 0, 0, 0, 0, 0, 0, 0, 0, 0, 0, 0, 0, 0, 0, 0, 0, 0, 0, 0, 0, 0, 0, 0, 0, 0, 0, 0, 0, 0, 0, 0, 0, 0, 0, 0, 0, 0, 0, 0, 0, 0, 0, 0, 0, 0, 0, 0, 0, 0, 0, 0, 0, 0, 0, 0, 0, 0, 0, 0, 0, 0, 0, 0, 0, 0, 0, 0, 0, 0, 0, 0, 0, 0, 0, 0, 0, 0, 0, 0, 0, 0, 0, 0, 0, 0, 0, 0, 0, 0, 0, 0, 0, 0, 0, 0, 0, 0, 0, 0, 0, 0, 0, 0, 0, 0, 0, 0, 0, 0, 0, 0, 0, 0, 0, 0, 0, 0, 0, 0, 0, 0, 0, 0, 0, 0, 0, 0, 0, 0, 0, 0, 0, 0, 0, 0, 0, 0, 0, 0, 0, 0, 0, 0, 0, 0, 0, 0, 0, 0, 0, 0, 0, 0, 0, 0, 0, 0, 0, 0, 0, 0, 0, 0, 0, 0, 0, 0, 0, 0, 0, 0, 0, 0, 0, 0, 0, 0, 0, 0, 0, 0, 0, 0, 0, 0, 0, 0, 0, 0, 0, 0, 0, 0, 0, 0, 0, 0, 0, 0, 0, 0, 0, 0, 0, 0, 0, 0, 0, 0, 0, 0, 0, 0, 0, 0, 0, 0, 0, 0, 0, 0, 0, 0, 0, 0, 0, 0, 0, 0, 0, 0, 0, 0, 0, 0, 0, 0, 0, 0, 0, 1, 0, 0, 0, 0, 0, 0, 0, 0, 0, 0, 0, 0, 0, 0, 0, 0, 0, 0, 0, 0, 0, 0, 0, 0, 0, 0, 0, 0, 0, 0, 0, 0, 0, 0, 0, 0, 0, 0, 0, 0, 0, 0, 0, 0, 0, 0, 0, 0, 0, 0, 0, 0, 0, 0, 0, 1, 0, 0, 0, 0, 0, 0, 0, 0, 0, 0, 0, 0, 0, 0, 0, 0, 0, 0, 0, 0, 0, 0, 0, 0, 0, 0, 0, 0, 0, 0, 0, 0, 0, 0, 0, 0, 0, 0, 0, 0, 0, 0, 0, 0, 0, 0, 0, 0, 0, 0, 0, 0, 0, 0, 0, 0, 0, 0, 0, 0, 0, 0, 0, 0, 0, 0, 0, 0, 0, 0, 0, 0, 0, 0, 0, 0, 0, 0, 0, 0, 0, 0, 0, 0, 0, 0, 0, 0, 0, 0, 0, 0, 0, 0, 0, 0, 0, 0, 0, 0, 0, 0, 0, 0, 0, 0, 0, 0, 0, 0, 0, 0, 0, 0, 0, 0, 0, 0, 0, 0, 0, 0, 0, 0, 0, 0, 0, 0, 0, 0, 0, 0, 0, 0, 0, 0, 0, 0, 0, 0, 0, 0, 0, 0, 0, 0, 0, 0, 0, 0, 0, 0, 0, 0, 0, 0, 0, 0, 0, 0, 0, 0, 0, 0, 0, 0, 0, 0, 0, 0, 0, 0, 0, 0, 0, 0, 0, 0, 0, 0, 0, 0, 0, 0, 0, 0, 0, 0, 0, 0, 0, 0, 0, 0, 0, 0, 0, 0, 0, 0, 0, 0, 0, 0, 0, 0, 0, 0, 0, 0, 0, 0, 0, 0, 0, 0, 0, 0, 0, 0, 0, 0, 0, 0, 0, 0, 0, 0, 0, 0, 0, 0, 0, 0, 0, 0, 0, 0, 0, 0, 0, 0, 0, 0, 0, 0, 0, 0, 0, 0, 0, 0, 0, 0, 0, 0, 0, 0, 0, 0, 0, 0, 0, 0, 0, 0, 0, 0, 0, 0, 0, 0, 0, 0, 0, 0, 0, 0, 0, 0, 0, 0, 0, 0, 0, 0, 0, 0, 0, 0, 0, 0, 0, 0, 0, 0, 0, 0, 0, 0, 0, 0, 0, 0, 0, 0, 0, 0, 0, 0, 0, 0, 0, 0, 0, 0, 0, 0, 0, 0, 0, 0, 0, 0, 0, 0, 0, 0, 0, 0, 0, 0, 0, 0, 0, 0, 0, 0, 0, 0, 0, 0, 0, 0, 0, 0, 0, 0, 0, 0, 0, 0, 0, 0, 0, 0, 0, 0, 0, 0, 0, 0, 0, 0, 0, 0, 0, 0, 0, 0, 0, 0, 0, 0, 0, 0, 0, 0, 0, 0, 0, 0, 0, 0, 0, 0, 0, 0, 0, 0, 0, 0, 0, 0, 0, 0, 0, 0, 0, 0, 0, 0, 0, 0, 0, 0, 0, 0, 0, 0, 0, 0, 0, 0, 0, 0, 0, 0, 0, 0, 0, 0, 0, 0, 0, 0, 0, 0, 0, 0, 0, 0, 0, 0, 0, 0, 0, 0, 0, 0, 0, 0, 0, 0, 0, 0, 0, 0, 0, 0, 0, 0, 0, 0, 0, 0, 0, 0, 0, 0, 0, 0, 0, 0, 0, 0, 0, 0, 0, 0, 0, 0, 0, 0, 0, 0, 0, 0, 0, 0, 0, 0, 0, 0, 0, 0, 0, 0, 0, 0, 0, 0, 0, 0, 0, 0, 0, 0, 0, 0, 0, 0, 0, 0, 0, 0, 0, 0, 0, 0, 0, 0, 0, 0, 0, 0, 0, 0, 0, 0, 0, 0, 0, 0, 0, 0, 0, 0, 0, 0, 0, 0, 0, 0, 0, 0, 0, 0, 0, 0, 0, 0, 0, 0, 0, 0, 0, 0, 0, 0, 0, 0, 0, 0, 0, 0, 0, 0, 0, 0, 0, 0, 0, 0, 0, 0, 0, 0, 0, 0, 0, 0, 0, 0, 0, 0, 0, 0, 0, 0, 0, 0, 0, 0, 0, 0, 0, 0, 0, 0, 0, 0, 0, 0, 0, 0, 0, 0, 0, 0, 0, 0, 0, 0, 0, 0, 0, 0, 0, 0, 0, 0, 0, 0, 0, 0, 0, 0, 0, 0, 0, 0, 0, 0, 0, 0, 0, 0, 0, 0, 0, 0, 0, 0, 0, 0, 0, 0, 0, 0, 0, 0, 0, 0, 0, 0, 0, 0, 0, 0, 0, 0, 0, 0, 0, 0, 0, 0, 0, 0, 0, 0, 0, 0, 0, 0, 0, 0, 0, 0, 0, 0, 0, 0, 0, 0, 0, 0, 0, 0, 0, 1, 0, 0, 0, 0, 0, 0, 0, 0, 0, 0, 0, 0, 0, 0, 0, 0, 0, 0, 0, 0, 0, 0, 0, 0, 0, 0, 0, 0, 0, 0, 0, 0, 0, 0, 0, 0, 0, 0, 0, 0, 0, 0, 0, 0, 0, 0, 0, 0, 0, 0, 0, 0, 0, 0, 0, 0, 0, 0, 0, 0, 0, 0, 0, 0, 0, 0, 0, 0, 0, 0, 0, 0, 0, 0, 1, 0, 0, 0, 0, 0, 0, 0, 0, 0, 0, 0, 0, 0, 0, 0, 0, 0, 0, 0, 0, 1, 0, 0, 1, 0, 0, 0, 0, 0, 0, 0, 0, 0, 0, 0, 0, 0, 0, 0, 0, 0, 0, 0, 0, 0, 0, 0, 0, 0, 0, 0, 0, 0, 0, 0, 0, 0, 0, 0, 0, 0, 0, 0, 0, 0, 0, 0, 0, 0, 0, 0, 0, 0, 0, 0, 0, 0, 0, 0, 0, 0, 0, 0, 0, 0, 0, 0, 0, 0, 0, 0, 0, 0, 0, 0, 0, 0, 0, 0, 0, 0, 0, 0, 0, 0, 0, 0, 0, 0, 0, 0, 0, 0, 0, 0, 0, 0, 0, 0, 0, 0, 0, 0, 0, 0, 0, 0, 0, 0, 0, 0, 0, 0, 0, 0, 0, 0, 0, 0, 0, 0, 0, 0, 0, 0, 0, 0, 0, 0, 0, 0, 0, 0, 0, 0, 0, 0, 0, 0, 0, 0, 0, 0, 0, 0, 0, 0, 0, 0, 0, 0, 0, 0, 0, 0, 0, 0, 0, 0, 0, 0, 0, 0, 0, 0, 0, 0, 0, 0, 0, 0, 0, 0, 0, 0, 0, 0, 0, 0, 0, 0, 0, 0, 0, 0, 0, 0, 0, 0, 0, 0, 0, 0, 0, 0, 0, 0, 0, 0, 0, 0, 0, 0, 0, 0, 0, 0, 0, 0, 0, 0, 0, 0, 0, 0, 0, 0, 0, 0, 0, 0, 0, 0, 0, 0, 0, 0, 0, 0, 0, 0, 0, 0, 0, 0, 0, 0, 0, 0, 0, 0, 0, 0, 0, 0, 0, 0, 0, 0, 0, 0, 0, 0, 0, 0, 0, 0, 0, 0, 0, 0, 0, 0, 0, 0, 0, 0, 0, 0, 0, 0, 0, 0, 0, 0, 0, 0, 0, 0, 0, 0, 0, 0, 0, 0, 0, 0, 0, 0, 0, 0, 0, 0, 0, 0, 0, 0, 0, 0, 0, 0, 0, 0, 0, 0, 0, 0, 0, 0, 0, 0, 0, 0, 0, 0, 0, 0, 0, 0, 0, 0, 0, 0, 0, 0, 0, 0, 0, 0, 0, 0, 0, 0, 0, 0, 0, 0, 0, 0, 0, 0, 0, 0, 0, 0, 0, 0, 0, 0, 0, 0, 0, 0, 0, 0, 0, 0, 0, 0, 0, 0, 0, 0, 0, 0, 0, 0, 0, 0, 0, 0, 0, 0, 0, 0, 0, 0, 0, 0, 0, 0, 0, 0, 0, 0, 0, 0, 0, 0, 0, 0, 0, 0, 0, 0, 0, 0, 0, 0, 0, 0, 0, 0, 0, 0, 0, 0, 0, 0, 0, 0, 0, 0, 0, 0, 0, 0, 0, 0, 0, 0, 0, 0, 0, 0, 0, 0, 0, 0, 0, 0, 0, 0, 0, 0, 0, 0, 0, 0, 0, 0, 0, 0, 0, 0, 0, 0, 0, 0, 0, 0, 0, 0, 0, 0, 0, 0, 0, 0, 0, 0, 0, 0, 0, 0, 0, 0, 0, 0, 0, 1, 0, 0, 0, 0, 0, 0, 0, 0, 0, 0, 0, 0, 0, 0, 0, 0, 0, 0, 0, 0, 0, 0, 0, 0, 0, 0, 0, 0, 0, 0, 0, 0, 0, 0, 0, 0, 0, 0, 0, 0, 0, 0, 0, 0, 0, 0, 0, 0, 0, 0, 0, 0, 0, 0, 0, 0, 0, 0, 0, 0, 0, 0, 0, 0, 0, 0, 0, 0, 0, 0, 0, 0, 0, 0, 0, 0, 0, 0, 0, 0, 0, 0, 0, 0, 0, 0, 0, 0, 0, 0, 0, 0, 0, 0, 0, 0, 0, 0, 0, 0, 0, 0, 0, 0, 0, 0, 0, 0, 0, 0, 0, 0, 0, 0, 0, 0, 0, 0, 0, 0, 0, 0, 0, 0, 0, 0, 0, 0, 0, 0, 0, 0, 0, 0, 0, 0, 0, 0, 0, 0, 0, 0, 0, 0, 0, 0, 0, 0, 0, 0, 0, 0, 0, 0, 0, 0, 0, 0, 0, 0, 0, 0, 0, 0, 0, 0, 0, 0, 0, 0, 0, 0, 0, 0, 0, 0, 0, 0, 0, 0, 0, 0, 0, 0, 0, 0, 0, 0, 0, 0, 0, 0, 0, 0, 0, 0, 0, 0, 0, 0, 0, 0, 0, 0, 0, 0, 0, 0, 0, 0, 0, 0, 0, 0, 0, 0, 0, 0, 0, 0, 0, 0, 0, 0, 0, 0, 0, 0, 0, 0, 0, 0, 0, 0, 0, 0, 0, 0, 0, 0, 0, 0, 0, 0, 0, 0, 0, 0, 0, 0, 0, 0, 0, 0, 0, 0, 0, 0, 0, 0, 0, 0, 0, 0, 0, 0, 0, 0, 0, 0, 0, 0, 0, 0, 0, 0, 0, 0, 0, 0, 0, 0, 0, 0, 0, 0, 0, 0, 0, 0, 0, 0, 0, 0, 0, 0, 0, 0, 0, 0, 0, 0, 0, 0, 0, 0, 0, 0, 0, 0, 0, 0, 0, 0, 0, 0, 0, 0, 0, 0, 0, 0, 0, 0, 0, 0, 0, 0, 0, 0, 0, 0, 0, 0, 0, 0, 0, 0, 0, 0, 0, 0, 0, 0, 0, 0, 0, 0, 0, 0, 0, 0, 0, 0, 0, 0, 0, 0, 0, 0, 0, 0, 0, 0, 0, 0, 0, 0, 0, 0, 0, 0, 0, 0, 0, 0, 0, 0, 0, 0, 0, 0, 0, 0, 0, 0, 0, 0, 0, 0, 0, 0, 0, 0, 0, 0, 0, 0, 0, 0, 0, 0, 0, 0, 0, 0, 0, 0, 0, 0, 0, 0, 0, 0, 0, 0, 0, 0, 0, 0, 0, 0, 0, 0, 0, 0, 0, 0, 0, 0, 0, 0, 0, 0, 0, 0, 0, 0, 0, 0, 0, 0, 0, 0, 0, 0, 0, 0, 0, 0, 0, 0, 0, 0, 0, 0, 0, 0, 0, 0, 0, 0, 0, 0, 0, 0, 0, 0, 0, 0, 0, 0, 0, 0, 0, 0, 0, 0, 0, 0, 0, 0, 0, 0, 0, 0, 0, 0, 0, 0, 0, 0, 0, 0, 0, 0, 0, 0, 0, 0, 0, 0, 0, 0, 0, 0, 0, 0, 0, 0, 0, 0, 1, 0, 0, 0, 0, 0, 0, 0, 0, 0, 0, 0, 0, 0, 0, 0, 0, 0, 0, 0, 0, 0, 0, 0, 0, 0, 0, 0, 0, 0, 0, 0, 0, 0, 0, 0, 2, 0, 0, 0, 0, 0, 0, 0, 0, 0, 0, 0, 0, 0, 0, 0, 0, 0, 0, 0, 0, 0, 0, 0, 0, 0, 0, 0, 0, 0, 0, 0, 0, 0, 0, 0, 0, 0, 0, 0, 0, 1, 0, 0, 0, 0, 0, 0, 0, 0, 0, 0, 0, 0, 0, 0, 0, 0, 0, 0, 0, 0, 0, 0, 0, 0, 0, 0, 0, 0, 0, 0, 0, 0, 0, 0, 0, 0, 0, 0, 0, 0, 0, 0, 0, 0, 0, 0, 0, 0, 0, 0, 0, 0, 0, 0, 0, 0, 0, 0, 0, 0, 0, 0, 0, 0, 0, 0, 0, 0, 0, 0, 0, 0, 0, 0, 0, 0, 0, 0, 0, 0, 0, 0, 0, 0, 0, 0, 0, 0, 0, 0, 0, 0, 0, 0, 0, 0, 0, 0, 0, 0, 0, 0, 0, 0, 0, 0, 0, 0, 0, 0, 0, 0, 0, 0, 0, 0, 0, 0, 0, 0, 0, 0, 0, 0, 0, 0, 0, 0, 0, 0, 0, 0, 0, 0, 0, 0, 0, 0, 0, 0, 0, 0, 0, 0, 0, 0, 0, 0, 0, 0, 0, 0, 0, 0, 0, 0, 0, 0, 0, 0, 0, 0, 0, 0, 0, 0, 0, 0, 0, 0, 0, 0, 0, 0, 0, 0, 0, 0, 0, 0, 0, 0, 0, 0, 0, 0, 0, 0, 0, 0, 0, 0, 0, 0, 0, 0, 0, 0, 0, 0, 0, 0, 0, 0, 0, 0, 0, 0, 0, 0, 0, 0, 0, 0, 0, 0, 0, 0, 0, 0, 0, 0, 0, 0, 0, 0, 0, 0, 0, 0, 0, 0, 0, 0, 0, 0, 0, 0, 0, 0, 0, 0, 0, 0, 0, 0, 0, 0, 0, 0, 0, 0, 0, 0, 0, 0, 0, 0, 0, 0, 0, 0, 0, 0, 0, 0, 0, 0, 0, 0, 0, 0, 0, 0, 0, 0, 0, 0, 0, 0, 0, 0, 0, 0, 0, 0, 0, 0, 0, 0, 0, 0, 0, 0, 0, 0, 0, 0, 0, 0, 0, 0, 0, 0, 0, 0, 0, 0, 0, 0, 0, 0, 0, 0, 0, 0, 0, 0, 0, 0, 0, 0, 0, 0, 0, 0, 0, 0, 0, 0, 0, 0, 0, 0, 0, 0, 0, 0, 0, 0, 0, 0, 0, 0, 0, 0, 0, 0, 0, 0, 0, 0, 0, 0, 0, 0, 0, 0, 0, 0, 0, 0, 0, 0, 0, 0, 0, 0, 0, 0, 0, 0, 0, 0, 0, 0, 0, 0, 0, 0, 0, 0, 0, 0, 0, 0, 0, 0, 0, 0, 0, 0, 0, 0, 0, 0, 0, 0, 0, 0, 0, 0, 0, 0, 0, 0, 0, 0, 0, 0, 0, 0, 0, 0, 0, 0, 0, 0, 0, 0, 0, 0, 0, 0, 0, 0, 0, 0, 0, 0, 0, 0, 0, 0, 0, 0, 0, 0, 0, 0, 0, 0, 0, 0, 0, 0, 0, 0, 0, 0, 0, 0, 0, 0, 0, 0, 0, 0, 0, 0, 0, 0, 0, 0, 0, 0, 0, 0, 0, 0, 0, 0, 0, 0, 0, 0, 0, 0, 0, 0, 0, 0, 0, 0, 0, 0, 0, 0, 0, 0, 0, 0, 0, 0, 0, 0, 0, 1, 0, 0, 0, 0, 0, 0, 0, 0, 0, 0, 0, 0, 0, 0, 0, 0, 0, 0, 0, 0, 0, 0, 0, 0, 0, 0, 0, 0, 0, 0, 0, 0, 0, 0, 0, 0, 0, 0, 0, 0, 0, 0, 0, 0, 0, 0, 0, 0, 0, 0, 0, 0, 0, 0, 0, 0, 0, 0, 0, 0, 0, 0, 0, 0, 0, 0, 0, 0, 0, 0, 0, 0, 0, 0, 0, 0, 0, 0, 0, 0, 0, 0, 0, 0, 0, 0, 0, 0, 0, 0, 0, 0, 0, 0, 0, 0, 0, 0, 0, 0, 0, 0, 0, 0, 0, 0, 0, 0, 0, 0, 2, 0, 0, 0, 0, 0, 0, 0, 0, 0, 0, 0, 0, 0, 0, 0, 0, 0, 0, 0, 0, 0, 0, 0, 0, 0, 0, 0, 0, 0, 0, 0, 0, 0, 0, 0, 0, 0, 0, 0, 0, 0, 0, 0, 0, 0, 0, 0, 0, 0, 0, 0, 0, 0, 0, 0, 0, 0, 0, 0, 0, 0, 0, 0, 0, 0, 0, 0, 0, 0, 0, 0, 0, 0, 0, 0, 0, 0, 0, 0, 0, 0, 0, 0, 0, 0, 0, 0, 0, 0, 0, 0, 0, 0, 0, 0, 0, 0, 0, 0, 0, 0, 0, 0, 0, 0, 0, 0, 0, 0, 0, 0, 0, 0, 0, 0, 0, 0, 0, 0, 0, 0, 0, 0, 0, 0, 0, 0, 0, 0, 0, 0, 0, 0, 0, 0, 0, 0, 0, 0, 0, 0, 0, 0, 0, 0, 0, 0, 0, 0, 0, 0, 0, 0, 0, 0, 0, 0, 0, 0, 0, 0, 0, 0, 0, 0, 0, 0, 0, 0, 0, 0, 0, 0, 0, 0, 0, 0, 0, 0, 0, 0, 0, 0, 0, 0, 0, 0, 0, 0, 0, 0, 0, 0, 0, 0, 0, 0, 0, 0, 0, 0, 0, 0, 0, 0, 0, 0, 0, 0, 0, 0, 0, 0, 0, 0, 0, 0, 0, 0, 0, 0, 0, 0, 0, 0, 0, 0, 0, 0, 0, 0, 0, 0, 0, 0, 0, 0, 0, 0, 0, 0, 0, 0, 0, 0, 0, 0, 0, 0, 0, 0, 0, 0, 0, 0, 0, 0, 0, 0, 0, 0, 0, 0, 0, 0, 0, 0, 0, 0, 0, 0, 0, 0, 0, 0, 0, 0, 0, 0, 0, 0, 0, 0, 0, 0, 0, 0, 0, 0, 0, 0, 0, 0, 0, 0, 0, 0, 0, 0, 0, 0, 0, 0, 0, 0, 0, 0, 0, 0, 0, 0, 0, 0, 0, 0, 0, 0, 0, 0, 0, 0, 0, 0, 0, 0, 0, 0, 0, 0, 0, 0, 0, 0, 0, 0, 0, 0, 0, 0, 0, 0, 0, 0, 0, 0, 0, 0, 0, 0, 0, 0, 0, 0, 0, 0, 0, 0, 0, 0, 0, 0, 0, 0, 0, 0, 0, 0, 0, 0, 0, 0, 0, 0, 0, 0, 0, 0, 0, 0, 0, 0, 0, 0, 0, 0, 0, 0, 0, 0, 0, 0, 0, 0, 0, 0, 0, 0, 0, 0, 0, 0, 0, 0, 0, 0, 0, 0, 0, 0, 0, 0, 0, 0, 0, 0, 0, 0, 0, 0, 0, 0, 0, 0, 0, 0, 0, 0, 0, 0, 0, 0, 0, 0, 0, 0, 0, 0, 0, 0, 0, 0, 0, 0, 0, 0, 0, 0, 0, 0, 0, 0, 0, 0, 0, 0, 0, 0, 0, 0, 0, 0, 0, 0, 0, 0, 0, 0, 0, 0, 0, 0, 0, 0, 0, 0, 0, 0, 0, 0, 0, 0, 0, 0, 0, 0, 0, 0, 0, 0, 0, 0, 0, 0, 0, 0, 0, 0, 0, 0, 0, 0, 0, 0, 0, 0, 0, 0, 0, 0, 0, 0, 0, 0, 0, 0, 0, 0, 0, 0, 0, 0, 0, 0, 0, 0, 0, 0, 0, 0, 0, 0, 0, 0, 0, 0, 0, 0, 0, 0, 0, 0, 0, 0, 0, 0, 0, 0, 0, 0, 0, 0, 0, 0, 0, 0, 0, 0, 0, 0, 0, 0, 0, 0, 0, 0, 0, 0, 0, 0, 0, 0, 0, 0, 0, 0, 0, 0, 0, 0, 0, 0, 0, 0, 0, 0, 0, 0, 0, 0, 0, 0, 0, 0, 0, 0, 0, 0, 0, 0, 0, 0, 0, 0, 0, 0, 0, 0, 0, 0, 0, 0, 0, 0, 0, 0, 0, 0, 0, 0, 0, 0, 0, 0, 0, 0, 0, 0, 0, 0, 0, 0, 0, 0, 0, 0, 0, 0, 0, 0, 0, 0, 0, 0, 0, 0, 0, 0, 0, 0, 0, 0, 0, 0, 0, 0, 0, 0, 0, 0, 0, 0, 0, 0, 0, 0, 0, 0, 0, 0, 0, 0, 0, 0, 0, 0, 0, 0, 0, 0, 0, 0, 0, 0, 0, 0, 0, 0, 0, 0, 0, 1, 0, 0, 0, 0, 0, 0, 0, 0, 0, 0, 0, 0, 0, 0, 0, 0, 0, 0, 0, 0, 0, 0, 0, 0, 0, 0, 0, 0, 0, 0, 0, 0, 0, 0, 0, 0, 0, 0, 0, 0, 0, 0, 0, 0, 0, 0, 0, 0, 0, 0, 0, 0, 0, 0, 0, 0, 0, 0, 0, 0, 0, 0, 0, 0, 0, 0, 0, 0, 0, 0, 0, 0, 0, 0, 0, 0, 0, 0, 0, 0, 0, 0, 0, 0, 0, 0, 0, 0, 0, 0, 0, 0, 0, 0, 0, 0, 0, 0, 0, 0, 0, 0, 0, 0, 0, 0, 0, 1, 0, 0, 0, 0, 0, 0, 0, 0, 0, 0, 0, 0, 0, 0, 0, 0, 0, 0, 0, 0, 0, 0, 0, 0, 0, 0, 0, 0, 0, 0, 0, 0, 0, 0, 0, 0, 0, 0, 0, 0, 0, 0, 0, 0, 0, 0, 0, 0, 0, 0, 0, 0, 0, 0, 0, 0, 0, 0, 0, 0, 0, 0, 0, 0, 0, 0, 0, 0, 0, 0, 0, 0, 0, 0, 0, 0, 0, 0, 0, 0, 0, 0, 0, 0, 0, 0, 0, 0, 0, 0, 0, 0, 0, 0, 0, 0, 0, 0, 0, 0, 0, 0, 0, 0, 0, 0, 0, 0, 0, 0, 0, 0, 0, 0, 0, 0, 0, 0, 0, 0, 0, 0, 0, 0, 0, 0, 0, 0, 0, 0, 0, 0, 0, 0, 0, 0, 0, 0, 0, 0, 0, 0, 0, 0, 0, 0, 0, 0, 0, 0, 0, 0, 0, 0, 0, 0, 0, 0, 0, 0, 0, 0, 0, 0, 0, 0, 0, 0, 0, 0, 0, 0, 0, 0, 0, 0, 0, 0, 0, 0, 0, 0, 0, 0, 0, 0, 0, 0, 0, 0, 0, 0, 0, 0, 0, 0, 0, 0, 0, 0, 0, 0, 0, 0, 0, 0, 0, 0, 0, 0, 0, 0, 0, 0, 0, 0, 0, 0, 0, 0, 0, 0, 0, 0, 0, 0, 0, 0, 0, 0, 0, 0, 0, 0, 0, 0, 0, 0, 0, 0, 0, 0, 0, 0, 0, 0, 0, 0, 0, 0, 0, 0, 0, 0, 0, 0, 0, 0, 0, 0, 0, 0, 0, 0, 0, 0, 0, 0, 0, 0, 0, 0, 0, 0, 0, 0, 0, 0, 0, 0, 0, 0, 0, 0, 0, 0, 0, 0, 0, 0, 0, 0, 0, 0, 0, 0, 0, 0, 0, 0, 0, 0, 0, 0, 0, 0, 0, 0, 0, 0, 0, 0, 0, 0, 0, 0, 0, 0, 0, 0, 0, 0, 0, 0, 0, 0, 0, 0, 0, 0, 0, 0, 0, 0, 0, 0, 0, 0, 0, 0, 0, 0, 0, 0, 0, 0, 0, 0, 0, 0, 0, 0, 0, 0, 0, 0, 0, 0, 0, 0, 0, 0, 0, 0, 0, 0, 0, 0, 0, 0, 0, 0, 0, 0, 0, 0, 0, 0, 0, 0, 0, 0, 0, 0, 0, 0, 0, 0, 0, 0, 0, 0, 0, 0, 0, 0, 0, 0, 0, 0, 0, 0, 0, 0, 0, 0, 0, 0, 0, 0, 0, 0, 0, 0, 0, 0, 0, 0, 0, 0, 0, 0, 0, 0, 0, 0, 0, 0, 0, 0, 0, 0, 0, 0, 0, 0, 0, 0, 0, 0, 0, 0, 0, 0, 0, 0, 0, 0, 0, 0, 0, 0, 0, 0, 0, 0, 0, 0, 0, 0, 0, 0, 0, 2, 0, 1, 0]\n"
     ]
    }
   ],
   "source": [
    "test_bow = bow_encoding(test_words, vocabulary)\n",
    "print(test_bow)"
   ]
  },
  {
   "cell_type": "code",
   "execution_count": 42,
   "metadata": {},
   "outputs": [
    {
     "data": {
      "text/plain": [
       "5000"
      ]
     },
     "execution_count": 42,
     "metadata": {},
     "output_type": "execute_result"
    }
   ],
   "source": [
    "len(test_bow)"
   ]
  },
  {
   "cell_type": "markdown",
   "metadata": {},
   "source": [
    "So now we know how to construct a bag of words encoding of a user provided review, how to we send it to our endpoint? First, we need to start the endpoint back up."
   ]
  },
  {
   "cell_type": "code",
   "execution_count": 43,
   "metadata": {},
   "outputs": [
    {
     "name": "stderr",
     "output_type": "stream",
     "text": [
      "Parameter image will be renamed to image_uri in SageMaker Python SDK v2.\n",
      "Using already existing model: xgboost-2020-10-13-20-15-00-222\n"
     ]
    },
    {
     "name": "stdout",
     "output_type": "stream",
     "text": [
      "---------------!"
     ]
    }
   ],
   "source": [
    "xgb_predictor = xgb.deploy(initial_instance_count = 1, instance_type = 'ml.m4.xlarge')"
   ]
  },
  {
   "cell_type": "markdown",
   "metadata": {},
   "source": [
    "At this point we could just do the same thing that we did earlier when we tested our deployed model and send `test_bow` to our endpoint using the `xgb_predictor` object. However, when we eventually construct our Lambda function we won't have access to this object, so how do we call a SageMaker endpoint?\n",
    "\n",
    "It turns out that Python functions that are used in Lambda have access to another Amazon library called `boto3`. This library provides an API for working with Amazon services, including SageMaker. To start with, we need to get a handle to the SageMaker runtime."
   ]
  },
  {
   "cell_type": "code",
   "execution_count": 44,
   "metadata": {},
   "outputs": [],
   "source": [
    "import boto3\n",
    "\n",
    "runtime = boto3.Session().client('sagemaker-runtime')"
   ]
  },
  {
   "cell_type": "markdown",
   "metadata": {},
   "source": [
    "And now that we have access to the SageMaker runtime, we can ask it to make use of (invoke) an endpoint that has already been created. However, we need to provide SageMaker with the name of the deployed endpoint. To find this out we can print it out using the `xgb_predictor` object."
   ]
  },
  {
   "cell_type": "code",
   "execution_count": 45,
   "metadata": {},
   "outputs": [
    {
     "data": {
      "text/plain": [
       "'xgboost-2020-10-13-20-15-00-222'"
      ]
     },
     "execution_count": 45,
     "metadata": {},
     "output_type": "execute_result"
    }
   ],
   "source": [
    "xgb_predictor.endpoint"
   ]
  },
  {
   "cell_type": "markdown",
   "metadata": {},
   "source": [
    "Using the SageMaker runtime and the name of our endpoint, we can invoke the endpoint and send it the `test_bow` data."
   ]
  },
  {
   "cell_type": "code",
   "execution_count": 46,
   "metadata": {},
   "outputs": [
    {
     "ename": "ParamValidationError",
     "evalue": "Parameter validation failed:\nInvalid type for parameter Body, value: [0, 0, 0, 0, 0, 0, 0, 0, 0, 0, 0, 0, 0, 0, 0, 0, 0, 0, 0, 0, 0, 0, 0, 0, 0, 0, 0, 0, 0, 0, 0, 0, 0, 0, 0, 0, 0, 0, 0, 0, 0, 0, 0, 0, 0, 0, 0, 0, 0, 0, 0, 0, 0, 0, 0, 0, 0, 0, 0, 0, 0, 0, 0, 0, 0, 0, 0, 0, 0, 0, 0, 0, 0, 0, 0, 0, 0, 0, 0, 0, 0, 0, 0, 0, 0, 0, 0, 0, 0, 0, 0, 0, 0, 0, 0, 0, 0, 0, 0, 0, 0, 0, 0, 0, 0, 0, 0, 0, 0, 0, 0, 0, 0, 0, 0, 0, 0, 0, 0, 0, 0, 0, 0, 0, 0, 0, 0, 0, 0, 0, 0, 0, 0, 0, 0, 0, 0, 0, 0, 0, 0, 0, 0, 0, 0, 0, 0, 0, 0, 0, 0, 0, 0, 0, 0, 0, 0, 0, 0, 0, 0, 0, 0, 0, 0, 0, 0, 0, 0, 0, 0, 0, 0, 0, 0, 0, 0, 0, 0, 0, 0, 0, 0, 0, 0, 0, 0, 0, 0, 0, 0, 0, 0, 0, 0, 0, 0, 0, 0, 0, 0, 0, 0, 0, 0, 0, 0, 0, 0, 0, 0, 0, 0, 0, 0, 0, 0, 0, 0, 0, 0, 0, 0, 0, 0, 0, 1, 0, 0, 0, 0, 0, 0, 0, 0, 0, 0, 0, 0, 0, 0, 0, 0, 0, 0, 0, 0, 0, 0, 0, 0, 0, 0, 0, 0, 0, 1, 0, 0, 0, 0, 0, 0, 0, 0, 0, 0, 0, 0, 0, 0, 0, 0, 0, 0, 0, 0, 0, 0, 0, 0, 0, 0, 0, 0, 0, 0, 0, 0, 0, 0, 0, 0, 0, 0, 0, 0, 0, 0, 0, 0, 0, 0, 0, 0, 0, 0, 0, 0, 0, 0, 0, 0, 0, 0, 0, 0, 0, 0, 0, 0, 0, 0, 0, 0, 0, 0, 0, 0, 0, 0, 0, 0, 0, 0, 0, 0, 0, 0, 0, 0, 0, 0, 0, 0, 0, 0, 0, 0, 0, 0, 0, 0, 0, 0, 0, 0, 0, 0, 0, 0, 0, 0, 0, 0, 0, 0, 0, 0, 0, 0, 0, 0, 0, 0, 0, 0, 0, 0, 0, 0, 0, 0, 0, 0, 0, 0, 0, 0, 0, 0, 0, 0, 0, 0, 0, 0, 0, 0, 0, 0, 0, 0, 0, 0, 0, 0, 0, 0, 0, 0, 0, 0, 0, 0, 0, 0, 0, 0, 0, 0, 0, 0, 0, 0, 0, 0, 0, 0, 0, 0, 0, 0, 0, 0, 0, 0, 0, 0, 0, 0, 0, 0, 0, 0, 0, 0, 0, 0, 0, 0, 0, 0, 0, 0, 0, 0, 0, 0, 0, 0, 0, 0, 0, 0, 0, 0, 0, 0, 0, 0, 0, 0, 0, 0, 0, 0, 0, 0, 0, 0, 0, 0, 0, 0, 0, 0, 0, 0, 0, 0, 0, 0, 0, 0, 0, 0, 0, 0, 0, 0, 0, 0, 0, 0, 0, 0, 0, 0, 0, 0, 0, 0, 0, 0, 0, 0, 0, 0, 0, 0, 0, 0, 0, 0, 0, 0, 0, 0, 0, 0, 0, 0, 0, 0, 0, 0, 0, 0, 0, 0, 0, 0, 0, 0, 0, 0, 0, 0, 0, 0, 0, 0, 0, 0, 0, 0, 0, 0, 0, 0, 0, 0, 0, 0, 0, 0, 0, 0, 0, 0, 0, 0, 0, 0, 0, 0, 0, 0, 0, 0, 0, 0, 0, 0, 0, 0, 0, 0, 0, 0, 0, 0, 0, 0, 0, 0, 0, 0, 0, 0, 0, 0, 0, 0, 0, 0, 0, 0, 0, 0, 0, 0, 0, 0, 0, 0, 0, 0, 0, 0, 0, 0, 0, 0, 0, 0, 0, 0, 0, 0, 0, 0, 0, 0, 0, 1, 0, 0, 0, 0, 0, 0, 0, 0, 0, 0, 0, 0, 0, 0, 0, 0, 0, 0, 0, 0, 0, 0, 0, 0, 0, 0, 0, 0, 0, 0, 0, 0, 0, 0, 0, 0, 0, 0, 0, 0, 0, 0, 0, 0, 0, 0, 0, 0, 0, 0, 0, 0, 0, 0, 0, 0, 0, 0, 0, 0, 0, 0, 0, 0, 0, 0, 0, 0, 0, 0, 0, 0, 0, 0, 0, 0, 0, 0, 0, 0, 0, 0, 0, 0, 0, 0, 0, 0, 0, 0, 0, 0, 0, 0, 0, 0, 0, 0, 0, 0, 0, 0, 0, 0, 0, 0, 0, 0, 0, 0, 0, 0, 0, 0, 0, 0, 0, 0, 0, 0, 0, 0, 0, 0, 0, 0, 0, 0, 0, 0, 0, 0, 0, 0, 0, 0, 0, 0, 0, 0, 0, 0, 0, 0, 0, 0, 0, 0, 0, 0, 0, 0, 0, 0, 0, 0, 0, 0, 0, 0, 0, 0, 0, 0, 0, 0, 0, 0, 0, 0, 0, 0, 0, 0, 0, 0, 0, 0, 0, 0, 0, 0, 0, 0, 0, 0, 0, 0, 0, 0, 0, 0, 0, 0, 0, 0, 0, 0, 0, 0, 0, 0, 0, 0, 0, 0, 0, 0, 0, 0, 0, 0, 0, 0, 0, 0, 0, 0, 0, 0, 0, 0, 0, 0, 0, 0, 0, 0, 0, 0, 0, 0, 0, 0, 0, 0, 0, 0, 0, 0, 0, 0, 0, 0, 0, 0, 0, 0, 0, 0, 0, 0, 0, 1, 0, 0, 0, 0, 0, 0, 0, 0, 0, 0, 0, 0, 0, 0, 0, 0, 0, 0, 0, 0, 0, 0, 0, 0, 0, 0, 0, 0, 0, 0, 0, 0, 0, 0, 0, 0, 0, 0, 0, 0, 0, 0, 0, 0, 0, 0, 0, 0, 0, 0, 0, 0, 0, 0, 0, 0, 0, 0, 0, 0, 0, 0, 0, 0, 0, 0, 0, 0, 0, 0, 0, 0, 0, 0, 0, 0, 0, 0, 0, 0, 0, 0, 0, 0, 0, 0, 1, 0, 0, 0, 0, 0, 0, 0, 0, 0, 0, 0, 0, 0, 0, 0, 0, 0, 0, 0, 0, 0, 0, 0, 0, 0, 0, 0, 0, 0, 0, 0, 0, 0, 0, 0, 0, 0, 0, 0, 0, 0, 0, 0, 0, 0, 0, 0, 0, 0, 0, 0, 0, 0, 0, 0, 0, 0, 0, 0, 0, 0, 0, 0, 0, 0, 0, 0, 0, 0, 0, 0, 0, 0, 0, 0, 0, 0, 0, 0, 0, 0, 0, 0, 0, 0, 0, 0, 0, 0, 0, 0, 0, 0, 0, 0, 0, 0, 0, 0, 0, 0, 0, 0, 0, 0, 0, 0, 0, 0, 0, 0, 0, 0, 0, 0, 0, 0, 0, 0, 0, 0, 0, 0, 0, 0, 0, 0, 0, 0, 0, 0, 0, 0, 0, 0, 0, 0, 0, 0, 0, 0, 0, 0, 0, 0, 0, 0, 0, 0, 0, 0, 0, 0, 0, 0, 0, 0, 0, 0, 0, 0, 0, 0, 0, 0, 0, 0, 0, 0, 0, 0, 0, 0, 0, 0, 0, 0, 0, 0, 0, 0, 0, 0, 0, 0, 0, 0, 0, 0, 0, 0, 0, 0, 0, 0, 0, 0, 0, 0, 0, 0, 0, 0, 0, 0, 0, 0, 0, 0, 0, 0, 0, 0, 0, 0, 0, 0, 0, 0, 0, 0, 0, 0, 0, 0, 0, 0, 0, 0, 0, 0, 0, 0, 0, 0, 0, 0, 0, 0, 0, 0, 0, 0, 0, 0, 0, 0, 0, 0, 0, 0, 0, 1, 0, 0, 0, 0, 0, 0, 0, 0, 0, 0, 0, 0, 0, 0, 0, 0, 0, 0, 0, 0, 0, 0, 0, 0, 0, 0, 0, 0, 0, 0, 0, 0, 0, 0, 0, 0, 0, 0, 0, 0, 0, 0, 0, 0, 0, 0, 0, 0, 0, 0, 0, 0, 0, 0, 0, 1, 0, 0, 0, 0, 0, 0, 0, 0, 0, 0, 0, 0, 0, 0, 0, 0, 0, 0, 0, 0, 0, 0, 0, 0, 0, 0, 0, 0, 0, 0, 0, 0, 0, 0, 0, 0, 0, 0, 0, 0, 0, 0, 0, 0, 0, 0, 0, 0, 0, 0, 0, 0, 0, 0, 0, 0, 0, 0, 0, 0, 0, 0, 0, 0, 0, 0, 0, 0, 0, 0, 0, 0, 0, 0, 0, 0, 0, 0, 0, 0, 0, 0, 0, 0, 0, 0, 0, 0, 0, 0, 0, 0, 0, 0, 0, 0, 0, 0, 0, 0, 0, 0, 0, 0, 0, 0, 0, 0, 0, 0, 0, 0, 0, 0, 0, 0, 0, 0, 0, 0, 0, 0, 0, 0, 0, 0, 0, 0, 0, 0, 0, 0, 0, 0, 0, 0, 0, 0, 0, 0, 0, 0, 0, 0, 0, 0, 0, 0, 0, 0, 0, 0, 0, 0, 0, 0, 0, 0, 0, 0, 0, 0, 0, 0, 0, 0, 0, 0, 0, 0, 0, 0, 0, 0, 0, 0, 0, 0, 0, 0, 0, 0, 0, 0, 0, 0, 0, 0, 0, 0, 0, 0, 0, 0, 0, 0, 0, 0, 0, 0, 0, 0, 0, 0, 0, 0, 0, 0, 0, 0, 0, 0, 0, 0, 0, 0, 0, 0, 0, 0, 0, 0, 0, 0, 0, 0, 0, 0, 0, 0, 0, 0, 0, 0, 0, 0, 0, 0, 0, 0, 0, 0, 0, 0, 0, 0, 0, 0, 0, 0, 0, 0, 0, 0, 0, 0, 0, 0, 0, 0, 0, 0, 0, 0, 0, 0, 0, 0, 0, 0, 0, 0, 0, 0, 0, 0, 0, 0, 0, 0, 0, 0, 0, 0, 0, 0, 0, 0, 0, 0, 0, 0, 0, 0, 0, 0, 0, 0, 0, 0, 0, 0, 0, 0, 0, 0, 0, 0, 0, 0, 0, 0, 0, 0, 0, 0, 0, 0, 0, 0, 0, 0, 0, 0, 0, 0, 0, 0, 0, 0, 0, 0, 0, 0, 0, 0, 0, 0, 0, 0, 0, 0, 0, 0, 0, 0, 0, 0, 0, 0, 0, 0, 0, 0, 0, 0, 0, 0, 0, 0, 0, 0, 0, 0, 0, 0, 0, 0, 0, 0, 0, 0, 0, 0, 0, 0, 0, 0, 0, 0, 0, 0, 0, 0, 0, 0, 0, 0, 0, 0, 0, 0, 0, 0, 0, 0, 0, 0, 0, 0, 0, 0, 0, 0, 0, 0, 0, 0, 0, 0, 0, 0, 0, 0, 0, 0, 0, 0, 0, 0, 0, 0, 0, 0, 0, 0, 0, 0, 0, 0, 0, 0, 0, 0, 0, 0, 0, 0, 0, 0, 0, 0, 0, 0, 0, 0, 0, 0, 0, 0, 0, 0, 0, 0, 0, 0, 0, 0, 0, 0, 0, 0, 0, 0, 0, 0, 0, 0, 0, 0, 0, 0, 0, 0, 0, 0, 0, 0, 0, 0, 0, 0, 0, 0, 0, 0, 0, 0, 0, 0, 0, 0, 0, 0, 0, 0, 0, 0, 0, 0, 0, 0, 0, 0, 0, 0, 0, 0, 0, 0, 0, 0, 0, 0, 0, 0, 0, 0, 0, 0, 0, 0, 0, 0, 0, 0, 0, 0, 0, 0, 0, 0, 0, 0, 0, 0, 0, 0, 0, 0, 0, 0, 0, 0, 0, 0, 0, 0, 0, 0, 0, 0, 0, 0, 0, 0, 0, 0, 0, 0, 0, 0, 0, 0, 0, 0, 0, 0, 0, 0, 0, 0, 0, 0, 0, 0, 0, 0, 0, 0, 0, 0, 0, 0, 0, 0, 0, 0, 0, 0, 0, 0, 0, 0, 0, 0, 0, 0, 0, 0, 0, 0, 0, 0, 0, 0, 0, 0, 0, 0, 0, 0, 0, 0, 0, 0, 0, 0, 0, 0, 0, 0, 0, 0, 0, 0, 0, 0, 0, 0, 0, 0, 0, 0, 0, 0, 0, 0, 0, 0, 0, 0, 0, 0, 0, 0, 0, 0, 0, 0, 0, 0, 0, 0, 0, 0, 0, 0, 0, 0, 0, 0, 0, 0, 0, 0, 0, 0, 0, 0, 0, 0, 0, 0, 0, 0, 0, 0, 0, 0, 0, 1, 0, 0, 0, 0, 0, 0, 0, 0, 0, 0, 0, 0, 0, 0, 0, 0, 0, 0, 0, 0, 0, 0, 0, 0, 0, 0, 0, 0, 0, 0, 0, 0, 0, 0, 0, 0, 0, 0, 0, 0, 0, 0, 0, 0, 0, 0, 0, 0, 0, 0, 0, 0, 0, 0, 0, 0, 0, 0, 0, 0, 0, 0, 0, 0, 0, 0, 0, 0, 0, 0, 0, 0, 0, 0, 1, 0, 0, 0, 0, 0, 0, 0, 0, 0, 0, 0, 0, 0, 0, 0, 0, 0, 0, 0, 0, 1, 0, 0, 1, 0, 0, 0, 0, 0, 0, 0, 0, 0, 0, 0, 0, 0, 0, 0, 0, 0, 0, 0, 0, 0, 0, 0, 0, 0, 0, 0, 0, 0, 0, 0, 0, 0, 0, 0, 0, 0, 0, 0, 0, 0, 0, 0, 0, 0, 0, 0, 0, 0, 0, 0, 0, 0, 0, 0, 0, 0, 0, 0, 0, 0, 0, 0, 0, 0, 0, 0, 0, 0, 0, 0, 0, 0, 0, 0, 0, 0, 0, 0, 0, 0, 0, 0, 0, 0, 0, 0, 0, 0, 0, 0, 0, 0, 0, 0, 0, 0, 0, 0, 0, 0, 0, 0, 0, 0, 0, 0, 0, 0, 0, 0, 0, 0, 0, 0, 0, 0, 0, 0, 0, 0, 0, 0, 0, 0, 0, 0, 0, 0, 0, 0, 0, 0, 0, 0, 0, 0, 0, 0, 0, 0, 0, 0, 0, 0, 0, 0, 0, 0, 0, 0, 0, 0, 0, 0, 0, 0, 0, 0, 0, 0, 0, 0, 0, 0, 0, 0, 0, 0, 0, 0, 0, 0, 0, 0, 0, 0, 0, 0, 0, 0, 0, 0, 0, 0, 0, 0, 0, 0, 0, 0, 0, 0, 0, 0, 0, 0, 0, 0, 0, 0, 0, 0, 0, 0, 0, 0, 0, 0, 0, 0, 0, 0, 0, 0, 0, 0, 0, 0, 0, 0, 0, 0, 0, 0, 0, 0, 0, 0, 0, 0, 0, 0, 0, 0, 0, 0, 0, 0, 0, 0, 0, 0, 0, 0, 0, 0, 0, 0, 0, 0, 0, 0, 0, 0, 0, 0, 0, 0, 0, 0, 0, 0, 0, 0, 0, 0, 0, 0, 0, 0, 0, 0, 0, 0, 0, 0, 0, 0, 0, 0, 0, 0, 0, 0, 0, 0, 0, 0, 0, 0, 0, 0, 0, 0, 0, 0, 0, 0, 0, 0, 0, 0, 0, 0, 0, 0, 0, 0, 0, 0, 0, 0, 0, 0, 0, 0, 0, 0, 0, 0, 0, 0, 0, 0, 0, 0, 0, 0, 0, 0, 0, 0, 0, 0, 0, 0, 0, 0, 0, 0, 0, 0, 0, 0, 0, 0, 0, 0, 0, 0, 0, 0, 0, 0, 0, 0, 0, 0, 0, 0, 0, 0, 0, 0, 0, 0, 0, 0, 0, 0, 0, 0, 0, 0, 0, 0, 0, 0, 0, 0, 0, 0, 0, 0, 0, 0, 0, 0, 0, 0, 0, 0, 0, 0, 0, 0, 0, 0, 0, 0, 0, 0, 0, 0, 0, 0, 0, 0, 0, 0, 0, 0, 0, 0, 0, 0, 0, 0, 0, 0, 0, 0, 0, 0, 0, 0, 0, 0, 0, 0, 0, 0, 0, 0, 0, 0, 0, 0, 0, 0, 0, 0, 0, 0, 0, 0, 0, 0, 0, 0, 0, 0, 0, 0, 0, 0, 0, 0, 0, 0, 0, 0, 0, 0, 0, 1, 0, 0, 0, 0, 0, 0, 0, 0, 0, 0, 0, 0, 0, 0, 0, 0, 0, 0, 0, 0, 0, 0, 0, 0, 0, 0, 0, 0, 0, 0, 0, 0, 0, 0, 0, 0, 0, 0, 0, 0, 0, 0, 0, 0, 0, 0, 0, 0, 0, 0, 0, 0, 0, 0, 0, 0, 0, 0, 0, 0, 0, 0, 0, 0, 0, 0, 0, 0, 0, 0, 0, 0, 0, 0, 0, 0, 0, 0, 0, 0, 0, 0, 0, 0, 0, 0, 0, 0, 0, 0, 0, 0, 0, 0, 0, 0, 0, 0, 0, 0, 0, 0, 0, 0, 0, 0, 0, 0, 0, 0, 0, 0, 0, 0, 0, 0, 0, 0, 0, 0, 0, 0, 0, 0, 0, 0, 0, 0, 0, 0, 0, 0, 0, 0, 0, 0, 0, 0, 0, 0, 0, 0, 0, 0, 0, 0, 0, 0, 0, 0, 0, 0, 0, 0, 0, 0, 0, 0, 0, 0, 0, 0, 0, 0, 0, 0, 0, 0, 0, 0, 0, 0, 0, 0, 0, 0, 0, 0, 0, 0, 0, 0, 0, 0, 0, 0, 0, 0, 0, 0, 0, 0, 0, 0, 0, 0, 0, 0, 0, 0, 0, 0, 0, 0, 0, 0, 0, 0, 0, 0, 0, 0, 0, 0, 0, 0, 0, 0, 0, 0, 0, 0, 0, 0, 0, 0, 0, 0, 0, 0, 0, 0, 0, 0, 0, 0, 0, 0, 0, 0, 0, 0, 0, 0, 0, 0, 0, 0, 0, 0, 0, 0, 0, 0, 0, 0, 0, 0, 0, 0, 0, 0, 0, 0, 0, 0, 0, 0, 0, 0, 0, 0, 0, 0, 0, 0, 0, 0, 0, 0, 0, 0, 0, 0, 0, 0, 0, 0, 0, 0, 0, 0, 0, 0, 0, 0, 0, 0, 0, 0, 0, 0, 0, 0, 0, 0, 0, 0, 0, 0, 0, 0, 0, 0, 0, 0, 0, 0, 0, 0, 0, 0, 0, 0, 0, 0, 0, 0, 0, 0, 0, 0, 0, 0, 0, 0, 0, 0, 0, 0, 0, 0, 0, 0, 0, 0, 0, 0, 0, 0, 0, 0, 0, 0, 0, 0, 0, 0, 0, 0, 0, 0, 0, 0, 0, 0, 0, 0, 0, 0, 0, 0, 0, 0, 0, 0, 0, 0, 0, 0, 0, 0, 0, 0, 0, 0, 0, 0, 0, 0, 0, 0, 0, 0, 0, 0, 0, 0, 0, 0, 0, 0, 0, 0, 0, 0, 0, 0, 0, 0, 0, 0, 0, 0, 0, 0, 0, 0, 0, 0, 0, 0, 0, 0, 0, 0, 0, 0, 0, 0, 0, 0, 0, 0, 0, 0, 0, 0, 0, 0, 0, 0, 0, 0, 0, 0, 0, 0, 0, 0, 0, 0, 0, 0, 0, 0, 0, 0, 0, 0, 0, 0, 0, 0, 0, 0, 0, 0, 0, 0, 0, 0, 0, 0, 0, 0, 0, 0, 0, 0, 0, 0, 0, 0, 0, 0, 0, 0, 0, 0, 0, 0, 0, 0, 0, 0, 0, 0, 0, 0, 0, 0, 0, 0, 0, 0, 0, 0, 0, 0, 0, 0, 1, 0, 0, 0, 0, 0, 0, 0, 0, 0, 0, 0, 0, 0, 0, 0, 0, 0, 0, 0, 0, 0, 0, 0, 0, 0, 0, 0, 0, 0, 0, 0, 0, 0, 0, 0, 2, 0, 0, 0, 0, 0, 0, 0, 0, 0, 0, 0, 0, 0, 0, 0, 0, 0, 0, 0, 0, 0, 0, 0, 0, 0, 0, 0, 0, 0, 0, 0, 0, 0, 0, 0, 0, 0, 0, 0, 0, 1, 0, 0, 0, 0, 0, 0, 0, 0, 0, 0, 0, 0, 0, 0, 0, 0, 0, 0, 0, 0, 0, 0, 0, 0, 0, 0, 0, 0, 0, 0, 0, 0, 0, 0, 0, 0, 0, 0, 0, 0, 0, 0, 0, 0, 0, 0, 0, 0, 0, 0, 0, 0, 0, 0, 0, 0, 0, 0, 0, 0, 0, 0, 0, 0, 0, 0, 0, 0, 0, 0, 0, 0, 0, 0, 0, 0, 0, 0, 0, 0, 0, 0, 0, 0, 0, 0, 0, 0, 0, 0, 0, 0, 0, 0, 0, 0, 0, 0, 0, 0, 0, 0, 0, 0, 0, 0, 0, 0, 0, 0, 0, 0, 0, 0, 0, 0, 0, 0, 0, 0, 0, 0, 0, 0, 0, 0, 0, 0, 0, 0, 0, 0, 0, 0, 0, 0, 0, 0, 0, 0, 0, 0, 0, 0, 0, 0, 0, 0, 0, 0, 0, 0, 0, 0, 0, 0, 0, 0, 0, 0, 0, 0, 0, 0, 0, 0, 0, 0, 0, 0, 0, 0, 0, 0, 0, 0, 0, 0, 0, 0, 0, 0, 0, 0, 0, 0, 0, 0, 0, 0, 0, 0, 0, 0, 0, 0, 0, 0, 0, 0, 0, 0, 0, 0, 0, 0, 0, 0, 0, 0, 0, 0, 0, 0, 0, 0, 0, 0, 0, 0, 0, 0, 0, 0, 0, 0, 0, 0, 0, 0, 0, 0, 0, 0, 0, 0, 0, 0, 0, 0, 0, 0, 0, 0, 0, 0, 0, 0, 0, 0, 0, 0, 0, 0, 0, 0, 0, 0, 0, 0, 0, 0, 0, 0, 0, 0, 0, 0, 0, 0, 0, 0, 0, 0, 0, 0, 0, 0, 0, 0, 0, 0, 0, 0, 0, 0, 0, 0, 0, 0, 0, 0, 0, 0, 0, 0, 0, 0, 0, 0, 0, 0, 0, 0, 0, 0, 0, 0, 0, 0, 0, 0, 0, 0, 0, 0, 0, 0, 0, 0, 0, 0, 0, 0, 0, 0, 0, 0, 0, 0, 0, 0, 0, 0, 0, 0, 0, 0, 0, 0, 0, 0, 0, 0, 0, 0, 0, 0, 0, 0, 0, 0, 0, 0, 0, 0, 0, 0, 0, 0, 0, 0, 0, 0, 0, 0, 0, 0, 0, 0, 0, 0, 0, 0, 0, 0, 0, 0, 0, 0, 0, 0, 0, 0, 0, 0, 0, 0, 0, 0, 0, 0, 0, 0, 0, 0, 0, 0, 0, 0, 0, 0, 0, 0, 0, 0, 0, 0, 0, 0, 0, 0, 0, 0, 0, 0, 0, 0, 0, 0, 0, 0, 0, 0, 0, 0, 0, 0, 0, 0, 0, 0, 0, 0, 0, 0, 0, 0, 0, 0, 0, 0, 0, 0, 0, 0, 0, 0, 0, 0, 0, 0, 0, 0, 0, 0, 0, 0, 0, 0, 0, 0, 0, 0, 0, 0, 0, 0, 0, 0, 0, 0, 0, 0, 0, 0, 0, 0, 0, 0, 0, 0, 0, 0, 0, 0, 0, 0, 0, 0, 0, 0, 0, 0, 0, 0, 0, 1, 0, 0, 0, 0, 0, 0, 0, 0, 0, 0, 0, 0, 0, 0, 0, 0, 0, 0, 0, 0, 0, 0, 0, 0, 0, 0, 0, 0, 0, 0, 0, 0, 0, 0, 0, 0, 0, 0, 0, 0, 0, 0, 0, 0, 0, 0, 0, 0, 0, 0, 0, 0, 0, 0, 0, 0, 0, 0, 0, 0, 0, 0, 0, 0, 0, 0, 0, 0, 0, 0, 0, 0, 0, 0, 0, 0, 0, 0, 0, 0, 0, 0, 0, 0, 0, 0, 0, 0, 0, 0, 0, 0, 0, 0, 0, 0, 0, 0, 0, 0, 0, 0, 0, 0, 0, 0, 0, 0, 0, 0, 2, 0, 0, 0, 0, 0, 0, 0, 0, 0, 0, 0, 0, 0, 0, 0, 0, 0, 0, 0, 0, 0, 0, 0, 0, 0, 0, 0, 0, 0, 0, 0, 0, 0, 0, 0, 0, 0, 0, 0, 0, 0, 0, 0, 0, 0, 0, 0, 0, 0, 0, 0, 0, 0, 0, 0, 0, 0, 0, 0, 0, 0, 0, 0, 0, 0, 0, 0, 0, 0, 0, 0, 0, 0, 0, 0, 0, 0, 0, 0, 0, 0, 0, 0, 0, 0, 0, 0, 0, 0, 0, 0, 0, 0, 0, 0, 0, 0, 0, 0, 0, 0, 0, 0, 0, 0, 0, 0, 0, 0, 0, 0, 0, 0, 0, 0, 0, 0, 0, 0, 0, 0, 0, 0, 0, 0, 0, 0, 0, 0, 0, 0, 0, 0, 0, 0, 0, 0, 0, 0, 0, 0, 0, 0, 0, 0, 0, 0, 0, 0, 0, 0, 0, 0, 0, 0, 0, 0, 0, 0, 0, 0, 0, 0, 0, 0, 0, 0, 0, 0, 0, 0, 0, 0, 0, 0, 0, 0, 0, 0, 0, 0, 0, 0, 0, 0, 0, 0, 0, 0, 0, 0, 0, 0, 0, 0, 0, 0, 0, 0, 0, 0, 0, 0, 0, 0, 0, 0, 0, 0, 0, 0, 0, 0, 0, 0, 0, 0, 0, 0, 0, 0, 0, 0, 0, 0, 0, 0, 0, 0, 0, 0, 0, 0, 0, 0, 0, 0, 0, 0, 0, 0, 0, 0, 0, 0, 0, 0, 0, 0, 0, 0, 0, 0, 0, 0, 0, 0, 0, 0, 0, 0, 0, 0, 0, 0, 0, 0, 0, 0, 0, 0, 0, 0, 0, 0, 0, 0, 0, 0, 0, 0, 0, 0, 0, 0, 0, 0, 0, 0, 0, 0, 0, 0, 0, 0, 0, 0, 0, 0, 0, 0, 0, 0, 0, 0, 0, 0, 0, 0, 0, 0, 0, 0, 0, 0, 0, 0, 0, 0, 0, 0, 0, 0, 0, 0, 0, 0, 0, 0, 0, 0, 0, 0, 0, 0, 0, 0, 0, 0, 0, 0, 0, 0, 0, 0, 0, 0, 0, 0, 0, 0, 0, 0, 0, 0, 0, 0, 0, 0, 0, 0, 0, 0, 0, 0, 0, 0, 0, 0, 0, 0, 0, 0, 0, 0, 0, 0, 0, 0, 0, 0, 0, 0, 0, 0, 0, 0, 0, 0, 0, 0, 0, 0, 0, 0, 0, 0, 0, 0, 0, 0, 0, 0, 0, 0, 0, 0, 0, 0, 0, 0, 0, 0, 0, 0, 0, 0, 0, 0, 0, 0, 0, 0, 0, 0, 0, 0, 0, 0, 0, 0, 0, 0, 0, 0, 0, 0, 0, 0, 0, 0, 0, 0, 0, 0, 0, 0, 0, 0, 0, 0, 0, 0, 0, 0, 0, 0, 0, 0, 0, 0, 0, 0, 0, 0, 0, 0, 0, 0, 0, 0, 0, 0, 0, 0, 0, 0, 0, 0, 0, 0, 0, 0, 0, 0, 0, 0, 0, 0, 0, 0, 0, 0, 0, 0, 0, 0, 0, 0, 0, 0, 0, 0, 0, 0, 0, 0, 0, 0, 0, 0, 0, 0, 0, 0, 0, 0, 0, 0, 0, 0, 0, 0, 0, 0, 0, 0, 0, 0, 0, 0, 0, 0, 0, 0, 0, 0, 0, 0, 0, 0, 0, 0, 0, 0, 0, 0, 0, 0, 0, 0, 0, 0, 0, 0, 0, 0, 0, 0, 0, 0, 0, 0, 0, 0, 0, 0, 0, 0, 0, 0, 0, 0, 0, 0, 0, 0, 0, 0, 0, 0, 0, 0, 0, 0, 0, 0, 0, 0, 0, 0, 0, 0, 0, 0, 0, 0, 0, 0, 0, 0, 0, 0, 0, 0, 0, 0, 0, 0, 0, 0, 0, 0, 0, 0, 0, 0, 0, 0, 0, 0, 0, 0, 0, 0, 0, 0, 0, 0, 0, 0, 0, 0, 0, 0, 0, 0, 0, 0, 0, 0, 0, 0, 0, 0, 0, 0, 0, 0, 0, 0, 0, 0, 0, 0, 0, 0, 0, 0, 0, 0, 0, 0, 0, 0, 0, 0, 0, 0, 0, 0, 0, 0, 0, 0, 0, 0, 0, 0, 0, 0, 0, 0, 0, 0, 0, 0, 0, 0, 0, 1, 0, 0, 0, 0, 0, 0, 0, 0, 0, 0, 0, 0, 0, 0, 0, 0, 0, 0, 0, 0, 0, 0, 0, 0, 0, 0, 0, 0, 0, 0, 0, 0, 0, 0, 0, 0, 0, 0, 0, 0, 0, 0, 0, 0, 0, 0, 0, 0, 0, 0, 0, 0, 0, 0, 0, 0, 0, 0, 0, 0, 0, 0, 0, 0, 0, 0, 0, 0, 0, 0, 0, 0, 0, 0, 0, 0, 0, 0, 0, 0, 0, 0, 0, 0, 0, 0, 0, 0, 0, 0, 0, 0, 0, 0, 0, 0, 0, 0, 0, 0, 0, 0, 0, 0, 0, 0, 0, 1, 0, 0, 0, 0, 0, 0, 0, 0, 0, 0, 0, 0, 0, 0, 0, 0, 0, 0, 0, 0, 0, 0, 0, 0, 0, 0, 0, 0, 0, 0, 0, 0, 0, 0, 0, 0, 0, 0, 0, 0, 0, 0, 0, 0, 0, 0, 0, 0, 0, 0, 0, 0, 0, 0, 0, 0, 0, 0, 0, 0, 0, 0, 0, 0, 0, 0, 0, 0, 0, 0, 0, 0, 0, 0, 0, 0, 0, 0, 0, 0, 0, 0, 0, 0, 0, 0, 0, 0, 0, 0, 0, 0, 0, 0, 0, 0, 0, 0, 0, 0, 0, 0, 0, 0, 0, 0, 0, 0, 0, 0, 0, 0, 0, 0, 0, 0, 0, 0, 0, 0, 0, 0, 0, 0, 0, 0, 0, 0, 0, 0, 0, 0, 0, 0, 0, 0, 0, 0, 0, 0, 0, 0, 0, 0, 0, 0, 0, 0, 0, 0, 0, 0, 0, 0, 0, 0, 0, 0, 0, 0, 0, 0, 0, 0, 0, 0, 0, 0, 0, 0, 0, 0, 0, 0, 0, 0, 0, 0, 0, 0, 0, 0, 0, 0, 0, 0, 0, 0, 0, 0, 0, 0, 0, 0, 0, 0, 0, 0, 0, 0, 0, 0, 0, 0, 0, 0, 0, 0, 0, 0, 0, 0, 0, 0, 0, 0, 0, 0, 0, 0, 0, 0, 0, 0, 0, 0, 0, 0, 0, 0, 0, 0, 0, 0, 0, 0, 0, 0, 0, 0, 0, 0, 0, 0, 0, 0, 0, 0, 0, 0, 0, 0, 0, 0, 0, 0, 0, 0, 0, 0, 0, 0, 0, 0, 0, 0, 0, 0, 0, 0, 0, 0, 0, 0, 0, 0, 0, 0, 0, 0, 0, 0, 0, 0, 0, 0, 0, 0, 0, 0, 0, 0, 0, 0, 0, 0, 0, 0, 0, 0, 0, 0, 0, 0, 0, 0, 0, 0, 0, 0, 0, 0, 0, 0, 0, 0, 0, 0, 0, 0, 0, 0, 0, 0, 0, 0, 0, 0, 0, 0, 0, 0, 0, 0, 0, 0, 0, 0, 0, 0, 0, 0, 0, 0, 0, 0, 0, 0, 0, 0, 0, 0, 0, 0, 0, 0, 0, 0, 0, 0, 0, 0, 0, 0, 0, 0, 0, 0, 0, 0, 0, 0, 0, 0, 0, 0, 0, 0, 0, 0, 0, 0, 0, 0, 0, 0, 0, 0, 0, 0, 0, 0, 0, 0, 0, 0, 0, 0, 0, 0, 0, 0, 0, 0, 0, 0, 0, 0, 0, 0, 0, 0, 0, 0, 0, 0, 0, 0, 0, 0, 0, 0, 0, 0, 0, 0, 0, 0, 0, 0, 0, 0, 0, 0, 0, 0, 0, 0, 0, 0, 0, 0, 0, 0, 0, 0, 0, 0, 0, 0, 0, 0, 0, 0, 0, 0, 0, 0, 0, 0, 0, 0, 0, 2, 0, 1, 0], type: <class 'list'>, valid types: <class 'bytes'>, <class 'bytearray'>, file-like object",
     "output_type": "error",
     "traceback": [
      "\u001b[0;31m---------------------------------------------------------------------------\u001b[0m",
      "\u001b[0;31mParamValidationError\u001b[0m                      Traceback (most recent call last)",
      "\u001b[0;32m<ipython-input-46-c9ab54ae3a48>\u001b[0m in \u001b[0;36m<module>\u001b[0;34m\u001b[0m\n\u001b[1;32m      1\u001b[0m response = runtime.invoke_endpoint(EndpointName = xgb_predictor.endpoint, # The name of the endpoint we created\n\u001b[1;32m      2\u001b[0m                                        \u001b[0mContentType\u001b[0m \u001b[0;34m=\u001b[0m \u001b[0;34m'text/csv'\u001b[0m\u001b[0;34m,\u001b[0m                     \u001b[0;31m# The data format that is expected\u001b[0m\u001b[0;34m\u001b[0m\u001b[0;34m\u001b[0m\u001b[0m\n\u001b[0;32m----> 3\u001b[0;31m                                        Body = test_bow)\n\u001b[0m",
      "\u001b[0;32m~/anaconda3/envs/python3/lib/python3.6/site-packages/botocore/client.py\u001b[0m in \u001b[0;36m_api_call\u001b[0;34m(self, *args, **kwargs)\u001b[0m\n\u001b[1;32m    335\u001b[0m                     \"%s() only accepts keyword arguments.\" % py_operation_name)\n\u001b[1;32m    336\u001b[0m             \u001b[0;31m# The \"self\" in this scope is referring to the BaseClient.\u001b[0m\u001b[0;34m\u001b[0m\u001b[0;34m\u001b[0m\u001b[0;34m\u001b[0m\u001b[0m\n\u001b[0;32m--> 337\u001b[0;31m             \u001b[0;32mreturn\u001b[0m \u001b[0mself\u001b[0m\u001b[0;34m.\u001b[0m\u001b[0m_make_api_call\u001b[0m\u001b[0;34m(\u001b[0m\u001b[0moperation_name\u001b[0m\u001b[0;34m,\u001b[0m \u001b[0mkwargs\u001b[0m\u001b[0;34m)\u001b[0m\u001b[0;34m\u001b[0m\u001b[0;34m\u001b[0m\u001b[0m\n\u001b[0m\u001b[1;32m    338\u001b[0m \u001b[0;34m\u001b[0m\u001b[0m\n\u001b[1;32m    339\u001b[0m         \u001b[0m_api_call\u001b[0m\u001b[0;34m.\u001b[0m\u001b[0m__name__\u001b[0m \u001b[0;34m=\u001b[0m \u001b[0mstr\u001b[0m\u001b[0;34m(\u001b[0m\u001b[0mpy_operation_name\u001b[0m\u001b[0;34m)\u001b[0m\u001b[0;34m\u001b[0m\u001b[0;34m\u001b[0m\u001b[0m\n",
      "\u001b[0;32m~/anaconda3/envs/python3/lib/python3.6/site-packages/botocore/client.py\u001b[0m in \u001b[0;36m_make_api_call\u001b[0;34m(self, operation_name, api_params)\u001b[0m\n\u001b[1;32m    627\u001b[0m         }\n\u001b[1;32m    628\u001b[0m         request_dict = self._convert_to_request_dict(\n\u001b[0;32m--> 629\u001b[0;31m             api_params, operation_model, context=request_context)\n\u001b[0m\u001b[1;32m    630\u001b[0m \u001b[0;34m\u001b[0m\u001b[0m\n\u001b[1;32m    631\u001b[0m         \u001b[0mservice_id\u001b[0m \u001b[0;34m=\u001b[0m \u001b[0mself\u001b[0m\u001b[0;34m.\u001b[0m\u001b[0m_service_model\u001b[0m\u001b[0;34m.\u001b[0m\u001b[0mservice_id\u001b[0m\u001b[0;34m.\u001b[0m\u001b[0mhyphenize\u001b[0m\u001b[0;34m(\u001b[0m\u001b[0;34m)\u001b[0m\u001b[0;34m\u001b[0m\u001b[0;34m\u001b[0m\u001b[0m\n",
      "\u001b[0;32m~/anaconda3/envs/python3/lib/python3.6/site-packages/botocore/client.py\u001b[0m in \u001b[0;36m_convert_to_request_dict\u001b[0;34m(self, api_params, operation_model, context)\u001b[0m\n\u001b[1;32m    675\u001b[0m             api_params, operation_model, context)\n\u001b[1;32m    676\u001b[0m         request_dict = self._serializer.serialize_to_request(\n\u001b[0;32m--> 677\u001b[0;31m             api_params, operation_model)\n\u001b[0m\u001b[1;32m    678\u001b[0m         \u001b[0;32mif\u001b[0m \u001b[0;32mnot\u001b[0m \u001b[0mself\u001b[0m\u001b[0;34m.\u001b[0m\u001b[0m_client_config\u001b[0m\u001b[0;34m.\u001b[0m\u001b[0minject_host_prefix\u001b[0m\u001b[0;34m:\u001b[0m\u001b[0;34m\u001b[0m\u001b[0;34m\u001b[0m\u001b[0m\n\u001b[1;32m    679\u001b[0m             \u001b[0mrequest_dict\u001b[0m\u001b[0;34m.\u001b[0m\u001b[0mpop\u001b[0m\u001b[0;34m(\u001b[0m\u001b[0;34m'host_prefix'\u001b[0m\u001b[0;34m,\u001b[0m \u001b[0;32mNone\u001b[0m\u001b[0;34m)\u001b[0m\u001b[0;34m\u001b[0m\u001b[0;34m\u001b[0m\u001b[0m\n",
      "\u001b[0;32m~/anaconda3/envs/python3/lib/python3.6/site-packages/botocore/validate.py\u001b[0m in \u001b[0;36mserialize_to_request\u001b[0;34m(self, parameters, operation_model)\u001b[0m\n\u001b[1;32m    295\u001b[0m                                                     operation_model.input_shape)\n\u001b[1;32m    296\u001b[0m             \u001b[0;32mif\u001b[0m \u001b[0mreport\u001b[0m\u001b[0;34m.\u001b[0m\u001b[0mhas_errors\u001b[0m\u001b[0;34m(\u001b[0m\u001b[0;34m)\u001b[0m\u001b[0;34m:\u001b[0m\u001b[0;34m\u001b[0m\u001b[0;34m\u001b[0m\u001b[0m\n\u001b[0;32m--> 297\u001b[0;31m                 \u001b[0;32mraise\u001b[0m \u001b[0mParamValidationError\u001b[0m\u001b[0;34m(\u001b[0m\u001b[0mreport\u001b[0m\u001b[0;34m=\u001b[0m\u001b[0mreport\u001b[0m\u001b[0;34m.\u001b[0m\u001b[0mgenerate_report\u001b[0m\u001b[0;34m(\u001b[0m\u001b[0;34m)\u001b[0m\u001b[0;34m)\u001b[0m\u001b[0;34m\u001b[0m\u001b[0;34m\u001b[0m\u001b[0m\n\u001b[0m\u001b[1;32m    298\u001b[0m         return self._serializer.serialize_to_request(parameters,\n\u001b[1;32m    299\u001b[0m                                                      operation_model)\n",
      "\u001b[0;31mParamValidationError\u001b[0m: Parameter validation failed:\nInvalid type for parameter Body, value: [0, 0, 0, 0, 0, 0, 0, 0, 0, 0, 0, 0, 0, 0, 0, 0, 0, 0, 0, 0, 0, 0, 0, 0, 0, 0, 0, 0, 0, 0, 0, 0, 0, 0, 0, 0, 0, 0, 0, 0, 0, 0, 0, 0, 0, 0, 0, 0, 0, 0, 0, 0, 0, 0, 0, 0, 0, 0, 0, 0, 0, 0, 0, 0, 0, 0, 0, 0, 0, 0, 0, 0, 0, 0, 0, 0, 0, 0, 0, 0, 0, 0, 0, 0, 0, 0, 0, 0, 0, 0, 0, 0, 0, 0, 0, 0, 0, 0, 0, 0, 0, 0, 0, 0, 0, 0, 0, 0, 0, 0, 0, 0, 0, 0, 0, 0, 0, 0, 0, 0, 0, 0, 0, 0, 0, 0, 0, 0, 0, 0, 0, 0, 0, 0, 0, 0, 0, 0, 0, 0, 0, 0, 0, 0, 0, 0, 0, 0, 0, 0, 0, 0, 0, 0, 0, 0, 0, 0, 0, 0, 0, 0, 0, 0, 0, 0, 0, 0, 0, 0, 0, 0, 0, 0, 0, 0, 0, 0, 0, 0, 0, 0, 0, 0, 0, 0, 0, 0, 0, 0, 0, 0, 0, 0, 0, 0, 0, 0, 0, 0, 0, 0, 0, 0, 0, 0, 0, 0, 0, 0, 0, 0, 0, 0, 0, 0, 0, 0, 0, 0, 0, 0, 0, 0, 0, 0, 1, 0, 0, 0, 0, 0, 0, 0, 0, 0, 0, 0, 0, 0, 0, 0, 0, 0, 0, 0, 0, 0, 0, 0, 0, 0, 0, 0, 0, 0, 1, 0, 0, 0, 0, 0, 0, 0, 0, 0, 0, 0, 0, 0, 0, 0, 0, 0, 0, 0, 0, 0, 0, 0, 0, 0, 0, 0, 0, 0, 0, 0, 0, 0, 0, 0, 0, 0, 0, 0, 0, 0, 0, 0, 0, 0, 0, 0, 0, 0, 0, 0, 0, 0, 0, 0, 0, 0, 0, 0, 0, 0, 0, 0, 0, 0, 0, 0, 0, 0, 0, 0, 0, 0, 0, 0, 0, 0, 0, 0, 0, 0, 0, 0, 0, 0, 0, 0, 0, 0, 0, 0, 0, 0, 0, 0, 0, 0, 0, 0, 0, 0, 0, 0, 0, 0, 0, 0, 0, 0, 0, 0, 0, 0, 0, 0, 0, 0, 0, 0, 0, 0, 0, 0, 0, 0, 0, 0, 0, 0, 0, 0, 0, 0, 0, 0, 0, 0, 0, 0, 0, 0, 0, 0, 0, 0, 0, 0, 0, 0, 0, 0, 0, 0, 0, 0, 0, 0, 0, 0, 0, 0, 0, 0, 0, 0, 0, 0, 0, 0, 0, 0, 0, 0, 0, 0, 0, 0, 0, 0, 0, 0, 0, 0, 0, 0, 0, 0, 0, 0, 0, 0, 0, 0, 0, 0, 0, 0, 0, 0, 0, 0, 0, 0, 0, 0, 0, 0, 0, 0, 0, 0, 0, 0, 0, 0, 0, 0, 0, 0, 0, 0, 0, 0, 0, 0, 0, 0, 0, 0, 0, 0, 0, 0, 0, 0, 0, 0, 0, 0, 0, 0, 0, 0, 0, 0, 0, 0, 0, 0, 0, 0, 0, 0, 0, 0, 0, 0, 0, 0, 0, 0, 0, 0, 0, 0, 0, 0, 0, 0, 0, 0, 0, 0, 0, 0, 0, 0, 0, 0, 0, 0, 0, 0, 0, 0, 0, 0, 0, 0, 0, 0, 0, 0, 0, 0, 0, 0, 0, 0, 0, 0, 0, 0, 0, 0, 0, 0, 0, 0, 0, 0, 0, 0, 0, 0, 0, 0, 0, 0, 0, 0, 0, 0, 0, 0, 0, 0, 0, 0, 0, 0, 0, 0, 0, 0, 0, 0, 0, 0, 0, 0, 0, 0, 0, 0, 0, 0, 0, 0, 0, 0, 0, 0, 0, 0, 0, 0, 0, 0, 0, 0, 0, 0, 0, 0, 0, 0, 0, 0, 0, 0, 0, 0, 0, 0, 0, 0, 0, 0, 1, 0, 0, 0, 0, 0, 0, 0, 0, 0, 0, 0, 0, 0, 0, 0, 0, 0, 0, 0, 0, 0, 0, 0, 0, 0, 0, 0, 0, 0, 0, 0, 0, 0, 0, 0, 0, 0, 0, 0, 0, 0, 0, 0, 0, 0, 0, 0, 0, 0, 0, 0, 0, 0, 0, 0, 0, 0, 0, 0, 0, 0, 0, 0, 0, 0, 0, 0, 0, 0, 0, 0, 0, 0, 0, 0, 0, 0, 0, 0, 0, 0, 0, 0, 0, 0, 0, 0, 0, 0, 0, 0, 0, 0, 0, 0, 0, 0, 0, 0, 0, 0, 0, 0, 0, 0, 0, 0, 0, 0, 0, 0, 0, 0, 0, 0, 0, 0, 0, 0, 0, 0, 0, 0, 0, 0, 0, 0, 0, 0, 0, 0, 0, 0, 0, 0, 0, 0, 0, 0, 0, 0, 0, 0, 0, 0, 0, 0, 0, 0, 0, 0, 0, 0, 0, 0, 0, 0, 0, 0, 0, 0, 0, 0, 0, 0, 0, 0, 0, 0, 0, 0, 0, 0, 0, 0, 0, 0, 0, 0, 0, 0, 0, 0, 0, 0, 0, 0, 0, 0, 0, 0, 0, 0, 0, 0, 0, 0, 0, 0, 0, 0, 0, 0, 0, 0, 0, 0, 0, 0, 0, 0, 0, 0, 0, 0, 0, 0, 0, 0, 0, 0, 0, 0, 0, 0, 0, 0, 0, 0, 0, 0, 0, 0, 0, 0, 0, 0, 0, 0, 0, 0, 0, 0, 0, 0, 0, 0, 0, 0, 0, 0, 0, 0, 1, 0, 0, 0, 0, 0, 0, 0, 0, 0, 0, 0, 0, 0, 0, 0, 0, 0, 0, 0, 0, 0, 0, 0, 0, 0, 0, 0, 0, 0, 0, 0, 0, 0, 0, 0, 0, 0, 0, 0, 0, 0, 0, 0, 0, 0, 0, 0, 0, 0, 0, 0, 0, 0, 0, 0, 0, 0, 0, 0, 0, 0, 0, 0, 0, 0, 0, 0, 0, 0, 0, 0, 0, 0, 0, 0, 0, 0, 0, 0, 0, 0, 0, 0, 0, 0, 0, 1, 0, 0, 0, 0, 0, 0, 0, 0, 0, 0, 0, 0, 0, 0, 0, 0, 0, 0, 0, 0, 0, 0, 0, 0, 0, 0, 0, 0, 0, 0, 0, 0, 0, 0, 0, 0, 0, 0, 0, 0, 0, 0, 0, 0, 0, 0, 0, 0, 0, 0, 0, 0, 0, 0, 0, 0, 0, 0, 0, 0, 0, 0, 0, 0, 0, 0, 0, 0, 0, 0, 0, 0, 0, 0, 0, 0, 0, 0, 0, 0, 0, 0, 0, 0, 0, 0, 0, 0, 0, 0, 0, 0, 0, 0, 0, 0, 0, 0, 0, 0, 0, 0, 0, 0, 0, 0, 0, 0, 0, 0, 0, 0, 0, 0, 0, 0, 0, 0, 0, 0, 0, 0, 0, 0, 0, 0, 0, 0, 0, 0, 0, 0, 0, 0, 0, 0, 0, 0, 0, 0, 0, 0, 0, 0, 0, 0, 0, 0, 0, 0, 0, 0, 0, 0, 0, 0, 0, 0, 0, 0, 0, 0, 0, 0, 0, 0, 0, 0, 0, 0, 0, 0, 0, 0, 0, 0, 0, 0, 0, 0, 0, 0, 0, 0, 0, 0, 0, 0, 0, 0, 0, 0, 0, 0, 0, 0, 0, 0, 0, 0, 0, 0, 0, 0, 0, 0, 0, 0, 0, 0, 0, 0, 0, 0, 0, 0, 0, 0, 0, 0, 0, 0, 0, 0, 0, 0, 0, 0, 0, 0, 0, 0, 0, 0, 0, 0, 0, 0, 0, 0, 0, 0, 0, 0, 0, 0, 0, 0, 0, 0, 0, 0, 1, 0, 0, 0, 0, 0, 0, 0, 0, 0, 0, 0, 0, 0, 0, 0, 0, 0, 0, 0, 0, 0, 0, 0, 0, 0, 0, 0, 0, 0, 0, 0, 0, 0, 0, 0, 0, 0, 0, 0, 0, 0, 0, 0, 0, 0, 0, 0, 0, 0, 0, 0, 0, 0, 0, 0, 1, 0, 0, 0, 0, 0, 0, 0, 0, 0, 0, 0, 0, 0, 0, 0, 0, 0, 0, 0, 0, 0, 0, 0, 0, 0, 0, 0, 0, 0, 0, 0, 0, 0, 0, 0, 0, 0, 0, 0, 0, 0, 0, 0, 0, 0, 0, 0, 0, 0, 0, 0, 0, 0, 0, 0, 0, 0, 0, 0, 0, 0, 0, 0, 0, 0, 0, 0, 0, 0, 0, 0, 0, 0, 0, 0, 0, 0, 0, 0, 0, 0, 0, 0, 0, 0, 0, 0, 0, 0, 0, 0, 0, 0, 0, 0, 0, 0, 0, 0, 0, 0, 0, 0, 0, 0, 0, 0, 0, 0, 0, 0, 0, 0, 0, 0, 0, 0, 0, 0, 0, 0, 0, 0, 0, 0, 0, 0, 0, 0, 0, 0, 0, 0, 0, 0, 0, 0, 0, 0, 0, 0, 0, 0, 0, 0, 0, 0, 0, 0, 0, 0, 0, 0, 0, 0, 0, 0, 0, 0, 0, 0, 0, 0, 0, 0, 0, 0, 0, 0, 0, 0, 0, 0, 0, 0, 0, 0, 0, 0, 0, 0, 0, 0, 0, 0, 0, 0, 0, 0, 0, 0, 0, 0, 0, 0, 0, 0, 0, 0, 0, 0, 0, 0, 0, 0, 0, 0, 0, 0, 0, 0, 0, 0, 0, 0, 0, 0, 0, 0, 0, 0, 0, 0, 0, 0, 0, 0, 0, 0, 0, 0, 0, 0, 0, 0, 0, 0, 0, 0, 0, 0, 0, 0, 0, 0, 0, 0, 0, 0, 0, 0, 0, 0, 0, 0, 0, 0, 0, 0, 0, 0, 0, 0, 0, 0, 0, 0, 0, 0, 0, 0, 0, 0, 0, 0, 0, 0, 0, 0, 0, 0, 0, 0, 0, 0, 0, 0, 0, 0, 0, 0, 0, 0, 0, 0, 0, 0, 0, 0, 0, 0, 0, 0, 0, 0, 0, 0, 0, 0, 0, 0, 0, 0, 0, 0, 0, 0, 0, 0, 0, 0, 0, 0, 0, 0, 0, 0, 0, 0, 0, 0, 0, 0, 0, 0, 0, 0, 0, 0, 0, 0, 0, 0, 0, 0, 0, 0, 0, 0, 0, 0, 0, 0, 0, 0, 0, 0, 0, 0, 0, 0, 0, 0, 0, 0, 0, 0, 0, 0, 0, 0, 0, 0, 0, 0, 0, 0, 0, 0, 0, 0, 0, 0, 0, 0, 0, 0, 0, 0, 0, 0, 0, 0, 0, 0, 0, 0, 0, 0, 0, 0, 0, 0, 0, 0, 0, 0, 0, 0, 0, 0, 0, 0, 0, 0, 0, 0, 0, 0, 0, 0, 0, 0, 0, 0, 0, 0, 0, 0, 0, 0, 0, 0, 0, 0, 0, 0, 0, 0, 0, 0, 0, 0, 0, 0, 0, 0, 0, 0, 0, 0, 0, 0, 0, 0, 0, 0, 0, 0, 0, 0, 0, 0, 0, 0, 0, 0, 0, 0, 0, 0, 0, 0, 0, 0, 0, 0, 0, 0, 0, 0, 0, 0, 0, 0, 0, 0, 0, 0, 0, 0, 0, 0, 0, 0, 0, 0, 0, 0, 0, 0, 0, 0, 0, 0, 0, 0, 0, 0, 0, 0, 0, 0, 0, 0, 0, 0, 0, 0, 0, 0, 0, 0, 0, 0, 0, 0, 0, 0, 0, 0, 0, 0, 0, 0, 0, 0, 0, 0, 0, 0, 0, 0, 0, 0, 0, 0, 0, 0, 0, 0, 0, 0, 0, 0, 0, 0, 0, 0, 0, 0, 0, 0, 0, 0, 0, 0, 0, 0, 0, 0, 0, 0, 0, 0, 0, 0, 0, 0, 0, 0, 0, 0, 0, 0, 0, 0, 0, 0, 0, 0, 0, 0, 0, 0, 0, 0, 0, 0, 0, 0, 0, 0, 0, 0, 0, 0, 0, 0, 0, 0, 0, 0, 0, 0, 0, 0, 0, 0, 0, 0, 0, 0, 0, 0, 0, 0, 0, 0, 0, 0, 0, 0, 0, 0, 0, 0, 0, 0, 0, 0, 0, 0, 0, 0, 0, 0, 0, 0, 0, 0, 0, 0, 0, 0, 0, 0, 0, 0, 0, 0, 0, 0, 0, 0, 0, 0, 0, 0, 0, 0, 0, 0, 0, 0, 0, 0, 0, 0, 0, 0, 1, 0, 0, 0, 0, 0, 0, 0, 0, 0, 0, 0, 0, 0, 0, 0, 0, 0, 0, 0, 0, 0, 0, 0, 0, 0, 0, 0, 0, 0, 0, 0, 0, 0, 0, 0, 0, 0, 0, 0, 0, 0, 0, 0, 0, 0, 0, 0, 0, 0, 0, 0, 0, 0, 0, 0, 0, 0, 0, 0, 0, 0, 0, 0, 0, 0, 0, 0, 0, 0, 0, 0, 0, 0, 0, 1, 0, 0, 0, 0, 0, 0, 0, 0, 0, 0, 0, 0, 0, 0, 0, 0, 0, 0, 0, 0, 1, 0, 0, 1, 0, 0, 0, 0, 0, 0, 0, 0, 0, 0, 0, 0, 0, 0, 0, 0, 0, 0, 0, 0, 0, 0, 0, 0, 0, 0, 0, 0, 0, 0, 0, 0, 0, 0, 0, 0, 0, 0, 0, 0, 0, 0, 0, 0, 0, 0, 0, 0, 0, 0, 0, 0, 0, 0, 0, 0, 0, 0, 0, 0, 0, 0, 0, 0, 0, 0, 0, 0, 0, 0, 0, 0, 0, 0, 0, 0, 0, 0, 0, 0, 0, 0, 0, 0, 0, 0, 0, 0, 0, 0, 0, 0, 0, 0, 0, 0, 0, 0, 0, 0, 0, 0, 0, 0, 0, 0, 0, 0, 0, 0, 0, 0, 0, 0, 0, 0, 0, 0, 0, 0, 0, 0, 0, 0, 0, 0, 0, 0, 0, 0, 0, 0, 0, 0, 0, 0, 0, 0, 0, 0, 0, 0, 0, 0, 0, 0, 0, 0, 0, 0, 0, 0, 0, 0, 0, 0, 0, 0, 0, 0, 0, 0, 0, 0, 0, 0, 0, 0, 0, 0, 0, 0, 0, 0, 0, 0, 0, 0, 0, 0, 0, 0, 0, 0, 0, 0, 0, 0, 0, 0, 0, 0, 0, 0, 0, 0, 0, 0, 0, 0, 0, 0, 0, 0, 0, 0, 0, 0, 0, 0, 0, 0, 0, 0, 0, 0, 0, 0, 0, 0, 0, 0, 0, 0, 0, 0, 0, 0, 0, 0, 0, 0, 0, 0, 0, 0, 0, 0, 0, 0, 0, 0, 0, 0, 0, 0, 0, 0, 0, 0, 0, 0, 0, 0, 0, 0, 0, 0, 0, 0, 0, 0, 0, 0, 0, 0, 0, 0, 0, 0, 0, 0, 0, 0, 0, 0, 0, 0, 0, 0, 0, 0, 0, 0, 0, 0, 0, 0, 0, 0, 0, 0, 0, 0, 0, 0, 0, 0, 0, 0, 0, 0, 0, 0, 0, 0, 0, 0, 0, 0, 0, 0, 0, 0, 0, 0, 0, 0, 0, 0, 0, 0, 0, 0, 0, 0, 0, 0, 0, 0, 0, 0, 0, 0, 0, 0, 0, 0, 0, 0, 0, 0, 0, 0, 0, 0, 0, 0, 0, 0, 0, 0, 0, 0, 0, 0, 0, 0, 0, 0, 0, 0, 0, 0, 0, 0, 0, 0, 0, 0, 0, 0, 0, 0, 0, 0, 0, 0, 0, 0, 0, 0, 0, 0, 0, 0, 0, 0, 0, 0, 0, 0, 0, 0, 0, 0, 0, 0, 0, 0, 0, 0, 0, 0, 0, 0, 0, 0, 0, 0, 0, 0, 0, 0, 0, 0, 0, 0, 0, 0, 0, 0, 0, 0, 0, 0, 0, 0, 0, 0, 0, 0, 0, 0, 0, 0, 0, 0, 0, 0, 0, 0, 0, 0, 0, 0, 0, 0, 0, 0, 0, 0, 0, 0, 0, 0, 0, 0, 0, 0, 0, 0, 0, 0, 0, 0, 1, 0, 0, 0, 0, 0, 0, 0, 0, 0, 0, 0, 0, 0, 0, 0, 0, 0, 0, 0, 0, 0, 0, 0, 0, 0, 0, 0, 0, 0, 0, 0, 0, 0, 0, 0, 0, 0, 0, 0, 0, 0, 0, 0, 0, 0, 0, 0, 0, 0, 0, 0, 0, 0, 0, 0, 0, 0, 0, 0, 0, 0, 0, 0, 0, 0, 0, 0, 0, 0, 0, 0, 0, 0, 0, 0, 0, 0, 0, 0, 0, 0, 0, 0, 0, 0, 0, 0, 0, 0, 0, 0, 0, 0, 0, 0, 0, 0, 0, 0, 0, 0, 0, 0, 0, 0, 0, 0, 0, 0, 0, 0, 0, 0, 0, 0, 0, 0, 0, 0, 0, 0, 0, 0, 0, 0, 0, 0, 0, 0, 0, 0, 0, 0, 0, 0, 0, 0, 0, 0, 0, 0, 0, 0, 0, 0, 0, 0, 0, 0, 0, 0, 0, 0, 0, 0, 0, 0, 0, 0, 0, 0, 0, 0, 0, 0, 0, 0, 0, 0, 0, 0, 0, 0, 0, 0, 0, 0, 0, 0, 0, 0, 0, 0, 0, 0, 0, 0, 0, 0, 0, 0, 0, 0, 0, 0, 0, 0, 0, 0, 0, 0, 0, 0, 0, 0, 0, 0, 0, 0, 0, 0, 0, 0, 0, 0, 0, 0, 0, 0, 0, 0, 0, 0, 0, 0, 0, 0, 0, 0, 0, 0, 0, 0, 0, 0, 0, 0, 0, 0, 0, 0, 0, 0, 0, 0, 0, 0, 0, 0, 0, 0, 0, 0, 0, 0, 0, 0, 0, 0, 0, 0, 0, 0, 0, 0, 0, 0, 0, 0, 0, 0, 0, 0, 0, 0, 0, 0, 0, 0, 0, 0, 0, 0, 0, 0, 0, 0, 0, 0, 0, 0, 0, 0, 0, 0, 0, 0, 0, 0, 0, 0, 0, 0, 0, 0, 0, 0, 0, 0, 0, 0, 0, 0, 0, 0, 0, 0, 0, 0, 0, 0, 0, 0, 0, 0, 0, 0, 0, 0, 0, 0, 0, 0, 0, 0, 0, 0, 0, 0, 0, 0, 0, 0, 0, 0, 0, 0, 0, 0, 0, 0, 0, 0, 0, 0, 0, 0, 0, 0, 0, 0, 0, 0, 0, 0, 0, 0, 0, 0, 0, 0, 0, 0, 0, 0, 0, 0, 0, 0, 0, 0, 0, 0, 0, 0, 0, 0, 0, 0, 0, 0, 0, 0, 0, 0, 0, 0, 0, 0, 0, 0, 0, 0, 0, 0, 0, 0, 0, 0, 0, 0, 0, 0, 0, 0, 0, 0, 0, 0, 0, 0, 0, 0, 0, 0, 0, 0, 0, 0, 0, 0, 0, 0, 0, 0, 0, 0, 0, 0, 0, 0, 0, 0, 0, 0, 0, 0, 0, 0, 0, 0, 0, 0, 0, 0, 0, 0, 0, 0, 0, 0, 0, 0, 0, 0, 0, 0, 0, 0, 0, 0, 0, 0, 0, 0, 0, 0, 0, 0, 0, 0, 0, 0, 0, 0, 0, 0, 0, 0, 0, 0, 0, 0, 0, 0, 0, 0, 0, 0, 0, 0, 0, 0, 0, 0, 0, 0, 0, 0, 0, 0, 0, 1, 0, 0, 0, 0, 0, 0, 0, 0, 0, 0, 0, 0, 0, 0, 0, 0, 0, 0, 0, 0, 0, 0, 0, 0, 0, 0, 0, 0, 0, 0, 0, 0, 0, 0, 0, 2, 0, 0, 0, 0, 0, 0, 0, 0, 0, 0, 0, 0, 0, 0, 0, 0, 0, 0, 0, 0, 0, 0, 0, 0, 0, 0, 0, 0, 0, 0, 0, 0, 0, 0, 0, 0, 0, 0, 0, 0, 1, 0, 0, 0, 0, 0, 0, 0, 0, 0, 0, 0, 0, 0, 0, 0, 0, 0, 0, 0, 0, 0, 0, 0, 0, 0, 0, 0, 0, 0, 0, 0, 0, 0, 0, 0, 0, 0, 0, 0, 0, 0, 0, 0, 0, 0, 0, 0, 0, 0, 0, 0, 0, 0, 0, 0, 0, 0, 0, 0, 0, 0, 0, 0, 0, 0, 0, 0, 0, 0, 0, 0, 0, 0, 0, 0, 0, 0, 0, 0, 0, 0, 0, 0, 0, 0, 0, 0, 0, 0, 0, 0, 0, 0, 0, 0, 0, 0, 0, 0, 0, 0, 0, 0, 0, 0, 0, 0, 0, 0, 0, 0, 0, 0, 0, 0, 0, 0, 0, 0, 0, 0, 0, 0, 0, 0, 0, 0, 0, 0, 0, 0, 0, 0, 0, 0, 0, 0, 0, 0, 0, 0, 0, 0, 0, 0, 0, 0, 0, 0, 0, 0, 0, 0, 0, 0, 0, 0, 0, 0, 0, 0, 0, 0, 0, 0, 0, 0, 0, 0, 0, 0, 0, 0, 0, 0, 0, 0, 0, 0, 0, 0, 0, 0, 0, 0, 0, 0, 0, 0, 0, 0, 0, 0, 0, 0, 0, 0, 0, 0, 0, 0, 0, 0, 0, 0, 0, 0, 0, 0, 0, 0, 0, 0, 0, 0, 0, 0, 0, 0, 0, 0, 0, 0, 0, 0, 0, 0, 0, 0, 0, 0, 0, 0, 0, 0, 0, 0, 0, 0, 0, 0, 0, 0, 0, 0, 0, 0, 0, 0, 0, 0, 0, 0, 0, 0, 0, 0, 0, 0, 0, 0, 0, 0, 0, 0, 0, 0, 0, 0, 0, 0, 0, 0, 0, 0, 0, 0, 0, 0, 0, 0, 0, 0, 0, 0, 0, 0, 0, 0, 0, 0, 0, 0, 0, 0, 0, 0, 0, 0, 0, 0, 0, 0, 0, 0, 0, 0, 0, 0, 0, 0, 0, 0, 0, 0, 0, 0, 0, 0, 0, 0, 0, 0, 0, 0, 0, 0, 0, 0, 0, 0, 0, 0, 0, 0, 0, 0, 0, 0, 0, 0, 0, 0, 0, 0, 0, 0, 0, 0, 0, 0, 0, 0, 0, 0, 0, 0, 0, 0, 0, 0, 0, 0, 0, 0, 0, 0, 0, 0, 0, 0, 0, 0, 0, 0, 0, 0, 0, 0, 0, 0, 0, 0, 0, 0, 0, 0, 0, 0, 0, 0, 0, 0, 0, 0, 0, 0, 0, 0, 0, 0, 0, 0, 0, 0, 0, 0, 0, 0, 0, 0, 0, 0, 0, 0, 0, 0, 0, 0, 0, 0, 0, 0, 0, 0, 0, 0, 0, 0, 0, 0, 0, 0, 0, 0, 0, 0, 0, 0, 0, 0, 0, 0, 0, 0, 0, 0, 0, 0, 0, 0, 0, 0, 0, 0, 0, 0, 0, 0, 0, 0, 0, 0, 0, 0, 0, 0, 0, 0, 0, 0, 0, 0, 0, 0, 0, 0, 0, 0, 0, 0, 0, 0, 0, 0, 0, 0, 0, 0, 0, 0, 0, 0, 0, 0, 0, 0, 1, 0, 0, 0, 0, 0, 0, 0, 0, 0, 0, 0, 0, 0, 0, 0, 0, 0, 0, 0, 0, 0, 0, 0, 0, 0, 0, 0, 0, 0, 0, 0, 0, 0, 0, 0, 0, 0, 0, 0, 0, 0, 0, 0, 0, 0, 0, 0, 0, 0, 0, 0, 0, 0, 0, 0, 0, 0, 0, 0, 0, 0, 0, 0, 0, 0, 0, 0, 0, 0, 0, 0, 0, 0, 0, 0, 0, 0, 0, 0, 0, 0, 0, 0, 0, 0, 0, 0, 0, 0, 0, 0, 0, 0, 0, 0, 0, 0, 0, 0, 0, 0, 0, 0, 0, 0, 0, 0, 0, 0, 0, 2, 0, 0, 0, 0, 0, 0, 0, 0, 0, 0, 0, 0, 0, 0, 0, 0, 0, 0, 0, 0, 0, 0, 0, 0, 0, 0, 0, 0, 0, 0, 0, 0, 0, 0, 0, 0, 0, 0, 0, 0, 0, 0, 0, 0, 0, 0, 0, 0, 0, 0, 0, 0, 0, 0, 0, 0, 0, 0, 0, 0, 0, 0, 0, 0, 0, 0, 0, 0, 0, 0, 0, 0, 0, 0, 0, 0, 0, 0, 0, 0, 0, 0, 0, 0, 0, 0, 0, 0, 0, 0, 0, 0, 0, 0, 0, 0, 0, 0, 0, 0, 0, 0, 0, 0, 0, 0, 0, 0, 0, 0, 0, 0, 0, 0, 0, 0, 0, 0, 0, 0, 0, 0, 0, 0, 0, 0, 0, 0, 0, 0, 0, 0, 0, 0, 0, 0, 0, 0, 0, 0, 0, 0, 0, 0, 0, 0, 0, 0, 0, 0, 0, 0, 0, 0, 0, 0, 0, 0, 0, 0, 0, 0, 0, 0, 0, 0, 0, 0, 0, 0, 0, 0, 0, 0, 0, 0, 0, 0, 0, 0, 0, 0, 0, 0, 0, 0, 0, 0, 0, 0, 0, 0, 0, 0, 0, 0, 0, 0, 0, 0, 0, 0, 0, 0, 0, 0, 0, 0, 0, 0, 0, 0, 0, 0, 0, 0, 0, 0, 0, 0, 0, 0, 0, 0, 0, 0, 0, 0, 0, 0, 0, 0, 0, 0, 0, 0, 0, 0, 0, 0, 0, 0, 0, 0, 0, 0, 0, 0, 0, 0, 0, 0, 0, 0, 0, 0, 0, 0, 0, 0, 0, 0, 0, 0, 0, 0, 0, 0, 0, 0, 0, 0, 0, 0, 0, 0, 0, 0, 0, 0, 0, 0, 0, 0, 0, 0, 0, 0, 0, 0, 0, 0, 0, 0, 0, 0, 0, 0, 0, 0, 0, 0, 0, 0, 0, 0, 0, 0, 0, 0, 0, 0, 0, 0, 0, 0, 0, 0, 0, 0, 0, 0, 0, 0, 0, 0, 0, 0, 0, 0, 0, 0, 0, 0, 0, 0, 0, 0, 0, 0, 0, 0, 0, 0, 0, 0, 0, 0, 0, 0, 0, 0, 0, 0, 0, 0, 0, 0, 0, 0, 0, 0, 0, 0, 0, 0, 0, 0, 0, 0, 0, 0, 0, 0, 0, 0, 0, 0, 0, 0, 0, 0, 0, 0, 0, 0, 0, 0, 0, 0, 0, 0, 0, 0, 0, 0, 0, 0, 0, 0, 0, 0, 0, 0, 0, 0, 0, 0, 0, 0, 0, 0, 0, 0, 0, 0, 0, 0, 0, 0, 0, 0, 0, 0, 0, 0, 0, 0, 0, 0, 0, 0, 0, 0, 0, 0, 0, 0, 0, 0, 0, 0, 0, 0, 0, 0, 0, 0, 0, 0, 0, 0, 0, 0, 0, 0, 0, 0, 0, 0, 0, 0, 0, 0, 0, 0, 0, 0, 0, 0, 0, 0, 0, 0, 0, 0, 0, 0, 0, 0, 0, 0, 0, 0, 0, 0, 0, 0, 0, 0, 0, 0, 0, 0, 0, 0, 0, 0, 0, 0, 0, 0, 0, 0, 0, 0, 0, 0, 0, 0, 0, 0, 0, 0, 0, 0, 0, 0, 0, 0, 0, 0, 0, 0, 0, 0, 0, 0, 0, 0, 0, 0, 0, 0, 0, 0, 0, 0, 0, 0, 0, 0, 0, 0, 0, 0, 0, 0, 0, 0, 0, 0, 0, 0, 0, 0, 0, 0, 0, 0, 0, 0, 0, 0, 0, 0, 0, 0, 0, 0, 0, 0, 0, 0, 0, 0, 0, 0, 0, 0, 0, 0, 0, 0, 0, 0, 0, 0, 0, 0, 0, 0, 0, 0, 0, 0, 0, 0, 0, 0, 0, 0, 0, 0, 0, 0, 0, 0, 0, 0, 0, 0, 0, 0, 0, 0, 0, 0, 0, 0, 0, 0, 0, 0, 0, 0, 0, 0, 0, 0, 0, 0, 0, 0, 0, 0, 0, 0, 0, 0, 0, 0, 0, 0, 0, 0, 0, 0, 0, 0, 0, 0, 0, 0, 0, 0, 0, 0, 0, 0, 0, 0, 0, 0, 0, 0, 0, 0, 0, 0, 0, 0, 0, 0, 0, 0, 0, 0, 0, 0, 0, 0, 0, 0, 0, 0, 0, 0, 0, 0, 1, 0, 0, 0, 0, 0, 0, 0, 0, 0, 0, 0, 0, 0, 0, 0, 0, 0, 0, 0, 0, 0, 0, 0, 0, 0, 0, 0, 0, 0, 0, 0, 0, 0, 0, 0, 0, 0, 0, 0, 0, 0, 0, 0, 0, 0, 0, 0, 0, 0, 0, 0, 0, 0, 0, 0, 0, 0, 0, 0, 0, 0, 0, 0, 0, 0, 0, 0, 0, 0, 0, 0, 0, 0, 0, 0, 0, 0, 0, 0, 0, 0, 0, 0, 0, 0, 0, 0, 0, 0, 0, 0, 0, 0, 0, 0, 0, 0, 0, 0, 0, 0, 0, 0, 0, 0, 0, 0, 1, 0, 0, 0, 0, 0, 0, 0, 0, 0, 0, 0, 0, 0, 0, 0, 0, 0, 0, 0, 0, 0, 0, 0, 0, 0, 0, 0, 0, 0, 0, 0, 0, 0, 0, 0, 0, 0, 0, 0, 0, 0, 0, 0, 0, 0, 0, 0, 0, 0, 0, 0, 0, 0, 0, 0, 0, 0, 0, 0, 0, 0, 0, 0, 0, 0, 0, 0, 0, 0, 0, 0, 0, 0, 0, 0, 0, 0, 0, 0, 0, 0, 0, 0, 0, 0, 0, 0, 0, 0, 0, 0, 0, 0, 0, 0, 0, 0, 0, 0, 0, 0, 0, 0, 0, 0, 0, 0, 0, 0, 0, 0, 0, 0, 0, 0, 0, 0, 0, 0, 0, 0, 0, 0, 0, 0, 0, 0, 0, 0, 0, 0, 0, 0, 0, 0, 0, 0, 0, 0, 0, 0, 0, 0, 0, 0, 0, 0, 0, 0, 0, 0, 0, 0, 0, 0, 0, 0, 0, 0, 0, 0, 0, 0, 0, 0, 0, 0, 0, 0, 0, 0, 0, 0, 0, 0, 0, 0, 0, 0, 0, 0, 0, 0, 0, 0, 0, 0, 0, 0, 0, 0, 0, 0, 0, 0, 0, 0, 0, 0, 0, 0, 0, 0, 0, 0, 0, 0, 0, 0, 0, 0, 0, 0, 0, 0, 0, 0, 0, 0, 0, 0, 0, 0, 0, 0, 0, 0, 0, 0, 0, 0, 0, 0, 0, 0, 0, 0, 0, 0, 0, 0, 0, 0, 0, 0, 0, 0, 0, 0, 0, 0, 0, 0, 0, 0, 0, 0, 0, 0, 0, 0, 0, 0, 0, 0, 0, 0, 0, 0, 0, 0, 0, 0, 0, 0, 0, 0, 0, 0, 0, 0, 0, 0, 0, 0, 0, 0, 0, 0, 0, 0, 0, 0, 0, 0, 0, 0, 0, 0, 0, 0, 0, 0, 0, 0, 0, 0, 0, 0, 0, 0, 0, 0, 0, 0, 0, 0, 0, 0, 0, 0, 0, 0, 0, 0, 0, 0, 0, 0, 0, 0, 0, 0, 0, 0, 0, 0, 0, 0, 0, 0, 0, 0, 0, 0, 0, 0, 0, 0, 0, 0, 0, 0, 0, 0, 0, 0, 0, 0, 0, 0, 0, 0, 0, 0, 0, 0, 0, 0, 0, 0, 0, 0, 0, 0, 0, 0, 0, 0, 0, 0, 0, 0, 0, 0, 0, 0, 0, 0, 0, 0, 0, 0, 0, 0, 0, 0, 0, 0, 0, 0, 0, 0, 0, 0, 0, 0, 0, 0, 0, 0, 0, 0, 0, 0, 0, 0, 0, 0, 0, 0, 0, 0, 0, 0, 0, 0, 0, 0, 0, 0, 0, 0, 0, 0, 0, 0, 0, 0, 0, 0, 0, 0, 0, 0, 0, 0, 0, 0, 0, 0, 0, 0, 0, 0, 0, 0, 0, 0, 0, 0, 0, 0, 2, 0, 1, 0], type: <class 'list'>, valid types: <class 'bytes'>, <class 'bytearray'>, file-like object"
     ]
    }
   ],
   "source": [
    "response = runtime.invoke_endpoint(EndpointName = xgb_predictor.endpoint, # The name of the endpoint we created\n",
    "                                       ContentType = 'text/csv',                     # The data format that is expected\n",
    "                                       Body = test_bow)"
   ]
  },
  {
   "cell_type": "markdown",
   "metadata": {},
   "source": [
    "So why did we get an error?\n",
    "\n",
    "Because we tried to send the endpoint a list of integers but it expected us to send data of type `text/csv`. So, we need to convert it."
   ]
  },
  {
   "cell_type": "code",
   "execution_count": 47,
   "metadata": {},
   "outputs": [],
   "source": [
    "response = runtime.invoke_endpoint(EndpointName = xgb_predictor.endpoint, # The name of the endpoint we created\n",
    "                                       ContentType = 'text/csv',                     # The data format that is expected\n",
    "                                       Body = ','.join([str(val) for val in test_bow]).encode('utf-8'))"
   ]
  },
  {
   "cell_type": "code",
   "execution_count": 48,
   "metadata": {},
   "outputs": [
    {
     "name": "stdout",
     "output_type": "stream",
     "text": [
      "{'ResponseMetadata': {'RequestId': '8c796787-849a-41c4-9c49-3321488ddbba', 'HTTPStatusCode': 200, 'HTTPHeaders': {'x-amzn-requestid': '8c796787-849a-41c4-9c49-3321488ddbba', 'x-amzn-invoked-production-variant': 'AllTraffic', 'date': 'Tue, 13 Oct 2020 20:57:48 GMT', 'content-type': 'text/csv; charset=utf-8', 'content-length': '14'}, 'RetryAttempts': 0}, 'ContentType': 'text/csv; charset=utf-8', 'InvokedProductionVariant': 'AllTraffic', 'Body': <botocore.response.StreamingBody object at 0x7fdad6d58470>}\n"
     ]
    }
   ],
   "source": [
    "print(response)"
   ]
  },
  {
   "cell_type": "markdown",
   "metadata": {},
   "source": [
    "As we can see, the response from our model is a somewhat complicated looking dict that contains a bunch of information. The bit that we are most interested in is `'Body'` object which is a streaming object that we need to `read` in order to make use of."
   ]
  },
  {
   "cell_type": "code",
   "execution_count": 49,
   "metadata": {},
   "outputs": [
    {
     "name": "stdout",
     "output_type": "stream",
     "text": [
      "0.373513817787\n"
     ]
    }
   ],
   "source": [
    "response = response['Body'].read().decode('utf-8')\n",
    "print(response)"
   ]
  },
  {
   "cell_type": "markdown",
   "metadata": {},
   "source": [
    "Now that we know how to process the incoming user data we can start setting up the infrastructure to make our simple web app work. To do this we will make use of two different services. Amazon's Lambda and API Gateway services.\n",
    "\n",
    "Lambda is a service which allows someone to write some relatively simple code and have it executed whenever a chosen trigger occurs. For example, you may want to update a database whenever new data is uploaded to a folder stored on S3.\n",
    "\n",
    "API Gateway is a service that allows you to create HTTP endpoints (url addresses) which are connected to other AWS services. One of the benefits to this is that you get to decide what credentials, if any, are required to access these endpoints.\n",
    "\n",
    "In our case we are going to set up an HTTP endpoint through API Gateway which is open to the public. Then, whenever anyone sends data to our public endpoint we will trigger a Lambda function which will send the input (in our case a review) to our model's endpoint and then return the result."
   ]
  },
  {
   "cell_type": "markdown",
   "metadata": {},
   "source": [
    "### Setting up a Lambda function\n",
    "\n",
    "The first thing we are going to do is set up a Lambda function. This Lambda function will be executed whenever our public API has data sent to it. When it is executed it will receive the data, perform any sort of processing that is required, send the data (the review) to the SageMaker endpoint we've created and then return the result.\n",
    "\n",
    "#### Part A: Create an IAM Role for the Lambda function\n",
    "\n",
    "Since we want the Lambda function to call a SageMaker endpoint, we need to make sure that it has permission to do so. To do this, we will construct a role that we can later give the Lambda function.\n",
    "\n",
    "Using the AWS Console, navigate to the **IAM** page and click on **Roles**. Then, click on **Create role**. Make sure that the **AWS service** is the type of trusted entity selected and choose **Lambda** as the service that will use this role, then click **Next: Permissions**.\n",
    "\n",
    "In the search box type `sagemaker` and select the check box next to the **AmazonSageMakerFullAccess** policy. Then, click on **Next: Review**.\n",
    "\n",
    "Lastly, give this role a name. Make sure you use a name that you will remember later on, for example `LambdaSageMakerRole`. Then, click on **Create role**."
   ]
  },
  {
   "cell_type": "markdown",
   "metadata": {},
   "source": [
    "#### Part B: Create a Lambda function\n",
    "\n",
    "Now it is time to actually create the Lambda function. Remember from earlier that in order to process the user provided input and send it to our endpoint we need to gather two pieces of information:\n",
    "\n",
    " - The name of the endpoint, and\n",
    " - the vocabulary object.\n",
    "\n",
    "We will copy these pieces of information to our Lambda function after we create it.\n",
    "\n",
    "To start, using the AWS Console, navigate to the AWS Lambda page and click on **Create a function**. When you get to the next page, make sure that **Author from scratch** is selected. Now, name your Lambda function, using a name that you will remember later on, for example `sentiment_analysis_xgboost_func`. Make sure that the **Python 3.6** runtime is selected and then choose the role that you created in the previous part. Then, click on **Create Function**.\n",
    "\n",
    "On the next page you will see some information about the Lambda function you've just created. If you scroll down you should see an editor in which you can write the code that will be executed when your Lambda function is triggered. Collecting the code we wrote above to process a single review and adding it to the provided example `lambda_handler` we arrive at the following.\n",
    "\n",
    "```python\n",
    "# We need to use the low-level library to interact with SageMaker since the SageMaker API\n",
    "# is not available natively through Lambda.\n",
    "import boto3\n",
    "\n",
    "# And we need the regular expression library to do some of the data processing\n",
    "import re\n",
    "\n",
    "REPLACE_NO_SPACE = re.compile(\"(\\.)|(\\;)|(\\:)|(\\!)|(\\')|(\\?)|(\\,)|(\\\")|(\\()|(\\))|(\\[)|(\\])\")\n",
    "REPLACE_WITH_SPACE = re.compile(\"(<br\\s*/><br\\s*/>)|(\\-)|(\\/)\")\n",
    "\n",
    "def review_to_words(review):\n",
    "    words = REPLACE_NO_SPACE.sub(\"\", review.lower())\n",
    "    words = REPLACE_WITH_SPACE.sub(\" \", words)\n",
    "    return words\n",
    "    \n",
    "def bow_encoding(words, vocabulary):\n",
    "    bow = [0] * len(vocabulary) # Start by setting the count for each word in the vocabulary to zero.\n",
    "    for word in words.split():  # For each word in the string\n",
    "        if word in vocabulary:  # If the word is one that occurs in the vocabulary, increase its count.\n",
    "            bow[vocabulary[word]] += 1\n",
    "    return bow\n",
    "\n",
    "\n",
    "def lambda_handler(event, context):\n",
    "    \n",
    "    vocab = \"*** ACTUAL VOCABULARY GOES HERE ***\"\n",
    "    \n",
    "    words = review_to_words(event['body'])\n",
    "    bow = bow_encoding(words, vocab)\n",
    "\n",
    "    # The SageMaker runtime is what allows us to invoke the endpoint that we've created.\n",
    "    runtime = boto3.Session().client('sagemaker-runtime')\n",
    "\n",
    "    # Now we use the SageMaker runtime to invoke our endpoint, sending the review we were given\n",
    "    response = runtime.invoke_endpoint(EndpointName = '***ENDPOINT NAME HERE***',# The name of the endpoint we created\n",
    "                                       ContentType = 'text/csv',                 # The data format that is expected\n",
    "                                       Body = ','.join([str(val) for val in bow]).encode('utf-8')) # The actual review\n",
    "\n",
    "    # The response is an HTTP response whose body contains the result of our inference\n",
    "    result = response['Body'].read().decode('utf-8')\n",
    "    \n",
    "    # Round the result so that our web app only gets '1' or '0' as a response.\n",
    "    result = round(float(result))\n",
    "\n",
    "    return {\n",
    "        'statusCode' : 200,\n",
    "        'headers' : { 'Content-Type' : 'text/plain', 'Access-Control-Allow-Origin' : '*' },\n",
    "        'body' : str(result)\n",
    "    }\n",
    "```"
   ]
  },
  {
   "cell_type": "markdown",
   "metadata": {},
   "source": [
    "Once you have copy and pasted the code above into the Lambda code editor, replace the `**ENDPOINT NAME HERE**` portion with the name of the endpoint that we deployed earlier. You can determine the name of the endpoint using the code cell below."
   ]
  },
  {
   "cell_type": "code",
   "execution_count": 50,
   "metadata": {},
   "outputs": [
    {
     "data": {
      "text/plain": [
       "'xgboost-2020-10-13-20-15-00-222'"
      ]
     },
     "execution_count": 50,
     "metadata": {},
     "output_type": "execute_result"
    }
   ],
   "source": [
    "xgb_predictor.endpoint"
   ]
  },
  {
   "cell_type": "markdown",
   "metadata": {},
   "source": [
    "In addition, you will need to copy the vocabulary dict to the appropriate place in the code at the beginning of the `lambda_handler` method. The cell below prints out the vocabulary dict in a way that is easy to copy and paste."
   ]
  },
  {
   "cell_type": "code",
   "execution_count": 52,
   "metadata": {},
   "outputs": [
    {
     "name": "stdout",
     "output_type": "stream",
     "text": [
      "{'saw': 3798, 'this': 4457, 'film': 1716, 'at': 331, 'the': 4426, 'festival': 1697, 'as': 311, 'did': 1241, 'presumably': 3380, 'all': 187, 'other': 3135, 'director': 1264, 'was': 4805, 'present': 3374, 'and': 226, 'seemed': 3862, 'to': 4507, 'have': 2052, 'worked': 4941, 'very': 4723, 'hard': 2033, 'be': 418, 'committed': 905, 'project': 3427, 'which': 4867, 'think': 4452, 'explains': 1589, 'above': 68, 'average': 362, 'mark': 2739, 'it': 2366, 'got': 1944, 'its': 2370, 'most': 2909, 'similar': 3978, 'feature': 1678, 'length': 2569, 'episode': 1507, 'of': 3083, 'kids': 2467, 'favourite': 1673, 'round': 3742, 'twist': 4617, 'but': 636, 'takes': 4351, 'itself': 2371, 'too': 4522, 'seriously': 3892, 'even': 1533, 'that': 4424, 'redeeming': 3577, 'movie': 2926, 'in': 2257, 'is': 2360, 'maybe': 2776, 'worth': 4953, 'seeing': 3857, 'if': 2222, 'youre': 4992, 'trying': 4601, 'do': 1302, 'cinematic': 818, 'world': 4946, 'tour': 4538, 'un': 4630, 'member': 2800, 'states': 4163, 'cant': 671, 'another': 250, 'overall': 3150, 'generic': 1885, 'poorly': 3329, 'acted': 98, 'albeit': 173, 'by': 642, 'an': 223, 'amateur': 206, 'cast': 710, 'moral': 2902, 'story': 4207, 'native': 2972, 'will': 4886, 'try': 4600, 'each': 1395, 'over': 3148, 'long': 2644, 'there': 4438, 'essentially': 1523, 'decent': 1147, 'white': 4870, 'step': 4175, 'problems': 3409, 'can': 665, 'leaving': 2557, 'island': 2361, 'first': 1736, 'john': 2409, 'waters': 4817, 'say': 3799, 'also': 199, 'worst': 4952, 'had': 2003, 'seen': 3865, 'up': 4683, 'point': 3316, 'group': 1980, 'talent': 4354, 'included': 2262, 'several': 3905, 'people': 3221, 'who': 4871, 'am': 204, 'sure': 4308, 'for': 1784, 'food': 1778, 'were': 4848, 'willing': 4889, 'lines': 2612, 'wrote': 4974, 'every': 1539, 'thing': 4450, 'about': 67, 'terrible': 4407, 'acting': 99, 'camera': 659, 'editing': 1421, 'woman': 4921, 'played': 3297, 'purely': 3472, 'absurd': 73, 'said': 3774, 'recommend': 3571, 'because': 432, 'funny': 1852, 'you': 4986, 'wont': 4932, 'believe': 454, 'crap': 1031, 'happens': 2029, 'poor': 3328, 'her': 2085, 'son': 4070, 'womens': 4924, 'feet': 1688, 'store': 4204, 'daughter': 1121, 'town': 4541, 'husband': 2204, 'hole': 2132, 'does': 1308, 'everything': 1544, 'his': 2118, 'power': 3359, 'only': 3110, 'friend': 1835, 'possibly': 3351, 'actress': 105, 'ever': 1538, 'looks': 2649, 'sounds': 4084, 'like': 2599, 'she': 3923, 'reading': 3544, 'off': 3084, 'card': 681, 'has': 2043, 'never': 3001, 'script': 3834, 'prior': 3400, 'filming': 1718, 'despite': 1211, 'fabulous': 1615, 'hollywood': 2137, 'ending': 1471, 'everyone': 1542, 'lives': 2628, 'happily': 2030, 'after': 143, 'admit': 122, 'moved': 2922, 'me': 2778, 'extent': 1605, 'tears': 4380, 'however': 2183, 'always': 203, 'things': 4451, 'twice': 4613, 'instead': 2307, 'writing': 4971, 'would': 4957, 'flawless': 1751, 'prefer': 3368, 'taking': 4352, 'risk': 3704, 'closer': 856, 'look': 2646, 'whats': 4860, 'impact': 2244, 'on': 3105, 'viewer': 4738, 'simply': 3986, 'starts': 4159, 'out': 3141, 'continues': 971, 'slow': 4031, 'paced': 3162, 'doesnt': 1309, 'blow': 514, 'away': 369, 'with': 4911, 'actual': 108, 'scenes': 3811, 'from': 1840, '11': 2, 'thumbs': 4485, 'genius': 1887, 'unlike': 4670, 'stones': 4198, 'trade': 4547, 'center': 732, 'fortunately': 1805, 'focus': 1766, 'attack': 337, 'nuclear': 3057, 'explosion': 1596, 'hardly': 2036, 'visible': 4753, 'nonetheless': 3029, 'dangerous': 1110, 'psychological': 3458, 'sheer': 3925, 'caused': 724, 'american': 213, 'almost': 193, 'managed': 2723, 'post': 3352, 'society': 4050, 'sandler': 3781, 'my': 2951, 'opinion': 3118, 'sky': 4017, 'comedy': 890, 'actor': 103, 'real': 3547, 'delivers': 1172, 'performance': 3228, 'worthy': 4956, 'oscar': 3133, 'blood': 512, 'diamond': 1236, 'character': 758, 'says': 3801, 'quote': 3496, 'ah': 158, 'these': 4441, 'americans': 214, 'want': 4788, 'take': 4349, 'their': 4431, 'feelings': 1686, 'now': 3054, 'dont': 1324, 'make': 2713, 'comparison': 914, 'since': 3990, 'entire': 1502, 'industry': 2280, 'writers': 4969, 'such': 4268, 'more': 2904, 'than': 4420, 'works': 4945, 'huge': 2185, 'amount': 219, 'cultural': 1078, 'dealing': 1136, 'turn': 4605, 'death': 1141, '3000': 43, 'into': 2332, 'biggest': 480, 'tragedy': 4551, 'young': 4989, 'century': 736, 'number': 3060, 'books': 536, 'written': 4972, 'subject': 4253, 'films': 1721, 'directed': 1259, 'due': 1382, 'respect': 3652, 'importance': 2246, 'atrocious': 335, 'crime': 1055, 'somewhat': 4068, 'fact': 1621, 'die': 1243, 'day': 1129, 'actions': 101, 'horrible': 2163, 'crimes': 1056, 'bad': 382, 'or': 3124, 'lost': 2660, 'we': 4823, 'war': 4792, 'iraq': 2351, 'lots': 2662, 'countries': 1013, 'daily': 1097, 'basis': 408, 'forget': 1793, 'poverty': 3357, 'african': 142, 'suffer': 4275, 'tend': 4400, 'them': 4432, 'lesser': 2576, 'degree': 1164, 'victims': 4730, 'they': 4442, 'are': 285, 'black': 493, 'much': 2934, 'common': 906, 'our': 3139, 'western': 4853, 'africa': 141, 'neither': 2996, 'money': 2888, 'nor': 3032, 'potential': 3355, 'national': 2970, 'way': 4820, 'america': 212, 'so': 4046, 'what': 4858, 'saying': 3800, 'reason': 3557, 'why': 4878, 'feel': 1684, 'families': 1644, 'constantly': 958, 'reminded': 3619, 'not': 3040, 'goes': 1930, 'without': 4913, 'newspaper': 3006, 'book': 535, 'conclusion': 936, 'charlie': 765, 'wasnt': 4807, 'whether': 4866, 'right': 3696, 'him': 2110, 'family': 1645, 'civil': 826, 'catch': 714, 'expect': 1575, 'glad': 1916, 'went': 4847, 'see': 3855, 'smart': 4035, 'slightly': 4029, 'twisted': 4618, 'makes': 2716, 'quite': 3495, 'how': 2181, 'create': 1036, 'nothing': 3047, 'leave': 2555, 'mr': 2929, 'brilliant': 583, 'individuals': 2278, 'core': 995, 'low': 2676, 'budget': 610, 'set': 3898, 'well': 4843, 'your': 4991, 'time': 4495, 'opportunity': 3121, 'please': 3304, 'go': 1924, 'youll': 4988, 'appropriate': 283, 'title': 4504, 'when': 4862, 'decided': 1149, 'watch': 4811, 'masterpiece': 2759, 'modern': 2882, 'suspenseful': 4331, 'thought': 4462, 'fails': 1628, 'incredibly': 2270, 'sound': 4081, 'effects': 1431, 'dubbing': 1380, 'add': 115, 'one': 3107, 'greatest': 1966, 'comedies': 889, 'recent': 3566, 'years': 4979, 'yet': 4984, 'movies': 2927, 'grand': 1953, 'becomes': 434, 'attempting': 342, 'throughout': 4478, 'old': 3100, 'guy': 2000, 'amazingly': 210, 'santa': 3783, 'around': 297, 'zombies': 4998, 'vampires': 4712, 'ground': 1979, 'made': 2697, 'fail': 1625, 'vs': 4767, 'fighting': 1709, 'oh': 3096, 'whatever': 4859, 'besides': 468, 'flaws': 1752, 'rental': 3627, 'been': 438, 'virus': 4752, 'through': 4477, 'creating': 1039, 'zombie': 4997, 'beings': 449, 'lot': 2661, 'theres': 4440, 'four': 1812, 'problem': 3408, 'shop': 3945, 'everywhere': 1545, 'surely': 4309, 'youd': 4987, 'woods': 4935, 'background': 380, 'bit': 488, 'just': 2437, 'circle': 821, 'forest': 1791, 'again': 146, 'didnt': 1242, 'high': 2100, 'enough': 1491, 'location': 2635, 'waste': 4808, 'precious': 3366, 'different': 1248, 'areas': 287, 'wood': 4933, 'he': 2056, 'busy': 635, 'sitting': 4007, 'trailer': 4554, 'bothered': 549, 'matters': 2770, 'fun': 1848, 'doing': 1312, 'hire': 2116, 'big': 478, 'editor': 1423, 'told': 4513, 'eight': 1436, 'members': 2801, 'dress': 1357, 'act': 97, 'whilst': 4869, 'assume': 328, 'changed': 750, 'name': 2960, 'began': 441, 'randomly': 3515, 'isnt': 2362, 'job': 2405, 'anyway': 261, 'found': 1811, 'bag': 384, 'somehow': 4063, 'confused': 941, 'freddy': 1826, 'jason': 2383, 'strange': 4211, 'happen': 2026, 'though': 4461, 'night': 3013, 'gas': 1874, 'avoid': 363, 'mess': 2818, 'yes': 4982, 'laugh': 2529, 'end': 1468, 'im': 2232, 'initial': 2290, 'release': 3602, 'good': 1937, 'titles': 4506, 'redemption': 3578, 'bottom': 551, 'leads': 2548, 'dance': 1103, 'no': 3020, 'anywhere': 263, 'simple': 3983, 'mysterious': 2955, 'count': 1010, 'actresses': 106, 'castle': 712, 'little': 2624, 'vacation': 4704, 'some': 4061, 'sexual': 3908, 'girls': 1911, 'get': 1899, 'killer': 2470, 'knows': 2493, 'red': 3576, 'local': 2634, 'fish': 1738, 'market': 2740, 'friday': 1834, 'pace': 3161, 'silly': 3976, 'skin': 4015, 'arent': 288, 'terrific': 4409, 'either': 1438, 'give': 1912, 'miss': 2866, 'true': 4596, 'facts': 1624, 'documentary': 1307, 'few': 1700, 'days': 1130, 'earlier': 1399, 'anything': 260, 'should': 3951, 'man': 2721, 'love': 2669, 'plain': 3286, 'wrong': 4973, 'scene': 3809, 'where': 4864, 'happened': 2027, 'early': 1400, 'university': 4667, 'russell': 3761, 'fit': 1740, 'part': 3193, 'intelligent': 2314, 'type': 4621, 'therefore': 4439, 'really': 3556, 'couldnt': 1008, 'play': 3296, 'great': 1964, 'focused': 1767, 'level': 2584, 'superficial': 4298, 'personally': 3243, 'mad': 2696, 'onto': 3111, 'something': 4066, 'caliber': 649, 'know': 2489, '10': 0, 'liked': 2600, 'street': 4216, 'fighter': 1708, 'figured': 1712, 'hey': 2095, 'matter': 2769, 'stupid': 4247, 'ill': 2228, 'least': 2554, 'kick': 2460, 'ass': 323, 'dull': 1384, 'dreary': 1356, 'pointless': 3318, 'talking': 4360, 'half': 2007, 'meaningless': 2782, 'action': 100, 'any': 256, 'kind': 2476, 'martial': 2747, 'arts': 310, 'shot': 3949, 'edited': 1420, 'going': 1931, 'dub': 1378, 'perhaps': 3235, 'best': 469, 'supposedly': 4307, 'features': 1680, 'italian': 2367, 'mafia': 2700, 'except': 1556, 'theyre': 4445, 'japanese': 2382, 'plague': 3285, 'better': 472, 'looking': 2648, 'window': 4894, 'class': 833, 'five': 1743, 'minutes': 2859, 'premise': 3370, 'sequel': 3885, 'success': 4265, 'remake': 3612, 'expected': 1577, 'sad': 3767, 'truth': 4599, 'inept': 2281, 'situations': 4009, 'dumb': 1385, 'beyond': 476, 'truly': 4597, 'awful': 372, 'likable': 2598, 'characters': 760, 'gore': 1941, 'violence': 4747, 'minimal': 2855, 'shame': 3918, 'many': 2732, 'room': 3735, 'heavy': 2070, 'mean': 2779, 'team': 4378, 'hunting': 2201, 'cannibal': 669, 'watched': 4813, 'wanted': 4789, 'back': 378, 'anyways': 262, 'clear': 839, 'example': 1553, 'rushed': 3760, 'quality': 3484, 'aspects': 322, 'let': 2579, 'down': 1335, 'fans': 1650, 'thats': 4425, 'sequels': 3886, 'original': 3129, 'lame': 2510, 'chick': 786, 'flick': 1754, 'two': 4620, 'attractive': 351, 'meeting': 2794, 'airport': 167, 'then': 4436, 'dislike': 1288, 'mind': 2849, 'nonsense': 3030, 'theater': 4427, 'humble': 2191, 'wes': 4851, 'craven': 1034, 'based': 404, 'previous': 3387, 'horror': 2168, 'following': 1774, 'logic': 2638, 'surprising': 4315, 'find': 1726, 'built': 618, 'sweet': 4336, 'awesome': 371, 'murphy': 2944, 'wreck': 4965, 'whole': 4873, 'scope': 3821, 'jackson': 2375, 'jack': 2373, 'impressive': 2253, 'being': 448, 'utterly': 4702, 'charming': 768, 'plus': 3311, 'proceeds': 3411, 'freak': 1824, 'victim': 4729, 'jennifer': 2392, 'rachel': 3500, 'pretty': 3384, 'annoying': 249, 'help': 2079, 'flicks': 1755, 'beating': 425, 'airplane': 166, 'toilet': 4512, 'thanks': 4423, 'read': 3543, 'shirley': 3936, 'novel': 3052, 'ive': 2372, 'meaning': 2780, 'remember': 3616, 'jumping': 2431, 'once': 3106, 'although': 201, 'cannot': 670, 'recall': 3562, 'special': 4097, 'dvd': 1391, 'theatre': 4429, 'must': 2950, 'sight': 3969, 'done': 1322, 'waiting': 4772, 'develop': 1222, 'loosely': 2651, 'classic': 835, 'staring': 4152, 'gorgeous': 1942, 'catherine': 719, 'jones': 2418, 'basically': 407, 'else': 1448, 'suck': 4269, 'voice': 4761, 'face': 1616, 'could': 1007, 'relate': 3593, 'three': 4469, 'dying': 1393, 'campy': 664, '13th': 5, 'scream': 3826, 'entertainment': 1500, 'value': 4709, 'fill': 1714, 'gory': 1943, 'deaths': 1142, 'females': 1694, 'greater': 1965, 'sense': 3877, 'might': 2835, 'brought': 600, 'rating': 3529, 'tame': 4363, 'rated': 3527, 'pg': 3250, 'barely': 399, 'roger': 3724, 'produced': 3414, 'unknown': 4668, '1984': 23, 'wannabe': 4787, 'flat': 1748, 'humor': 2192, 'work': 4940, 'fantasy': 1652, 'suspense': 4330, 'adventure': 130, 'nudity': 3059, 'lets': 2580, 'deliver': 1169, 'jokes': 2415, 'seems': 3864, 'blame': 499, 'fall': 1637, 'capable': 672, 'hands': 2020, 'entertaining': 1499, 'simon': 3982, 'harvey': 2042, 'paul': 3214, 'charles': 764, 'dig': 1250, 'wacky': 4769, 'floating': 1758, 'between': 475, 'ancient': 225, 'alien': 183, 'thinks': 4454, 'sees': 3866, 'evidence': 1546, 'cutting': 1092, 'upon': 4684, 'secret': 3849, 'inside': 2297, 'quickly': 3491, 'animal': 239, 'later': 2525, 'arnold': 296, 'home': 2142, 'small': 4033, 'california': 650, 'desert': 1198, 'probably': 3407, 'creature': 1045, 'plans': 3292, 'telling': 4396, 'finally': 1724, 'extremely': 1610, 'cute': 1090, 'girlfriend': 1910, 'van': 4713, 'der': 1191, 'left': 2561, 'charge': 761, 'havent': 2053, 'while': 4868, 'hop': 2154, 'meanwhile': 2785, 'brother': 598, 'role': 3726, 'owner': 3159, 'successful': 4266, 'company': 910, 'eager': 1396, 'buy': 640, 'land': 2511, 'own': 3158, 'sell': 3871, 'hits': 2125, 'scheme': 3812, 'steal': 4170, 'gradually': 1952, 'control': 977, 'along': 195, 'junk': 2436, 'begin': 442, 'reads': 3545, 'summary': 4290, 'plays': 3301, 'screen': 3829, 'shots': 3950, 'those': 4460, 'natural': 2973, 'landscapes': 2514, 'driving': 1368, 'exception': 1557, 'cheap': 774, 'sets': 3899, 'importantly': 2248, 'show': 3953, 'setting': 3900, 'oddly': 3081, 'given': 1913, 'production': 3419, 'design': 1202, 'gem': 1877, '1980s': 21, 'style': 4249, 'details': 1219, 'dude': 1381, 'jon': 2416, 'amusing': 221, 'hes': 2093, 'rate': 3526, 'comes': 891, 'across': 96, 'here': 2086, 'unfortunately': 4654, 'ends': 1474, 'physically': 3263, 'ridiculous': 3693, 'facial': 1619, 'hair': 2005, 'evil': 1548, 'frequently': 1832, 'carol': 693, 'succeed': 4262, 'directors': 1266, 'clark': 832, 'dave': 1123, 'powers': 3361, 'pushing': 3479, 'chaos': 755, 'far': 1653, 'related': 3594, 'pacing': 3163, 'completely': 922, 'possible': 3350, 'compelling': 916, 'dramatic': 1348, 'drama': 1346, 'lady': 2507, 'road': 3709, 'put': 3480, 'together': 4511, 'affect': 136, 'serious': 3891, 'logical': 2639, 'stands': 4147, 'come': 886, 'answer': 251, 'final': 1722, 'cut': 1089, 'menacing': 2807, 'monsters': 2893, 'further': 1853, 'kept': 2456, 'remains': 3611, 'creatures': 1046, 'monster': 2892, 'threatening': 4468, 'easily': 1406, 'admittedly': 123, 'stuff': 4243, 'intended': 2315, 'spoof': 4127, 'countless': 1012, 'rip': 3700, 'wake': 4774, 'couple': 1016, 'times': 4497, 'surprisingly': 4316, 'bland': 500, 'clichés': 846, 'remaining': 3610, 'material': 2766, 'consists': 955, 'non': 3027, 'timing': 4498, 'falls': 1640, 'both': 547, 'frightening': 1839, 'hilarious': 2106, 'disturbing': 1300, 'cheesy': 781, 'same': 3778, 'outer': 3143, 'space': 4090, 'nowhere': 3056, 'near': 2979, 'peoples': 3222, 'personal': 3240, 'anyone': 259, 'brain': 562, 'total': 4531, 'rubbish': 3748, 'deserve': 1199, 'franchise': 1817, 'friends': 1837, 'somebody': 4062, 'involved': 2346, 'career': 686, 'push': 3477, 'con': 928, 'otherwise': 3137, 'storyline': 4208, 'weak': 4824, 'likewise': 2603, 'attempts': 343, 'hide': 2097, 'lack': 2502, 'originality': 3130, 'using': 4698, 'girl': 1909, 'wow': 4962, 'makers': 2715, 'sadly': 3769, 'complete': 921, 'scares': 3806, 'absolutely': 72, 'qualities': 3483, 'utter': 4701, 'pair': 3176, 'having': 2054, 'someone': 4064, 'piece': 3272, 'effort': 1432, 'actually': 109, 'making': 2718, 'explanation': 1590, 'screenwriter': 3833, 'pamela': 3179, 'gave': 1875, 'introduced': 2337, 'specific': 4099, 'historical': 2119, 'record': 3573, 'joseph': 2419, 'directly': 1263, 'responsible': 3656, 'prisoners': 3403, 'needed': 2988, 'himself': 2111, 'lena': 2568, 'attempt': 340, 'top': 4525, 'idea': 2213, 'getting': 1901, 'impossible': 2249, 'became': 431, 'hook': 2152, 'sex': 3907, 'new': 3003, 'below': 462, 'fire': 1734, 'lisa': 2616, 'virtually': 4751, 'funniest': 1851, 'reminds': 3620, 'jackie': 2374, 'chan': 746, 'ms': 2931, 'may': 2775, 'artist': 307, 'disneys': 1290, 'animated': 241, 'cinderella': 815, 'perfect': 3224, 'return': 3665, 'full': 1846, 'animation': 242, 'opposed': 3122, '40s': 49, 'expensive': 1579, 'depth': 1190, 'via': 4726, 'multi': 2935, 'plane': 3288, 'returns': 3668, 'disney': 1289, 'era': 1513, 'period': 3236, 'place': 3282, 'mature': 2773, 'snow': 4045, 'dimensional': 1253, 'developed': 1223, 'prince': 3396, 'smile': 4036, 'popular': 3333, 'culture': 1079, 'versions': 4721, 'nice': 3008, 'appearance': 274, 'favorite': 1671, 'appreciated': 280, 'continuity': 972, 'loses': 2657, 'addition': 118, 'assault': 324, 'horrific': 2166, 'child': 789, 'view': 4736, 'master': 2757, 'showing': 3958, 'large': 2517, 'light': 2595, 'broken': 594, 'shows': 3960, 'hold': 2129, 'defeat': 1157, 'wicked': 4879, 'villains': 4745, 'witch': 4909, 'sleeping': 4025, 'beauty': 430, 'canadian': 667, 'tv': 4610, 'creates': 1038, 'last': 2521, 'supposed': 4306, 'reaction': 3541, 'business': 633, 'call': 651, 'laughter': 2535, 'beat': 423, 'stereotype': 4178, 'thinking': 4453, 'terrorists': 4414, 'ok': 3098, 'joke': 2414, 'stick': 4185, 'masses': 2755, '30': 42, 'called': 652, 'dead': 1132, 'horse': 2170, 'snl': 4044, 'commercial': 902, 'break': 569, 'conflict': 939, 'scripts': 3836, 'able': 66, 'serve': 3893, 'fast': 1661, 'start': 4156, 'winning': 4898, 'cardboard': 682, 'interesting': 2325, 'us': 4690, 'follow': 1772, 'situation': 4008, 'next': 3007, 'need': 2987, 'strong': 4229, 'dynamic': 1394, 'drawn': 1351, 'week': 4837, 'care': 684, 'worry': 4950, 'trouble': 4592, 'itll': 2369, 'soon': 4074, 'thankfully': 4422, 'names': 2963, 'note': 3044, 'sign': 3970, 'casting': 711, 'actors': 104, 'none': 3028, 'seem': 3861, 'working': 4944, 'live': 2625, 'become': 433, 'portray': 3340, 'sitcom': 4004, 'treat': 4572, 'bigger': 479, 'lifetime': 2594, 'whom': 4875, 'spend': 4105, 'portraying': 3343, 'honest': 2146, 'considering': 952, 'concept': 930, 'mentions': 2813, 'directing': 1260, 'canada': 666, 'channel': 753, 'kill': 2468, 'park': 3190, 'boys': 559, 'cause': 723, 'dog': 1310, 'stars': 4155, 'credit': 1049, 'build': 614, 'event': 1535, 'learn': 2550, 'hope': 2155, 'blown': 516, 'strike': 4224, 'season': 3843, 'bollywood': 530, 'massive': 2756, 'hype': 2207, 'surrounding': 4319, 'box': 555, 'office': 3091, 'london': 2641, 'dreams': 1355, 'chasing': 772, 'achieve': 92, 'wants': 4791, 'dream': 1354, 'perform': 3227, 'front': 1841, 'audience': 352, 'calling': 653, 'joined': 2413, 'brothers': 599, 'roy': 3745, 'form': 1798, 'band': 391, 'chief': 788, 'secretly': 3851, 'reveal': 3670, 'till': 4493, 'goal': 1925, 'brings': 587, 'childhood': 790, 'aka': 168, 'khan': 2459, 'life': 2592, 'join': 2412, 'trained': 4557, 'superior': 4300, 'skills': 4014, 'affair': 135, 'forms': 1801, 'rest': 3657, 'coming': 896, 'technical': 4381, 'shadow': 3912, 'felt': 1692, 'screenplay': 3831, 'short': 3946, 'moments': 2887, 'defined': 1160, 'predictable': 3367, 'fashion': 1659, 'bore': 540, 'stiff': 4187, 'capturing': 679, 'watching': 4815, 'songs': 4072, 'others': 3136, 'fare': 1655, 'stole': 4194, 'negative': 2991, 'forgettable': 1794, 'strictly': 4223, 'proceedings': 3410, 'task': 4368, 'straight': 4210, 'enjoy': 1484, 'choice': 797, 'basic': 406, 'places': 3284, 'delivery': 1173, 'aware': 368, 'version': 4720, 'usual': 4699, 'complex': 923, 'ideas': 2215, 'convincing': 985, 'manner': 2729, 'content': 966, 'heads': 2059, 'reaching': 3539, 'popcorn': 3331, 'pop': 3330, 'icon': 2211, 'assumed': 329, 'student': 4238, 'taken': 4350, 'under': 4639, 'european': 1530, 'communist': 907, 'appreciation': 281, 'support': 4303, 'ways': 4822, 'wear': 4830, 'blue': 518, 'happy': 2032, 'wise': 4903, 'gray': 1963, 'god': 1926, 'whose': 4877, 'deep': 1154, 'effect': 1428, 'often': 3095, 'confusion': 943, 'magical': 2704, 'naive': 2958, 'mention': 2810, 'che': 773, 'certain': 737, 'immediately': 2242, 'lovely': 2671, 'students': 4239, 'engage': 1479, 'dialogues': 1235, 'word': 4937, 'blind': 506, 'falling': 1639, 'building': 615, 'pit': 3278, 'suddenly': 4273, 'hero': 2088, 'pathetic': 3210, 'wing': 4896, 'leaves': 2556, 'hoping': 2160, 'display': 1291, 'improve': 2254, 'james': 2378, 'dean': 1139, 'image': 2233, 'chances': 748, 'laid': 2508, 'chicks': 787, 'mass': 2753, 'hippie': 2115, 'eventually': 1537, 'gets': 1900, 'cops': 993, 'ie': 2221, 'spends': 4107, 'freedom': 1828, 'hollow': 2135, 'offer': 3087, 'deals': 1137, 'endless': 1473, 'commercials': 903, 'advertising': 132, 'selfish': 3870, 'greedy': 1969, 'population': 3335, 'themselves': 4435, 'children': 792, 'late': 2523, '60s': 54, 'failed': 1626, 'notice': 3048, 'obvious': 3071, 'aspect': 321, 'movement': 2923, 'allowed': 190, 'laughable': 2530, 'express': 1600, 'anti': 254, 'opinions': 3119, 'within': 4912, 'whereas': 4865, 'still': 4188, 'irony': 2357, 'naturally': 2974, 'realize': 3552, 'excessive': 1560, 'garbage': 1870, 'incredible': 2269, 'successfully': 4267, 'system': 4345, 'species': 4098, 'spoiled': 4122, 'bunch': 623, 'middle': 2833, 'upper': 4685, 'losers': 2656, 'forever': 1792, 'including': 2264, 'factor': 1622, 'symbolism': 4341, 'trite': 4589, 'highly': 2105, 'violent': 4748, 'revolution': 3680, 'solution': 4059, 'rich': 3685, 'fat': 1663, 'maker': 2714, 'french': 1830, 'major': 2711, 'massacre': 2754, 'thousands': 4466, 'china': 795, 'faces': 1618, 'ten': 4399, 'suppose': 4305, 'means': 2783, 'chinese': 796, 'thousand': 4465, 'less': 2575, 'neo': 2998, 'review': 3676, 'chance': 747, 'run': 3755, 'pacino': 3164, 'playing': 3300, 'tony': 4521, 'montana': 2895, 'pulp': 3465, 'fiction': 1702, 'swear': 4334, 'words': 4938, 'angle': 236, 'plot': 3309, 'moves': 2925, 'keeping': 2450, 'correct': 1000, 'easy': 1410, 'keep': 2449, 'eyes': 1613, 'lose': 2654, 'hours': 2177, 'crappy': 1032, '80s': 59, 'root': 3737, 'revolutionary': 3681, 'elegant': 1441, 'cinema': 816, 'police': 3322, 'station': 4164, 'mostly': 2910, 'miller': 2846, 'wonderful': 4928, 'among': 217, 'spare': 4093, 'especially': 1520, 'breathtaking': 574, 'captivating': 675, 'viewing': 4740, 'superb': 4296, 'paper': 3183, 'cliche': 843, 'detective': 1220, 'believable': 453, 'allows': 192, 'access': 83, 'inner': 2292, 'moment': 2886, 'appears': 278, 'forced': 1787, 'failure': 1629, 'equal': 1509, 'single': 3996, 'minded': 2850, 'pregnant': 3369, 'tension': 4404, 'field': 1704, 'battle': 414, 'turns': 4609, 'message': 2819, 'search': 3841, 'cop': 991, 'necessary': 2984, 'close': 853, 'cases': 708, 'justice': 2438, 'shines': 3932, 'potentially': 3356, 'bound': 553, 'scenario': 3808, 'comments': 901, 'school': 3813, 'site': 4005, 'sit': 4003, 'jump': 2429, 'idiotic': 2219, 'heard': 2062, 'sneak': 4043, 'behind': 447, 'write': 4967, 'direct': 1258, 'tied': 4489, 'received': 3564, 'tie': 4488, 'guess': 1989, 'idiot': 2218, 'youth': 4994, 'today': 4508, 'media': 2789, 'standard': 4144, 'wonder': 4926, 'political': 3324, 'country': 1014, 'idiots': 2220, 'leading': 2547, 'scary': 3807, 'comment': 898, 'boring': 543, 'use': 4692, 'molly': 2884, '20': 29, 'finished': 1733, 'dire': 1257, 'consequences': 947, 'cheek': 779, 'irrelevant': 2358, 'weird': 4841, 'hearing': 2063, 'accent': 78, 'australian': 357, 'kid': 2464, 'starring': 4154, 'goodness': 1938, 'nature': 2975, 'sort': 4077, 'pays': 3218, 'homage': 2141, 'fine': 1729, 'concerned': 932, 'main': 2707, 'producer': 3415, 'looked': 2647, 'rough': 3741, 'lit': 2621, 'smooth': 4041, 'used': 4693, 'lord': 2652, 'shock': 3938, 'gross': 1978, '90': 60, 'gone': 1935, 'killed': 2469, 'atmosphere': 333, 'elements': 1443, 'convinced': 984, 'united': 4664, 'entirely': 1503, 'presents': 3377, 'smith': 4038, 'men': 2805, 'influence': 2286, 'drugs': 1374, 'case': 707, 'cold': 872, 'acts': 107, 'result': 3660, 'emotional': 1459, 'social': 4049, 'past': 3207, 'nation': 2969, 'empathy': 1462, 'environment': 1505, 'incident': 2260, 'dreadful': 1353, 'revelation': 3674, 'creator': 1043, 'robert': 3713, 'blake': 498, 'perry': 3237, 'seemingly': 3863, 'concerning': 933, 'centers': 734, 'element': 1442, 'vengeance': 4719, 'gain': 1863, 'merely': 2815, 'instance': 2304, 'anger': 235, 'certainly': 738, 'justify': 2439, 'circumstances': 822, 'innocent': 2294, 'attorney': 348, 'argument': 291, 'thoroughly': 4459, 'asking': 318, 'line': 2610, 'absolute': 71, 'plight': 3308, 'capital': 673, 'attention': 345, 'calm': 655, 'before': 440, 'storm': 4206, '1960s': 15, 'served': 3894, 'insight': 2298, 'isolated': 2363, 'typical': 4623, 'future': 1856, 'tremendous': 4579, 'savage': 3793, 'scott': 3824, 'wilson': 4891, 'richard': 3686, 'brooks': 596, 'cat': 713, 'hot': 2174, 'jungle': 2434, 'key': 2458, 'outstanding': 3147, 'efforts': 1433, 'history': 2121, 'depicts': 1186, 'demented': 1176, 'wound': 4960, 'counter': 1011, 'nations': 2971, 'introduces': 2338, 'rare': 3523, 'extreme': 1609, 'course': 1019, 'totally': 4532, 'remarkable': 3613, 'decisions': 1152, 'wells': 4845, 'radio': 3504, 'broadcast': 591, 'sci': 3815, 'fi': 1701, 'captain': 674, 'died': 1244, 'brave': 567, 'nicholson': 3011, 'shine': 3931, 'dark': 1115, 'sun': 4292, 'rule': 3753, 'disbelief': 1277, 'earth': 1403, 'yourself': 4993, 'grow': 1982, 'norman': 3035, 'craig': 1030, 'brad': 560, 'pitt': 3280, 'father': 1666, 'lessons': 2578, 'religion': 3607, 'fly': 1763, 'represents': 3639, 'keeps': 2451, 'events': 1536, 'study': 4242, 'six': 4010, 'named': 2961, 'emily': 1456, 'lloyd': 2630, 'teach': 4374, 'chicago': 785, 'reporter': 3636, 'known': 2492, 'famous': 1647, 'score': 3822, 'beautiful': 428, 'cinematography': 820, 'mountains': 2918, 'river': 3707, 'bring': 585, 'year': 4978, 'references': 3583, 'primary': 3394, 'trailers': 4555, 'lead': 2545, 'hearted': 2065, 'nevertheless': 3002, 'nearly': 2981, 'fell': 1690, 'asleep': 320, 'dragged': 1343, 'understand': 4643, 'dogs': 1311, 'train': 4556, 'human': 2188, 'damage': 1099, 'person': 3238, 'banned': 395, 'sum': 4289, 'dies': 1245, 'chosen': 805, 'wonderfully': 4929, 'detail': 1217, 'tells': 4397, 'costumes': 1006, 'settings': 3901, 'created': 1037, 'ladies': 2506, 'finest': 1730, 'appealing': 272, 'lovers': 2673, 'raymond': 3534, 'health': 2060, 'emotions': 1461, 'usually': 4700, 'comical': 894, 'types': 4622, 'subtle': 4260, '30s': 44, 'wish': 4904, 'wayne': 4821, 'jealous': 2388, 'mexican': 2826, 'hat': 2045, 'bird': 484, 'wife': 4884, 'meets': 2795, 'supernatural': 4302, 'thugs': 4484, 'pull': 3461, 'robbery': 3711, 'camp': 662, 'pilot': 3276, 'demands': 1175, 'mexico': 2827, 'decides': 1150, 'landing': 2512, 'mill': 2845, 'dialog': 1232, 'includes': 2263, 'ted': 4386, 'michael': 2829, 'david': 1124, 'turner': 4607, 'victoria': 4732, 'christian': 808, 'missed': 2867, 'came': 656, 'news': 3005, 'bears': 421, '70s': 56, 'guys': 2001, 'warriors': 4803, 'king': 2479, 'rocky': 3723, 'picture': 3269, 'check': 777, 'careers': 687, 'jumped': 2430, 'credits': 1050, 'interest': 2323, 'werent': 4849, 'hed': 2072, 'already': 197, 'favor': 1670, 'helped': 2080, 'fred': 1825, 'lincoln': 2608, 'ago': 154, 'appeared': 276, 'adult': 125, 'associated': 327, 'funnier': 1850, 'combined': 885, 'placed': 3283, 'heart': 2064, 'soul': 4079, 'sport': 4129, 'pure': 3471, 'lifestyle': 2593, 'surfing': 4311, 'waves': 4819, 'wave': 4818, 'legend': 2564, 'teen': 4388, 'amazing': 209, 'stock': 4193, 'interview': 2329, 'footage': 1782, 'essence': 1521, 'genre': 1888, 'clearly': 840, 'vision': 4754, 'beach': 419, 'gritty': 1977, 'reality': 3551, 'wild': 4885, 'personality': 3242, 'arguably': 289, 'jeff': 2390, 'carter': 703, 'alone': 194, '15': 7, 'warmth': 4796, 'powerful': 3360, 'ocean': 3079, 'met': 2822, 'hamilton': 2012, 'boy': 557, 'practically': 3362, 'dad': 1095, 'art': 304, 'fan': 1648, 'comic': 893, 'disappointed': 1273, 'producers': 3416, 'guts': 1999, 'speaks': 4096, 'lol': 2640, 'striking': 4226, 'cool': 989, 'shape': 3919, 'buddy': 609, 'exist': 1569, 'throw': 4479, 'snake': 4042, 'pretentious': 3383, 'ability': 65, 'technology': 4385, 'romance': 3732, 'paris': 3189, 'rented': 3628, 'uncomfortable': 4637, 'zero': 4996, 'twenty': 4612, 'figure': 1711, 'tried': 4584, 'appreciate': 279, 'substance': 4258, 'horrid': 2165, 'direction': 1261, 'myself': 2953, 'jerk': 2395, 'trust': 4598, 'numerous': 3062, 'levels': 2585, 'dialogue': 1234, 'critics': 1064, 'anthony': 253, 'mann': 2728, 'pictures': 3270, 'pot': 3354, 'knowing': 2490, 'scenery': 3810, 'amongst': 218, 'integrity': 2311, 'fortune': 1806, 'stewart': 4184, 'ben': 463, 'walter': 4784, 'travel': 4567, 'territory': 4411, 'gold': 1932, 'boom': 537, 'plan': 3287, 'selling': 3873, 'self': 3869, 'judge': 2424, 'ready': 3546, 'meet': 2793, 'account': 89, 'law': 2538, 'punishment': 3467, 'head': 2057, 'border': 539, 'dawson': 1128, 'pursuit': 3476, 'women': 4923, 'finish': 1732, 'greatly': 1967, 'portrayal': 3341, 'slick': 4026, 'tight': 4492, 'chase': 769, 'william': 4887, 'current': 1084, 'surprises': 4314, 'viewers': 4739, 'paying': 3217, 're': 3535, 'watches': 4814, 'essential': 1522, 'jamie': 2379, 'comedian': 887, 'sold': 4052, 'order': 3126, 'follows': 1775, 'likes': 2602, 'chris': 806, 'martin': 2748, 'lawrence': 2539, 'talents': 4356, 'wasted': 4809, 'commit': 904, 'talks': 4361, 'okay': 3099, 'laughed': 2532, 'granted': 1957, 'continue': 969, 'pick': 3265, 'roles': 3727, 'living': 2629, 'colors': 879, 'tommy': 4516, 'damon': 1101, 'moving': 2928, 'performances': 3229, 'spike': 4111, 'lees': 2560, 'satire': 3788, 'mars': 2746, 'months': 2897, 'sent': 3880, 'planet': 3289, 'flashback': 1746, 'inane': 2258, 'melodramatic': 2798, 'sixties': 4011, 'ships': 3935, 'crew': 1053, 'stay': 4166, 'spot': 4131, 'ship': 3934, 'orders': 3127, 'remain': 3609, 'outside': 3146, 'hopes': 2159, 'talk': 4358, 'ears': 1402, 'ray': 3533, 'gun': 1996, 'unintentionally': 4659, 'drag': 1342, 'change': 749, 'color': 877, 'landscape': 2513, 'filmed': 1717, 'resembles': 3646, 'orange': 3125, 'odd': 3080, 'process': 3412, 'clever': 841, 'memories': 2803, 'surviving': 4323, 'explain': 1586, 'unreal': 4676, 'explore': 1594, 'bat': 410, 'test': 4416, 'plant': 3293, 'killing': 2472, 'hell': 2077, 'female': 1693, 'tree': 4576, 'leg': 2562, 'spider': 4109, 'rat': 3525, 'intelligence': 2313, 'upset': 4687, 'lower': 2677, 'giant': 1905, 'attacks': 339, 'technique': 4383, 'terror': 4412, 'fairly': 1631, 'climactic': 848, 'guns': 1998, 'corporate': 998, 'eccentric': 1414, 'rolling': 3730, 'floor': 1759, 'experiments': 1584, 'execution': 1566, 'explosions': 1597, 'segment': 3867, 'union': 4661, 'reminiscent': 3621, 'romantic': 3733, 'crush': 1072, 'carry': 700, 'notable': 3041, 'hearts': 2066, 'accident': 84, 'independent': 2272, 'professional': 3421, 'tell': 4395, 'scripted': 3835, 'waited': 4771, 'until': 4680, 'spent': 4108, 'hour': 2176, 'imdb': 2240, 'writer': 4968, 'everyday': 1541, 'enjoyed': 1486, 'projects': 3428, 'excellent': 1555, 'distribution': 1298, 'deserves': 1201, 'urge': 4689, 'alert': 178, 'shouldnt': 3952, 'fitting': 1742, 'tribute': 4581, 'magnificent': 2705, 'insult': 2309, 'memory': 2804, 'hadnt': 2004, 'military': 2844, 'machine': 2693, 'normally': 3034, 'per': 3223, 'minute': 2858, 'speed': 4103, 'soldiers': 4054, 'forward': 1808, 'survive': 4321, 'side': 3965, 'screaming': 3827, 'murder': 2939, 'cross': 1066, 'de': 1131, 'flow': 1762, 'connection': 946, 'army': 295, 'staff': 4138, 'unconvincing': 4638, 'worse': 4951, 'tea': 4373, 'taylor': 4372, 'marvelous': 2750, 'exotic': 1574, 'stunning': 4244, 'tons': 4520, 'fame': 1642, 'unbelievable': 4634, 'japan': 2381, 'heck': 2071, 'exciting': 1563, 'installment': 2303, 'series': 3890, 'rape': 3521, 'steel': 4173, 'reviews': 3679, 'fight': 1707, 'id': 2212, 'hate': 2046, 'imagine': 2238, 'towards': 4540, 'deal': 1135, 'modesty': 2883, 'comics': 895, 'novels': 3053, 'theyve': 4446, 'fallen': 1638, 'strip': 4228, 'currently': 1085, 'accurate': 90, 'rights': 3697, 'attempted': 341, 'crucial': 1068, 'offered': 3088, 'studios': 4241, 'knew': 2486, 'approach': 282, 'video': 4733, 'introduce': 2336, 'sir': 4000, 'important': 2247, 'adventures': 131, 'stories': 4205, 'strength': 4219, 'herself': 2092, 'doubt': 1332, 'shes': 3930, 'gangsters': 1869, 'undoubtedly': 4648, 'saved': 3795, 'gives': 1914, 'ahead': 159, 'nicely': 3009, 'confidence': 938, 'magic': 2703, 'ring': 3698, 'uncle': 4636, 'wizard': 4919, 'discovers': 1281, 'creation': 1040, 'destroy': 1213, 'loyal': 2679, 'quest': 3486, 'underrated': 4642, 'covers': 1024, 'regardless': 3590, 'epic': 1506, 'superbly': 4297, 'ralph': 3510, 'bakshi': 386, 'music': 2946, 'leonard': 2572, 'fits': 1741, 'holes': 2133, 'trilogy': 4586, 'goofy': 1939, 'normal': 3033, 'pleased': 3305, 'eerie': 1427, 'suffers': 4278, 'terribly': 4408, 'ages': 152, 'contrary': 974, 'asked': 317, 'excuse': 1564, 'stronger': 4230, 'bother': 548, 'sick': 3963, 'rarely': 3524, 'paid': 3169, 'exactly': 1551, 'deserved': 1200, 'user': 4696, 'indeed': 2271, 'compared': 912, 'luck': 2681, 'share': 3920, 'russian': 3762, 'obviously': 3072, 'expectations': 1576, 'purpose': 3474, 'appeal': 271, 'individual': 2277, 'recognize': 3569, 'companion': 909, 'germans': 1897, 'desire': 1205, 'duo': 1386, 'issue': 2364, 'cameras': 660, 'interviews': 2330, 'central': 735, 'presented': 3376, 'teacher': 4375, 'separate': 3883, 'focusing': 1769, 'identify': 2216, 'provide': 3448, 'weapons': 4829, 'officer': 3092, 'bible': 477, 'peace': 3219, 'understanding': 4645, 'ask': 316, 'hoped': 2156, 'bright': 581, 'fault': 1668, 'comparing': 913, 'scale': 3802, 'needless': 2989, 'difficult': 1249, 'cartoon': 704, 'par': 3184, 'uses': 4697, 'cliché': 844, 'tortured': 4530, 'classical': 836, 'free': 1827, 'spirited': 4114, 'engaged': 1480, 'list': 2617, 'spoiler': 4123, 'giving': 1915, 'dancing': 1107, 'pay': 3216, 'shocked': 3939, '75': 57, 'sat': 3786, 'versus': 4722, 'naked': 2959, 'sucked': 4270, 'eat': 1411, 'stop': 4201, 'soundtrack': 4085, 'carpenter': 694, 'reviewers': 3678, 'preview': 3386, 'hand': 2015, 'dr': 1340, 'brief': 579, 'namely': 2962, 'incomprehensible': 2267, 'pass': 3201, 'spoilers': 4124, 'cd': 728, 'singer': 3993, 'kills': 2474, 'boyfriend': 558, 'neil': 2995, 'decide': 1148, 'album': 175, 'psychic': 3456, 'contact': 961, 'cards': 683, 'kudos': 2497, 'deceased': 1146, 'bathroom': 412, 'catches': 715, 'glimpse': 1919, 'mate': 2765, 'standing': 4146, 'begins': 444, 'unnecessary': 4672, 'incoherent': 2265, 'narrative': 2966, 'apart': 264, 'cuts': 1091, 'locked': 2637, 'connected': 945, 'helping': 2081, 'revenge': 3675, 'calls': 654, 'shown': 3959, 'sequence': 3887, 'enters': 1496, 'mood': 2898, 'wounded': 4961, 'walks': 4780, 'door': 1328, 'confusing': 942, 'particularly': 3195, 'wooden': 4934, 'force': 1786, 'fears': 1677, 'adams': 112, 'karen': 2444, 'supporting': 4304, 'gary': 1873, 'henry': 2084, 'hint': 2112, 'adequate': 120, 'liberal': 2588, 'scottish': 3825, 'born': 544, 'professor': 3422, 'passionate': 3206, 'hired': 2117, 'bobby': 525, 'earl': 1398, 'florida': 1761, 'claims': 830, 'sadistic': 3768, 'murderer': 2941, 'blair': 497, 'sullivan': 4288, 'serial': 3889, 'sentence': 3881, 'murders': 2943, 'visits': 4756, 'cell': 730, 'row': 3744, 'saving': 3797, 'chair': 742, 'released': 3603, 'prison': 3401, 'court': 1020, 'development': 1225, 'halfway': 2008, 'warning': 4800, 'proves': 3447, 'guilty': 1995, 'parents': 3188, 'explained': 1587, 'finds': 1728, 'danger': 1109, 'against': 147, 'lawyer': 2541, 'accused': 91, 'sometimes': 4067, 'themes': 4434, 'dust': 1388, 'difference': 1246, 'sheriff': 3929, 'beats': 426, 'opportunities': 3120, 'borrowed': 545, 'occur': 3076, 'finale': 1723, 'former': 1800, 'fear': 1676, 'south': 4087, 'ed': 1415, 'harris': 2038, 'religious': 3608, 'imitation': 2241, 'heavily': 2069, 'seven': 3903, 'ashley': 313, 'vehicle': 4718, 'numbers': 3061, 'resulting': 3661, 'generally': 1881, 'inspired': 2301, 'parts': 3199, 'gifted': 1907, 'weakest': 4825, 'largely': 2518, 'niro': 3019, 'max': 2774, 'murderous': 2942, 'ones': 3108, 'sean': 3840, 'rather': 3528, 'save': 3794, 'rock': 3720, 'racist': 3503, 'critical': 1062, 'handed': 2016, 'second': 3846, 'criminals': 1058, 'useful': 4694, 'criminal': 1057, 'officers': 3093, 'suspects': 4328, 'heroes': 2089, 'filmmakers': 1720, 'unaware': 4632, 'ignored': 2225, 'convoluted': 987, 'offers': 3090, 'imaginative': 2237, 'notorious': 3051, 'killers': 2471, 'intrigued': 2334, 'discover': 1279, 'insane': 2296, 'pulls': 3464, 'constructed': 959, 'mystery': 2956, 'thriller': 4472, 'thrills': 4475, 'attitude': 346, 'puts': 3481, 'issues': 2365, 'artistic': 308, 'attitudes': 347, 'carefully': 689, 'crafted': 1029, 'directorial': 1265, 'inspector': 2299, 'protect': 3443, 'don': 1320, 'brilliantly': 584, 'talked': 4359, 'opposite': 3123, 'cameo': 657, 'won': 4925, 'award': 366, 'winner': 4897, 'douglas': 1334, 'affected': 137, 'president': 3378, 'star': 4150, 'trek': 4578, 'hbo': 2055, 'warm': 4794, 'carrying': 701, 'frank': 1821, 'legendary': 2565, 'jerry': 2396, 'universal': 4665, 'widely': 4881, 'perfectly': 3226, 'shortly': 3947, 'general': 1880, 'dan': 1102, 'capture': 676, 'thus': 4486, 'birth': 486, 'distance': 1294, 'west': 4852, 'arthur': 305, 'earned': 1401, 'honor': 2150, 'heroic': 2090, 'mountain': 2917, 'service': 3896, 'points': 3319, 'billy': 482, 'mitchell': 2875, 'bonus': 534, 'boat': 523, 'hit': 2122, 'em': 1452, 'aint': 163, 'shall': 3916, 'achievement': 94, 'harry': 2039, 'properly': 3437, 'korean': 2495, 'historically': 2120, 'commentary': 899, 'painfully': 3172, 'appear': 273, 'noble': 3021, 'joe': 2407, 'expert': 1585, 'audiences': 353, 'reactions': 3542, 'extraordinary': 1607, 'perspective': 3245, 'television': 4394, 'march': 2734, 'theme': 4433, 'larger': 2519, 'ordinary': 3128, 'research': 3644, 'beginning': 443, 'mediocre': 2791, 'davis': 1126, 'wouldnt': 4958, 'anybody': 257, 'category': 718, 'uninspired': 4657, 'handsome': 2021, 'adaptation': 113, 'cash': 709, 'appearances': 275, 'ghosts': 1903, 'awe': 370, 'edward': 1426, 'ghost': 1902, 'christmas': 810, 'impression': 2252, 'scrooge': 3837, 'george': 1893, 'putting': 3482, 'lucas': 2680, 'wars': 4804, 'grant': 1956, 'solo': 4058, 'luke': 2687, 'sam': 3777, 'viewed': 4737, 'speech': 4102, 'leader': 2546, 'indian': 2274, 'british': 589, 'male': 2719, 'kissing': 2484, 'saturday': 3792, 'delight': 1167, 'innocence': 2293, 'hopefully': 2157, 'forgotten': 1797, 'cgi': 740, 'welles': 4844, 'recently': 3567, 'purchased': 3470, 'seasons': 3844, 'orson': 3132, 'player': 3298, 'treated': 4573, 'measure': 2786, 'surface': 4310, 'saves': 3796, 'cruise': 1071, 'pulled': 3462, 'visual': 4757, 'sequences': 3888, 'house': 2178, 'eye': 1611, 'narration': 2965, 'relief': 3605, 'lighting': 2596, 'experience': 1580, 'studio': 4240, 'positive': 3346, 'intriguing': 2335, 'hints': 2113, 'akshay': 169, 'manages': 2725, 'touching': 4536, '2nd': 41, '1st': 28, 'involving': 2349, 'stupidity': 4248, 'decision': 1151, 'believes': 456, 'brutally': 604, 'insulting': 2310, 'sons': 4073, 'likely': 2601, 'ruin': 3750, 'relationship': 3597, 'responsibility': 3655, 'soft': 4051, 'bear': 420, 'gonna': 1936, 'flaw': 1749, 'becoming': 435, 'stunt': 4245, 'college': 875, 'arrives': 302, 'pushed': 3478, 'sorry': 4076, 'illness': 2230, 'sympathy': 4343, 'emotionally': 1460, 'song': 4071, 'fancy': 1649, 'plenty': 3307, 'filled': 1715, 'theyll': 4444, 'thrown': 4481, 'various': 4715, 'unique': 4662, 'cult': 1077, 'gotta': 1946, 'describe': 1194, 'alas': 172, 'severe': 3906, 'profound': 3423, 'worthwhile': 4955, 'stretch': 4221, 'dialogs': 1233, 'steps': 4177, 'experiences': 1582, 'whatsoever': 4861, 'sloppy': 4030, 'daniel': 1111, 'golden': 1934, 'structure': 4233, 'third': 4455, 'fourth': 1813, 'mainly': 2708, 'partner': 3198, 'winters': 4901, 'johnny': 2410, 'steve': 4181, 'whos': 4876, 'interested': 2324, 'yellow': 4981, 'reduced': 3579, 'serving': 3897, 'enemies': 1476, 'coffee': 870, 'curtis': 1087, 'hudson': 2184, 'cameos': 658, 'lucky': 2683, 'grade': 1951, 'nobody': 3022, 'jay': 2386, 'kiss': 2483, 'teeth': 4393, 'pleasant': 3302, 'repeat': 3630, 'teenager': 4390, '90s': 61, 'remembered': 3617, 'dressing': 1359, 'faithful': 1634, 'slowly': 4032, 'realized': 3553, 'missing': 2869, 'hated': 2047, 'loved': 2670, 'rent': 3626, 'regret': 3591, 'kings': 2481, 'watchable': 4812, 'knowledge': 2491, 'genres': 1889, 'failing': 1627, 'hitchcock': 2123, 'chaplin': 756, 'driven': 1365, 'spielberg': 4110, 'combine': 884, 'adults': 126, 'obscure': 3068, 'examples': 1554, 'include': 2261, 'kubrick': 2496, 'covered': 1023, 'flawed': 1750, 'enjoyable': 1485, 'batman': 413, 'superhero': 4299, 'appalling': 268, 'executed': 1565, 'during': 1387, 'private': 3404, 'ryan': 3765, 'bar': 396, 'mouth': 2920, 'open': 3112, 'learning': 2552, 'tough': 4537, 'soldier': 4053, 'training': 4558, 'vietnam': 4735, 'jaw': 2384, 'dropping': 1371, 'destruction': 1216, 'teachers': 4376, 'metal': 2823, 'routine': 3743, 'ego': 1435, 'questions': 3489, 'yeah': 4977, 'question': 3487, 'ups': 4686, 'eating': 1413, 'enjoys': 1489, 'regarding': 3589, 'tries': 4585, 'command': 897, 'lacking': 2504, 'required': 3641, 'conversation': 980, 'rage': 3505, 'exercise': 1568, 'toward': 4539, 'mistake': 2871, 'colour': 880, 'emphasis': 1463, 'held': 2074, 'apparent': 269, 'couldve': 1009, 'reel': 3581, 'recorded': 3574, 'necessarily': 2983, 'closest': 857, 'hates': 2048, 'fascinating': 1658, 'drive': 1363, 'memorable': 2802, 'unhappy': 4656, 'wwii': 4975, 'powell': 3358, 'developing': 1224, 'uk': 4626, 'usa': 4691, 'poetry': 3314, 'emotion': 1458, 'quirky': 3493, 'hundreds': 2196, '1970s': 17, 'edge': 1418, 'atlantis': 332, 'peter': 3247, 'charisma': 762, 'hang': 2022, 'escape': 1517, 'everybody': 1540, 'gender': 1878, 'wanting': 4790, 'debut': 1143, 'nicholas': 3010, 'alex': 179, 'attacked': 338, 'spectacular': 4101, 'marty': 2749, 'turned': 4606, 'andrew': 228, 'attracted': 349, 'miserable': 2863, 'wet': 4855, 'disappointing': 1274, 'uneven': 4649, 'reasonably': 3559, 'lacks': 2505, 'contains': 964, 'handful': 2017, 'brilliance': 582, 'views': 4742, 'ultimately': 4628, 'sea': 3838, 'bus': 631, 'tarzan': 4367, 'wished': 4905, 'followed': 1773, 'ought': 3138, 'heres': 2087, 'christopher': 811, 'edgar': 1417, 'english': 1483, 'picked': 3266, 'apes': 267, 'raise': 3507, 'england': 1482, 'identity': 2217, 'speak': 4094, 'proper': 3436, 'exposure': 1599, 'language': 2516, 'etc': 1527, 'jane': 2380, 'ron': 3734, 'porn': 3336, 'bo': 521, 'derek': 1192, 'overacting': 3149, 'deliberately': 1166, 'spirit': 4113, 'kong': 2494, 'ape': 266, 'hear': 2061, 'infamous': 2284, 'devoted': 1231, 'wearing': 4831, 'unusual': 4681, 'treats': 4575, 'bite': 489, 'aid': 160, 'helps': 2082, 'clothes': 860, 'featuring': 1681, 'model': 2880, 'showed': 3956, 'buff': 611, 'page': 3167, 'mental': 2808, 'progress': 3425, 'minds': 2852, 'expecting': 1578, 'stephen': 4176, 'results': 3662, 'terrifying': 4410, 'carrie': 697, 'zone': 4999, 'consider': 949, 'shining': 3933, 'pet': 3246, 'bone': 533, 'forgive': 1795, 'mary': 2751, 'thank': 4421, 'majority': 2712, 'sleep': 4024, 'louis': 2665, 'nasty': 2968, 'headed': 2058, 'spooky': 4128, 'stops': 4203, 'familiar': 1643, 'inducing': 2279, 'sister': 4001, 'encounters': 1467, 'victor': 4731, 'trip': 4588, 'nightmares': 3015, 'neighbor': 2992, 'damn': 1100, 'age': 148, 'demon': 1177, 'possessed': 3347, 'whenever': 4863, 'featured': 1679, 'staged': 4140, 'holds': 2131, 'adapted': 114, 'bloody': 513, 'sake': 3775, 'visuals': 4759, 'library': 2589, 'shallow': 3917, 'tale': 4353, 'roll': 3728, 'dick': 1239, 'stood': 4199, 'kurt': 2499, 'musical': 2947, 'elvis': 1451, 'york': 4985, 'theatrical': 4430, 'public': 3460, 'simplistic': 3985, 'struggles': 4235, 'thru': 4483, 'arrive': 300, 'nyc': 3065, 'flashbacks': 1747, 'audio': 354, 'vice': 4727, 'attached': 336, 'woody': 4936, 'entertained': 1498, 'bullets': 621, 'broadway': 592, 'mighty': 2836, 'allen': 188, 'pleasantly': 3303, 'surprised': 4313, 'definitely': 1162, 'stretched': 4222, 'discuss': 1283, 'tragic': 4552, 'ran': 3513, 'notably': 3042, 'table': 4346, 'previously': 3388, 'fair': 1630, 'existent': 1572, 'classics': 837, 'manhattan': 2726, 'annie': 247, 'hall': 2009, 'drawing': 1350, 'board': 522, 'walken': 4777, 'gabriel': 1859, 'joy': 2422, 'dedicated': 1153, 'reasonable': 3558, 'realistic': 3550, 'parent': 3187, 'swimming': 4338, 'pool': 3327, 'bedroom': 437, 'laws': 2540, 'garden': 1872, 'shed': 3924, 'walk': 4775, 'advice': 133, '1973': 19, 'wholly': 4874, 'la': 2500, 'inspiration': 2300, 'game': 1864, '1999': 27, 'worthless': 4954, 'devoid': 1230, 'running': 3756, 'subjects': 4254, 'morning': 2906, 'dubbed': 1379, '50': 51, 'ourselves': 3140, 'consistent': 953, 'womans': 4922, 'struggle': 4234, 'odds': 3082, 'carried': 698, 'purple': 3473, 'abusive': 75, 'win': 4892, 'rocket': 3721, 'scientist': 3818, 'gruesome': 1986, 'elephant': 1444, 'torn': 4528, 'pack': 3165, 'throat': 4476, 'motion': 2913, 'friendly': 1836, 'courage': 1018, 'afraid': 140, 'losing': 2658, 'birds': 485, 'surreal': 4317, 'believed': 455, 'moronic': 2907, 'animals': 240, 'displays': 1293, 'humans': 2190, 'abilities': 64, 'darkness': 1117, 'happening': 2028, 'creepy': 1052, 'scarecrow': 3804, 'godfather': 1927, 'saga': 3773, 'executive': 1567, 'mans': 2730, 'youve': 4995, 'extended': 1604, 'gratuitous': 1961, 'contrast': 975, 'gangster': 1868, 'frankly': 1823, 'ended': 1470, 'pan': 3180, 'body': 527, 'marriage': 2743, 'sunday': 4293, 'afternoon': 144, 'football': 1783, 'experienced': 1581, 'divorce': 1301, 'indie': 2276, 'protagonist': 3441, 'scared': 3805, 'hiding': 2099, 'closet': 858, 'jake': 2377, 'understandable': 4644, 'possibilities': 3348, 'guessing': 1991, 'adds': 119, 'feeling': 1685, 'desperation': 1210, 'angry': 238, 'loving': 2675, 'minor': 2857, 'mrs': 2930, 'stone': 4197, 'sleazy': 4023, 'estate': 1525, 'agent': 150, 'portrait': 3339, 'pretending': 3382, 'causing': 726, 'catching': 716, 'excitement': 1562, 'solid': 4057, 'depiction': 1185, 'psychotic': 3459, 'loser': 2655, 'dracula': 1341, 'vampire': 4711, 'fights': 1710, 'priest': 3392, 'plots': 3310, 'contrived': 976, 'starting': 4158, 'guilt': 1994, 'pain': 3170, 'behavior': 446, 'ride': 3692, 'kicking': 2462, 'unpleasant': 4674, 'mother': 2911, 'politically': 3325, 'buildings': 616, 'suit': 4284, 'kim': 2475, 'thin': 4449, 'belongs': 460, 'decade': 1144, 'chemistry': 782, 'forth': 1804, 'unless': 4669, 'mixture': 2878, 'skip': 4016, 'criticism': 1063, 'caring': 691, 'nonsensical': 3031, 'folks': 1771, 'water': 4816, 'established': 1524, 'philip': 3252, 'believing': 457, 'cliff': 847, 'smoke': 4039, 'information': 2288, 'took': 4523, 'medical': 2790, 'letting': 2583, 'roots': 3738, 'considered': 951, 'stuck': 4237, 'bull': 619, 'party': 3200, 'thomas': 4458, 'government': 1948, 'familys': 1646, 'sing': 3992, 'crazy': 1035, 'easier': 1405, 'literally': 2622, 'science': 3816, 'amounts': 220, 'resort': 3650, 'cats': 721, 'attraction': 350, 'warn': 4797, 'rebel': 3561, 'portrayed': 3342, 'detailed': 1218, 'longer': 2645, 'distant': 1295, 'arms': 294, 'legs': 2566, 'horrendous': 2162, 'hunt': 2198, 'property': 3438, 'security': 3854, 'hurts': 2203, 'hurt': 2202, 'blunt': 520, 'figures': 1713, 'ease': 1404, 'transformation': 4560, 'mentally': 2809, '60': 53, 'intellectual': 2312, 'murdered': 2940, 'discovered': 1280, 'influenced': 2287, 'unsettling': 4679, 'brutal': 603, 'eric': 1514, 'shut': 3961, 'amateurish': 207, 'opening': 3114, 'press': 3379, 'button': 639, 'torture': 4529, 'recommended': 3572, 'rules': 3754, 'bell': 458, 'villain': 4744, 'honestly': 2147, 'spoil': 4121, 'visually': 4758, 'rubber': 3747, 'mask': 2752, 'apparently': 270, 'stage': 4139, 'demons': 1178, 'semi': 3874, 'coherent': 871, 'internet': 2327, 'raised': 3508, 'extra': 1606, 'entertain': 1497, 'bucks': 606, 'shocking': 3940, 'send': 3875, 'desperate': 1208, 'disgusting': 1286, 'pulling': 3463, 'ashamed': 312, 'suffered': 4276, 'costs': 1004, 'limits': 2607, 'delivered': 1170, '2005': 35, 'pre': 3365, 'demand': 1174, 'limited': 2606, 'weight': 4840, 'touch': 4533, 'purchase': 3469, 'collection': 874, 'tired': 4501, 'highest': 2102, 'genuine': 1891, 'fantastic': 1651, 'notch': 3043, 'phone': 3255, 'caught': 722, 'favorites': 1672, 'catholic': 720, 'painting': 3175, 'prostitute': 3440, 'raped': 3522, 'dennis': 1179, 'hopper': 2161, 'baby': 376, 'civilization': 827, 'passes': 3203, 'computer': 927, 'ice': 2210, '14': 6, 'crude': 1069, 'humour': 2194, 'disappointment': 1275, 'doomed': 1327, 'walking': 4779, 'pages': 3168, 'gags': 1862, 'accept': 80, 'creators': 1044, 'satisfy': 3790, 'ideal': 2214, 'spirits': 4115, 'particular': 3194, 'ignorant': 2223, 'complicated': 925, 'complexity': 924, 'politics': 3326, 'trees': 4577, 'careful': 688, 'german': 1896, 'translation': 4562, 'mgm': 2828, 'recording': 3575, 'available': 361, 'lucy': 2684, 'babe': 375, '50s': 52, 'mike': 2838, '17': 9, 'expressions': 1603, 'los': 2653, 'angeles': 233, 'admire': 121, 'awards': 367, 'bargain': 400, 'basement': 405, 'dear': 1140, 'shorts': 3948, 'reasons': 3560, 'shoot': 3942, 'parker': 3191, 'date': 1118, 'pity': 3281, 'awake': 365, 'loves': 2674, 'bang': 393, 'theory': 4437, 'kinda': 2477, 'empire': 1464, 'terms': 4406, 'source': 4086, 'dressed': 1358, 'alike': 185, 'clothing': 861, 'move': 2921, 'anime': 243, 'agree': 155, 'wall': 4781, 'princess': 3397, 'jean': 2389, 'flies': 1756, 'wisdom': 4902, 'stargate': 4151, 'dozen': 1338, 'wide': 4880, 'state': 4160, 'city': 825, 'beneath': 464, 'personalities': 3241, 'doubts': 1333, 'overly': 3155, 'wondering': 4930, 'blonde': 511, 'draws': 1352, 'holly': 2136, 'international': 2326, 'composed': 926, 'challenging': 744, 'patrick': 3213, 'intention': 2319, 'bbc': 417, 'promise': 3430, 'existed': 1570, 'generation': 1883, 'caine': 647, 'hoffman': 2128, 'mail': 2706, 'remarks': 3615, 'rap': 3520, 'cube': 1076, 'breaking': 570, 'led': 2558, 'laughing': 2533, 'statement': 4162, 'kicked': 2461, 'advance': 127, 'offensive': 3086, 'samurai': 3779, 'souls': 4080, 'guide': 1993, 'blade': 495, 'shoots': 3944, 'shooting': 3943, 'enemy': 1477, 'silent': 3975, 'exists': 1573, 'boss': 546, 'learns': 2553, 'prove': 3445, 'code': 869, '25': 40, 'conventional': 979, 'proved': 3446, 'splendid': 4119, '12': 3, 'determined': 1221, 'judging': 2425, 'forgot': 1796, 'exceptionally': 1559, 'drink': 1361, 'sympathetic': 4342, 'older': 3101, 'suspect': 4327, 'notion': 3050, 'unfortunate': 4653, 'mothers': 2912, 'complain': 919, 'portion': 3338, 'mindless': 2851, 'celebrity': 729, 'al': 170, 'speaking': 4095, 'rotten': 3740, 'manager': 2724, 'rings': 3699, 'wealthy': 4827, 'daughters': 1122, '2003': 33, 'turning': 4608, 'grave': 1962, 'teenage': 4389, 'contained': 963, 'controversial': 978, 'cowboy': 1025, 'focuses': 1768, 'hence': 2083, 'donald': 1321, 'base': 402, 'eve': 1532, 'married': 2744, 'escapes': 1519, 'exploitation': 1592, 'similarities': 3979, 'tone': 4517, 'summer': 4291, 'slaughter': 4021, 'duke': 1383, 'businessman': 634, 'sexually': 3910, 'amy': 222, 'stayed': 4167, 'grows': 1985, 'wishes': 4906, 'scare': 3803, 'younger': 4990, 'quick': 3490, 'resolution': 3649, 'price': 3389, 'bored': 541, 'stopped': 4202, 'ultimate': 4627, 'presentation': 3375, 'condition': 937, 'muslim': 2949, 'feels': 1687, 'faith': 1633, 'remind': 3618, 'christians': 809, 'intensity': 2317, 'belief': 451, 'definite': 1161, 'senseless': 3878, 'curse': 1086, 'needs': 2990, 'minimum': 2856, 'investigation': 2343, 'financial': 1725, 'forces': 1788, 'mid': 2832, 'eighties': 1437, '1990': 24, 'desperately': 1209, 'stellar': 4174, 'competent': 917, 'occasional': 3074, 'mildly': 2840, 'charismatic': 763, 'tom': 4514, 'matt': 2768, 'heroine': 2091, 'bizarre': 492, 'trick': 4582, 'thirty': 4456, 'seconds': 3848, 'chilling': 794, 'advantage': 129, 'noted': 3045, 'artists': 309, 'annoyed': 248, 'offended': 3085, 'object': 3066, 'wonders': 4931, 'wedding': 4836, 'values': 4710, 'fix': 1744, 'oil': 3097, 'nick': 3012, 'lie': 2590, 'clean': 838, 'marry': 2745, 'mine': 2853, 'workers': 4943, 'worlds': 4947, 'opened': 3113, 'closed': 854, 'matthew': 2772, 'walker': 4778, 'performed': 3230, 'gotten': 1947, 'chased': 770, 'foster': 1809, 'spite': 4117, 'uwe': 4703, 'boll': 529, 'extras': 1608, 'generations': 1884, 'anymore': 258, 'target': 4366, 'aged': 149, 'twelve': 4611, 'provides': 3450, 'vote': 4766, 'brazil': 568, 'copy': 994, 'finding': 1727, 'medium': 2792, 'twilight': 4614, 'unoriginal': 4673, 'solve': 4060, 'multiple': 2936, 'mysteries': 2954, 'beautifully': 429, 'tricks': 4583, '1930s': 11, '100': 1, 'description': 1197, 'bought': 552, 'vhs': 4725, 'repeated': 3631, 'viewings': 4741, 'cringe': 1059, 'brian': 576, 'bill': 481, 'lovable': 2668, 'equally': 1510, 'ignore': 2224, 'homeless': 2143, 'section': 3853, 'spiritual': 4116, 'dignity': 1252, 'drug': 1373, 'abuse': 74, 'suffering': 4277, 'michelle': 2830, 'williams': 4888, 'dirty': 1268, 'magazine': 2701, 'curiosity': 1082, 'noticed': 3049, 'misery': 2865, 'enormous': 1490, 'strangers': 4214, 'react': 3540, 'brosnan': 597, 'refreshing': 3586, 'smiling': 4037, 'ad': 110, 'bottle': 550, 'glass': 1917, 'twin': 4615, 'davies': 1125, 'guest': 1992, 'hart': 2041, 'league': 2549, 'indians': 2275, 'twins': 4616, 'streep': 4215, 'cruel': 1070, 'intentions': 2321, 'club': 863, 'poignant': 3315, 'persons': 3244, 'nightmare': 3014, 'elm': 1447, 'tag': 4348, 'serves': 3895, 'explaining': 1588, 'taste': 4369, 'overcome': 3151, 'charlotte': 766, 'overlooked': 3154, 'grasp': 1960, 'talented': 4355, 'rose': 3739, 'haunting': 2051, 'variety': 4714, 'angles': 237, 'raw': 3532, 'combat': 882, 'boot': 538, 'midnight': 2834, 'succeeds': 4264, 'recognized': 3570, 'unforgettable': 4652, 'fest': 1696, 'homosexual': 2145, 'lived': 2626, 'lover': 2672, 'cary': 706, 'ugly': 4625, 'chain': 741, 'smoking': 4040, 'lee': 2559, 'westerns': 4854, 'dated': 1119, '40': 48, 'virgin': 4749, 'andy': 230, 'chest': 784, 'removed': 3624, 'toys': 4543, 'buying': 641, 'relative': 3599, 'columbo': 881, 'crash': 1033, 'continued': 970, 'reviewer': 3677, 'suggested': 4281, 'lies': 2591, 'corruption': 1002, 'existence': 1571, 'faced': 1617, 'touched': 4534, 'anna': 245, 'ticket': 4487, 'apartment': 265, 'enjoyment': 1488, 'baker': 385, 'robinson': 3716, 'chorus': 803, 'stereotypes': 4179, 'cartoons': 705, 'meant': 2784, 'fox': 1814, 'mickey': 2831, 'mouse': 2919, 'loads': 2633, 'clips': 852, 'remotely': 3623, 'embarrassing': 1454, 'construction': 960, 'worker': 4942, 'village': 4743, 'church': 813, 'sin': 3988, 'heaven': 2068, 'seeking': 3859, 'sends': 3876, 'investigate': 2342, 'fellow': 1691, 'intrigue': 2333, 'despair': 1207, 'displayed': 1292, 'practice': 3363, 'dry': 1377, 'relationships': 3598, 'combination': 883, 'simplicity': 3984, 'higher': 2101, 'prevent': 3385, 'birthday': 487, 'double': 1331, 'jim': 2402, 'ian': 2209, 'humorous': 2193, 'suffice': 4279, 'tomatoes': 4515, 'images': 2235, 'aliens': 184, 'fired': 1735, 'spin': 4112, 'impress': 2250, 'dancers': 1105, 'rambo': 3511, 'flash': 1745, 'burned': 626, 'alive': 186, 'burns': 628, 'area': 286, '13': 4, 'lights': 2597, 'protagonists': 3442, '16': 8, '18': 10, 'meat': 2787, 'jaws': 2385, 'skill': 4013, 'episodes': 1508, 'vast': 4716, 'genuinely': 1892, 'creative': 1041, 'uninteresting': 4660, 'childish': 791, 'conceived': 929, 'tales': 4357, 'offering': 3089, 'blows': 517, 'wallace': 4782, 'stinker': 4191, 'truck': 4595, 'daddy': 1096, 'tear': 4379, 'sides': 3967, 'sid': 3964, 'cover': 1022, 'shelf': 3926, 'blockbuster': 509, 'surprise': 4312, 'gift': 1906, 'closely': 855, 'holmes': 2139, 'sellers': 3872, 'physical': 3262, 'unexpected': 4650, 'flynn': 1765, 'product': 3418, 'aging': 153, 'cole': 873, 'piano': 3264, 'accomplished': 87, 'jazz': 2387, 'singing': 3995, 'temple': 4398, 'parallel': 3185, 'relations': 3596, 'dramas': 1347, 'yesterday': 4983, 'mentioned': 2811, 'hidden': 2096, 'explicit': 1591, 'month': 2896, 'humanity': 2189, 'unit': 4663, 'compelled': 915, 'returning': 3667, 'arrival': 299, 'listen': 2619, 'treatment': 4574, 'afford': 138, 'checking': 778, 'cable': 644, '1996': 26, 'cry': 1073, 'lake': 2509, 'grew': 1972, 'convince': 983, 'toy': 4542, 'planning': 3291, 'basketball': 409, 'coach': 868, 'nervous': 2999, 'bruce': 602, 'turkey': 4604, 'track': 4544, 'photography': 3260, 'hung': 2197, 'maintain': 2710, 'hooked': 2153, 'touches': 4535, 'choose': 799, 'wait': 4770, 'cars': 702, 'houses': 2180, 'propaganda': 3435, 'latter': 2528, 'activities': 102, 'washington': 4806, 'author': 359, 'angels': 234, 'explored': 1595, 'hundred': 2195, 'stand': 4143, 'ear': 1397, 'reputation': 3640, 'foot': 1781, 'obsessed': 3069, 'bomb': 531, 'discovery': 1282, 'stanley': 4148, 'margaret': 2735, 'welcome': 4842, 'provoking': 3452, 'depicted': 1183, 'meaningful': 2781, 'breath': 573, 'fresh': 1833, 'curious': 1083, 'fx': 1858, 'wondered': 4927, 'staying': 4168, 'kinds': 2478, 'teenagers': 4391, 'iron': 2354, 'bands': 392, 'alright': 198, 'artificial': 306, 'topic': 4526, 'baseball': 403, 'devils': 1229, 'swedish': 4335, 'doctor': 1304, 'car': 680, 'breaks': 571, 'todays': 4509, 'standards': 4145, 'ya': 4976, 'showcase': 3954, 'liking': 2604, 'producing': 3417, 'argue': 290, 'wore': 4939, 'tim': 4494, 'unfunny': 4655, 'laughs': 2534, 'purposes': 3475, 'rolled': 3729, 'ball': 388, 'hammer': 2014, 'green': 1971, 'bin': 483, 'generous': 1886, 'connect': 944, 'effective': 1429, 'badly': 383, 'fifteen': 1706, 'hysterical': 2208, 'breasts': 572, 'erotic': 1515, 'bits': 490, 'learned': 2551, 'stilted': 4190, 'million': 2847, 'miles': 2843, 'aids': 161, 'parody': 3192, 'enter': 1494, 'dragon': 1344, 'size': 4012, 'kicks': 2463, 'unintentional': 4658, 'kelly': 2452, 'hong': 2149, 'fake': 1635, 'community': 908, 'illegal': 2229, 'develops': 1226, 'experiment': 1583, 'fully': 1847, 'renting': 3629, 'mel': 2796, 'persona': 3239, 'mario': 2738, 'print': 3399, 'improvement': 2256, 'mistakes': 2873, 'prime': 3395, 'emma': 1457, 'diana': 1237, 'returned': 3666, 'costume': 1005, 'improved': 2255, 'climax': 849, 'spy': 4135, 'superman': 4301, 'gene': 1879, 'futuristic': 1857, '2000': 30, 'alan': 171, 'carl': 692, 'inspiring': 2302, 'hatred': 2049, 'gang': 1867, 'captured': 677, 'heston': 2094, 'susan': 4326, 'barbara': 397, 'escaped': 1518, 'promising': 3433, 'buried': 624, 'exact': 1550, 'witness': 4914, 'rabbit': 3498, 'searching': 3842, 'kidnapped': 2466, 'ridden': 3691, 'retired': 3664, 'hal': 2006, 'unbelievably': 4635, 'showdown': 3955, 'veteran': 4724, 'mob': 2879, 'unlikely': 4671, 'shell': 3927, 'fate': 1665, 'scientists': 3819, 'devil': 1228, 'mixed': 2877, 'response': 3654, 'sidney': 3968, 'storytelling': 4209, 'lumet': 2688, 'relatively': 3600, 'masterful': 2758, 'harsh': 2040, 'started': 4157, 'schools': 3814, 'prequel': 3372, 'whoever': 4872, 'term': 4405, 'liners': 2611, 'match': 2762, 'wit': 4908, 'involvement': 2347, 'ruins': 3752, 'air': 164, 'heat': 2067, 'imagination': 2236, 'grim': 1974, 'resources': 3651, '1968': 16, 'struck': 4232, 'ultra': 4629, 'conservative': 948, 'philosophy': 3254, 'chuck': 812, 'peters': 3248, 'thoughts': 4464, 'rush': 3759, 'claimed': 829, 'bourne': 554, 'burt': 629, 'encounter': 1466, 'immensely': 2243, 'proud': 3444, 'sink': 3999, 'switch': 4339, 'centered': 733, 'clumsy': 866, 'providing': 3451, 'bare': 398, 'possibility': 3349, 'unrealistic': 4677, 'loose': 2650, 'punch': 3466, 'documentaries': 1306, '2002': 32, 'briefly': 580, 'irish': 2353, 'aimed': 162, 'benefit': 465, 'foreign': 1790, 'popularity': 3334, 'educational': 1425, 'education': 1424, 'copies': 992, 'broke': 593, 'motives': 2916, 'cia': 814, 'streets': 4217, 'doc': 1303, 'pile': 3275, 'occasion': 3073, 'intentionally': 2320, 'defend': 1158, 'dozens': 1339, 'fulci': 1845, 'quit': 3494, 'ripped': 3701, 'urban': 4688, 'pants': 3182, 'everyones': 1543, 'trapped': 4564, 'kirk': 2482, 'sexy': 3911, 'throwing': 4480, 'wind': 4893, 'constant': 957, 'trio': 4587, 'sisters': 4002, 'impressed': 2251, 'slave': 4022, 'drew': 1360, 'timeless': 4496, 'listening': 2620, 'kingdom': 2480, 'excited': 1561, 'beloved': 461, 'represent': 3637, 'games': 1865, 'spell': 4104, 'occasionally': 3075, 'ford': 1789, 'perfection': 3225, 'voices': 4763, 'guessed': 1990, 'closing': 859, 'rank': 3518, 'twists': 4619, 'threw': 4470, 'web': 4833, 'academy': 77, 'retarded': 3663, 'trash': 4565, 'leslie': 2574, 'dancer': 1104, 'rain': 3506, 'mtv': 2933, 'depicting': 1184, 'mom': 2885, 'buddies': 608, 'succeeded': 4263, 'bringing': 586, 'disease': 1285, 'kenneth': 2455, 'stealing': 4171, 'branagh': 564, 'eg': 1434, 'downright': 1337, 'adding': 117, 'outcome': 3142, 'equivalent': 1512, 'painful': 3171, 'obsession': 3070, 'literature': 2623, 'intent': 2318, 'helicopter': 2076, 'lion': 2614, 'behave': 445, 'soap': 4047, 'quiet': 3492, 'promised': 3431, 'slasher': 4020, 'designs': 1204, 'laura': 2536, 'charm': 767, 'disagree': 1269, 'polished': 3323, 'grandfather': 1954, 'feed': 1683, 'pat': 3208, 'weeks': 4839, 'depressing': 1188, 'gripping': 1976, 'sensitive': 3879, 'described': 1195, 'replaced': 3634, 'sunshine': 4294, 'advise': 134, 'firstly': 1737, 'methods': 2825, 'cost': 1003, 'context': 968, 'formulaic': 1803, 'imagery': 2234, 'unbearable': 4633, 'visit': 4755, 'official': 3094, 'suspicious': 4332, 'christ': 807, 'satan': 3787, 'jesus': 2399, 'miracle': 2860, 'reflect': 3584, 'patient': 3211, 'simpson': 3987, 'maria': 2736, 'models': 2881, 'concern': 931, 'enjoying': 1487, 'race': 3499, 'racism': 3502, 'added': 116, 'deeper': 1155, 'allow': 189, 'co': 867, 'danny': 1112, 'kidding': 2465, 'passed': 3202, 'passing': 3204, 'suspend': 4329, 'hopeless': 2158, 'concerns': 934, 'clichéd': 845, 'illogical': 2231, 'implausible': 2245, 'carries': 699, 'denzel': 1181, 'screening': 3830, '2006': 36, 'mansion': 2731, 'factory': 1623, 'cinematographer': 819, 'pops': 3332, 'haunted': 2050, 'convincingly': 986, 'subtitles': 4259, 'stranger': 4213, 'adam': 111, 'scores': 3823, 'slapstick': 4019, 'hill': 2108, 'drags': 1345, 'hotel': 2175, 'repetitive': 3633, 'cusack': 1088, 'occurred': 3077, 'realise': 3548, 'disaster': 1276, 'lacked': 2503, 'credibility': 1047, 'struggling': 4236, 'wins': 4899, 'chess': 783, 'pieces': 3273, 'goldberg': 1933, 'packed': 3166, 'thrill': 4471, 'dolph': 1317, 'sidekick': 3966, 'formula': 1802, 'warrior': 4802, 'outfit': 3144, 'hardcore': 2034, 'conversations': 981, 'cynical': 1093, 'julie': 2428, 'involves': 2348, 'marie': 2737, 'exposed': 1598, 'significant': 3972, 'movements': 2924, 'starred': 4153, 'suicide': 4283, 'revealing': 3672, 'sincere': 3991, 'productions': 3420, 'hip': 2114, 'sings': 3997, 'strongly': 4231, 'device': 1227, 'halloween': 2010, 'france': 1816, 'tonight': 4519, 'sentimental': 3882, 'adorable': 124, 'sally': 3776, 'sorts': 4078, 'sue': 4274, 'hanks': 2025, 'loss': 2659, 'farce': 1654, 'slightest': 4028, 'spring': 4134, 'winds': 4895, 'nowadays': 3055, 'rival': 3706, 'eddie': 1416, 'captures': 678, 'prepared': 3371, 'definition': 1163, 'strikes': 4225, 'glenn': 1918, 'directions': 1262, 'flying': 1764, 'porno': 3337, 'amitabh': 216, 'destroying': 1215, 'ironically': 2356, 'spanish': 4092, 'considerable': 950, 'del': 1165, 'steven': 4182, 'segments': 3868, 'hanging': 2023, 'thick': 4447, 'glorious': 1921, 'authentic': 358, 'teaching': 4377, 'morality': 2903, '35': 45, 'digital': 1251, 'andrews': 229, 'produce': 3413, 'sharp': 3922, 'mission': 2870, 'cuba': 1075, 'travels': 4569, 'regular': 3592, 'kane': 2442, 'yelling': 4980, 'championship': 745, 'originally': 3131, 'fatal': 1664, 'spots': 4132, 'position': 3345, 'blew': 505, 'nail': 2957, 'jimmy': 2403, 'crowd': 1067, 'blowing': 515, 'kennedy': 2454, 'matches': 2764, 'wouldve': 4959, 'contest': 967, 'useless': 4695, 'albert': 174, 'ex': 1549, 'jr': 2423, 'tense': 4403, 'lay': 2542, 'stanwyck': 4149, 'barry': 401, 'glory': 1922, 'achieved': 93, 'rising': 3703, 'brando': 566, 'aside': 315, 'husbands': 2205, 'pride': 3391, 'domestic': 1318, 'troops': 4591, 'advanced': 128, 'cried': 1054, 'corny': 997, 'machines': 2694, 'specifically': 4100, 'unable': 4631, 'changes': 751, 'crack': 1027, 'imagined': 2239, 'faults': 1669, 'altogether': 202, 'finger': 1731, 'germany': 1898, 'threat': 4467, '2007': 37, 'dvds': 1392, 'theaters': 4428, 'writes': 4970, 'unfolds': 4651, 'expression': 1602, 'vivid': 4760, 'masterpieces': 2760, 'ensues': 1493, 'hasnt': 2044, 'daring': 1114, 'countryside': 1015, 'carrey': 696, 'grinch': 1975, 'mile': 2842, 'global': 1920, 'robots': 3718, 'overdone': 3152, 'forty': 1807, 'fetched': 1698, 'grandmother': 1955, 'draw': 1349, 'bold': 528, 'burton': 630, 'credible': 1048, 'stereotypical': 4180, 'lesbian': 2573, 'nude': 3058, 'weve': 4856, 'messed': 2821, 'ham': 2011, 'neat': 2982, 'gothic': 1945, 'locations': 2636, 'stooges': 4200, 'corrupt': 1001, 'interpretation': 2328, 'soviet': 4089, 'empty': 1465, 'generated': 1882, 'battles': 415, 'phantom': 3251, 'opera': 3116, 'seek': 3858, 'disc': 1278, 'trial': 4580, 'marks': 2742, 'signs': 3973, 'weapon': 4828, 'menace': 2806, 'satisfying': 3791, 'journey': 2421, 'alternate': 200, 'colorful': 878, 'childrens': 793, 'pokemon': 3320, 'ann': 244, 'rangers': 3517, 'network': 3000, '1990s': 25, 'rescue': 3643, 'beast': 422, 'witty': 4917, 'bond': 532, 'disappoint': 1272, 'nurse': 3063, 'flesh': 1753, 'thrilling': 4474, 'mall': 2720, 'eaten': 1412, 'drunk': 1375, 'spending': 4106, 'kevin': 2457, 'invisible': 2344, 'mix': 2876, 'hitler': 2124, 'claim': 828, 'instant': 2305, 'answers': 252, 'amazed': 208, 'killings': 2473, 'warren': 4801, 'beatty': 427, 'comedic': 888, 'gods': 1928, 'chooses': 800, 'miserably': 2864, 'disappeared': 1271, 'knock': 2488, 'intense': 2316, 'jonathan': 2417, 'jessica': 2398, 'atmospheric': 334, 'angel': 231, 'choreographed': 801, 'sucks': 4271, 'fever': 1699, 'handle': 2018, 'hilariously': 2107, 'blob': 507, 'brooklyn': 595, 'mere': 2814, 'et': 1526, 'mechanical': 2788, 'noir': 3023, '2001': 31, 'regard': 3588, 'solely': 4056, 'mayor': 2777, 'trail': 4553, 'report': 3635, 'jail': 2376, 'players': 3299, 'builds': 617, 'rogers': 3725, 'fonda': 1777, 'drops': 1372, 'handled': 2019, 'funeral': 1849, 'silence': 3974, 'inventive': 2341, 'realism': 3549, 'subplot': 4255, 'highlight': 2103, 'teens': 4392, 'exceptional': 1558, 'asian': 314, 'cook': 988, 'convey': 982, 'folk': 1770, 'flight': 1757, 'jobs': 2406, 'stress': 4220, 'tedious': 4387, 'ridiculously': 3694, 'monkey': 2890, 'stomach': 4196, 'monkeys': 2891, 'dolls': 1316, 'cage': 645, 'understated': 4646, 'broad': 590, 'dealt': 1138, 'butt': 638, 'weekend': 4838, 'inappropriate': 2259, 'random': 3514, 'theyd': 4443, 'moody': 2899, 'seed': 3856, 'winter': 4900, 'presence': 3373, 'riding': 3695, 'errors': 1516, 'ties': 4490, 'eyed': 1612, 'deadly': 1133, 'anderson': 227, 'robin': 3715, 'stan': 4142, 'typically': 4624, 'deeply': 1156, 'revealed': 3671, 'letters': 2582, 'ruined': 3751, 'intimate': 2331, 'trashy': 4566, 'australia': 356, 'italy': 2368, 'pseudo': 3454, 'tape': 4365, 'filmmaker': 1719, 'moore': 2901, 'transition': 4561, 'prize': 3405, 'wrapped': 4964, 'frame': 1815, 'downhill': 1336, '2004': 34, 'represented': 3638, 'rooms': 3736, 'authority': 360, 'titled': 4505, 'loaded': 2632, 'runs': 3757, 'anne': 246, 'sarah': 3785, 'faster': 1662, 'awkward': 374, 'horrors': 2169, 'receive': 3563, 'ellen': 1446, 'poetic': 3313, 'passion': 3205, 'queen': 3485, 'choices': 798, 'lasted': 2522, 'seventies': 3904, 'drinking': 1362, 'involve': 2345, 'domino': 1319, 'evident': 1547, 'distracting': 1297, 'videos': 4734, 'hunter': 2199, 'strangely': 4212, 'hunters': 2200, 'fbi': 1675, 'contract': 973, 'destroyed': 1214, 'mild': 2839, 'fury': 1855, 'stevens': 4183, 'francisco': 1819, 'tunes': 4603, 'thrillers': 4473, 'werewolf': 4850, 'wolf': 4920, 'frankenstein': 1822, 'silver': 3977, 'bullet': 620, 'moon': 2900, 'underground': 4640, 'paranoia': 3186, '3rd': 47, 'paint': 3173, 'changing': 752, 'elizabeth': 1445, 'junior': 2435, 'gay': 1876, 'agrees': 157, 'channels': 754, 'kay': 2447, 'horribly': 2164, 'planned': 3290, 'notes': 3046, 'restaurant': 3658, 'photos': 3261, 'bank': 394, 'ludicrous': 2685, 'slap': 4018, 'butler': 637, 'lou': 2663, 'oz': 3160, 'wandering': 4785, 'tiger': 4491, 'nine': 3017, 'vague': 4705, 'provided': 3449, 'makeup': 2717, 'grace': 1950, 'matrix': 2767, 'candy': 668, 'overlook': 3153, 'burn': 625, 'praise': 3364, 'secrets': 3852, 'picks': 3268, 'brand': 565, 'lowest': 2678, 'fields': 1705, 'dollars': 1315, 'endings': 1472, 'gag': 1861, 'wears': 4832, 'shirt': 3937, 'performs': 3234, 'lesson': 2577, '1940s': 13, 'secretary': 3850, 'warming': 4795, 'blatant': 502, 'st': 4137, 'sinatra': 3989, '1983': 22, 'beer': 439, 'blank': 501, 'host': 2173, 'according': 88, 'synopsis': 4344, 'initially': 2291, 'characterization': 759, 'sandra': 3782, 'donna': 1323, 'psycho': 3457, 'reach': 3536, 'terry': 4415, 'cousin': 1021, 'cared': 685, 'hello': 2078, 'blend': 504, 'subplots': 4256, 'cheese': 780, 'juvenile': 2441, 'legal': 2563, 'worn': 4948, 'primarily': 3393, 'hospital': 2172, 'wrap': 4963, 'sub': 4252, 'happiness': 2031, 'balls': 390, 'ned': 2986, 'nancy': 2964, 'bet': 470, 'exaggerated': 1552, 'trap': 4563, 'asks': 319, 'photo': 3257, 'mini': 2854, 'julia': 2427, 'tradition': 4549, 'sinister': 3998, 'relatives': 3601, 'duty': 1390, 'nominated': 3025, 'warner': 4799, 'agents': 151, 'progresses': 3426, 'nelson': 2997, 'nazi': 2977, 'surrounded': 4318, 'occurs': 3078, 'manage': 2722, 'latin': 2527, 'tune': 4602, 'fathers': 1667, 'merits': 2817, 'brown': 601, 'questionable': 3488, 'kitchen': 2485, 'overrated': 3156, 'subtlety': 4261, 'fictional': 1703, 'groups': 1981, 'descent': 1193, 'hyde': 2206, 'streisand': 4218, 'revolves': 3682, 'melodrama': 2797, 'lane': 2515, 'howard': 2182, 'feminist': 1695, 'endure': 1475, 'ruthless': 3764, 'honesty': 2148, 'petty': 3249, 'singers': 3994, 'jewish': 2401, 'awfully': 373, 'distinct': 1296, 'worried': 4949, 'belong': 459, 'absence': 70, 'mummy': 2937, 'wed': 4835, 'von': 4765, 'bay': 416, 'navy': 2976, 'guard': 1988, 'darker': 1116, 'shadows': 3913, 'smaller': 4034, 'alice': 182, 'cooper': 990, 'hank': 2024, 'embarrassed': 1453, 'discussion': 1284, 'grown': 1984, 'campbell': 663, 'fond': 1776, 'invasion': 2340, 'cure': 1081, 'grab': 1949, 'clues': 865, 'satisfied': 3789, 'stale': 4141, 'misses': 2868, 'larry': 2520, 'clint': 850, 'eastwood': 1409, 'contain': 962, 'chose': 804, 'maggie': 2702, 'harder': 2035, 'lazy': 2543, '80': 58, '20th': 38, 'quotes': 3497, 'similarly': 3980, 'thoughtful': 4463, 'super': 4295, 'mirror': 2861, 'compare': 911, 'cities': 823, 'bed': 436, 'rob': 3710, 'acid': 95, 'introduction': 2339, 'drives': 1367, 'september': 3884, 'irritating': 2359, 'cabin': 643, 'traditional': 4550, 'drunken': 1376, 'ii': 2226, 'fu': 1844, 'li': 2587, 'differences': 1247, 'ken': 2453, 'operation': 3117, 'masters': 2761, 'neck': 2985, 'subsequent': 4257, 'technically': 4382, 'frequent': 1831, 'walked': 4776, 'bumbling': 622, 'laughably': 2531, 'rise': 3702, 'ingredients': 2289, 'dutch': 1389, 'evening': 1534, 'performers': 3232, 'department': 1182, 'lemmon': 2567, 'alfred': 181, '1950s': 14, 'scientific': 3817, 'melting': 2799, 'photographer': 3259, 'appearing': 277, '70': 55, 'heights': 2073, 'rick': 3689, 'pleasure': 3306, 'safe': 3771, 'ironic': 2355, 'bergman': 466, 'reference': 3582, 'performing': 3233, 'europe': 1529, 'performer': 3231, 'bridge': 578, 'pink': 3277, 'oscars': 3134, 'frustration': 1843, 'sutherland': 4333, 'frustrated': 1842, 'jeffrey': 2391, 'colonel': 876, 'assistant': 326, 'psychiatrist': 3455, 'lynch': 2691, 'trademark': 4548, 'nomination': 3026, 'nights': 3016, 'thief': 4448, 'june': 2433, 'rex': 3683, 'ranks': 3519, 'alexander': 180, 'cameron': 661, 'vincent': 4746, 'furthermore': 1854, 'buffs': 612, 'false': 1641, 'conflicts': 940, 'titanic': 4503, 'antics': 255, 'reveals': 3673, 'huh': 2187, 'lengthy': 2570, 'painted': 3174, 'sadness': 3770, 'pointed': 3317, 'balance': 387, 'growing': 1983, 'understood': 4647, 'matched': 2763, 'gordon': 1940, 'brenda': 575, 'virginia': 4750, 'dorothy': 1330, 'vulnerable': 4768, 'steals': 4172, 'acceptable': 81, 'kung': 2498, 'bodies': 526, 'horses': 2171, 'bleak': 503, 'bitter': 491, 'doom': 1326, 'sudden': 4272, 'somewhere': 4069, 'prisoner': 3402, 'avoided': 364, 'arm': 292, 'entry': 1504, 'lewis': 2586, 'graphic': 1958, 'giallo': 1904, 'obnoxious': 3067, 'incompetent': 2266, 'plastic': 3294, 'fed': 1682, 'conspiracy': 956, 'blah': 496, 'widmark': 4882, 'unpredictable': 4675, 'lone': 2642, 'pretend': 3381, 'expressed': 1601, 'tender': 4401, 'ritter': 3705, 'string': 4227, 'noise': 3024, 'stated': 4161, 'forbidden': 1785, 'valley': 4707, 'wives': 4918, 'block': 508, 'gentle': 1890, 'neighborhood': 2993, 'ho': 2127, 'wealth': 4826, 'underlying': 4641, 'cave': 727, 'sits': 4006, 'nose': 3037, 'causes': 725, 'francis': 1818, 'ps': 3453, 'lonely': 2643, 'philosophical': 3253, 'omen': 3104, 'resist': 3648, 'loud': 2664, 'settle': 3902, 'falk': 1636, 'accents': 79, 'engaging': 1481, 'boredom': 542, 'india': 2273, 'beliefs': 452, 'san': 3780, 'arrogant': 303, 'walls': 4783, 'deaf': 1134, 'energy': 1478, 'pie': 3271, 'millions': 2848, 'bath': 411, 'wasting': 4810, 'load': 2631, 'sword': 4340, 'alcoholic': 177, 'rendition': 3625, 'ballet': 389, 'dollar': 1314, 'willis': 4890, 'sacrifice': 3766, 'depression': 1189, 'relevant': 3604, 'format': 1799, 'realizing': 3555, 'attend': 344, 'bette': 471, 'suited': 4286, 'holding': 2130, 'aired': 165, 'boxing': 556, 'burning': 627, 'racial': 3501, 'lousy': 2667, 'signed': 3971, 'celluloid': 731, 'drivel': 1364, 'olivier': 3103, 'styles': 4250, 'spoken': 4126, 'ireland': 2352, 'techniques': 4384, 'dating': 1120, 'rochester': 3719, 'props': 3439, 'shakespeare': 3915, 'pig': 3274, 'tongue': 4518, 'vicious': 4728, 'aforementioned': 139, 'beaten': 424, 'robot': 3717, 'survivor': 4324, 'blond': 510, 'proof': 3434, 'lyrics': 2692, 'text': 4419, 'disturbed': 1299, 'partly': 3197, 'louise': 2666, 'jumps': 2432, 'contemporary': 965, 'travesty': 4570, 'laurel': 2537, 'oliver': 3102, 'hardy': 2037, 'suitable': 4285, 'warned': 4798, 'cagney': 646, 'johnson': 2411, 'simmons': 3981, 'choreography': 802, 'reunion': 3669, 'museum': 2945, 'ruby': 3749, 'equipment': 1511, 'hideous': 2098, 'respected': 3653, 'desired': 1206, 'portrays': 3344, 'overwhelming': 3157, 'backgrounds': 381, 'bob': 524, 'pearl': 3220, 'seat': 3845, 'outrageous': 3145, 'ginger': 1908, 'blues': 519, 'concert': 935, 'decades': 1145, 'sounded': 4082, 'friendship': 1838, 'betty': 474, 'accepted': 82, 'newly': 3004, 'reaches': 3538, 'britain': 588, 'shoes': 3941, 'status': 4165, 'elderly': 1440, 'foul': 1810, 'someones': 4065, 'secondly': 3847, 'sole': 4055, 'mainstream': 2709, 'stiller': 4189, 'complaint': 920, 'creativity': 1042, 'citizen': 824, 'unseen': 4678, 'online': 3109, 'linda': 2609, 'dentist': 1180, 'patients': 3212, 'delightful': 1168, 'allowing': 191, 'inferior': 2285, 'accidentally': 85, 'judy': 2426, 'reflection': 3585, 'screams': 3828, 'justin': 2440, 'miscast': 2862, 'journalist': 2420, 'morgan': 2905, 'freeman': 1829, 'motivation': 2914, 'iran': 2350, 'soccer': 4048, 'cup': 1080, 'arrested': 298, 'cares': 690, 'disappear': 1270, 'crocodile': 1065, 'punk': 3468, 'corner': 996, 'felix': 1689, '24': 39, 'survivors': 4325, 'raising': 3509, 'endearing': 1469, 'east': 1407, 'wanna': 4786, 'throws': 4482, 'cheated': 775, 'stolen': 4195, 'universe': 4666, 'spread': 4133, 'cg': 739, 'cake': 648, 'doors': 1329, '3d': 46, 'program': 3424, 'jenny': 2393, 'slight': 4027, 'bride': 577, 'eva': 1531, 'kate': 2446, 'household': 2179, 'ninja': 3018, 'sexuality': 3909, 'lying': 2690, 'da': 1094, 'lately': 2524, 'amanda': 205, 'suggest': 4280, 'witnesses': 4916, 'agreed': 156, 'driver': 1366, 'shower': 3957, 'dropped': 1370, 'wishing': 4907, 'dare': 1113, 'gandhi': 1866, 'kapoor': 2443, 'refuses': 3587, 'angela': 232, 'designed': 1203, 'rocks': 3722, 'chapter': 757, 'depressed': 1187, 'relies': 3606, 'stinks': 4192, 'tends': 4402, 'critic': 1061, 'fisher': 1739, 'narrator': 2967, 'screens': 3832, 'remote': 3622, 'commented': 900, 'sports': 4130, 'restored': 3659, 'hitting': 2126, 'latest': 2526, 'instantly': 2306, 'clue': 864, 'treasure': 4571, 'musicals': 2948, 'terrorist': 4413, 'mst3k': 2932, 'gerard': 1895, 'path': 3209, 'stays': 4169, 'dawn': 1127, 'holiday': 2134, 'assigned': 325, 'alcohol': 176, 'embarrassment': 1455, 'tiny': 4500, 'couples': 1017, 'knife': 2487, 'armed': 293, 'le': 2544, 'eastern': 1408, 'voiced': 4762, 'cox': 1026, 'stunts': 4246, 'inevitable': 2282, 'fool': 1779, 'lively': 2627, 'catchy': 717, 'afterwards': 145, 'merit': 2816, 'hugh': 2186, 'spoke': 4125, 'map': 2733, 'sounding': 4083, 'motivations': 2915, 'resemblance': 3645, 'mistaken': 2872, 'recognition': 3568, 'plausible': 3295, 'repeatedly': 3632, 'increasingly': 2268, 'greek': 1970, 'crying': 1074, 'nostalgic': 3039, 'taxi': 4371, 'split': 4120, 'rural': 3758, 'dances': 1106, 'garbo': 1871, 'buck': 605, 'holy': 2140, 'ha': 2002, 'americas': 215, 'arrived': 301, 'doo': 1325, 'joan': 2404, 'chases': 771, 'riveting': 3708, 'manipulative': 2727, 'resident': 3647, 'letter': 2581, 'elvira': 1450, 'mistress': 2874, 'tap': 4364, 'sappy': 3784, 'guarantee': 1987, 'robbins': 3712, 'competition': 918, 'joey': 2408, 'jesse': 2397, 'messages': 2820, 'pro': 3406, 'link': 2613, 'troubled': 4593, 'abandoned': 62, 'prom': 3429, 'pal': 3177, 'aunt': 355, 'inevitably': 2283, 'keaton': 2448, 'carradine': 695, 'unwatchable': 4682, 'fairy': 1632, 'remarkably': 3614, 'neighbors': 2994, 'disjointed': 1287, '1933': 12, 'fay': 1674, 'bush': 632, 'shelley': 3928, 'cheating': 776, 'hills': 2109, 'photographed': 3258, 'tad': 4347, 'claire': 831, 'danes': 1108, 'picking': 3267, 'craft': 1028, 'survived': 4322, 'consistently': 954, 'website': 4834, 'seeks': 3860, 'drop': 1369, 'vaguely': 4706, 'montage': 2894, 'ward': 4793, 'richards': 3687, '45': 50, 'opens': 3115, 'classes': 834, 'jet': 2400, 'graphics': 1959, 'nostalgia': 3038, 'hollywoods': 2138, 'lily': 2605, 'dickens': 1240, 'reed': 3580, 'flop': 1760, 'suggests': 4282, 'dinosaurs': 1256, 'troubles': 4594, 'luckily': 2682, 'stylish': 4251, 'splatter': 4118, 'wrestling': 4966, 'witnessed': 4915, 'listed': 2618, 'farm': 1656, 'sticks': 4186, 'hood': 2151, 'promises': 3432, 'poster': 3353, '1980': 20, 'sophisticated': 4075, 'myers': 2952, 'realizes': 3554, 'rid': 3690, 'ratings': 3530, 'fashioned': 1660, 'tiresome': 4502, 'jeremy': 2394, 'roberts': 3714, 'interaction': 2322, 'north': 3036, 'alongside': 196, 'tall': 4362, 'leo': 2571, 'vegas': 4717, 'rats': 3531, 'crisis': 1060, 'method': 2824, 'phony': 3256, 'bud': 607, 'ramones': 3512, 'principal': 3398, 'elsewhere': 1449, 'triumph': 4590, 'lust': 2689, 'valuable': 4708, 'madness': 2698, 'horrifying': 2167, 'transfer': 4559, 'lab': 2501, 'innovative': 2295, 'scooby': 3820, 'helen': 2075, 'corpse': 999, 'elaborate': 1439, 'defense': 1159, 'astaire': 330, 'whale': 4857, 'royal': 3746, 'effectively': 1430, 'traveling': 4568, 'diane': 1238, 'georges': 1894, 'abysmal': 76, 'marketing': 2741, 'ambitious': 211, 'seagal': 3839, 'fooled': 1780, 'fascinated': 1657, 'describes': 1196, '1972': 18, 'lugosi': 2686, 'karloff': 2445, 'bela': 450, 'cinemas': 817, 'enterprise': 1495, 'bacall': 377, 'monk': 2889, 'bugs': 613, 'gadget': 1860, 'nazis': 2978, 'delivering': 1171, 'nearby': 2980, 'timothy': 4499, 'tooth': 4524, 'requires': 3642, 'morris': 2908, 'comfortable': 892, 'matthau': 2771, 'creep': 1051, 'reynolds': 3684, 'paltrow': 3178, 'southern': 4088, 'eyre': 1614, 'dalton': 1098, 'challenge': 743, 'topless': 4527, 'shark': 3921, 'tracks': 4545, 'relation': 3595, 'texas': 4418, 'godzilla': 1929, 'blacks': 494, 'destiny': 1212, 'richardson': 3688, 'ensemble': 1492, 'analysis': 224, 'april': 284, 'range': 3516, 'mildred': 2841, 'waitress': 4773, 'enthusiasm': 1501, 'brains': 563, 'directs': 1267, 'testament': 4417, 'survival': 4320, 'highlights': 2104, 'panic': 3181, 'clip': 851, 'parties': 3196, 'macy': 2695, 'pitch': 3279, 'roman': 3731, 'clown': 862, 'safety': 3772, 'greed': 1968, 'voight': 4764, 'franco': 1820, 'exploration': 1593, 'witches': 4910, 'spain': 4091, 'glover': 1923, 'ethan': 1528, 'suits': 4287, 'dinner': 1254, 'facing': 1620, 'abraham': 69, 'lips': 2615, 'cleverly': 842, 'dinosaur': 1255, 'grey': 1973, 'receives': 3565, 'accompanied': 86, 'nuts': 3064, 'todd': 4510, 'doctors': 1305, 'homer': 2144, 'bettie': 473, 'brady': 561, 'mentioning': 2812, 'doll': 1313, 'tracy': 4546, 'iii': 2227, 'priceless': 3390, 'ruth': 3763, 'taught': 4370, 'widow': 4883, 'edie': 1419, 'madonna': 2699, 'edition': 1422, 'instinct': 2308, 'paulie': 3215, 'reached': 3537, 'mundane': 2938, 'square': 4136, 'miike': 2837, 'poem': 3312, 'shy': 3962, 'swim': 4337, 'backdrop': 379, 'berlin': 467, 'shake': 3914, 'hamlet': 2013, 'gundam': 1997, 'wendy': 4846, 'abc': 63, 'polanski': 3321}\n"
     ]
    }
   ],
   "source": [
    "print(str(vocabulary))"
   ]
  },
  {
   "cell_type": "markdown",
   "metadata": {},
   "source": [
    "Once you have added the endpoint name to the Lambda function, click on **Save**. Your Lambda function is now up and running. Next we need to create a way for our web app to execute the Lambda function."
   ]
  },
  {
   "cell_type": "markdown",
   "metadata": {},
   "source": [
    "### Setting up API Gateway\n",
    "\n",
    "Now that our Lambda function is set up, it is time to create a new API using API Gateway that will trigger the Lambda function we have just created.\n",
    "\n",
    "Using AWS Console, navigate to **Amazon API Gateway** and then click on **Get started**.\n",
    "\n",
    "On the next page, make sure that **New API** is selected and give the new api a name, for example, `sentiment_analysis_web_app`. Then, click on **Create API**.\n",
    "\n",
    "Now we have created an API, however it doesn't currently do anything. What we want it to do is to trigger the Lambda function that we created earlier.\n",
    "\n",
    "Select the **Actions** dropdown menu and click **Create Method**. A new blank method will be created, select its dropdown menu and select **POST**, then click on the check mark beside it.\n",
    "\n",
    "For the integration point, make sure that **Lambda Function** is selected and click on the **Use Lambda Proxy integration**. This option makes sure that the data that is sent to the API is then sent directly to the Lambda function with no processing. It also means that the return value must be a proper response object as it will also not be processed by API Gateway.\n",
    "\n",
    "Type the name of the Lambda function you created earlier into the **Lambda Function** text entry box and then click on **Save**. Click on **OK** in the pop-up box that then appears, giving permission to API Gateway to invoke the Lambda function you created.\n",
    "\n",
    "The last step in creating the API Gateway is to select the **Actions** dropdown and click on **Deploy API**. You will need to create a new Deployment stage and name it anything you like, for example `prod`.\n",
    "\n",
    "You have now successfully set up a public API to access your SageMaker model. Make sure to copy or write down the URL provided to invoke your newly created public API as this will be needed in the next step. This URL can be found at the top of the page, highlighted in blue next to the text **Invoke URL**."
   ]
  },
  {
   "cell_type": "markdown",
   "metadata": {},
   "source": [
    "## Step 7: Deploying our web app\n",
    "\n",
    "Now that we have a publicly available API, we can start using it in a web app. For our purposes, we have provided a simple static html file which can make use of the public api you created earlier.\n",
    "\n",
    "In the `website` folder there should be a file called `index.html`. Download the file to your computer and open that file up in a text editor of your choice. There should be a line which contains **\\*\\*REPLACE WITH PUBLIC API URL\\*\\***. Replace this string with the url that you wrote down in the last step and then save the file.\n",
    "\n",
    "Now, if you open `index.html` on your local computer, your browser will behave as a local web server and you can use the provided site to interact with your SageMaker model.\n",
    "\n",
    "If you'd like to go further, you can host this html file anywhere you'd like, for example using github or hosting a static site on Amazon's S3. Once you have done this you can share the link with anyone you'd like and have them play with it too!\n",
    "\n",
    "> **Important Note** In order for the web app to communicate with the SageMaker endpoint, the endpoint has to actually be deployed and running. This means that you are paying for it. Make sure that the endpoint is running when you want to use the web app but that you shut it down when you don't need it, otherwise you will end up with a surprisingly large AWS bill."
   ]
  },
  {
   "cell_type": "markdown",
   "metadata": {},
   "source": [
    "### Delete the endpoint\n",
    "\n",
    "Remember to always shut down your endpoint if you are no longer using it. You are charged for the length of time that the endpoint is running so if you forget and leave it on you could end up with an unexpectedly large bill."
   ]
  },
  {
   "cell_type": "code",
   "execution_count": 53,
   "metadata": {},
   "outputs": [],
   "source": [
    "xgb_predictor.delete_endpoint()"
   ]
  },
  {
   "cell_type": "markdown",
   "metadata": {},
   "source": [
    "## Optional: Clean up\n",
    "\n",
    "The default notebook instance on SageMaker doesn't have a lot of excess disk space available. As you continue to complete and execute notebooks you will eventually fill up this disk space, leading to errors which can be difficult to diagnose. Once you are completely finished using a notebook it is a good idea to remove the files that you created along the way. Of course, you can do this from the terminal or from the notebook hub if you would like. The cell below contains some commands to clean up the created files from within the notebook."
   ]
  },
  {
   "cell_type": "code",
   "execution_count": 54,
   "metadata": {},
   "outputs": [],
   "source": [
    "# First we will remove all of the files contained in the data_dir directory\n",
    "!rm $data_dir/*\n",
    "\n",
    "# And then we delete the directory itself\n",
    "!rmdir $data_dir\n",
    "\n",
    "# Similarly we remove the files in the cache_dir directory and the directory itself\n",
    "!rm $cache_dir/*\n",
    "!rmdir $cache_dir"
   ]
  },
  {
   "cell_type": "code",
   "execution_count": null,
   "metadata": {},
   "outputs": [],
   "source": []
  }
 ],
 "metadata": {
  "kernelspec": {
   "display_name": "conda_python3",
   "language": "python",
   "name": "conda_python3"
  },
  "language_info": {
   "codemirror_mode": {
    "name": "ipython",
    "version": 3
   },
   "file_extension": ".py",
   "mimetype": "text/x-python",
   "name": "python",
   "nbconvert_exporter": "python",
   "pygments_lexer": "ipython3",
   "version": "3.6.10"
  }
 },
 "nbformat": 4,
 "nbformat_minor": 2
}
