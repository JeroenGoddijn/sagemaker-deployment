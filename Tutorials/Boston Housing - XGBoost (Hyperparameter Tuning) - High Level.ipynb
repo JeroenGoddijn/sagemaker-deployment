{
 "cells": [
  {
   "cell_type": "markdown",
   "metadata": {},
   "source": [
    "# Predicting Boston Housing Prices\n",
    "\n",
    "## Using XGBoost in SageMaker (Hyperparameter Tuning)\n",
    "\n",
    "_Deep Learning Nanodegree Program | Deployment_\n",
    "\n",
    "---\n",
    "\n",
    "As an introduction to using SageMaker's High Level Python API for hyperparameter tuning, we will look again at the [Boston Housing Dataset](https://www.cs.toronto.edu/~delve/data/boston/bostonDetail.html) to predict the median value of a home in the area of Boston Mass.\n",
    "\n",
    "The documentation for the high level API can be found on the [ReadTheDocs page](http://sagemaker.readthedocs.io/en/latest/)\n",
    "\n",
    "## General Outline\n",
    "\n",
    "Typically, when using a notebook instance with SageMaker, you will proceed through the following steps. Of course, not every step will need to be done with each project. Also, there is quite a lot of room for variation in many of the steps, as you will see throughout these lessons.\n",
    "\n",
    "1. Download or otherwise retrieve the data.\n",
    "2. Process / Prepare the data.\n",
    "3. Upload the processed data to S3.\n",
    "4. Train a chosen model.\n",
    "5. Test the trained model (typically using a batch transform job).\n",
    "6. Deploy the trained model.\n",
    "7. Use the deployed model.\n",
    "\n",
    "In this notebook we will only be covering steps 1 through 5 as we are only interested in creating a tuned model and testing its performance."
   ]
  },
  {
   "cell_type": "markdown",
   "metadata": {},
   "source": [
    "## Step 0: Setting up the notebook\n",
    "\n",
    "We begin by setting up all of the necessary bits required to run our notebook. To start that means loading all of the Python modules we will need."
   ]
  },
  {
   "cell_type": "code",
   "execution_count": 1,
   "metadata": {},
   "outputs": [],
   "source": [
    "%matplotlib inline\n",
    "\n",
    "import os\n",
    "\n",
    "import numpy as np\n",
    "import pandas as pd\n",
    "\n",
    "import matplotlib.pyplot as plt\n",
    "\n",
    "from sklearn.datasets import load_boston\n",
    "import sklearn.model_selection"
   ]
  },
  {
   "cell_type": "markdown",
   "metadata": {},
   "source": [
    "In addition to the modules above, we need to import the various bits of SageMaker that we will be using. "
   ]
  },
  {
   "cell_type": "code",
   "execution_count": 2,
   "metadata": {},
   "outputs": [],
   "source": [
    "import sagemaker\n",
    "from sagemaker import get_execution_role\n",
    "from sagemaker.amazon.amazon_estimator import get_image_uri\n",
    "from sagemaker.predictor import csv_serializer\n",
    "\n",
    "# This is an object that represents the SageMaker session that we are currently operating in. This\n",
    "# object contains some useful information that we will need to access later such as our region.\n",
    "session = sagemaker.Session()\n",
    "\n",
    "# This is an object that represents the IAM role that we are currently assigned. When we construct\n",
    "# and launch the training job later we will need to tell it what IAM role it should have. Since our\n",
    "# use case is relatively simple we will simply assign the training job the role we currently have.\n",
    "role = get_execution_role()"
   ]
  },
  {
   "cell_type": "markdown",
   "metadata": {},
   "source": [
    "## Step 1: Downloading the data\n",
    "\n",
    "Fortunately, this dataset can be retrieved using sklearn and so this step is relatively straightforward."
   ]
  },
  {
   "cell_type": "code",
   "execution_count": 3,
   "metadata": {},
   "outputs": [],
   "source": [
    "boston = load_boston()"
   ]
  },
  {
   "cell_type": "markdown",
   "metadata": {},
   "source": [
    "## Step 2: Preparing and splitting the data\n",
    "\n",
    "Given that this is clean tabular data, we don't need to do any processing. However, we do need to split the rows in the dataset up into train, test and validation sets."
   ]
  },
  {
   "cell_type": "code",
   "execution_count": 4,
   "metadata": {},
   "outputs": [],
   "source": [
    "# First we package up the input data and the target variable (the median value) as pandas dataframes. This\n",
    "# will make saving the data to a file a little easier later on.\n",
    "\n",
    "X_bos_pd = pd.DataFrame(boston.data, columns=boston.feature_names)\n",
    "Y_bos_pd = pd.DataFrame(boston.target)\n",
    "\n",
    "# We split the dataset into 2/3 training and 1/3 testing sets.\n",
    "X_train, X_test, Y_train, Y_test = sklearn.model_selection.train_test_split(X_bos_pd, Y_bos_pd, test_size=0.33)\n",
    "\n",
    "# Then we split the training set further into 2/3 training and 1/3 validation sets.\n",
    "X_train, X_val, Y_train, Y_val = sklearn.model_selection.train_test_split(X_train, Y_train, test_size=0.33)"
   ]
  },
  {
   "cell_type": "markdown",
   "metadata": {},
   "source": [
    "## Step 3: Uploading the data files to S3\n",
    "\n",
    "When a training job is constructed using SageMaker, a container is executed which performs the training operation. This container is given access to data that is stored in S3. This means that we need to upload the data we want to use for training to S3. In addition, when we perform a batch transform job, SageMaker expects the input data to be stored on S3. We can use the SageMaker API to do this and hide some of the details.\n",
    "\n",
    "### Save the data locally\n",
    "\n",
    "First we need to create the test, train and validation csv files which we will then upload to S3."
   ]
  },
  {
   "cell_type": "code",
   "execution_count": 5,
   "metadata": {},
   "outputs": [],
   "source": [
    "# This is our local data directory. We need to make sure that it exists.\n",
    "data_dir = '../data/boston'\n",
    "if not os.path.exists(data_dir):\n",
    "    os.makedirs(data_dir)"
   ]
  },
  {
   "cell_type": "code",
   "execution_count": 6,
   "metadata": {},
   "outputs": [],
   "source": [
    "# We use pandas to save our test, train and validation data to csv files. Note that we make sure not to include header\n",
    "# information or an index as this is required by the built in algorithms provided by Amazon. Also, for the train and\n",
    "# validation data, it is assumed that the first entry in each row is the target variable.\n",
    "\n",
    "X_test.to_csv(os.path.join(data_dir, 'test.csv'), header=False, index=False)\n",
    "\n",
    "pd.concat([Y_val, X_val], axis=1).to_csv(os.path.join(data_dir, 'validation.csv'), header=False, index=False)\n",
    "pd.concat([Y_train, X_train], axis=1).to_csv(os.path.join(data_dir, 'train.csv'), header=False, index=False)"
   ]
  },
  {
   "cell_type": "markdown",
   "metadata": {},
   "source": [
    "### Upload to S3\n",
    "\n",
    "Since we are currently running inside of a SageMaker session, we can use the object which represents this session to upload our data to the 'default' S3 bucket. Note that it is good practice to provide a custom prefix (essentially an S3 folder) to make sure that you don't accidentally interfere with data uploaded from some other notebook or project."
   ]
  },
  {
   "cell_type": "code",
   "execution_count": 7,
   "metadata": {},
   "outputs": [],
   "source": [
    "prefix = 'boston-xgboost-tuning-HL'\n",
    "\n",
    "test_location = session.upload_data(os.path.join(data_dir, 'test.csv'), key_prefix=prefix)\n",
    "val_location = session.upload_data(os.path.join(data_dir, 'validation.csv'), key_prefix=prefix)\n",
    "train_location = session.upload_data(os.path.join(data_dir, 'train.csv'), key_prefix=prefix)"
   ]
  },
  {
   "cell_type": "markdown",
   "metadata": {},
   "source": [
    "## Step 4: Train the XGBoost model\n",
    "\n",
    "Now that we have the training and validation data uploaded to S3, we can construct our XGBoost model and train it. Unlike in the previous notebooks, instead of training a single model, we will use SageMaker's hyperparameter tuning functionality to train multiple models and use the one that performs the best on the validation set.\n",
    "\n",
    "To begin with, as in the previous approaches, we will need to construct an estimator object."
   ]
  },
  {
   "cell_type": "code",
   "execution_count": 8,
   "metadata": {},
   "outputs": [
    {
     "name": "stderr",
     "output_type": "stream",
     "text": [
      "'get_image_uri' method will be deprecated in favor of 'ImageURIProvider' class in SageMaker Python SDK v2.\n",
      "There is a more up to date SageMaker XGBoost image. To use the newer image, please set 'repo_version'='1.0-1'. For example:\n",
      "\tget_image_uri(region, 'xgboost', '1.0-1').\n",
      "Parameter image_name will be renamed to image_uri in SageMaker Python SDK v2.\n"
     ]
    }
   ],
   "source": [
    "# As stated above, we use this utility method to construct the image name for the training container.\n",
    "container = get_image_uri(session.boto_region_name, 'xgboost')\n",
    "\n",
    "# Now that we know which container to use, we can construct the estimator object.\n",
    "xgb = sagemaker.estimator.Estimator(container, # The name of the training container\n",
    "                                    role,      # The IAM role to use (our current role in this case)\n",
    "                                    train_instance_count=1, # The number of instances to use for training\n",
    "                                    train_instance_type='ml.m4.xlarge', # The type of instance ot use for training\n",
    "                                    output_path='s3://{}/{}/output'.format(session.default_bucket(), prefix),\n",
    "                                                                        # Where to save the output (the model artifacts)\n",
    "                                    sagemaker_session=session) # The current SageMaker session"
   ]
  },
  {
   "cell_type": "markdown",
   "metadata": {},
   "source": [
    "Before beginning the hyperparameter tuning, we should make sure to set any model specific hyperparameters that we wish to have default values. There are quite a few that can be set when using the XGBoost algorithm, below are just a few of them. If you would like to change the hyperparameters below or modify additional ones you can find additional information on the [XGBoost hyperparameter page](https://docs.aws.amazon.com/sagemaker/latest/dg/xgboost_hyperparameters.html)"
   ]
  },
  {
   "cell_type": "code",
   "execution_count": 9,
   "metadata": {},
   "outputs": [],
   "source": [
    "xgb.set_hyperparameters(max_depth=5,\n",
    "                        eta=0.2,\n",
    "                        gamma=4,\n",
    "                        min_child_weight=6,\n",
    "                        subsample=0.8,\n",
    "                        objective='reg:linear',\n",
    "                        early_stopping_rounds=10,\n",
    "                        num_round=200)"
   ]
  },
  {
   "cell_type": "markdown",
   "metadata": {},
   "source": [
    "Now that we have our estimator object completely set up, it is time to create the hyperparameter tuner. To do this we need to construct a new object which contains each of the parameters we want SageMaker to tune. In this case, we wish to find the best values for the `max_depth`, `eta`, `min_child_weight`, `subsample`, and `gamma` parameters. Note that for each parameter that we want SageMaker to tune we need to specify both the *type* of the parameter and the *range* of values that parameter may take on.\n",
    "\n",
    "In addition, we specify the *number* of models to construct (`max_jobs`) and the number of those that can be trained in parallel (`max_parallel_jobs`). In the cell below we have chosen to train `20` models, of which we ask that SageMaker train `3` at a time in parallel. Note that this results in a total of `20` training jobs being executed which can take some time, in this case almost a half hour. With more complicated models this can take even longer so be aware!"
   ]
  },
  {
   "cell_type": "code",
   "execution_count": 10,
   "metadata": {},
   "outputs": [],
   "source": [
    "from sagemaker.tuner import IntegerParameter, ContinuousParameter, HyperparameterTuner\n",
    "\n",
    "xgb_hyperparameter_tuner = HyperparameterTuner(estimator = xgb, # The estimator object to use as the basis for the training jobs.\n",
    "                                               objective_metric_name = 'validation:rmse', # The metric used to compare trained models.\n",
    "                                               objective_type = 'Minimize', # Whether we wish to minimize or maximize the metric.\n",
    "                                               max_jobs = 20, # The total number of models to train\n",
    "                                               max_parallel_jobs = 3, # The number of models to train in parallel\n",
    "                                               hyperparameter_ranges = {\n",
    "                                                    'max_depth': IntegerParameter(3, 12),\n",
    "                                                    'eta'      : ContinuousParameter(0.05, 0.5),\n",
    "                                                    'min_child_weight': IntegerParameter(2, 8),\n",
    "                                                    'subsample': ContinuousParameter(0.5, 0.9),\n",
    "                                                    'gamma': ContinuousParameter(0, 10),\n",
    "                                               })"
   ]
  },
  {
   "cell_type": "markdown",
   "metadata": {},
   "source": [
    "Now that we have our hyperparameter tuner object completely set up, it is time to train it. To do this we make sure that SageMaker knows our input data is in csv format and then execute the `fit` method."
   ]
  },
  {
   "cell_type": "code",
   "execution_count": 11,
   "metadata": {},
   "outputs": [
    {
     "name": "stderr",
     "output_type": "stream",
     "text": [
      "'s3_input' class will be renamed to 'TrainingInput' in SageMaker Python SDK v2.\n",
      "'s3_input' class will be renamed to 'TrainingInput' in SageMaker Python SDK v2.\n"
     ]
    }
   ],
   "source": [
    "# This is a wrapper around the location of our train and validation data, to make sure that SageMaker\n",
    "# knows our data is in csv format.\n",
    "s3_input_train = sagemaker.s3_input(s3_data=train_location, content_type='csv')\n",
    "s3_input_validation = sagemaker.s3_input(s3_data=val_location, content_type='csv')\n",
    "\n",
    "xgb_hyperparameter_tuner.fit({'train': s3_input_train, 'validation': s3_input_validation})"
   ]
  },
  {
   "cell_type": "markdown",
   "metadata": {},
   "source": [
    "As in many of the examples we have seen so far, the `fit()` method takes care of setting up and fitting a number of different models, each with different hyperparameters. If we wish to wait for this process to finish, we can call the `wait()` method."
   ]
  },
  {
   "cell_type": "code",
   "execution_count": 12,
   "metadata": {},
   "outputs": [
    {
     "name": "stdout",
     "output_type": "stream",
     "text": [
      "..................................................................................................................................................................................................................................................................................!\n"
     ]
    }
   ],
   "source": [
    "xgb_hyperparameter_tuner.wait()"
   ]
  },
  {
   "cell_type": "markdown",
   "metadata": {},
   "source": [
    "Once the hyperamater tuner has finished, we can retrieve information about the best performing model. "
   ]
  },
  {
   "cell_type": "code",
   "execution_count": 13,
   "metadata": {},
   "outputs": [
    {
     "data": {
      "text/plain": [
       "'xgboost-201014-1648-017-20234a38'"
      ]
     },
     "execution_count": 13,
     "metadata": {},
     "output_type": "execute_result"
    }
   ],
   "source": [
    "xgb_hyperparameter_tuner.best_training_job()"
   ]
  },
  {
   "cell_type": "markdown",
   "metadata": {},
   "source": [
    "In addition, since we'd like to set up a batch transform job to test the best model, we can construct a new estimator object from the results of the best training job. The `xgb_attached` object below can now be used as though we constructed an estimator with the best performing hyperparameters and then fit it to our training data."
   ]
  },
  {
   "cell_type": "code",
   "execution_count": 14,
   "metadata": {},
   "outputs": [
    {
     "name": "stderr",
     "output_type": "stream",
     "text": [
      "Parameter image_name will be renamed to image_uri in SageMaker Python SDK v2.\n"
     ]
    },
    {
     "name": "stdout",
     "output_type": "stream",
     "text": [
      "2020-10-14 17:07:28 Starting - Preparing the instances for training\n",
      "2020-10-14 17:07:28 Downloading - Downloading input data\n",
      "2020-10-14 17:07:28 Training - Training image download completed. Training in progress.\n",
      "2020-10-14 17:07:28 Uploading - Uploading generated training model\n",
      "2020-10-14 17:07:28 Completed - Training job completed\u001b[34mArguments: train\u001b[0m\n",
      "\u001b[34m[2020-10-14:17:07:16:INFO] Running standalone xgboost training.\u001b[0m\n",
      "\u001b[34m[2020-10-14:17:07:16:INFO] Setting up HPO optimized metric to be : rmse\u001b[0m\n",
      "\u001b[34m[2020-10-14:17:07:16:INFO] File size need to be processed in the node: 0.02mb. Available memory size in the node: 8480.65mb\u001b[0m\n",
      "\u001b[34m[2020-10-14:17:07:16:INFO] Determined delimiter of CSV input is ','\u001b[0m\n",
      "\u001b[34m[17:07:16] S3DistributionType set as FullyReplicated\u001b[0m\n",
      "\u001b[34m[17:07:16] 227x13 matrix with 2951 entries loaded from /opt/ml/input/data/train?format=csv&label_column=0&delimiter=,\u001b[0m\n",
      "\u001b[34m[2020-10-14:17:07:16:INFO] Determined delimiter of CSV input is ','\u001b[0m\n",
      "\u001b[34m[17:07:16] S3DistributionType set as FullyReplicated\u001b[0m\n",
      "\u001b[34m[17:07:16] 112x13 matrix with 1456 entries loaded from /opt/ml/input/data/validation?format=csv&label_column=0&delimiter=,\u001b[0m\n",
      "\u001b[34m[17:07:16] src/tree/updater_prune.cc:74: tree pruning end, 1 roots, 8 extra nodes, 0 pruned nodes, max_depth=4\u001b[0m\n",
      "\u001b[34m[0]#011train-rmse:20.3924#011validation-rmse:21.3123\u001b[0m\n",
      "\u001b[34mMultiple eval metrics have been passed: 'validation-rmse' will be used for early stopping.\n",
      "\u001b[0m\n",
      "\u001b[34mWill train until validation-rmse hasn't improved in 10 rounds.\u001b[0m\n",
      "\u001b[34m[17:07:16] src/tree/updater_prune.cc:74: tree pruning end, 1 roots, 8 extra nodes, 0 pruned nodes, max_depth=3\u001b[0m\n",
      "\u001b[34m[1]#011train-rmse:17.7599#011validation-rmse:18.7471\u001b[0m\n",
      "\u001b[34m[17:07:16] src/tree/updater_prune.cc:74: tree pruning end, 1 roots, 14 extra nodes, 0 pruned nodes, max_depth=5\u001b[0m\n",
      "\u001b[34m[2]#011train-rmse:15.5364#011validation-rmse:16.5972\u001b[0m\n",
      "\u001b[34m[17:07:16] src/tree/updater_prune.cc:74: tree pruning end, 1 roots, 14 extra nodes, 4 pruned nodes, max_depth=4\u001b[0m\n",
      "\u001b[34m[3]#011train-rmse:13.5886#011validation-rmse:14.6494\u001b[0m\n",
      "\u001b[34m[17:07:16] src/tree/updater_prune.cc:74: tree pruning end, 1 roots, 18 extra nodes, 0 pruned nodes, max_depth=5\u001b[0m\n",
      "\u001b[34m[4]#011train-rmse:11.9173#011validation-rmse:12.9671\u001b[0m\n",
      "\u001b[34m[17:07:16] src/tree/updater_prune.cc:74: tree pruning end, 1 roots, 18 extra nodes, 0 pruned nodes, max_depth=5\u001b[0m\n",
      "\u001b[34m[5]#011train-rmse:10.439#011validation-rmse:11.579\u001b[0m\n",
      "\u001b[34m[17:07:16] src/tree/updater_prune.cc:74: tree pruning end, 1 roots, 18 extra nodes, 2 pruned nodes, max_depth=5\u001b[0m\n",
      "\u001b[34m[6]#011train-rmse:9.17328#011validation-rmse:10.4013\u001b[0m\n",
      "\u001b[34m[17:07:16] src/tree/updater_prune.cc:74: tree pruning end, 1 roots, 24 extra nodes, 6 pruned nodes, max_depth=7\u001b[0m\n",
      "\u001b[34m[7]#011train-rmse:8.06766#011validation-rmse:9.38691\u001b[0m\n",
      "\u001b[34m[17:07:16] src/tree/updater_prune.cc:74: tree pruning end, 1 roots, 28 extra nodes, 8 pruned nodes, max_depth=7\u001b[0m\n",
      "\u001b[34m[8]#011train-rmse:7.12594#011validation-rmse:8.56935\u001b[0m\n",
      "\u001b[34m[17:07:16] src/tree/updater_prune.cc:74: tree pruning end, 1 roots, 26 extra nodes, 4 pruned nodes, max_depth=6\u001b[0m\n",
      "\u001b[34m[9]#011train-rmse:6.31479#011validation-rmse:7.82362\u001b[0m\n",
      "\u001b[34m[17:07:16] src/tree/updater_prune.cc:74: tree pruning end, 1 roots, 42 extra nodes, 8 pruned nodes, max_depth=7\u001b[0m\n",
      "\u001b[34m[10]#011train-rmse:5.59956#011validation-rmse:7.24996\u001b[0m\n",
      "\u001b[34m[17:07:16] src/tree/updater_prune.cc:74: tree pruning end, 1 roots, 32 extra nodes, 10 pruned nodes, max_depth=6\u001b[0m\n",
      "\u001b[34m[11]#011train-rmse:4.98987#011validation-rmse:6.79385\u001b[0m\n",
      "\u001b[34m[17:07:16] src/tree/updater_prune.cc:74: tree pruning end, 1 roots, 34 extra nodes, 18 pruned nodes, max_depth=9\u001b[0m\n",
      "\u001b[34m[12]#011train-rmse:4.45537#011validation-rmse:6.34693\u001b[0m\n",
      "\u001b[34m[17:07:16] src/tree/updater_prune.cc:74: tree pruning end, 1 roots, 34 extra nodes, 20 pruned nodes, max_depth=9\u001b[0m\n",
      "\u001b[34m[13]#011train-rmse:3.97506#011validation-rmse:5.99046\u001b[0m\n",
      "\u001b[34m[17:07:16] src/tree/updater_prune.cc:74: tree pruning end, 1 roots, 36 extra nodes, 24 pruned nodes, max_depth=9\u001b[0m\n",
      "\u001b[34m[14]#011train-rmse:3.5852#011validation-rmse:5.71152\u001b[0m\n",
      "\u001b[34m[17:07:16] src/tree/updater_prune.cc:74: tree pruning end, 1 roots, 40 extra nodes, 22 pruned nodes, max_depth=9\u001b[0m\n",
      "\u001b[34m[15]#011train-rmse:3.23171#011validation-rmse:5.51229\u001b[0m\n",
      "\u001b[34m[17:07:16] src/tree/updater_prune.cc:74: tree pruning end, 1 roots, 38 extra nodes, 16 pruned nodes, max_depth=9\u001b[0m\n",
      "\u001b[34m[16]#011train-rmse:2.90696#011validation-rmse:5.28709\u001b[0m\n",
      "\u001b[34m[17:07:16] src/tree/updater_prune.cc:74: tree pruning end, 1 roots, 30 extra nodes, 38 pruned nodes, max_depth=9\u001b[0m\n",
      "\u001b[34m[17]#011train-rmse:2.65701#011validation-rmse:5.13931\u001b[0m\n",
      "\u001b[34m[17:07:16] src/tree/updater_prune.cc:74: tree pruning end, 1 roots, 44 extra nodes, 42 pruned nodes, max_depth=8\u001b[0m\n",
      "\u001b[34m[18]#011train-rmse:2.41798#011validation-rmse:5.0236\u001b[0m\n",
      "\u001b[34m[17:07:16] src/tree/updater_prune.cc:74: tree pruning end, 1 roots, 32 extra nodes, 28 pruned nodes, max_depth=9\u001b[0m\n",
      "\u001b[34m[19]#011train-rmse:2.20443#011validation-rmse:4.92416\u001b[0m\n",
      "\u001b[34m[17:07:16] src/tree/updater_prune.cc:74: tree pruning end, 1 roots, 40 extra nodes, 26 pruned nodes, max_depth=9\u001b[0m\n",
      "\u001b[34m[20]#011train-rmse:2.00689#011validation-rmse:4.84107\u001b[0m\n",
      "\u001b[34m[17:07:16] src/tree/updater_prune.cc:74: tree pruning end, 1 roots, 34 extra nodes, 28 pruned nodes, max_depth=9\u001b[0m\n",
      "\u001b[34m[21]#011train-rmse:1.85863#011validation-rmse:4.80296\u001b[0m\n",
      "\u001b[34m[17:07:16] src/tree/updater_prune.cc:74: tree pruning end, 1 roots, 42 extra nodes, 48 pruned nodes, max_depth=8\u001b[0m\n",
      "\u001b[34m[22]#011train-rmse:1.7023#011validation-rmse:4.7069\u001b[0m\n",
      "\u001b[34m[17:07:16] src/tree/updater_prune.cc:74: tree pruning end, 1 roots, 22 extra nodes, 80 pruned nodes, max_depth=7\u001b[0m\n",
      "\u001b[34m[23]#011train-rmse:1.5814#011validation-rmse:4.6922\u001b[0m\n",
      "\u001b[34m[17:07:16] src/tree/updater_prune.cc:74: tree pruning end, 1 roots, 34 extra nodes, 36 pruned nodes, max_depth=8\u001b[0m\n",
      "\u001b[34m[24]#011train-rmse:1.46566#011validation-rmse:4.62057\u001b[0m\n",
      "\u001b[34m[17:07:16] src/tree/updater_prune.cc:74: tree pruning end, 1 roots, 30 extra nodes, 22 pruned nodes, max_depth=9\u001b[0m\n",
      "\u001b[34m[25]#011train-rmse:1.37013#011validation-rmse:4.58351\u001b[0m\n",
      "\u001b[34m[17:07:16] src/tree/updater_prune.cc:74: tree pruning end, 1 roots, 28 extra nodes, 52 pruned nodes, max_depth=7\u001b[0m\n",
      "\u001b[34m[26]#011train-rmse:1.27696#011validation-rmse:4.52278\u001b[0m\n",
      "\u001b[34m[17:07:16] src/tree/updater_prune.cc:74: tree pruning end, 1 roots, 26 extra nodes, 68 pruned nodes, max_depth=7\u001b[0m\n",
      "\u001b[34m[27]#011train-rmse:1.20115#011validation-rmse:4.48159\u001b[0m\n",
      "\u001b[34m[17:07:16] src/tree/updater_prune.cc:74: tree pruning end, 1 roots, 24 extra nodes, 46 pruned nodes, max_depth=7\u001b[0m\n",
      "\u001b[34m[28]#011train-rmse:1.12921#011validation-rmse:4.43652\u001b[0m\n",
      "\u001b[34m[17:07:16] src/tree/updater_prune.cc:74: tree pruning end, 1 roots, 26 extra nodes, 42 pruned nodes, max_depth=9\u001b[0m\n",
      "\u001b[34m[29]#011train-rmse:1.06636#011validation-rmse:4.40999\u001b[0m\n",
      "\u001b[34m[30]#011train-rmse:1.02605#011validation-rmse:4.38485\u001b[0m\n",
      "\u001b[34m[17:07:16] src/tree/updater_prune.cc:74: tree pruning end, 1 roots, 14 extra nodes, 30 pruned nodes, max_depth=6\u001b[0m\n",
      "\u001b[34m[17:07:16] src/tree/updater_prune.cc:74: tree pruning end, 1 roots, 8 extra nodes, 52 pruned nodes, max_depth=3\u001b[0m\n",
      "\u001b[34m[31]#011train-rmse:0.99927#011validation-rmse:4.3895\u001b[0m\n",
      "\u001b[34m[17:07:16] src/tree/updater_prune.cc:74: tree pruning end, 1 roots, 8 extra nodes, 60 pruned nodes, max_depth=3\u001b[0m\n",
      "\u001b[34m[32]#011train-rmse:0.969407#011validation-rmse:4.36374\u001b[0m\n",
      "\u001b[34m[17:07:16] src/tree/updater_prune.cc:74: tree pruning end, 1 roots, 16 extra nodes, 86 pruned nodes, max_depth=6\u001b[0m\n",
      "\u001b[34m[33]#011train-rmse:0.942598#011validation-rmse:4.34778\u001b[0m\n",
      "\u001b[34m[17:07:16] src/tree/updater_prune.cc:74: tree pruning end, 1 roots, 4 extra nodes, 58 pruned nodes, max_depth=2\u001b[0m\n",
      "\u001b[34m[34]#011train-rmse:0.931772#011validation-rmse:4.35233\u001b[0m\n",
      "\u001b[34m[17:07:16] src/tree/updater_prune.cc:74: tree pruning end, 1 roots, 6 extra nodes, 40 pruned nodes, max_depth=3\u001b[0m\n",
      "\u001b[34m[35]#011train-rmse:0.91632#011validation-rmse:4.33843\u001b[0m\n",
      "\u001b[34m[17:07:16] src/tree/updater_prune.cc:74: tree pruning end, 1 roots, 24 extra nodes, 68 pruned nodes, max_depth=7\u001b[0m\n",
      "\u001b[34m[36]#011train-rmse:0.888586#011validation-rmse:4.3325\u001b[0m\n",
      "\u001b[34m[17:07:16] src/tree/updater_prune.cc:74: tree pruning end, 1 roots, 10 extra nodes, 68 pruned nodes, max_depth=4\u001b[0m\n",
      "\u001b[34m[37]#011train-rmse:0.864159#011validation-rmse:4.31733\u001b[0m\n",
      "\u001b[34m[17:07:16] src/tree/updater_prune.cc:74: tree pruning end, 1 roots, 8 extra nodes, 66 pruned nodes, max_depth=4\u001b[0m\n",
      "\u001b[34m[38]#011train-rmse:0.852309#011validation-rmse:4.3102\u001b[0m\n",
      "\u001b[34m[17:07:16] src/tree/updater_prune.cc:74: tree pruning end, 1 roots, 4 extra nodes, 78 pruned nodes, max_depth=2\u001b[0m\n",
      "\u001b[34m[39]#011train-rmse:0.844764#011validation-rmse:4.29778\u001b[0m\n",
      "\u001b[34m[17:07:16] src/tree/updater_prune.cc:74: tree pruning end, 1 roots, 14 extra nodes, 46 pruned nodes, max_depth=7\u001b[0m\n",
      "\u001b[34m[40]#011train-rmse:0.834402#011validation-rmse:4.29374\u001b[0m\n",
      "\u001b[34m[17:07:16] src/tree/updater_prune.cc:74: tree pruning end, 1 roots, 12 extra nodes, 116 pruned nodes, max_depth=6\u001b[0m\n",
      "\u001b[34m[41]#011train-rmse:0.815713#011validation-rmse:4.28975\u001b[0m\n",
      "\u001b[34m[17:07:16] src/tree/updater_prune.cc:74: tree pruning end, 1 roots, 16 extra nodes, 86 pruned nodes, max_depth=6\u001b[0m\n",
      "\u001b[34m[42]#011train-rmse:0.793237#011validation-rmse:4.27786\u001b[0m\n",
      "\u001b[34m[17:07:16] src/tree/updater_prune.cc:74: tree pruning end, 1 roots, 8 extra nodes, 112 pruned nodes, max_depth=4\u001b[0m\n",
      "\u001b[34m[43]#011train-rmse:0.784379#011validation-rmse:4.27913\u001b[0m\n",
      "\u001b[34m[17:07:16] src/tree/updater_prune.cc:74: tree pruning end, 1 roots, 12 extra nodes, 70 pruned nodes, max_depth=6\u001b[0m\n",
      "\u001b[34m[44]#011train-rmse:0.770218#011validation-rmse:4.26866\u001b[0m\n",
      "\u001b[34m[17:07:16] src/tree/updater_prune.cc:74: tree pruning end, 1 roots, 0 extra nodes, 54 pruned nodes, max_depth=0\u001b[0m\n",
      "\u001b[34m[45]#011train-rmse:0.769805#011validation-rmse:4.26862\u001b[0m\n",
      "\u001b[34m[17:07:16] src/tree/updater_prune.cc:74: tree pruning end, 1 roots, 0 extra nodes, 42 pruned nodes, max_depth=0\u001b[0m\n",
      "\u001b[34m[46]#011train-rmse:0.769535#011validation-rmse:4.26859\u001b[0m\n",
      "\u001b[34m[17:07:16] src/tree/updater_prune.cc:74: tree pruning end, 1 roots, 14 extra nodes, 86 pruned nodes, max_depth=4\u001b[0m\n",
      "\u001b[34m[47]#011train-rmse:0.753092#011validation-rmse:4.26276\u001b[0m\n",
      "\u001b[34m[17:07:16] src/tree/updater_prune.cc:74: tree pruning end, 1 roots, 0 extra nodes, 86 pruned nodes, max_depth=0\u001b[0m\n",
      "\u001b[34m[48]#011train-rmse:0.753039#011validation-rmse:4.26276\u001b[0m\n",
      "\u001b[34m[17:07:16] src/tree/updater_prune.cc:74: tree pruning end, 1 roots, 10 extra nodes, 74 pruned nodes, max_depth=4\u001b[0m\n",
      "\u001b[34m[49]#011train-rmse:0.743124#011validation-rmse:4.26098\u001b[0m\n",
      "\u001b[34m[17:07:16] src/tree/updater_prune.cc:74: tree pruning end, 1 roots, 4 extra nodes, 112 pruned nodes, max_depth=2\u001b[0m\n",
      "\u001b[34m[50]#011train-rmse:0.738591#011validation-rmse:4.26356\u001b[0m\n",
      "\u001b[34m[17:07:16] src/tree/updater_prune.cc:74: tree pruning end, 1 roots, 12 extra nodes, 70 pruned nodes, max_depth=5\u001b[0m\n",
      "\u001b[34m[51]#011train-rmse:0.725879#011validation-rmse:4.25727\u001b[0m\n",
      "\u001b[34m[17:07:16] src/tree/updater_prune.cc:74: tree pruning end, 1 roots, 4 extra nodes, 86 pruned nodes, max_depth=2\u001b[0m\n",
      "\u001b[34m[52]#011train-rmse:0.720973#011validation-rmse:4.2523\u001b[0m\n",
      "\u001b[34m[17:07:16] src/tree/updater_prune.cc:74: tree pruning end, 1 roots, 14 extra nodes, 68 pruned nodes, max_depth=7\u001b[0m\n",
      "\u001b[34m[53]#011train-rmse:0.708178#011validation-rmse:4.25639\u001b[0m\n",
      "\u001b[34m[17:07:16] src/tree/updater_prune.cc:74: tree pruning end, 1 roots, 0 extra nodes, 40 pruned nodes, max_depth=0\u001b[0m\n",
      "\u001b[34m[54]#011train-rmse:0.708193#011validation-rmse:4.25639\u001b[0m\n",
      "\u001b[34m[17:07:16] src/tree/updater_prune.cc:74: tree pruning end, 1 roots, 0 extra nodes, 68 pruned nodes, max_depth=0\u001b[0m\n",
      "\u001b[34m[55]#011train-rmse:0.708104#011validation-rmse:4.25639\u001b[0m\n",
      "\u001b[34m[17:07:16] src/tree/updater_prune.cc:74: tree pruning end, 1 roots, 0 extra nodes, 74 pruned nodes, max_depth=0\u001b[0m\n",
      "\u001b[34m[56]#011train-rmse:0.707995#011validation-rmse:4.2564\u001b[0m\n",
      "\u001b[34m[17:07:16] src/tree/updater_prune.cc:74: tree pruning end, 1 roots, 0 extra nodes, 96 pruned nodes, max_depth=0\u001b[0m\n",
      "\u001b[34m[57]#011train-rmse:0.707927#011validation-rmse:4.2564\u001b[0m\n",
      "\u001b[34m[17:07:16] src/tree/updater_prune.cc:74: tree pruning end, 1 roots, 0 extra nodes, 72 pruned nodes, max_depth=0\u001b[0m\n",
      "\u001b[34m[58]#011train-rmse:0.707911#011validation-rmse:4.2564\u001b[0m\n",
      "\u001b[34m[17:07:16] src/tree/updater_prune.cc:74: tree pruning end, 1 roots, 0 extra nodes, 60 pruned nodes, max_depth=0\u001b[0m\n",
      "\u001b[34m[59]#011train-rmse:0.707906#011validation-rmse:4.2564\u001b[0m\n",
      "\u001b[34m[17:07:16] src/tree/updater_prune.cc:74: tree pruning end, 1 roots, 0 extra nodes, 44 pruned nodes, max_depth=0\u001b[0m\n",
      "\u001b[34m[60]#011train-rmse:0.707891#011validation-rmse:4.25641\u001b[0m\n",
      "\u001b[34m[17:07:16] src/tree/updater_prune.cc:74: tree pruning end, 1 roots, 0 extra nodes, 76 pruned nodes, max_depth=0\u001b[0m\n",
      "\u001b[34m[61]#011train-rmse:0.707869#011validation-rmse:4.25641\u001b[0m\n",
      "\u001b[34m[17:07:16] src/tree/updater_prune.cc:74: tree pruning end, 1 roots, 4 extra nodes, 100 pruned nodes, max_depth=2\u001b[0m\n",
      "\u001b[34m[62]#011train-rmse:0.703665#011validation-rmse:4.25391\u001b[0m\n",
      "\u001b[34mStopping. Best iteration:\u001b[0m\n",
      "\u001b[34m[52]#011train-rmse:0.720973#011validation-rmse:4.2523\n",
      "\u001b[0m\n",
      "Training seconds: 68\n",
      "Billable seconds: 68\n"
     ]
    }
   ],
   "source": [
    "xgb_attached = sagemaker.estimator.Estimator.attach(xgb_hyperparameter_tuner.best_training_job())"
   ]
  },
  {
   "cell_type": "markdown",
   "metadata": {},
   "source": [
    "## Step 5: Test the model\n",
    "\n",
    "Now that we have our best performing model, we can test it. To do this we will use the batch transform functionality. To start with, we need to build a transformer object from our fit model."
   ]
  },
  {
   "cell_type": "code",
   "execution_count": 15,
   "metadata": {},
   "outputs": [
    {
     "name": "stderr",
     "output_type": "stream",
     "text": [
      "Parameter image will be renamed to image_uri in SageMaker Python SDK v2.\n"
     ]
    }
   ],
   "source": [
    "xgb_transformer = xgb_attached.transformer(instance_count = 1, instance_type = 'ml.m4.xlarge')"
   ]
  },
  {
   "cell_type": "markdown",
   "metadata": {},
   "source": [
    "Next we ask SageMaker to begin a batch transform job using our trained model and applying it to the test data we previous stored in S3. We need to make sure to provide SageMaker with the type of data that we are providing to our model, in our case `text/csv`, so that it knows how to serialize our data. In addition, we need to make sure to let SageMaker know how to split our data up into chunks if the entire data set happens to be too large to send to our model all at once.\n",
    "\n",
    "Note that when we ask SageMaker to do this it will execute the batch transform job in the background. Since we need to wait for the results of this job before we can continue, we use the `wait()` method. An added benefit of this is that we get some output from our batch transform job which lets us know if anything went wrong."
   ]
  },
  {
   "cell_type": "code",
   "execution_count": 16,
   "metadata": {},
   "outputs": [],
   "source": [
    "xgb_transformer.transform(test_location, content_type='text/csv', split_type='Line')"
   ]
  },
  {
   "cell_type": "code",
   "execution_count": 17,
   "metadata": {},
   "outputs": [
    {
     "name": "stdout",
     "output_type": "stream",
     "text": [
      "................................\u001b[32m2020-10-14T17:18:37.454:[sagemaker logs]: MaxConcurrentTransforms=4, MaxPayloadInMB=6, BatchStrategy=MULTI_RECORD\u001b[0m\n",
      "\u001b[34mArguments: serve\u001b[0m\n",
      "\u001b[34m[2020-10-14 17:18:37 +0000] [1] [INFO] Starting gunicorn 19.7.1\u001b[0m\n",
      "\u001b[34m[2020-10-14 17:18:37 +0000] [1] [INFO] Listening at: http://0.0.0.0:8080 (1)\u001b[0m\n",
      "\u001b[34m[2020-10-14 17:18:37 +0000] [1] [INFO] Using worker: gevent\u001b[0m\n",
      "\u001b[34m[2020-10-14 17:18:37 +0000] [36] [INFO] Booting worker with pid: 36\u001b[0m\n",
      "\u001b[34m[2020-10-14 17:18:37 +0000] [37] [INFO] Booting worker with pid: 37\u001b[0m\n",
      "\u001b[34m[2020-10-14:17:18:37:INFO] Model loaded successfully for worker : 36\u001b[0m\n",
      "\u001b[34m[2020-10-14:17:18:37:INFO] Sniff delimiter as ','\u001b[0m\n",
      "\u001b[34m[2020-10-14:17:18:37:INFO] Determined delimiter of CSV input is ','\u001b[0m\n",
      "\u001b[34m[2020-10-14 17:18:37 +0000] [38] [INFO] Booting worker with pid: 38\u001b[0m\n",
      "\u001b[34m[2020-10-14:17:18:37:INFO] Model loaded successfully for worker : 37\u001b[0m\n",
      "\u001b[35mArguments: serve\u001b[0m\n",
      "\u001b[35m[2020-10-14 17:18:37 +0000] [1] [INFO] Starting gunicorn 19.7.1\u001b[0m\n",
      "\u001b[35m[2020-10-14 17:18:37 +0000] [1] [INFO] Listening at: http://0.0.0.0:8080 (1)\u001b[0m\n",
      "\u001b[35m[2020-10-14 17:18:37 +0000] [1] [INFO] Using worker: gevent\u001b[0m\n",
      "\u001b[35m[2020-10-14 17:18:37 +0000] [36] [INFO] Booting worker with pid: 36\u001b[0m\n",
      "\u001b[35m[2020-10-14 17:18:37 +0000] [37] [INFO] Booting worker with pid: 37\u001b[0m\n",
      "\u001b[35m[2020-10-14:17:18:37:INFO] Model loaded successfully for worker : 36\u001b[0m\n",
      "\u001b[35m[2020-10-14:17:18:37:INFO] Sniff delimiter as ','\u001b[0m\n",
      "\u001b[35m[2020-10-14:17:18:37:INFO] Determined delimiter of CSV input is ','\u001b[0m\n",
      "\u001b[35m[2020-10-14 17:18:37 +0000] [38] [INFO] Booting worker with pid: 38\u001b[0m\n",
      "\u001b[35m[2020-10-14:17:18:37:INFO] Model loaded successfully for worker : 37\u001b[0m\n",
      "\u001b[34m[2020-10-14 17:18:37 +0000] [39] [INFO] Booting worker with pid: 39\u001b[0m\n",
      "\u001b[34m[2020-10-14:17:18:37:INFO] Model loaded successfully for worker : 38\u001b[0m\n",
      "\u001b[34m[2020-10-14:17:18:37:INFO] Model loaded successfully for worker : 39\u001b[0m\n",
      "\u001b[35m[2020-10-14 17:18:37 +0000] [39] [INFO] Booting worker with pid: 39\u001b[0m\n",
      "\u001b[35m[2020-10-14:17:18:37:INFO] Model loaded successfully for worker : 38\u001b[0m\n",
      "\u001b[35m[2020-10-14:17:18:37:INFO] Model loaded successfully for worker : 39\u001b[0m\n",
      "\n"
     ]
    }
   ],
   "source": [
    "xgb_transformer.wait()"
   ]
  },
  {
   "cell_type": "markdown",
   "metadata": {},
   "source": [
    "Now that the batch transform job has finished, the resulting output is stored on S3. Since we wish to analyze the output inside of our notebook we can use a bit of notebook magic to copy the output file from its S3 location and save it locally."
   ]
  },
  {
   "cell_type": "code",
   "execution_count": 18,
   "metadata": {},
   "outputs": [
    {
     "name": "stdout",
     "output_type": "stream",
     "text": [
      "Completed 2.3 KiB/2.3 KiB (38.7 KiB/s) with 1 file(s) remaining\r",
      "download: s3://sagemaker-us-east-2-501357048875/xgboost-201014-1648-017-20234a38-2020-10-14-17-13-29-948/test.csv.out to ../data/boston/test.csv.out\r\n"
     ]
    }
   ],
   "source": [
    "!aws s3 cp --recursive $xgb_transformer.output_path $data_dir"
   ]
  },
  {
   "cell_type": "markdown",
   "metadata": {},
   "source": [
    "To see how well our model works we can create a simple scatter plot between the predicted and actual values. If the model was completely accurate the resulting scatter plot would look like the line $x=y$. As we can see, our model seems to have done okay but there is room for improvement."
   ]
  },
  {
   "cell_type": "code",
   "execution_count": 19,
   "metadata": {},
   "outputs": [],
   "source": [
    "Y_pred = pd.read_csv(os.path.join(data_dir, 'test.csv.out'), header=None)"
   ]
  },
  {
   "cell_type": "code",
   "execution_count": 20,
   "metadata": {},
   "outputs": [
    {
     "data": {
      "text/plain": [
       "Text(0.5, 1.0, 'Median Price vs Predicted Price')"
      ]
     },
     "execution_count": 20,
     "metadata": {},
     "output_type": "execute_result"
    },
    {
     "data": {
      "image/png": "[encoded data removed]",
      "text/plain": [
       "<Figure size 432x288 with 1 Axes>"
      ]
     },
     "metadata": {
      "needs_background": "light"
     },
     "output_type": "display_data"
    }
   ],
   "source": [
    "plt.scatter(Y_test, Y_pred)\n",
    "plt.xlabel(\"Median Price\")\n",
    "plt.ylabel(\"Predicted Price\")\n",
    "plt.title(\"Median Price vs Predicted Price\")"
   ]
  },
  {
   "cell_type": "markdown",
   "metadata": {},
   "source": [
    "## Optional: Clean up\n",
    "\n",
    "The default notebook instance on SageMaker doesn't have a lot of excess disk space available. As you continue to complete and execute notebooks you will eventually fill up this disk space, leading to errors which can be difficult to diagnose. Once you are completely finished using a notebook it is a good idea to remove the files that you created along the way. Of course, you can do this from the terminal or from the notebook hub if you would like. The cell below contains some commands to clean up the created files from within the notebook."
   ]
  },
  {
   "cell_type": "code",
   "execution_count": 21,
   "metadata": {},
   "outputs": [],
   "source": [
    "# First we will remove all of the files contained in the data_dir directory\n",
    "!rm $data_dir/*\n",
    "\n",
    "# And then we delete the directory itself\n",
    "!rmdir $data_dir"
   ]
  },
  {
   "cell_type": "code",
   "execution_count": null,
   "metadata": {},
   "outputs": [],
   "source": []
  }
 ],
 "metadata": {
  "kernelspec": {
   "display_name": "conda_pytorch_p36",
   "language": "python",
   "name": "conda_pytorch_p36"
  },
  "language_info": {
   "codemirror_mode": {
    "name": "ipython",
    "version": 3
   },
   "file_extension": ".py",
   "mimetype": "text/x-python",
   "name": "python",
   "nbconvert_exporter": "python",
   "pygments_lexer": "ipython3",
   "version": "3.6.10"
  }
 },
 "nbformat": 4,
 "nbformat_minor": 2
}
